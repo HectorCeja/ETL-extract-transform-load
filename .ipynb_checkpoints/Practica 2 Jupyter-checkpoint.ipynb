{
 "cells": [
  {
   "cell_type": "code",
   "execution_count": 2,
   "metadata": {
    "collapsed": true
   },
   "outputs": [],
   "source": [
    "import matplotlib.pyplot as plt\n",
    "import numpy as np"
   ]
  },
  {
   "cell_type": "code",
   "execution_count": 58,
   "metadata": {
    "scrolled": false
   },
   "outputs": [
    {
     "data": {
      "image/png": "[encoded data removed]",
      "text/plain": [
       "<matplotlib.figure.Figure at 0x8fbba90>"
      ]
     },
     "metadata": {},
     "output_type": "display_data"
    }
   ],
   "source": [
    "from sklearn.datasets import make_blobs\n",
    "X, y = make_blobs(n_samples=50, #numero de puntos\n",
    "                n_features=2, #variables\n",
    "                centers=2, #centros\n",
    "                cluster_std=0.5,\n",
    "                shuffle=True,\n",
    "                random_state=0)\n",
    "plt.scatter(X[:,0], X[:,1],\n",
    "           c='white',\n",
    "           marker='o',\n",
    "           edgecolor='black',\n",
    "           s=50)\n",
    "\n",
    "plt.grid()\n",
    "plt.show()"
   ]
  },
  {
   "cell_type": "code",
   "execution_count": 59,
   "metadata": {},
   "outputs": [
    {
     "data": {
      "text/plain": [
       "array([[ 1.51989121,  1.42488952],\n",
       "       [ 1.85367905,  1.5088862 ],\n",
       "       [ 1.35678894,  4.36462484],\n",
       "       [ 1.72330962,  4.2012082 ],\n",
       "       [ 2.08852613,  1.04889961],\n",
       "       [ 2.62496786,  0.28025075],\n",
       "       [ 2.99684287,  0.22378413],\n",
       "       [ 2.06051753,  1.79059891],\n",
       "       [ 2.04117641,  1.1118296 ],\n",
       "       [ 0.12313498,  5.27917503],\n",
       "       [ 1.59141542,  4.90497725],\n",
       "       [ 0.3498724 ,  4.69253251],\n",
       "       [ 1.05374379,  4.49286859],\n",
       "       [ 1.61986895,  0.60823883],\n",
       "       [ 1.40848818,  3.93270482],\n",
       "       [ 1.13280393,  3.87673946],\n",
       "       [ 0.78260667,  4.15263595],\n",
       "       [ 2.25643834,  0.55525861],\n",
       "       [ 0.5323772 ,  3.31338909],\n",
       "       [ 0.92466065,  4.50908658],\n",
       "       [ 1.73810647,  0.71629308],\n",
       "       [ 2.23345072,  1.25095024],\n",
       "       [ 1.60161834,  0.92363636],\n",
       "       [ 1.7190373 ,  0.71788708],\n",
       "       [ 2.4198128 ,  0.96215512],\n",
       "       [ 2.11114739,  3.57660449],\n",
       "       [ 0.72144399,  4.08475018],\n",
       "       [-0.30022483,  4.63059663],\n",
       "       [ 2.14398059,  0.69677319],\n",
       "       [ 1.91004907,  3.81514839],\n",
       "       [ 2.15940501,  1.38598318],\n",
       "       [ 0.5285368 ,  4.49723858],\n",
       "       [ 1.19820169,  4.47062449],\n",
       "       [ 0.16932115,  4.19741719],\n",
       "       [ 1.74265969,  5.03846671],\n",
       "       [ 1.89949126,  0.92574633],\n",
       "       [ 2.11872357,  1.09865834],\n",
       "       [ 1.04829186,  5.03092408],\n",
       "       [ 2.28809874,  0.12954182],\n",
       "       [ 0.72086751,  3.71347124],\n",
       "       [ 1.24016835,  1.12905479],\n",
       "       [ 1.45131429,  4.22810872],\n",
       "       [ 1.64869438,  0.03452236],\n",
       "       [ 1.4726926 ,  1.3480769 ],\n",
       "       [ 0.99914934,  4.2101954 ],\n",
       "       [ 1.42002502,  1.38236201],\n",
       "       [ 2.79939362,  1.84560825],\n",
       "       [ 0.4519936 ,  3.59377836],\n",
       "       [ 2.64465731,  0.80770124],\n",
       "       [ 0.802314  ,  4.38196181]])"
      ]
     },
     "execution_count": 59,
     "metadata": {},
     "output_type": "execute_result"
    }
   ],
   "source": [
    "X"
   ]
  },
  {
   "cell_type": "code",
   "execution_count": 60,
   "metadata": {},
   "outputs": [
    {
     "data": {
      "text/plain": [
       "array([1, 1, 0, 0, 1, 1, 1, 1, 1, 0, 0, 0, 0, 1, 0, 0, 0, 1, 0, 0, 1, 1, 1,\n",
       "       1, 1, 0, 0, 0, 1, 0, 1, 0, 0, 0, 0, 1, 1, 0, 1, 0, 1, 0, 1, 1, 0, 1,\n",
       "       1, 0, 1, 0])"
      ]
     },
     "execution_count": 60,
     "metadata": {},
     "output_type": "execute_result"
    }
   ],
   "source": [
    "y"
   ]
  },
  {
   "cell_type": "code",
   "execution_count": 61,
   "metadata": {},
   "outputs": [
    {
     "data": {
      "text/plain": [
       "(50, 2)"
      ]
     },
     "execution_count": 61,
     "metadata": {},
     "output_type": "execute_result"
    }
   ],
   "source": [
    "X.shape"
   ]
  },
  {
   "cell_type": "code",
   "execution_count": 62,
   "metadata": {},
   "outputs": [
    {
     "data": {
      "text/plain": [
       "(50,)"
      ]
     },
     "execution_count": 62,
     "metadata": {},
     "output_type": "execute_result"
    }
   ],
   "source": [
    "y.shape"
   ]
  },
  {
   "cell_type": "markdown",
   "metadata": {},
   "source": [
    "# Se utilizará algoritmo LDA (supervisado)"
   ]
  },
  {
   "cell_type": "code",
   "execution_count": 63,
   "metadata": {},
   "outputs": [
    {
     "data": {
      "text/plain": [
       "LinearDiscriminantAnalysis(n_components=None, priors=None, shrinkage=None,\n",
       "              solver='svd', store_covariance=False, tol=0.0001)"
      ]
     },
     "execution_count": 63,
     "metadata": {},
     "output_type": "execute_result"
    }
   ],
   "source": [
    "from sklearn.discriminant_analysis import LinearDiscriminantAnalysis\n",
    "model = LinearDiscriminantAnalysis()\n",
    "model.fit(X,y)"
   ]
  },
  {
   "cell_type": "code",
   "execution_count": 64,
   "metadata": {},
   "outputs": [
    {
     "data": {
      "text/plain": [
       "sklearn.discriminant_analysis.LinearDiscriminantAnalysis"
      ]
     },
     "execution_count": 64,
     "metadata": {},
     "output_type": "execute_result"
    }
   ],
   "source": [
    "type(model)"
   ]
  },
  {
   "cell_type": "code",
   "execution_count": 87,
   "metadata": {
    "collapsed": true
   },
   "outputs": [],
   "source": [
    "new_point = np.array([[1,0.5]])"
   ]
  },
  {
   "cell_type": "code",
   "execution_count": 73,
   "metadata": {
    "scrolled": true
   },
   "outputs": [
    {
     "data": {
      "text/plain": [
       "array([0, 1])"
      ]
     },
     "execution_count": 73,
     "metadata": {},
     "output_type": "execute_result"
    }
   ],
   "source": [
    "model.predict(new_point)"
   ]
  },
  {
   "cell_type": "markdown",
   "metadata": {},
   "source": [
    "#### model.predict, predice a que clase pertenece cada punto que se mande en el array"
   ]
  },
  {
   "cell_type": "markdown",
   "metadata": {},
   "source": [
    "# Se utilizará algoritmo KMeans (no supervisado) CLUSTERING"
   ]
  },
  {
   "cell_type": "code",
   "execution_count": 74,
   "metadata": {},
   "outputs": [
    {
     "data": {
      "text/plain": [
       "KMeans(copy_x=True, init='random', max_iter=300, n_clusters=3, n_init=10,\n",
       "    n_jobs=1, precompute_distances='auto', random_state=0, tol=0.0001,\n",
       "    verbose=0)"
      ]
     },
     "execution_count": 74,
     "metadata": {},
     "output_type": "execute_result"
    }
   ],
   "source": [
    "from sklearn.cluster import KMeans\n",
    "clusters = KMeans(n_clusters=3,\n",
    "                  init='random',\n",
    "                  n_init=10,\n",
    "                  max_iter=300,\n",
    "                  tol=1e-04,\n",
    "                  random_state=0)\n",
    "clusters"
   ]
  },
  {
   "cell_type": "code",
   "execution_count": 106,
   "metadata": {
    "scrolled": true
   },
   "outputs": [
    {
     "data": {
      "text/plain": [
       "array([0, 1, 2, 3, 4, 5, 6, 7])"
      ]
     },
     "execution_count": 106,
     "metadata": {},
     "output_type": "execute_result"
    }
   ],
   "source": [
    "np.unique(clusters.fit_predict(X)) #es fit predict junto ya que es no supervisado"
   ]
  },
  {
   "cell_type": "markdown",
   "metadata": {},
   "source": [
    "# Se utilizará algoritmo Random Forest (supervisado)\n",
    "# CLASSIFICATION"
   ]
  },
  {
   "cell_type": "code",
   "execution_count": 165,
   "metadata": {
    "collapsed": true
   },
   "outputs": [],
   "source": [
    "from sklearn.ensemble import RandomForestClassifier\n",
    "\n",
    "clf = RandomForestClassifier(n_estimators=1000)\n",
    "clf = clf.fit(X, y)"
   ]
  },
  {
   "cell_type": "code",
   "execution_count": 77,
   "metadata": {
    "scrolled": false
   },
   "outputs": [
    {
     "data": {
      "text/plain": [
       "RandomForestClassifier(bootstrap=True, class_weight=None, criterion='gini',\n",
       "            max_depth=None, max_features='auto', max_leaf_nodes=None,\n",
       "            min_samples_leaf=1, min_samples_split=2,\n",
       "            min_weight_fraction_leaf=0.0, n_estimators=10, n_jobs=1,\n",
       "            oob_score=False, random_state=None, verbose=0,\n",
       "            warm_start=False)"
      ]
     },
     "execution_count": 77,
     "metadata": {},
     "output_type": "execute_result"
    }
   ],
   "source": [
    "clf"
   ]
  },
  {
   "cell_type": "code",
   "execution_count": 166,
   "metadata": {},
   "outputs": [
    {
     "data": {
      "text/plain": [
       "array([1])"
      ]
     },
     "execution_count": 166,
     "metadata": {},
     "output_type": "execute_result"
    }
   ],
   "source": [
    "clf.predict(new_point)"
   ]
  },
  {
   "cell_type": "markdown",
   "metadata": {},
   "source": [
    "# Se utilizará algoritmo Support vector machine (supervisado)\n",
    "# CLASSIFICATION"
   ]
  },
  {
   "cell_type": "code",
   "execution_count": 93,
   "metadata": {},
   "outputs": [
    {
     "data": {
      "text/plain": [
       "SVC(C=1.0, cache_size=200, class_weight=None, coef0=0.0,\n",
       "  decision_function_shape=None, degree=3, gamma='auto', kernel='rbf',\n",
       "  max_iter=-1, probability=False, random_state=None, shrinking=True,\n",
       "  tol=0.001, verbose=False)"
      ]
     },
     "execution_count": 93,
     "metadata": {},
     "output_type": "execute_result"
    }
   ],
   "source": [
    "from sklearn import svm\n",
    "\n",
    "clf2 = svm.SVC()\n",
    "clf2.fit(X, y) "
   ]
  },
  {
   "cell_type": "code",
   "execution_count": 167,
   "metadata": {},
   "outputs": [
    {
     "data": {
      "text/plain": [
       "array([1])"
      ]
     },
     "execution_count": 167,
     "metadata": {},
     "output_type": "execute_result"
    }
   ],
   "source": [
    "clf2.predict(new_point)"
   ]
  },
  {
   "cell_type": "markdown",
   "metadata": {},
   "source": [
    "# Se utilizará algoritmo Spectral clustering (no supervisado)\n",
    "# clustering"
   ]
  },
  {
   "cell_type": "code",
   "execution_count": 105,
   "metadata": {},
   "outputs": [
    {
     "data": {
      "text/plain": [
       "array([0, 1, 2, 3, 4, 5, 6, 7])"
      ]
     },
     "execution_count": 105,
     "metadata": {},
     "output_type": "execute_result"
    }
   ],
   "source": [
    "from sklearn.cluster import SpectralClustering\n",
    "\n",
    "clusters = SpectralClustering()\n",
    "np.unique(clusters.fit_predict(X,y))"
   ]
  },
  {
   "cell_type": "code",
   "execution_count": null,
   "metadata": {
    "collapsed": true
   },
   "outputs": [],
   "source": []
  }
 ],
 "metadata": {
  "anaconda-cloud": {},
  "kernelspec": {
   "display_name": "Python 3",
   "language": "python",
   "name": "python3"
  },
  "language_info": {
   "codemirror_mode": {
    "name": "ipython",
    "version": 3
   },
   "file_extension": ".py",
   "mimetype": "text/x-python",
   "name": "python",
   "nbconvert_exporter": "python",
   "pygments_lexer": "ipython3",
   "version": "3.6.5"
  }
 },
 "nbformat": 4,
 "nbformat_minor": 1
}
