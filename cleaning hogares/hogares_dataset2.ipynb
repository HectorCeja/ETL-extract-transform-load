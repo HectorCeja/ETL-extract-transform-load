{
 "cells": [
  {
   "cell_type": "markdown",
   "metadata": {},
   "source": [
    "# Eliminando columnas no categoricas"
   ]
  },
  {
   "cell_type": "code",
   "execution_count": 66,
   "metadata": {
    "collapsed": true
   },
   "outputs": [],
   "source": [
    "import pandas as pd\n",
    "import numpy as np"
   ]
  },
  {
   "cell_type": "code",
   "execution_count": 67,
   "metadata": {
    "collapsed": false
   },
   "outputs": [
    {
     "data": {
      "text/html": [
       "<div>\n",
       "<table border=\"1\" class=\"dataframe\">\n",
       "  <thead>\n",
       "    <tr style=\"text-align: right;\">\n",
       "      <th></th>\n",
       "      <th>Unnamed: 0</th>\n",
       "      <th>UPM</th>\n",
       "      <th>VIV_SEL</th>\n",
       "      <th>HOGAR</th>\n",
       "      <th>N_INF</th>\n",
       "      <th>P4_1_1</th>\n",
       "      <th>P4_1_2</th>\n",
       "      <th>P4_1_3</th>\n",
       "      <th>P4_1_4</th>\n",
       "      <th>P4_1_5</th>\n",
       "      <th>...</th>\n",
       "      <th>P5_6_7</th>\n",
       "      <th>P5_7_7</th>\n",
       "      <th>P5_10_1</th>\n",
       "      <th>P5_10_2</th>\n",
       "      <th>P5_10_3</th>\n",
       "      <th>CD_ENDUTIH</th>\n",
       "      <th>ENT</th>\n",
       "      <th>FAC_HOG</th>\n",
       "      <th>UPM_DIS</th>\n",
       "      <th>EST_DIS</th>\n",
       "    </tr>\n",
       "  </thead>\n",
       "  <tbody>\n",
       "    <tr>\n",
       "      <th>0</th>\n",
       "      <td>0</td>\n",
       "      <td>100008</td>\n",
       "      <td>1</td>\n",
       "      <td>1</td>\n",
       "      <td>2</td>\n",
       "      <td>1</td>\n",
       "      <td>1</td>\n",
       "      <td>1</td>\n",
       "      <td>1</td>\n",
       "      <td>1</td>\n",
       "      <td>...</td>\n",
       "      <td>2</td>\n",
       "      <td>9999.0</td>\n",
       "      <td>1</td>\n",
       "      <td>2</td>\n",
       "      <td>1</td>\n",
       "      <td>14</td>\n",
       "      <td>1</td>\n",
       "      <td>144</td>\n",
       "      <td>1</td>\n",
       "      <td>3</td>\n",
       "    </tr>\n",
       "    <tr>\n",
       "      <th>1</th>\n",
       "      <td>1</td>\n",
       "      <td>100008</td>\n",
       "      <td>2</td>\n",
       "      <td>1</td>\n",
       "      <td>1</td>\n",
       "      <td>2</td>\n",
       "      <td>1</td>\n",
       "      <td>2</td>\n",
       "      <td>1</td>\n",
       "      <td>1</td>\n",
       "      <td>...</td>\n",
       "      <td>1</td>\n",
       "      <td>200.0</td>\n",
       "      <td>1</td>\n",
       "      <td>1</td>\n",
       "      <td>3</td>\n",
       "      <td>14</td>\n",
       "      <td>1</td>\n",
       "      <td>144</td>\n",
       "      <td>1</td>\n",
       "      <td>3</td>\n",
       "    </tr>\n",
       "    <tr>\n",
       "      <th>2</th>\n",
       "      <td>2</td>\n",
       "      <td>100008</td>\n",
       "      <td>3</td>\n",
       "      <td>1</td>\n",
       "      <td>1</td>\n",
       "      <td>1</td>\n",
       "      <td>1</td>\n",
       "      <td>1</td>\n",
       "      <td>1</td>\n",
       "      <td>1</td>\n",
       "      <td>...</td>\n",
       "      <td>2</td>\n",
       "      <td>9999.0</td>\n",
       "      <td>1</td>\n",
       "      <td>2</td>\n",
       "      <td>1</td>\n",
       "      <td>14</td>\n",
       "      <td>1</td>\n",
       "      <td>144</td>\n",
       "      <td>1</td>\n",
       "      <td>3</td>\n",
       "    </tr>\n",
       "    <tr>\n",
       "      <th>3</th>\n",
       "      <td>3</td>\n",
       "      <td>100008</td>\n",
       "      <td>4</td>\n",
       "      <td>1</td>\n",
       "      <td>1</td>\n",
       "      <td>2</td>\n",
       "      <td>2</td>\n",
       "      <td>2</td>\n",
       "      <td>2</td>\n",
       "      <td>1</td>\n",
       "      <td>...</td>\n",
       "      <td>1</td>\n",
       "      <td>400.0</td>\n",
       "      <td>1</td>\n",
       "      <td>3</td>\n",
       "      <td>3</td>\n",
       "      <td>14</td>\n",
       "      <td>1</td>\n",
       "      <td>144</td>\n",
       "      <td>1</td>\n",
       "      <td>3</td>\n",
       "    </tr>\n",
       "    <tr>\n",
       "      <th>4</th>\n",
       "      <td>4</td>\n",
       "      <td>100008</td>\n",
       "      <td>4</td>\n",
       "      <td>2</td>\n",
       "      <td>1</td>\n",
       "      <td>2</td>\n",
       "      <td>2</td>\n",
       "      <td>2</td>\n",
       "      <td>2</td>\n",
       "      <td>1</td>\n",
       "      <td>...</td>\n",
       "      <td>1</td>\n",
       "      <td>0.0</td>\n",
       "      <td>1</td>\n",
       "      <td>3</td>\n",
       "      <td>3</td>\n",
       "      <td>14</td>\n",
       "      <td>1</td>\n",
       "      <td>144</td>\n",
       "      <td>1</td>\n",
       "      <td>3</td>\n",
       "    </tr>\n",
       "  </tbody>\n",
       "</table>\n",
       "<p>5 rows × 59 columns</p>\n",
       "</div>"
      ],
      "text/plain": [
       "   Unnamed: 0     UPM  VIV_SEL  HOGAR  N_INF  P4_1_1  P4_1_2  P4_1_3  P4_1_4  \\\n",
       "0           0  100008        1      1      2       1       1       1       1   \n",
       "1           1  100008        2      1      1       2       1       2       1   \n",
       "2           2  100008        3      1      1       1       1       1       1   \n",
       "3           3  100008        4      1      1       2       2       2       2   \n",
       "4           4  100008        4      2      1       2       2       2       2   \n",
       "\n",
       "   P4_1_5   ...     P5_6_7  P5_7_7  P5_10_1  P5_10_2  P5_10_3  CD_ENDUTIH  \\\n",
       "0       1   ...          2  9999.0        1        2        1          14   \n",
       "1       1   ...          1   200.0        1        1        3          14   \n",
       "2       1   ...          2  9999.0        1        2        1          14   \n",
       "3       1   ...          1   400.0        1        3        3          14   \n",
       "4       1   ...          1     0.0        1        3        3          14   \n",
       "\n",
       "   ENT  FAC_HOG  UPM_DIS  EST_DIS  \n",
       "0    1      144        1        3  \n",
       "1    1      144        1        3  \n",
       "2    1      144        1        3  \n",
       "3    1      144        1        3  \n",
       "4    1      144        1        3  \n",
       "\n",
       "[5 rows x 59 columns]"
      ]
     },
     "execution_count": 67,
     "metadata": {},
     "output_type": "execute_result"
    }
   ],
   "source": [
    "df = pd.read_csv('tr_hogar_clean.csv', encoding='latin', low_memory=False)\n",
    "df.head()"
   ]
  },
  {
   "cell_type": "code",
   "execution_count": 68,
   "metadata": {
    "collapsed": false
   },
   "outputs": [
    {
     "data": {
      "text/plain": [
       "Index(['Unnamed: 0', 'UPM', 'VIV_SEL', 'HOGAR', 'N_INF', 'P4_1_1', 'P4_1_2',\n",
       "       'P4_1_3', 'P4_1_4', 'P4_1_5', 'P4_1_6', 'P4_2_1', 'P4_2_2', 'P4_2_3',\n",
       "       'P4_3', 'P4_4', 'P4_5', 'P4_6_1', 'P4_6_2', 'P4_6_3', 'P4_6_4',\n",
       "       'P4_6_5', 'P4_6_6', 'P4_7_1', 'P4_7_2', 'P4_7_3', 'P4_7_4', 'P4_7_5',\n",
       "       'P4_8', 'P5_1', 'P5_2_1', 'P5_2_2', 'P5_3', 'P5_4', 'P5_5_1', 'P5_5_2',\n",
       "       'P5_5_3', 'P5_5_4', 'P5_6_1', 'P5_7_1', 'P5_6_2', 'P5_6_3', 'P5_7_3',\n",
       "       'P5_6_4', 'P5_7_4', 'P5_6_5', 'P5_7_5', 'P5_6_6', 'P5_7_6', 'P5_6_7',\n",
       "       'P5_7_7', 'P5_10_1', 'P5_10_2', 'P5_10_3', 'CD_ENDUTIH', 'ENT',\n",
       "       'FAC_HOG', 'UPM_DIS', 'EST_DIS'],\n",
       "      dtype='object')"
      ]
     },
     "execution_count": 68,
     "metadata": {},
     "output_type": "execute_result"
    }
   ],
   "source": [
    "df.columns"
   ]
  },
  {
   "cell_type": "code",
   "execution_count": 69,
   "metadata": {
    "collapsed": true
   },
   "outputs": [],
   "source": [
    "df.drop('Unnamed: 0', 1, inplace=True)"
   ]
  },
  {
   "cell_type": "code",
   "execution_count": 70,
   "metadata": {
    "collapsed": true
   },
   "outputs": [],
   "source": [
    "df.drop('UPM', 1, inplace=True)"
   ]
  },
  {
   "cell_type": "code",
   "execution_count": 71,
   "metadata": {
    "collapsed": false
   },
   "outputs": [
    {
     "data": {
      "text/html": [
       "<div>\n",
       "<table border=\"1\" class=\"dataframe\">\n",
       "  <thead>\n",
       "    <tr style=\"text-align: right;\">\n",
       "      <th></th>\n",
       "      <th>VIV_SEL</th>\n",
       "      <th>HOGAR</th>\n",
       "      <th>N_INF</th>\n",
       "      <th>P4_1_1</th>\n",
       "      <th>P4_1_2</th>\n",
       "      <th>P4_1_3</th>\n",
       "      <th>P4_1_4</th>\n",
       "      <th>P4_1_5</th>\n",
       "      <th>P4_1_6</th>\n",
       "      <th>P4_2_1</th>\n",
       "      <th>...</th>\n",
       "      <th>P5_6_7</th>\n",
       "      <th>P5_7_7</th>\n",
       "      <th>P5_10_1</th>\n",
       "      <th>P5_10_2</th>\n",
       "      <th>P5_10_3</th>\n",
       "      <th>CD_ENDUTIH</th>\n",
       "      <th>ENT</th>\n",
       "      <th>FAC_HOG</th>\n",
       "      <th>UPM_DIS</th>\n",
       "      <th>EST_DIS</th>\n",
       "    </tr>\n",
       "  </thead>\n",
       "  <tbody>\n",
       "    <tr>\n",
       "      <th>0</th>\n",
       "      <td>1</td>\n",
       "      <td>1</td>\n",
       "      <td>2</td>\n",
       "      <td>1</td>\n",
       "      <td>1</td>\n",
       "      <td>1</td>\n",
       "      <td>1</td>\n",
       "      <td>1</td>\n",
       "      <td>2</td>\n",
       "      <td>1</td>\n",
       "      <td>...</td>\n",
       "      <td>2</td>\n",
       "      <td>9999.0</td>\n",
       "      <td>1</td>\n",
       "      <td>2</td>\n",
       "      <td>1</td>\n",
       "      <td>14</td>\n",
       "      <td>1</td>\n",
       "      <td>144</td>\n",
       "      <td>1</td>\n",
       "      <td>3</td>\n",
       "    </tr>\n",
       "    <tr>\n",
       "      <th>1</th>\n",
       "      <td>2</td>\n",
       "      <td>1</td>\n",
       "      <td>1</td>\n",
       "      <td>2</td>\n",
       "      <td>1</td>\n",
       "      <td>2</td>\n",
       "      <td>1</td>\n",
       "      <td>1</td>\n",
       "      <td>2</td>\n",
       "      <td>2</td>\n",
       "      <td>...</td>\n",
       "      <td>1</td>\n",
       "      <td>200.0</td>\n",
       "      <td>1</td>\n",
       "      <td>1</td>\n",
       "      <td>3</td>\n",
       "      <td>14</td>\n",
       "      <td>1</td>\n",
       "      <td>144</td>\n",
       "      <td>1</td>\n",
       "      <td>3</td>\n",
       "    </tr>\n",
       "    <tr>\n",
       "      <th>2</th>\n",
       "      <td>3</td>\n",
       "      <td>1</td>\n",
       "      <td>1</td>\n",
       "      <td>1</td>\n",
       "      <td>1</td>\n",
       "      <td>1</td>\n",
       "      <td>1</td>\n",
       "      <td>1</td>\n",
       "      <td>1</td>\n",
       "      <td>2</td>\n",
       "      <td>...</td>\n",
       "      <td>2</td>\n",
       "      <td>9999.0</td>\n",
       "      <td>1</td>\n",
       "      <td>2</td>\n",
       "      <td>1</td>\n",
       "      <td>14</td>\n",
       "      <td>1</td>\n",
       "      <td>144</td>\n",
       "      <td>1</td>\n",
       "      <td>3</td>\n",
       "    </tr>\n",
       "    <tr>\n",
       "      <th>3</th>\n",
       "      <td>4</td>\n",
       "      <td>1</td>\n",
       "      <td>1</td>\n",
       "      <td>2</td>\n",
       "      <td>2</td>\n",
       "      <td>2</td>\n",
       "      <td>2</td>\n",
       "      <td>1</td>\n",
       "      <td>2</td>\n",
       "      <td>2</td>\n",
       "      <td>...</td>\n",
       "      <td>1</td>\n",
       "      <td>400.0</td>\n",
       "      <td>1</td>\n",
       "      <td>3</td>\n",
       "      <td>3</td>\n",
       "      <td>14</td>\n",
       "      <td>1</td>\n",
       "      <td>144</td>\n",
       "      <td>1</td>\n",
       "      <td>3</td>\n",
       "    </tr>\n",
       "    <tr>\n",
       "      <th>4</th>\n",
       "      <td>4</td>\n",
       "      <td>2</td>\n",
       "      <td>1</td>\n",
       "      <td>2</td>\n",
       "      <td>2</td>\n",
       "      <td>2</td>\n",
       "      <td>2</td>\n",
       "      <td>1</td>\n",
       "      <td>2</td>\n",
       "      <td>2</td>\n",
       "      <td>...</td>\n",
       "      <td>1</td>\n",
       "      <td>0.0</td>\n",
       "      <td>1</td>\n",
       "      <td>3</td>\n",
       "      <td>3</td>\n",
       "      <td>14</td>\n",
       "      <td>1</td>\n",
       "      <td>144</td>\n",
       "      <td>1</td>\n",
       "      <td>3</td>\n",
       "    </tr>\n",
       "  </tbody>\n",
       "</table>\n",
       "<p>5 rows × 57 columns</p>\n",
       "</div>"
      ],
      "text/plain": [
       "   VIV_SEL  HOGAR  N_INF  P4_1_1  P4_1_2  P4_1_3  P4_1_4  P4_1_5  P4_1_6  \\\n",
       "0        1      1      2       1       1       1       1       1       2   \n",
       "1        2      1      1       2       1       2       1       1       2   \n",
       "2        3      1      1       1       1       1       1       1       1   \n",
       "3        4      1      1       2       2       2       2       1       2   \n",
       "4        4      2      1       2       2       2       2       1       2   \n",
       "\n",
       "   P4_2_1   ...     P5_6_7  P5_7_7  P5_10_1  P5_10_2  P5_10_3  CD_ENDUTIH  \\\n",
       "0       1   ...          2  9999.0        1        2        1          14   \n",
       "1       2   ...          1   200.0        1        1        3          14   \n",
       "2       2   ...          2  9999.0        1        2        1          14   \n",
       "3       2   ...          1   400.0        1        3        3          14   \n",
       "4       2   ...          1     0.0        1        3        3          14   \n",
       "\n",
       "   ENT  FAC_HOG  UPM_DIS  EST_DIS  \n",
       "0    1      144        1        3  \n",
       "1    1      144        1        3  \n",
       "2    1      144        1        3  \n",
       "3    1      144        1        3  \n",
       "4    1      144        1        3  \n",
       "\n",
       "[5 rows x 57 columns]"
      ]
     },
     "execution_count": 71,
     "metadata": {},
     "output_type": "execute_result"
    }
   ],
   "source": [
    "df.head()"
   ]
  },
  {
   "cell_type": "code",
   "execution_count": 72,
   "metadata": {
    "collapsed": false
   },
   "outputs": [
    {
     "data": {
      "text/plain": [
       "VIV_SEL         int64\n",
       "HOGAR           int64\n",
       "N_INF           int64\n",
       "P4_1_1          int64\n",
       "P4_1_2          int64\n",
       "P4_1_3          int64\n",
       "P4_1_4          int64\n",
       "P4_1_5          int64\n",
       "P4_1_6          int64\n",
       "P4_2_1          int64\n",
       "P4_2_2          int64\n",
       "P4_2_3          int64\n",
       "P4_3            int64\n",
       "P4_4            int64\n",
       "P4_5            int64\n",
       "P4_6_1          int64\n",
       "P4_6_2          int64\n",
       "P4_6_3          int64\n",
       "P4_6_4          int64\n",
       "P4_6_5          int64\n",
       "P4_6_6          int64\n",
       "P4_7_1          int64\n",
       "P4_7_2          int64\n",
       "P4_7_3          int64\n",
       "P4_7_4          int64\n",
       "P4_7_5          int64\n",
       "P4_8            int64\n",
       "P5_1            int64\n",
       "P5_2_1          int64\n",
       "P5_2_2          int64\n",
       "P5_3            int64\n",
       "P5_4            int64\n",
       "P5_5_1          int64\n",
       "P5_5_2          int64\n",
       "P5_5_3          int64\n",
       "P5_5_4          int64\n",
       "P5_6_1          int64\n",
       "P5_7_1        float64\n",
       "P5_6_2          int64\n",
       "P5_6_3          int64\n",
       "P5_7_3        float64\n",
       "P5_6_4          int64\n",
       "P5_7_4        float64\n",
       "P5_6_5          int64\n",
       "P5_7_5        float64\n",
       "P5_6_6          int64\n",
       "P5_7_6        float64\n",
       "P5_6_7          int64\n",
       "P5_7_7        float64\n",
       "P5_10_1         int64\n",
       "P5_10_2         int64\n",
       "P5_10_3         int64\n",
       "CD_ENDUTIH      int64\n",
       "ENT             int64\n",
       "FAC_HOG         int64\n",
       "UPM_DIS         int64\n",
       "EST_DIS         int64\n",
       "dtype: object"
      ]
     },
     "execution_count": 72,
     "metadata": {},
     "output_type": "execute_result"
    }
   ],
   "source": [
    "df.dtypes"
   ]
  },
  {
   "cell_type": "markdown",
   "metadata": {},
   "source": [
    "## eliminamos todas las columnas de precios ya que mas de 85% no contestó"
   ]
  },
  {
   "cell_type": "code",
   "execution_count": 73,
   "metadata": {
    "collapsed": false
   },
   "outputs": [
    {
     "data": {
      "text/plain": [
       "0    9999.0\n",
       "1     200.0\n",
       "2    9999.0\n",
       "Name: P5_7_7, dtype: float64"
      ]
     },
     "execution_count": 73,
     "metadata": {},
     "output_type": "execute_result"
    }
   ],
   "source": [
    "df.P5_7_1\n",
    "df.P5_7_3\n",
    "df.P5_7_4\n",
    "df.P5_7_5\n",
    "df.P5_7_6\n",
    "df.P5_7_7.head(3)\n"
   ]
  },
  {
   "cell_type": "code",
   "execution_count": 74,
   "metadata": {
    "collapsed": true
   },
   "outputs": [],
   "source": [
    "df.drop('P5_7_1',1, inplace=True)\n",
    "df.drop('P5_7_3',1, inplace=True)\n",
    "df.drop('P5_7_4',1, inplace=True)\n",
    "df.drop('P5_7_5',1, inplace=True)\n",
    "df.drop('P5_7_6',1, inplace=True)\n",
    "df.drop('P5_7_7',1, inplace=True)"
   ]
  },
  {
   "cell_type": "code",
   "execution_count": 75,
   "metadata": {
    "collapsed": false
   },
   "outputs": [
    {
     "data": {
      "text/html": [
       "<div>\n",
       "<table border=\"1\" class=\"dataframe\">\n",
       "  <thead>\n",
       "    <tr style=\"text-align: right;\">\n",
       "      <th></th>\n",
       "      <th>VIV_SEL</th>\n",
       "      <th>HOGAR</th>\n",
       "      <th>N_INF</th>\n",
       "      <th>P4_1_1</th>\n",
       "      <th>P4_1_2</th>\n",
       "      <th>P4_1_3</th>\n",
       "      <th>P4_1_4</th>\n",
       "      <th>P4_1_5</th>\n",
       "      <th>P4_1_6</th>\n",
       "      <th>P4_2_1</th>\n",
       "      <th>...</th>\n",
       "      <th>P5_6_6</th>\n",
       "      <th>P5_6_7</th>\n",
       "      <th>P5_10_1</th>\n",
       "      <th>P5_10_2</th>\n",
       "      <th>P5_10_3</th>\n",
       "      <th>CD_ENDUTIH</th>\n",
       "      <th>ENT</th>\n",
       "      <th>FAC_HOG</th>\n",
       "      <th>UPM_DIS</th>\n",
       "      <th>EST_DIS</th>\n",
       "    </tr>\n",
       "  </thead>\n",
       "  <tbody>\n",
       "    <tr>\n",
       "      <th>0</th>\n",
       "      <td>1</td>\n",
       "      <td>1</td>\n",
       "      <td>2</td>\n",
       "      <td>1</td>\n",
       "      <td>1</td>\n",
       "      <td>1</td>\n",
       "      <td>1</td>\n",
       "      <td>1</td>\n",
       "      <td>2</td>\n",
       "      <td>1</td>\n",
       "      <td>...</td>\n",
       "      <td>2</td>\n",
       "      <td>2</td>\n",
       "      <td>1</td>\n",
       "      <td>2</td>\n",
       "      <td>1</td>\n",
       "      <td>14</td>\n",
       "      <td>1</td>\n",
       "      <td>144</td>\n",
       "      <td>1</td>\n",
       "      <td>3</td>\n",
       "    </tr>\n",
       "    <tr>\n",
       "      <th>1</th>\n",
       "      <td>2</td>\n",
       "      <td>1</td>\n",
       "      <td>1</td>\n",
       "      <td>2</td>\n",
       "      <td>1</td>\n",
       "      <td>2</td>\n",
       "      <td>1</td>\n",
       "      <td>1</td>\n",
       "      <td>2</td>\n",
       "      <td>2</td>\n",
       "      <td>...</td>\n",
       "      <td>2</td>\n",
       "      <td>1</td>\n",
       "      <td>1</td>\n",
       "      <td>1</td>\n",
       "      <td>3</td>\n",
       "      <td>14</td>\n",
       "      <td>1</td>\n",
       "      <td>144</td>\n",
       "      <td>1</td>\n",
       "      <td>3</td>\n",
       "    </tr>\n",
       "    <tr>\n",
       "      <th>2</th>\n",
       "      <td>3</td>\n",
       "      <td>1</td>\n",
       "      <td>1</td>\n",
       "      <td>1</td>\n",
       "      <td>1</td>\n",
       "      <td>1</td>\n",
       "      <td>1</td>\n",
       "      <td>1</td>\n",
       "      <td>1</td>\n",
       "      <td>2</td>\n",
       "      <td>...</td>\n",
       "      <td>2</td>\n",
       "      <td>2</td>\n",
       "      <td>1</td>\n",
       "      <td>2</td>\n",
       "      <td>1</td>\n",
       "      <td>14</td>\n",
       "      <td>1</td>\n",
       "      <td>144</td>\n",
       "      <td>1</td>\n",
       "      <td>3</td>\n",
       "    </tr>\n",
       "    <tr>\n",
       "      <th>3</th>\n",
       "      <td>4</td>\n",
       "      <td>1</td>\n",
       "      <td>1</td>\n",
       "      <td>2</td>\n",
       "      <td>2</td>\n",
       "      <td>2</td>\n",
       "      <td>2</td>\n",
       "      <td>1</td>\n",
       "      <td>2</td>\n",
       "      <td>2</td>\n",
       "      <td>...</td>\n",
       "      <td>2</td>\n",
       "      <td>1</td>\n",
       "      <td>1</td>\n",
       "      <td>3</td>\n",
       "      <td>3</td>\n",
       "      <td>14</td>\n",
       "      <td>1</td>\n",
       "      <td>144</td>\n",
       "      <td>1</td>\n",
       "      <td>3</td>\n",
       "    </tr>\n",
       "    <tr>\n",
       "      <th>4</th>\n",
       "      <td>4</td>\n",
       "      <td>2</td>\n",
       "      <td>1</td>\n",
       "      <td>2</td>\n",
       "      <td>2</td>\n",
       "      <td>2</td>\n",
       "      <td>2</td>\n",
       "      <td>1</td>\n",
       "      <td>2</td>\n",
       "      <td>2</td>\n",
       "      <td>...</td>\n",
       "      <td>2</td>\n",
       "      <td>1</td>\n",
       "      <td>1</td>\n",
       "      <td>3</td>\n",
       "      <td>3</td>\n",
       "      <td>14</td>\n",
       "      <td>1</td>\n",
       "      <td>144</td>\n",
       "      <td>1</td>\n",
       "      <td>3</td>\n",
       "    </tr>\n",
       "  </tbody>\n",
       "</table>\n",
       "<p>5 rows × 51 columns</p>\n",
       "</div>"
      ],
      "text/plain": [
       "   VIV_SEL  HOGAR  N_INF  P4_1_1  P4_1_2  P4_1_3  P4_1_4  P4_1_5  P4_1_6  \\\n",
       "0        1      1      2       1       1       1       1       1       2   \n",
       "1        2      1      1       2       1       2       1       1       2   \n",
       "2        3      1      1       1       1       1       1       1       1   \n",
       "3        4      1      1       2       2       2       2       1       2   \n",
       "4        4      2      1       2       2       2       2       1       2   \n",
       "\n",
       "   P4_2_1   ...     P5_6_6  P5_6_7  P5_10_1  P5_10_2  P5_10_3  CD_ENDUTIH  \\\n",
       "0       1   ...          2       2        1        2        1          14   \n",
       "1       2   ...          2       1        1        1        3          14   \n",
       "2       2   ...          2       2        1        2        1          14   \n",
       "3       2   ...          2       1        1        3        3          14   \n",
       "4       2   ...          2       1        1        3        3          14   \n",
       "\n",
       "   ENT  FAC_HOG  UPM_DIS  EST_DIS  \n",
       "0    1      144        1        3  \n",
       "1    1      144        1        3  \n",
       "2    1      144        1        3  \n",
       "3    1      144        1        3  \n",
       "4    1      144        1        3  \n",
       "\n",
       "[5 rows x 51 columns]"
      ]
     },
     "execution_count": 75,
     "metadata": {},
     "output_type": "execute_result"
    }
   ],
   "source": [
    "df.head()"
   ]
  },
  {
   "cell_type": "code",
   "execution_count": 76,
   "metadata": {
    "collapsed": false
   },
   "outputs": [
    {
     "data": {
      "text/plain": [
       "56    1034\n",
       "64    1019\n",
       "54    1019\n",
       "44    1017\n",
       "42    1008\n",
       "Name: FAC_HOG, dtype: int64"
      ]
     },
     "execution_count": 76,
     "metadata": {},
     "output_type": "execute_result"
    }
   ],
   "source": [
    "df.FAC_HOG.value_counts().head()"
   ]
  },
  {
   "cell_type": "code",
   "execution_count": 77,
   "metadata": {
    "collapsed": false
   },
   "outputs": [],
   "source": [
    "n = df.columns.values.tolist()"
   ]
  },
  {
   "cell_type": "code",
   "execution_count": 78,
   "metadata": {
    "collapsed": false
   },
   "outputs": [
    {
     "data": {
      "text/plain": [
       "67670"
      ]
     },
     "execution_count": 78,
     "metadata": {},
     "output_type": "execute_result"
    }
   ],
   "source": [
    "m = round(df.shape[0]*.50)\n",
    "m"
   ]
  },
  {
   "cell_type": "code",
   "execution_count": 79,
   "metadata": {
    "collapsed": false
   },
   "outputs": [],
   "source": [
    "df.N_INF.value_counts().get(99)\n"
   ]
  },
  {
   "cell_type": "code",
   "execution_count": 80,
   "metadata": {
    "collapsed": false
   },
   "outputs": [
    {
     "name": "stdout",
     "output_type": "stream",
     "text": [
      "columna P4_6_1  mitad 67670   totalnul 74670\n",
      "columna P4_6_2  mitad 67670   totalnul 74670\n",
      "columna P4_6_3  mitad 67670   totalnul 74670\n",
      "columna P4_6_4  mitad 67670   totalnul 74670\n",
      "columna P4_6_5  mitad 67670   totalnul 74670\n",
      "columna P4_6_6  mitad 67670   totalnul 74670\n",
      "columna P4_7_1  mitad 67670   totalnul 94270\n",
      "columna P4_7_2  mitad 67670   totalnul 94270\n",
      "columna P4_7_3  mitad 67670   totalnul 94270\n",
      "columna P4_7_4  mitad 67670   totalnul 94270\n",
      "columna P4_7_5  mitad 67670   totalnul 94270\n",
      "columna P4_8  mitad 67670   totalnul 75033\n",
      "columna P5_3  mitad 67670   totalnul 71872\n"
     ]
    }
   ],
   "source": [
    "l = []\n",
    "for i in n:\n",
    "\n",
    "    if df[i].value_counts().get(99) is not None:\n",
    "        val =  df[i].value_counts().get(99)\n",
    "        if m < val:\n",
    "            print('columna '+str(i)+ '  mitad '+str(m)+ '   totalnul '+str(val))\n",
    "            l.append(i)\n",
    "            df.drop(i, 1, inplace=True)"
   ]
  },
  {
   "cell_type": "code",
   "execution_count": 81,
   "metadata": {
    "collapsed": false
   },
   "outputs": [
    {
     "data": {
      "text/html": [
       "<div>\n",
       "<table border=\"1\" class=\"dataframe\">\n",
       "  <thead>\n",
       "    <tr style=\"text-align: right;\">\n",
       "      <th></th>\n",
       "      <th>VIV_SEL</th>\n",
       "      <th>HOGAR</th>\n",
       "      <th>N_INF</th>\n",
       "      <th>P4_1_1</th>\n",
       "      <th>P4_1_2</th>\n",
       "      <th>P4_1_3</th>\n",
       "      <th>P4_1_4</th>\n",
       "      <th>P4_1_5</th>\n",
       "      <th>P4_1_6</th>\n",
       "      <th>P4_2_1</th>\n",
       "      <th>...</th>\n",
       "      <th>P5_6_6</th>\n",
       "      <th>P5_6_7</th>\n",
       "      <th>P5_10_1</th>\n",
       "      <th>P5_10_2</th>\n",
       "      <th>P5_10_3</th>\n",
       "      <th>CD_ENDUTIH</th>\n",
       "      <th>ENT</th>\n",
       "      <th>FAC_HOG</th>\n",
       "      <th>UPM_DIS</th>\n",
       "      <th>EST_DIS</th>\n",
       "    </tr>\n",
       "  </thead>\n",
       "  <tbody>\n",
       "    <tr>\n",
       "      <th>0</th>\n",
       "      <td>1</td>\n",
       "      <td>1</td>\n",
       "      <td>2</td>\n",
       "      <td>1</td>\n",
       "      <td>1</td>\n",
       "      <td>1</td>\n",
       "      <td>1</td>\n",
       "      <td>1</td>\n",
       "      <td>2</td>\n",
       "      <td>1</td>\n",
       "      <td>...</td>\n",
       "      <td>2</td>\n",
       "      <td>2</td>\n",
       "      <td>1</td>\n",
       "      <td>2</td>\n",
       "      <td>1</td>\n",
       "      <td>14</td>\n",
       "      <td>1</td>\n",
       "      <td>144</td>\n",
       "      <td>1</td>\n",
       "      <td>3</td>\n",
       "    </tr>\n",
       "    <tr>\n",
       "      <th>1</th>\n",
       "      <td>2</td>\n",
       "      <td>1</td>\n",
       "      <td>1</td>\n",
       "      <td>2</td>\n",
       "      <td>1</td>\n",
       "      <td>2</td>\n",
       "      <td>1</td>\n",
       "      <td>1</td>\n",
       "      <td>2</td>\n",
       "      <td>2</td>\n",
       "      <td>...</td>\n",
       "      <td>2</td>\n",
       "      <td>1</td>\n",
       "      <td>1</td>\n",
       "      <td>1</td>\n",
       "      <td>3</td>\n",
       "      <td>14</td>\n",
       "      <td>1</td>\n",
       "      <td>144</td>\n",
       "      <td>1</td>\n",
       "      <td>3</td>\n",
       "    </tr>\n",
       "    <tr>\n",
       "      <th>2</th>\n",
       "      <td>3</td>\n",
       "      <td>1</td>\n",
       "      <td>1</td>\n",
       "      <td>1</td>\n",
       "      <td>1</td>\n",
       "      <td>1</td>\n",
       "      <td>1</td>\n",
       "      <td>1</td>\n",
       "      <td>1</td>\n",
       "      <td>2</td>\n",
       "      <td>...</td>\n",
       "      <td>2</td>\n",
       "      <td>2</td>\n",
       "      <td>1</td>\n",
       "      <td>2</td>\n",
       "      <td>1</td>\n",
       "      <td>14</td>\n",
       "      <td>1</td>\n",
       "      <td>144</td>\n",
       "      <td>1</td>\n",
       "      <td>3</td>\n",
       "    </tr>\n",
       "    <tr>\n",
       "      <th>3</th>\n",
       "      <td>4</td>\n",
       "      <td>1</td>\n",
       "      <td>1</td>\n",
       "      <td>2</td>\n",
       "      <td>2</td>\n",
       "      <td>2</td>\n",
       "      <td>2</td>\n",
       "      <td>1</td>\n",
       "      <td>2</td>\n",
       "      <td>2</td>\n",
       "      <td>...</td>\n",
       "      <td>2</td>\n",
       "      <td>1</td>\n",
       "      <td>1</td>\n",
       "      <td>3</td>\n",
       "      <td>3</td>\n",
       "      <td>14</td>\n",
       "      <td>1</td>\n",
       "      <td>144</td>\n",
       "      <td>1</td>\n",
       "      <td>3</td>\n",
       "    </tr>\n",
       "    <tr>\n",
       "      <th>4</th>\n",
       "      <td>4</td>\n",
       "      <td>2</td>\n",
       "      <td>1</td>\n",
       "      <td>2</td>\n",
       "      <td>2</td>\n",
       "      <td>2</td>\n",
       "      <td>2</td>\n",
       "      <td>1</td>\n",
       "      <td>2</td>\n",
       "      <td>2</td>\n",
       "      <td>...</td>\n",
       "      <td>2</td>\n",
       "      <td>1</td>\n",
       "      <td>1</td>\n",
       "      <td>3</td>\n",
       "      <td>3</td>\n",
       "      <td>14</td>\n",
       "      <td>1</td>\n",
       "      <td>144</td>\n",
       "      <td>1</td>\n",
       "      <td>3</td>\n",
       "    </tr>\n",
       "  </tbody>\n",
       "</table>\n",
       "<p>5 rows × 38 columns</p>\n",
       "</div>"
      ],
      "text/plain": [
       "   VIV_SEL  HOGAR  N_INF  P4_1_1  P4_1_2  P4_1_3  P4_1_4  P4_1_5  P4_1_6  \\\n",
       "0        1      1      2       1       1       1       1       1       2   \n",
       "1        2      1      1       2       1       2       1       1       2   \n",
       "2        3      1      1       1       1       1       1       1       1   \n",
       "3        4      1      1       2       2       2       2       1       2   \n",
       "4        4      2      1       2       2       2       2       1       2   \n",
       "\n",
       "   P4_2_1   ...     P5_6_6  P5_6_7  P5_10_1  P5_10_2  P5_10_3  CD_ENDUTIH  \\\n",
       "0       1   ...          2       2        1        2        1          14   \n",
       "1       2   ...          2       1        1        1        3          14   \n",
       "2       2   ...          2       2        1        2        1          14   \n",
       "3       2   ...          2       1        1        3        3          14   \n",
       "4       2   ...          2       1        1        3        3          14   \n",
       "\n",
       "   ENT  FAC_HOG  UPM_DIS  EST_DIS  \n",
       "0    1      144        1        3  \n",
       "1    1      144        1        3  \n",
       "2    1      144        1        3  \n",
       "3    1      144        1        3  \n",
       "4    1      144        1        3  \n",
       "\n",
       "[5 rows x 38 columns]"
      ]
     },
     "execution_count": 81,
     "metadata": {},
     "output_type": "execute_result"
    }
   ],
   "source": [
    "df.head()"
   ]
  },
  {
   "cell_type": "code",
   "execution_count": 22,
   "metadata": {
    "collapsed": true
   },
   "outputs": [],
   "source": [
    "#df.to_csv('tr_hogar_clean2.csv')"
   ]
  },
  {
   "cell_type": "code",
   "execution_count": 82,
   "metadata": {
    "collapsed": true
   },
   "outputs": [],
   "source": [
    "df_copy = df.copy()"
   ]
  },
  {
   "cell_type": "code",
   "execution_count": 83,
   "metadata": {
    "collapsed": false
   },
   "outputs": [
    {
     "data": {
      "text/plain": [
       "1    132266\n",
       "2      2593\n",
       "3       383\n",
       "4        81\n",
       "5        18\n",
       "Name: HOGAR, dtype: int64"
      ]
     },
     "execution_count": 83,
     "metadata": {},
     "output_type": "execute_result"
    }
   ],
   "source": [
    "df_copy.HOGAR.value_counts()"
   ]
  },
  {
   "cell_type": "code",
   "execution_count": 84,
   "metadata": {
    "collapsed": false
   },
   "outputs": [
    {
     "data": {
      "text/plain": [
       "2     17763\n",
       "3     17741\n",
       "1     17642\n",
       "4     17631\n",
       "5     17587\n",
       "8      5226\n",
       "9      5215\n",
       "7      5189\n",
       "6      5187\n",
       "10     5177\n",
       "11     2105\n",
       "12     2085\n",
       "16     2075\n",
       "15     2072\n",
       "17     2072\n",
       "13     2054\n",
       "14     2047\n",
       "18     2044\n",
       "19     2036\n",
       "20     1899\n",
       "21      224\n",
       "22       68\n",
       "23       13\n",
       "26       13\n",
       "30       12\n",
       "38       12\n",
       "37       12\n",
       "28       12\n",
       "31       12\n",
       "32       11\n",
       "35       11\n",
       "34       11\n",
       "40       11\n",
       "29       11\n",
       "27       11\n",
       "24       11\n",
       "33       10\n",
       "36       10\n",
       "25       10\n",
       "39        9\n",
       "Name: VIV_SEL, dtype: int64"
      ]
     },
     "execution_count": 84,
     "metadata": {},
     "output_type": "execute_result"
    }
   ],
   "source": [
    "df_copy.VIV_SEL.value_counts()"
   ]
  },
  {
   "cell_type": "code",
   "execution_count": 86,
   "metadata": {
    "collapsed": false
   },
   "outputs": [
    {
     "data": {
      "text/plain": [
       "1     64503\n",
       "2     53517\n",
       "3      9758\n",
       "4      4585\n",
       "5      1862\n",
       "6       692\n",
       "7       245\n",
       "8        96\n",
       "9        36\n",
       "10       20\n",
       "11       14\n",
       "12        7\n",
       "13        4\n",
       "21        1\n",
       "16        1\n",
       "Name: N_INF, dtype: int64"
      ]
     },
     "execution_count": 86,
     "metadata": {},
     "output_type": "execute_result"
    }
   ],
   "source": [
    "df_copy.N_INF.value_counts()"
   ]
  },
  {
   "cell_type": "code",
   "execution_count": 87,
   "metadata": {
    "collapsed": false
   },
   "outputs": [
    {
     "data": {
      "text/html": [
       "<div>\n",
       "<table border=\"1\" class=\"dataframe\">\n",
       "  <thead>\n",
       "    <tr style=\"text-align: right;\">\n",
       "      <th></th>\n",
       "      <th>VIV_SEL</th>\n",
       "      <th>HOGAR</th>\n",
       "      <th>N_INF</th>\n",
       "      <th>P4_1_1</th>\n",
       "      <th>P4_1_2</th>\n",
       "      <th>P4_1_3</th>\n",
       "      <th>P4_1_4</th>\n",
       "      <th>P4_1_5</th>\n",
       "      <th>P4_1_6</th>\n",
       "      <th>P4_2_1</th>\n",
       "      <th>...</th>\n",
       "      <th>P5_6_6</th>\n",
       "      <th>P5_6_7</th>\n",
       "      <th>P5_10_1</th>\n",
       "      <th>P5_10_2</th>\n",
       "      <th>P5_10_3</th>\n",
       "      <th>CD_ENDUTIH</th>\n",
       "      <th>ENT</th>\n",
       "      <th>FAC_HOG</th>\n",
       "      <th>UPM_DIS</th>\n",
       "      <th>EST_DIS</th>\n",
       "    </tr>\n",
       "  </thead>\n",
       "  <tbody>\n",
       "    <tr>\n",
       "      <th>0</th>\n",
       "      <td>1</td>\n",
       "      <td>1</td>\n",
       "      <td>2</td>\n",
       "      <td>1</td>\n",
       "      <td>1</td>\n",
       "      <td>1</td>\n",
       "      <td>1</td>\n",
       "      <td>1</td>\n",
       "      <td>2</td>\n",
       "      <td>1</td>\n",
       "      <td>...</td>\n",
       "      <td>2</td>\n",
       "      <td>2</td>\n",
       "      <td>1</td>\n",
       "      <td>2</td>\n",
       "      <td>1</td>\n",
       "      <td>14</td>\n",
       "      <td>1</td>\n",
       "      <td>144</td>\n",
       "      <td>1</td>\n",
       "      <td>3</td>\n",
       "    </tr>\n",
       "    <tr>\n",
       "      <th>1</th>\n",
       "      <td>2</td>\n",
       "      <td>1</td>\n",
       "      <td>1</td>\n",
       "      <td>2</td>\n",
       "      <td>1</td>\n",
       "      <td>2</td>\n",
       "      <td>1</td>\n",
       "      <td>1</td>\n",
       "      <td>2</td>\n",
       "      <td>2</td>\n",
       "      <td>...</td>\n",
       "      <td>2</td>\n",
       "      <td>1</td>\n",
       "      <td>1</td>\n",
       "      <td>1</td>\n",
       "      <td>3</td>\n",
       "      <td>14</td>\n",
       "      <td>1</td>\n",
       "      <td>144</td>\n",
       "      <td>1</td>\n",
       "      <td>3</td>\n",
       "    </tr>\n",
       "    <tr>\n",
       "      <th>2</th>\n",
       "      <td>3</td>\n",
       "      <td>1</td>\n",
       "      <td>1</td>\n",
       "      <td>1</td>\n",
       "      <td>1</td>\n",
       "      <td>1</td>\n",
       "      <td>1</td>\n",
       "      <td>1</td>\n",
       "      <td>1</td>\n",
       "      <td>2</td>\n",
       "      <td>...</td>\n",
       "      <td>2</td>\n",
       "      <td>2</td>\n",
       "      <td>1</td>\n",
       "      <td>2</td>\n",
       "      <td>1</td>\n",
       "      <td>14</td>\n",
       "      <td>1</td>\n",
       "      <td>144</td>\n",
       "      <td>1</td>\n",
       "      <td>3</td>\n",
       "    </tr>\n",
       "    <tr>\n",
       "      <th>3</th>\n",
       "      <td>4</td>\n",
       "      <td>1</td>\n",
       "      <td>1</td>\n",
       "      <td>2</td>\n",
       "      <td>2</td>\n",
       "      <td>2</td>\n",
       "      <td>2</td>\n",
       "      <td>1</td>\n",
       "      <td>2</td>\n",
       "      <td>2</td>\n",
       "      <td>...</td>\n",
       "      <td>2</td>\n",
       "      <td>1</td>\n",
       "      <td>1</td>\n",
       "      <td>3</td>\n",
       "      <td>3</td>\n",
       "      <td>14</td>\n",
       "      <td>1</td>\n",
       "      <td>144</td>\n",
       "      <td>1</td>\n",
       "      <td>3</td>\n",
       "    </tr>\n",
       "    <tr>\n",
       "      <th>4</th>\n",
       "      <td>4</td>\n",
       "      <td>2</td>\n",
       "      <td>1</td>\n",
       "      <td>2</td>\n",
       "      <td>2</td>\n",
       "      <td>2</td>\n",
       "      <td>2</td>\n",
       "      <td>1</td>\n",
       "      <td>2</td>\n",
       "      <td>2</td>\n",
       "      <td>...</td>\n",
       "      <td>2</td>\n",
       "      <td>1</td>\n",
       "      <td>1</td>\n",
       "      <td>3</td>\n",
       "      <td>3</td>\n",
       "      <td>14</td>\n",
       "      <td>1</td>\n",
       "      <td>144</td>\n",
       "      <td>1</td>\n",
       "      <td>3</td>\n",
       "    </tr>\n",
       "  </tbody>\n",
       "</table>\n",
       "<p>5 rows × 38 columns</p>\n",
       "</div>"
      ],
      "text/plain": [
       "   VIV_SEL  HOGAR  N_INF  P4_1_1  P4_1_2  P4_1_3  P4_1_4  P4_1_5  P4_1_6  \\\n",
       "0        1      1      2       1       1       1       1       1       2   \n",
       "1        2      1      1       2       1       2       1       1       2   \n",
       "2        3      1      1       1       1       1       1       1       1   \n",
       "3        4      1      1       2       2       2       2       1       2   \n",
       "4        4      2      1       2       2       2       2       1       2   \n",
       "\n",
       "   P4_2_1   ...     P5_6_6  P5_6_7  P5_10_1  P5_10_2  P5_10_3  CD_ENDUTIH  \\\n",
       "0       1   ...          2       2        1        2        1          14   \n",
       "1       2   ...          2       1        1        1        3          14   \n",
       "2       2   ...          2       2        1        2        1          14   \n",
       "3       2   ...          2       1        1        3        3          14   \n",
       "4       2   ...          2       1        1        3        3          14   \n",
       "\n",
       "   ENT  FAC_HOG  UPM_DIS  EST_DIS  \n",
       "0    1      144        1        3  \n",
       "1    1      144        1        3  \n",
       "2    1      144        1        3  \n",
       "3    1      144        1        3  \n",
       "4    1      144        1        3  \n",
       "\n",
       "[5 rows x 38 columns]"
      ]
     },
     "execution_count": 87,
     "metadata": {},
     "output_type": "execute_result"
    }
   ],
   "source": [
    "df_copy.head()"
   ]
  },
  {
   "cell_type": "code",
   "execution_count": 88,
   "metadata": {
    "collapsed": false
   },
   "outputs": [
    {
     "data": {
      "text/plain": [
       "1    77498\n",
       "2    57843\n",
       "Name: P4_1_1, dtype: int64"
      ]
     },
     "execution_count": 88,
     "metadata": {},
     "output_type": "execute_result"
    }
   ],
   "source": [
    "df.P4_1_1.value_counts()"
   ]
  },
  {
   "cell_type": "code",
   "execution_count": 89,
   "metadata": {
    "collapsed": false
   },
   "outputs": [
    {
     "data": {
      "text/plain": [
       "2    71858\n",
       "1    63483\n",
       "Name: P4_1_2, dtype: int64"
      ]
     },
     "execution_count": 89,
     "metadata": {},
     "output_type": "execute_result"
    }
   ],
   "source": [
    "df.P4_1_2.value_counts()"
   ]
  },
  {
   "cell_type": "code",
   "execution_count": 90,
   "metadata": {
    "collapsed": false
   },
   "outputs": [
    {
     "data": {
      "text/plain": [
       "1    95652\n",
       "2    39689\n",
       "Name: P4_1_3, dtype: int64"
      ]
     },
     "execution_count": 90,
     "metadata": {},
     "output_type": "execute_result"
    }
   ],
   "source": [
    "df.P4_1_3.value_counts()"
   ]
  },
  {
   "cell_type": "code",
   "execution_count": 91,
   "metadata": {
    "collapsed": false
   },
   "outputs": [
    {
     "data": {
      "text/plain": [
       "2    114864\n",
       "1     20477\n",
       "Name: P4_1_4, dtype: int64"
      ]
     },
     "execution_count": 91,
     "metadata": {},
     "output_type": "execute_result"
    }
   ],
   "source": [
    "df.P4_1_4.value_counts()"
   ]
  },
  {
   "cell_type": "code",
   "execution_count": 92,
   "metadata": {
    "collapsed": false
   },
   "outputs": [
    {
     "data": {
      "text/plain": [
       "1    123412\n",
       "2     11929\n",
       "Name: P4_1_5, dtype: int64"
      ]
     },
     "execution_count": 92,
     "metadata": {},
     "output_type": "execute_result"
    }
   ],
   "source": [
    "df.P4_1_5.value_counts()"
   ]
  },
  {
   "cell_type": "code",
   "execution_count": 93,
   "metadata": {
    "collapsed": false
   },
   "outputs": [
    {
     "data": {
      "text/plain": [
       "2    118148\n",
       "1     17193\n",
       "Name: P4_1_6, dtype: int64"
      ]
     },
     "execution_count": 93,
     "metadata": {},
     "output_type": "execute_result"
    }
   ],
   "source": [
    "df.P4_1_6.value_counts()"
   ]
  },
  {
   "cell_type": "code",
   "execution_count": 94,
   "metadata": {
    "collapsed": false
   },
   "outputs": [
    {
     "data": {
      "text/plain": [
       "['VIV_SEL',\n",
       " 'HOGAR',\n",
       " 'N_INF',\n",
       " 'P4_1_1',\n",
       " 'P4_1_2',\n",
       " 'P4_1_3',\n",
       " 'P4_1_4',\n",
       " 'P4_1_5',\n",
       " 'P4_1_6',\n",
       " 'P4_2_1',\n",
       " 'P4_2_2',\n",
       " 'P4_2_3',\n",
       " 'P4_3',\n",
       " 'P4_4',\n",
       " 'P4_5',\n",
       " 'P5_1',\n",
       " 'P5_2_1',\n",
       " 'P5_2_2',\n",
       " 'P5_4',\n",
       " 'P5_5_1',\n",
       " 'P5_5_2',\n",
       " 'P5_5_3',\n",
       " 'P5_5_4',\n",
       " 'P5_6_1',\n",
       " 'P5_6_2',\n",
       " 'P5_6_3',\n",
       " 'P5_6_4',\n",
       " 'P5_6_5',\n",
       " 'P5_6_6',\n",
       " 'P5_6_7',\n",
       " 'P5_10_1',\n",
       " 'P5_10_2',\n",
       " 'P5_10_3',\n",
       " 'CD_ENDUTIH',\n",
       " 'ENT',\n",
       " 'FAC_HOG',\n",
       " 'UPM_DIS',\n",
       " 'EST_DIS']"
      ]
     },
     "execution_count": 94,
     "metadata": {},
     "output_type": "execute_result"
    }
   ],
   "source": [
    "df.columns.values.tolist()"
   ]
  },
  {
   "cell_type": "code",
   "execution_count": 95,
   "metadata": {
    "collapsed": false
   },
   "outputs": [
    {
     "data": {
      "text/plain": [
       "2    113113\n",
       "1     22228\n",
       "Name: P4_2_1, dtype: int64"
      ]
     },
     "execution_count": 95,
     "metadata": {},
     "output_type": "execute_result"
    }
   ],
   "source": [
    "df_copy.P4_2_1.value_counts()"
   ]
  },
  {
   "cell_type": "code",
   "execution_count": 96,
   "metadata": {
    "collapsed": false
   },
   "outputs": [
    {
     "data": {
      "text/plain": [
       "2    90541\n",
       "1    44800\n",
       "Name: P4_2_2, dtype: int64"
      ]
     },
     "execution_count": 96,
     "metadata": {},
     "output_type": "execute_result"
    }
   ],
   "source": [
    "df_copy.P4_2_2.value_counts()"
   ]
  },
  {
   "cell_type": "code",
   "execution_count": 97,
   "metadata": {
    "collapsed": false
   },
   "outputs": [
    {
     "data": {
      "text/plain": [
       "2    102663\n",
       "1     32678\n",
       "Name: P4_2_3, dtype: int64"
      ]
     },
     "execution_count": 97,
     "metadata": {},
     "output_type": "execute_result"
    }
   ],
   "source": [
    "df_copy.P4_2_3.value_counts()"
   ]
  },
  {
   "cell_type": "markdown",
   "metadata": {},
   "source": [
    "## cambiar 99 a valor pequeño para evitar dispersión grande\n",
    "\n",
    "## será 6 el valor para nulos o no responden"
   ]
  },
  {
   "cell_type": "code",
   "execution_count": 98,
   "metadata": {
    "collapsed": false,
    "scrolled": true
   },
   "outputs": [
    {
     "data": {
      "text/plain": [
       "99    65052\n",
       "1     39329\n",
       "2     13652\n",
       "3     10003\n",
       "4      4287\n",
       "5      3018\n",
       "Name: P4_3, dtype: int64"
      ]
     },
     "execution_count": 98,
     "metadata": {},
     "output_type": "execute_result"
    }
   ],
   "source": [
    "df_copy.P4_3.value_counts()"
   ]
  },
  {
   "cell_type": "code",
   "execution_count": 104,
   "metadata": {
    "collapsed": true
   },
   "outputs": [],
   "source": [
    "df_copy.P4_3 = df_copy.P4_3.astype('str')\n",
    "df_copy.P4_3.replace({'99':'6'}, inplace=True)"
   ]
  },
  {
   "cell_type": "code",
   "execution_count": 105,
   "metadata": {
    "collapsed": true
   },
   "outputs": [],
   "source": [
    "df_copy.P4_3 = df_copy.P4_3.astype('float').astype('int64')"
   ]
  },
  {
   "cell_type": "code",
   "execution_count": 106,
   "metadata": {
    "collapsed": false
   },
   "outputs": [
    {
     "data": {
      "text/plain": [
       "6    65052\n",
       "1    39329\n",
       "2    13652\n",
       "3    10003\n",
       "4     4287\n",
       "5     3018\n",
       "Name: P4_3, dtype: int64"
      ]
     },
     "execution_count": 106,
     "metadata": {},
     "output_type": "execute_result"
    }
   ],
   "source": [
    "df_copy.P4_3.value_counts()"
   ]
  },
  {
   "cell_type": "code",
   "execution_count": 107,
   "metadata": {
    "collapsed": false
   },
   "outputs": [
    {
     "data": {
      "text/plain": [
       "1    75001\n",
       "2    60340\n",
       "Name: P4_4, dtype: int64"
      ]
     },
     "execution_count": 107,
     "metadata": {},
     "output_type": "execute_result"
    }
   ],
   "source": [
    "df_copy.P4_4.value_counts()"
   ]
  },
  {
   "cell_type": "code",
   "execution_count": 108,
   "metadata": {
    "collapsed": false,
    "scrolled": true
   },
   "outputs": [
    {
     "data": {
      "text/plain": [
       "99    60467\n",
       "1     33803\n",
       "3     26868\n",
       "2     14203\n",
       "Name: P4_5, dtype: int64"
      ]
     },
     "execution_count": 108,
     "metadata": {},
     "output_type": "execute_result"
    }
   ],
   "source": [
    "df_copy.P4_5.value_counts()"
   ]
  },
  {
   "cell_type": "code",
   "execution_count": 109,
   "metadata": {
    "collapsed": true
   },
   "outputs": [],
   "source": [
    "df_copy.P4_5 = df_copy.P4_5.astype('str')\n",
    "df_copy.P4_5.replace({'99':'4'}, inplace=True)\n",
    "df_copy.P4_5 = df_copy.P4_5.astype('float').astype('int64')"
   ]
  },
  {
   "cell_type": "code",
   "execution_count": 110,
   "metadata": {
    "collapsed": false
   },
   "outputs": [
    {
     "data": {
      "text/plain": [
       "4    60467\n",
       "1    33803\n",
       "3    26868\n",
       "2    14203\n",
       "Name: P4_5, dtype: int64"
      ]
     },
     "execution_count": 110,
     "metadata": {},
     "output_type": "execute_result"
    }
   ],
   "source": [
    "df_copy.P4_5.value_counts()"
   ]
  },
  {
   "cell_type": "code",
   "execution_count": 111,
   "metadata": {
    "collapsed": false
   },
   "outputs": [
    {
     "data": {
      "text/plain": [
       "1    71872\n",
       "2    63469\n",
       "Name: P5_1, dtype: int64"
      ]
     },
     "execution_count": 111,
     "metadata": {},
     "output_type": "execute_result"
    }
   ],
   "source": [
    "df_copy.P5_1.value_counts()"
   ]
  },
  {
   "cell_type": "code",
   "execution_count": 113,
   "metadata": {
    "collapsed": false
   },
   "outputs": [
    {
     "data": {
      "text/plain": [
       "Index(['VIV_SEL', 'HOGAR', 'N_INF', 'P4_1_1', 'P4_1_2', 'P4_1_3', 'P4_1_4',\n",
       "       'P4_1_5', 'P4_1_6', 'P4_2_1', 'P4_2_2', 'P4_2_3', 'P4_3', 'P4_4',\n",
       "       'P4_5', 'P5_1', 'P5_2_1', 'P5_2_2', 'P5_4', 'P5_5_1', 'P5_5_2',\n",
       "       'P5_5_3', 'P5_5_4', 'P5_6_1', 'P5_6_2', 'P5_6_3', 'P5_6_4', 'P5_6_5',\n",
       "       'P5_6_6', 'P5_6_7', 'P5_10_1', 'P5_10_2', 'P5_10_3', 'CD_ENDUTIH',\n",
       "       'ENT', 'FAC_HOG', 'UPM_DIS', 'EST_DIS'],\n",
       "      dtype='object')"
      ]
     },
     "execution_count": 113,
     "metadata": {},
     "output_type": "execute_result"
    }
   ],
   "source": [
    "df_copy.columns"
   ]
  },
  {
   "cell_type": "code",
   "execution_count": 114,
   "metadata": {
    "collapsed": false
   },
   "outputs": [
    {
     "data": {
      "text/plain": [
       "99    63469\n",
       "1     44437\n",
       "2     27435\n",
       "Name: P5_2_1, dtype: int64"
      ]
     },
     "execution_count": 114,
     "metadata": {},
     "output_type": "execute_result"
    }
   ],
   "source": [
    "df_copy.P5_2_1.value_counts()"
   ]
  },
  {
   "cell_type": "code",
   "execution_count": 115,
   "metadata": {
    "collapsed": true
   },
   "outputs": [],
   "source": [
    "df_copy.P5_2_1 = df_copy.P5_2_1.astype('str')\n",
    "df_copy.P5_2_1.replace({'99':'3'}, inplace=True)\n",
    "df_copy.P5_2_1 = df_copy.P5_2_1.astype('float').astype('int64')"
   ]
  },
  {
   "cell_type": "code",
   "execution_count": 116,
   "metadata": {
    "collapsed": false,
    "scrolled": true
   },
   "outputs": [
    {
     "data": {
      "text/plain": [
       "3    63469\n",
       "1    44437\n",
       "2    27435\n",
       "Name: P5_2_1, dtype: int64"
      ]
     },
     "execution_count": 116,
     "metadata": {},
     "output_type": "execute_result"
    }
   ],
   "source": [
    "df_copy.P5_2_1.value_counts()"
   ]
  },
  {
   "cell_type": "code",
   "execution_count": 117,
   "metadata": {
    "collapsed": false
   },
   "outputs": [
    {
     "data": {
      "text/plain": [
       "99    63469\n",
       "2     44139\n",
       "1     27733\n",
       "Name: P5_2_2, dtype: int64"
      ]
     },
     "execution_count": 117,
     "metadata": {},
     "output_type": "execute_result"
    }
   ],
   "source": [
    "df_copy.P5_2_2.value_counts()"
   ]
  },
  {
   "cell_type": "code",
   "execution_count": 118,
   "metadata": {
    "collapsed": true
   },
   "outputs": [],
   "source": [
    "df_copy.P5_2_2 = df_copy.P5_2_2.astype('str')\n",
    "df_copy.P5_2_2.replace({'99':'3'}, inplace=True)\n",
    "df_copy.P5_2_2 = df_copy.P5_2_2.astype('float').astype('int64')"
   ]
  },
  {
   "cell_type": "code",
   "execution_count": 119,
   "metadata": {
    "collapsed": false
   },
   "outputs": [
    {
     "data": {
      "text/plain": [
       "3    63469\n",
       "2    44139\n",
       "1    27733\n",
       "Name: P5_2_2, dtype: int64"
      ]
     },
     "execution_count": 119,
     "metadata": {},
     "output_type": "execute_result"
    }
   ],
   "source": [
    "df_copy.P5_2_2.value_counts()"
   ]
  },
  {
   "cell_type": "code",
   "execution_count": 120,
   "metadata": {
    "collapsed": false
   },
   "outputs": [
    {
     "data": {
      "text/plain": [
       "2    84932\n",
       "1    50409\n",
       "Name: P5_4, dtype: int64"
      ]
     },
     "execution_count": 120,
     "metadata": {},
     "output_type": "execute_result"
    }
   ],
   "source": [
    "df_copy.P5_4.value_counts()"
   ]
  },
  {
   "cell_type": "code",
   "execution_count": 121,
   "metadata": {
    "collapsed": false
   },
   "outputs": [
    {
     "data": {
      "text/plain": [
       "1    75001\n",
       "2    60340\n",
       "Name: P5_5_1, dtype: int64"
      ]
     },
     "execution_count": 121,
     "metadata": {},
     "output_type": "execute_result"
    }
   ],
   "source": [
    "df_copy.P5_5_1.value_counts()"
   ]
  },
  {
   "cell_type": "code",
   "execution_count": 122,
   "metadata": {
    "collapsed": false
   },
   "outputs": [
    {
     "data": {
      "text/plain": [
       "1    71872\n",
       "2    63469\n",
       "Name: P5_5_2, dtype: int64"
      ]
     },
     "execution_count": 122,
     "metadata": {},
     "output_type": "execute_result"
    }
   ],
   "source": [
    "df_copy.P5_5_2.value_counts()"
   ]
  },
  {
   "cell_type": "code",
   "execution_count": 123,
   "metadata": {
    "collapsed": false
   },
   "outputs": [
    {
     "data": {
      "text/plain": [
       "2    84932\n",
       "1    50409\n",
       "Name: P5_5_3, dtype: int64"
      ]
     },
     "execution_count": 123,
     "metadata": {},
     "output_type": "execute_result"
    }
   ],
   "source": [
    "df_copy.P5_5_3.value_counts()"
   ]
  },
  {
   "cell_type": "code",
   "execution_count": 124,
   "metadata": {
    "collapsed": false
   },
   "outputs": [
    {
     "data": {
      "text/plain": [
       "Index(['VIV_SEL', 'HOGAR', 'N_INF', 'P4_1_1', 'P4_1_2', 'P4_1_3', 'P4_1_4',\n",
       "       'P4_1_5', 'P4_1_6', 'P4_2_1', 'P4_2_2', 'P4_2_3', 'P4_3', 'P4_4',\n",
       "       'P4_5', 'P5_1', 'P5_2_1', 'P5_2_2', 'P5_4', 'P5_5_1', 'P5_5_2',\n",
       "       'P5_5_3', 'P5_5_4', 'P5_6_1', 'P5_6_2', 'P5_6_3', 'P5_6_4', 'P5_6_5',\n",
       "       'P5_6_6', 'P5_6_7', 'P5_10_1', 'P5_10_2', 'P5_10_3', 'CD_ENDUTIH',\n",
       "       'ENT', 'FAC_HOG', 'UPM_DIS', 'EST_DIS'],\n",
       "      dtype='object')"
      ]
     },
     "execution_count": 124,
     "metadata": {},
     "output_type": "execute_result"
    }
   ],
   "source": [
    "df_copy.columns"
   ]
  },
  {
   "cell_type": "code",
   "execution_count": 125,
   "metadata": {
    "collapsed": false
   },
   "outputs": [
    {
     "data": {
      "text/plain": [
       "2    101819\n",
       "1     33522\n",
       "Name: P5_5_4, dtype: int64"
      ]
     },
     "execution_count": 125,
     "metadata": {},
     "output_type": "execute_result"
    }
   ],
   "source": [
    "df_copy.P5_5_4.value_counts()"
   ]
  },
  {
   "cell_type": "code",
   "execution_count": 126,
   "metadata": {
    "collapsed": false
   },
   "outputs": [
    {
     "data": {
      "text/plain": [
       "2     87586\n",
       "99    33812\n",
       "1     13943\n",
       "Name: P5_6_1, dtype: int64"
      ]
     },
     "execution_count": 126,
     "metadata": {},
     "output_type": "execute_result"
    }
   ],
   "source": [
    "df_copy.P5_6_1.value_counts()"
   ]
  },
  {
   "cell_type": "code",
   "execution_count": 127,
   "metadata": {
    "collapsed": true
   },
   "outputs": [],
   "source": [
    "df_copy.P5_6_1 = df_copy.P5_6_1.astype('str')\n",
    "df_copy.P5_6_1.replace({'99':'3'}, inplace=True)\n",
    "df_copy.P5_6_1 = df_copy.P5_6_1.astype('float').astype('int64')"
   ]
  },
  {
   "cell_type": "code",
   "execution_count": 128,
   "metadata": {
    "collapsed": false
   },
   "outputs": [
    {
     "data": {
      "text/plain": [
       "2    87586\n",
       "3    33812\n",
       "1    13943\n",
       "Name: P5_6_1, dtype: int64"
      ]
     },
     "execution_count": 128,
     "metadata": {},
     "output_type": "execute_result"
    }
   ],
   "source": [
    "df_copy.P5_6_1.value_counts()"
   ]
  },
  {
   "cell_type": "code",
   "execution_count": 129,
   "metadata": {
    "collapsed": false
   },
   "outputs": [
    {
     "data": {
      "text/plain": [
       "2     100692\n",
       "99     33827\n",
       "1        822\n",
       "Name: P5_6_2, dtype: int64"
      ]
     },
     "execution_count": 129,
     "metadata": {},
     "output_type": "execute_result"
    }
   ],
   "source": [
    "df_copy.P5_6_2.value_counts()"
   ]
  },
  {
   "cell_type": "code",
   "execution_count": 130,
   "metadata": {
    "collapsed": true
   },
   "outputs": [],
   "source": [
    "df_copy.P5_6_2 = df_copy.P5_6_2.astype('str')\n",
    "df_copy.P5_6_2.replace({'99':'3'}, inplace=True)\n",
    "df_copy.P5_6_2 = df_copy.P5_6_2.astype('float').astype('int64')"
   ]
  },
  {
   "cell_type": "code",
   "execution_count": 131,
   "metadata": {
    "collapsed": false
   },
   "outputs": [
    {
     "data": {
      "text/plain": [
       "2    100692\n",
       "3     33827\n",
       "1       822\n",
       "Name: P5_6_2, dtype: int64"
      ]
     },
     "execution_count": 131,
     "metadata": {},
     "output_type": "execute_result"
    }
   ],
   "source": [
    "df_copy.P5_6_2.value_counts()"
   ]
  },
  {
   "cell_type": "code",
   "execution_count": 132,
   "metadata": {
    "collapsed": false,
    "scrolled": true
   },
   "outputs": [
    {
     "data": {
      "text/plain": [
       "2     89331\n",
       "99    33792\n",
       "1     12218\n",
       "Name: P5_6_3, dtype: int64"
      ]
     },
     "execution_count": 132,
     "metadata": {},
     "output_type": "execute_result"
    }
   ],
   "source": [
    "df_copy.P5_6_3.value_counts()"
   ]
  },
  {
   "cell_type": "code",
   "execution_count": 133,
   "metadata": {
    "collapsed": false
   },
   "outputs": [
    {
     "data": {
      "text/plain": [
       "2    89331\n",
       "3    33792\n",
       "1    12218\n",
       "Name: P5_6_3, dtype: int64"
      ]
     },
     "execution_count": 133,
     "metadata": {},
     "output_type": "execute_result"
    }
   ],
   "source": [
    "df_copy.P5_6_3 = df_copy.P5_6_3.astype('str')\n",
    "df_copy.P5_6_3.replace({'99':'3'}, inplace=True)\n",
    "df_copy.P5_6_3 = df_copy.P5_6_3.astype('float').astype('int64')\n",
    "df_copy.P5_6_3.value_counts()"
   ]
  },
  {
   "cell_type": "code",
   "execution_count": 134,
   "metadata": {
    "collapsed": false
   },
   "outputs": [
    {
     "data": {
      "text/plain": [
       "2     75337\n",
       "99    33724\n",
       "1     26280\n",
       "Name: P5_6_4, dtype: int64"
      ]
     },
     "execution_count": 134,
     "metadata": {},
     "output_type": "execute_result"
    }
   ],
   "source": [
    "df_copy.P5_6_4.value_counts()"
   ]
  },
  {
   "cell_type": "code",
   "execution_count": 135,
   "metadata": {
    "collapsed": false
   },
   "outputs": [
    {
     "data": {
      "text/plain": [
       "2    75337\n",
       "3    33724\n",
       "1    26280\n",
       "Name: P5_6_4, dtype: int64"
      ]
     },
     "execution_count": 135,
     "metadata": {},
     "output_type": "execute_result"
    }
   ],
   "source": [
    "df_copy.P5_6_4 = df_copy.P5_6_4.astype('str')\n",
    "df_copy.P5_6_4.replace({'99':'3'}, inplace=True)\n",
    "df_copy.P5_6_4 = df_copy.P5_6_4.astype('float').astype('int64')\n",
    "df_copy.P5_6_4.value_counts()"
   ]
  },
  {
   "cell_type": "code",
   "execution_count": 136,
   "metadata": {
    "collapsed": false
   },
   "outputs": [
    {
     "data": {
      "text/plain": [
       "2     56521\n",
       "1     45147\n",
       "99    33673\n",
       "Name: P5_6_5, dtype: int64"
      ]
     },
     "execution_count": 136,
     "metadata": {},
     "output_type": "execute_result"
    }
   ],
   "source": [
    "df_copy.P5_6_5.value_counts()"
   ]
  },
  {
   "cell_type": "code",
   "execution_count": 137,
   "metadata": {
    "collapsed": false
   },
   "outputs": [
    {
     "data": {
      "text/plain": [
       "2    56521\n",
       "1    45147\n",
       "3    33673\n",
       "Name: P5_6_5, dtype: int64"
      ]
     },
     "execution_count": 137,
     "metadata": {},
     "output_type": "execute_result"
    }
   ],
   "source": [
    "df_copy.P5_6_5 = df_copy.P5_6_5.astype('str')\n",
    "df_copy.P5_6_5.replace({'99':'3'}, inplace=True)\n",
    "df_copy.P5_6_5 = df_copy.P5_6_5.astype('float').astype('int64')\n",
    "df_copy.P5_6_5.value_counts()"
   ]
  },
  {
   "cell_type": "code",
   "execution_count": 138,
   "metadata": {
    "collapsed": false
   },
   "outputs": [
    {
     "data": {
      "text/plain": [
       "Index(['VIV_SEL', 'HOGAR', 'N_INF', 'P4_1_1', 'P4_1_2', 'P4_1_3', 'P4_1_4',\n",
       "       'P4_1_5', 'P4_1_6', 'P4_2_1', 'P4_2_2', 'P4_2_3', 'P4_3', 'P4_4',\n",
       "       'P4_5', 'P5_1', 'P5_2_1', 'P5_2_2', 'P5_4', 'P5_5_1', 'P5_5_2',\n",
       "       'P5_5_3', 'P5_5_4', 'P5_6_1', 'P5_6_2', 'P5_6_3', 'P5_6_4', 'P5_6_5',\n",
       "       'P5_6_6', 'P5_6_7', 'P5_10_1', 'P5_10_2', 'P5_10_3', 'CD_ENDUTIH',\n",
       "       'ENT', 'FAC_HOG', 'UPM_DIS', 'EST_DIS'],\n",
       "      dtype='object')"
      ]
     },
     "execution_count": 138,
     "metadata": {},
     "output_type": "execute_result"
    }
   ],
   "source": [
    "df_copy.columns"
   ]
  },
  {
   "cell_type": "code",
   "execution_count": 139,
   "metadata": {
    "collapsed": false
   },
   "outputs": [
    {
     "data": {
      "text/plain": [
       "2     91772\n",
       "99    33777\n",
       "1      9792\n",
       "Name: P5_6_6, dtype: int64"
      ]
     },
     "execution_count": 139,
     "metadata": {},
     "output_type": "execute_result"
    }
   ],
   "source": [
    "df_copy.P5_6_6.value_counts()"
   ]
  },
  {
   "cell_type": "code",
   "execution_count": 140,
   "metadata": {
    "collapsed": false
   },
   "outputs": [
    {
     "data": {
      "text/plain": [
       "2    91772\n",
       "3    33777\n",
       "1     9792\n",
       "Name: P5_6_6, dtype: int64"
      ]
     },
     "execution_count": 140,
     "metadata": {},
     "output_type": "execute_result"
    }
   ],
   "source": [
    "df_copy.P5_6_6 = df_copy.P5_6_6.astype('str')\n",
    "df_copy.P5_6_6.replace({'99':'3'}, inplace=True)\n",
    "df_copy.P5_6_6 = df_copy.P5_6_6.astype('float').astype('int64')\n",
    "df_copy.P5_6_6.value_counts()"
   ]
  },
  {
   "cell_type": "code",
   "execution_count": 141,
   "metadata": {
    "collapsed": false
   },
   "outputs": [
    {
     "data": {
      "text/plain": [
       "2     76137\n",
       "99    33779\n",
       "1     25425\n",
       "Name: P5_6_7, dtype: int64"
      ]
     },
     "execution_count": 141,
     "metadata": {},
     "output_type": "execute_result"
    }
   ],
   "source": [
    "df_copy.P5_6_7.value_counts()"
   ]
  },
  {
   "cell_type": "code",
   "execution_count": 142,
   "metadata": {
    "collapsed": false
   },
   "outputs": [
    {
     "data": {
      "text/plain": [
       "2    76137\n",
       "3    33779\n",
       "1    25425\n",
       "Name: P5_6_7, dtype: int64"
      ]
     },
     "execution_count": 142,
     "metadata": {},
     "output_type": "execute_result"
    }
   ],
   "source": [
    "df_copy.P5_6_7 = df_copy.P5_6_7.astype('str')\n",
    "df_copy.P5_6_7.replace({'99':'3'}, inplace=True)\n",
    "df_copy.P5_6_7 = df_copy.P5_6_7.astype('float').astype('int64')\n",
    "df_copy.P5_6_7.value_counts()"
   ]
  },
  {
   "cell_type": "code",
   "execution_count": 143,
   "metadata": {
    "collapsed": false
   },
   "outputs": [
    {
     "data": {
      "text/plain": [
       "1     57464\n",
       "99    34667\n",
       "3     26818\n",
       "2     16392\n",
       "Name: P5_10_1, dtype: int64"
      ]
     },
     "execution_count": 143,
     "metadata": {},
     "output_type": "execute_result"
    }
   ],
   "source": [
    "df_copy.P5_10_1.value_counts()"
   ]
  },
  {
   "cell_type": "code",
   "execution_count": 144,
   "metadata": {
    "collapsed": false
   },
   "outputs": [
    {
     "data": {
      "text/plain": [
       "1    57464\n",
       "4    34667\n",
       "3    26818\n",
       "2    16392\n",
       "Name: P5_10_1, dtype: int64"
      ]
     },
     "execution_count": 144,
     "metadata": {},
     "output_type": "execute_result"
    }
   ],
   "source": [
    "df_copy.P5_10_1 = df_copy.P5_10_1.astype('str')\n",
    "df_copy.P5_10_1.replace({'99':'4'}, inplace=True)\n",
    "df_copy.P5_10_1 = df_copy.P5_10_1.astype('float').astype('int64')\n",
    "df_copy.P5_10_1.value_counts()"
   ]
  },
  {
   "cell_type": "code",
   "execution_count": 145,
   "metadata": {
    "collapsed": false
   },
   "outputs": [
    {
     "data": {
      "text/plain": [
       "Index(['VIV_SEL', 'HOGAR', 'N_INF', 'P4_1_1', 'P4_1_2', 'P4_1_3', 'P4_1_4',\n",
       "       'P4_1_5', 'P4_1_6', 'P4_2_1', 'P4_2_2', 'P4_2_3', 'P4_3', 'P4_4',\n",
       "       'P4_5', 'P5_1', 'P5_2_1', 'P5_2_2', 'P5_4', 'P5_5_1', 'P5_5_2',\n",
       "       'P5_5_3', 'P5_5_4', 'P5_6_1', 'P5_6_2', 'P5_6_3', 'P5_6_4', 'P5_6_5',\n",
       "       'P5_6_6', 'P5_6_7', 'P5_10_1', 'P5_10_2', 'P5_10_3', 'CD_ENDUTIH',\n",
       "       'ENT', 'FAC_HOG', 'UPM_DIS', 'EST_DIS'],\n",
       "      dtype='object')"
      ]
     },
     "execution_count": 145,
     "metadata": {},
     "output_type": "execute_result"
    }
   ],
   "source": [
    "df_copy.columns"
   ]
  },
  {
   "cell_type": "code",
   "execution_count": 146,
   "metadata": {
    "collapsed": false
   },
   "outputs": [
    {
     "data": {
      "text/plain": [
       "1     58284\n",
       "99    33843\n",
       "3     29947\n",
       "2     13267\n",
       "Name: P5_10_2, dtype: int64"
      ]
     },
     "execution_count": 146,
     "metadata": {},
     "output_type": "execute_result"
    }
   ],
   "source": [
    "df_copy.P5_10_2.value_counts()"
   ]
  },
  {
   "cell_type": "code",
   "execution_count": 147,
   "metadata": {
    "collapsed": false
   },
   "outputs": [
    {
     "data": {
      "text/plain": [
       "1    58284\n",
       "4    33843\n",
       "3    29947\n",
       "2    13267\n",
       "Name: P5_10_2, dtype: int64"
      ]
     },
     "execution_count": 147,
     "metadata": {},
     "output_type": "execute_result"
    }
   ],
   "source": [
    "df_copy.P5_10_2 = df_copy.P5_10_2.astype('str')\n",
    "df_copy.P5_10_2.replace({'99':'4'}, inplace=True)\n",
    "df_copy.P5_10_2 = df_copy.P5_10_2.astype('float').astype('int64')\n",
    "df_copy.P5_10_2.value_counts()"
   ]
  },
  {
   "cell_type": "code",
   "execution_count": 148,
   "metadata": {
    "collapsed": false
   },
   "outputs": [
    {
     "data": {
      "text/plain": [
       "3     51410\n",
       "1     44893\n",
       "99    33903\n",
       "2      5135\n",
       "Name: P5_10_3, dtype: int64"
      ]
     },
     "execution_count": 148,
     "metadata": {},
     "output_type": "execute_result"
    }
   ],
   "source": [
    "df_copy.P5_10_3.value_counts()"
   ]
  },
  {
   "cell_type": "code",
   "execution_count": 149,
   "metadata": {
    "collapsed": false
   },
   "outputs": [
    {
     "data": {
      "text/plain": [
       "3    51410\n",
       "1    44893\n",
       "4    33903\n",
       "2     5135\n",
       "Name: P5_10_3, dtype: int64"
      ]
     },
     "execution_count": 149,
     "metadata": {},
     "output_type": "execute_result"
    }
   ],
   "source": [
    "df_copy.P5_10_3 = df_copy.P5_10_3.astype('str')\n",
    "df_copy.P5_10_3.replace({'99':'4'}, inplace=True)\n",
    "df_copy.P5_10_3 = df_copy.P5_10_3.astype('float').astype('int64')\n",
    "df_copy.P5_10_3.value_counts()"
   ]
  },
  {
   "cell_type": "code",
   "execution_count": 150,
   "metadata": {
    "collapsed": false
   },
   "outputs": [
    {
     "data": {
      "text/plain": [
       "99    44381\n",
       "1      4533\n",
       "3      2711\n",
       "2      2701\n",
       "38     1934\n",
       "5      1904\n",
       "59     1900\n",
       "14     1881\n",
       "31     1876\n",
       "27     1855\n",
       "28     1843\n",
       "20     1831\n",
       "25     1822\n",
       "37     1810\n",
       "36     1810\n",
       "6      1798\n",
       "24     1798\n",
       "16     1796\n",
       "32     1791\n",
       "39     1788\n",
       "62     1786\n",
       "19     1785\n",
       "15     1780\n",
       "52     1779\n",
       "17     1773\n",
       "8      1767\n",
       "33     1765\n",
       "65     1763\n",
       "26     1757\n",
       "49     1748\n",
       "40     1747\n",
       "67     1746\n",
       "4      1743\n",
       "55     1728\n",
       "7      1724\n",
       "44     1722\n",
       "23     1720\n",
       "18     1717\n",
       "70     1715\n",
       "9      1704\n",
       "10     1699\n",
       "21     1697\n",
       "29     1689\n",
       "13     1677\n",
       "43     1671\n",
       "22     1667\n",
       "30     1661\n",
       "41     1634\n",
       "46     1631\n",
       "12     1583\n",
       "Name: CD_ENDUTIH, dtype: int64"
      ]
     },
     "execution_count": 150,
     "metadata": {},
     "output_type": "execute_result"
    }
   ],
   "source": [
    "df_copy.CD_ENDUTIH.value_counts()"
   ]
  },
  {
   "cell_type": "code",
   "execution_count": 151,
   "metadata": {
    "collapsed": false
   },
   "outputs": [
    {
     "data": {
      "text/plain": [
       "71    44381\n",
       "1      4533\n",
       "3      2711\n",
       "2      2701\n",
       "38     1934\n",
       "5      1904\n",
       "59     1900\n",
       "14     1881\n",
       "31     1876\n",
       "27     1855\n",
       "28     1843\n",
       "20     1831\n",
       "25     1822\n",
       "37     1810\n",
       "36     1810\n",
       "6      1798\n",
       "24     1798\n",
       "16     1796\n",
       "32     1791\n",
       "39     1788\n",
       "62     1786\n",
       "19     1785\n",
       "15     1780\n",
       "52     1779\n",
       "17     1773\n",
       "8      1767\n",
       "33     1765\n",
       "65     1763\n",
       "26     1757\n",
       "49     1748\n",
       "40     1747\n",
       "67     1746\n",
       "4      1743\n",
       "55     1728\n",
       "7      1724\n",
       "44     1722\n",
       "23     1720\n",
       "18     1717\n",
       "70     1715\n",
       "9      1704\n",
       "10     1699\n",
       "21     1697\n",
       "29     1689\n",
       "13     1677\n",
       "43     1671\n",
       "22     1667\n",
       "30     1661\n",
       "41     1634\n",
       "46     1631\n",
       "12     1583\n",
       "Name: CD_ENDUTIH, dtype: int64"
      ]
     },
     "execution_count": 151,
     "metadata": {},
     "output_type": "execute_result"
    }
   ],
   "source": [
    "df_copy.CD_ENDUTIH = df_copy.CD_ENDUTIH.astype('str')\n",
    "df_copy.CD_ENDUTIH.replace({'99':'71'}, inplace=True)\n",
    "df_copy.CD_ENDUTIH = df_copy.CD_ENDUTIH.astype('float').astype('int64')\n",
    "df_copy.CD_ENDUTIH.value_counts()"
   ]
  },
  {
   "cell_type": "code",
   "execution_count": 154,
   "metadata": {
    "collapsed": false
   },
   "outputs": [
    {
     "data": {
      "text/plain": [
       "28    7989\n",
       "11    7094\n",
       "2     6693\n",
       "30    6499\n",
       "16    5228\n",
       "26    5040\n",
       "21    5031\n",
       "7     5020\n",
       "25    4986\n",
       "15    4917\n",
       "8     4775\n",
       "12    4625\n",
       "5     4361\n",
       "14    4226\n",
       "19    4213\n",
       "10    3648\n",
       "31    3381\n",
       "3     3354\n",
       "6     3314\n",
       "29    3300\n",
       "1     3285\n",
       "4     3243\n",
       "20    3241\n",
       "18    3238\n",
       "32    3189\n",
       "22    3152\n",
       "17    3144\n",
       "27    3127\n",
       "23    3086\n",
       "13    3044\n",
       "24    3043\n",
       "9     2855\n",
       "Name: ENT, dtype: int64"
      ]
     },
     "execution_count": 154,
     "metadata": {},
     "output_type": "execute_result"
    }
   ],
   "source": [
    "df_copy.ENT.value_counts()"
   ]
  },
  {
   "cell_type": "code",
   "execution_count": 155,
   "metadata": {
    "collapsed": false
   },
   "outputs": [
    {
     "data": {
      "text/plain": [
       "Index(['VIV_SEL', 'HOGAR', 'N_INF', 'P4_1_1', 'P4_1_2', 'P4_1_3', 'P4_1_4',\n",
       "       'P4_1_5', 'P4_1_6', 'P4_2_1', 'P4_2_2', 'P4_2_3', 'P4_3', 'P4_4',\n",
       "       'P4_5', 'P5_1', 'P5_2_1', 'P5_2_2', 'P5_4', 'P5_5_1', 'P5_5_2',\n",
       "       'P5_5_3', 'P5_5_4', 'P5_6_1', 'P5_6_2', 'P5_6_3', 'P5_6_4', 'P5_6_5',\n",
       "       'P5_6_6', 'P5_6_7', 'P5_10_1', 'P5_10_2', 'P5_10_3', 'CD_ENDUTIH',\n",
       "       'ENT', 'FAC_HOG', 'UPM_DIS', 'EST_DIS'],\n",
       "      dtype='object')"
      ]
     },
     "execution_count": 155,
     "metadata": {},
     "output_type": "execute_result"
    }
   ],
   "source": [
    "df_copy.columns"
   ]
  },
  {
   "cell_type": "code",
   "execution_count": 156,
   "metadata": {
    "collapsed": false
   },
   "outputs": [
    {
     "data": {
      "text/plain": [
       "56      1034\n",
       "64      1019\n",
       "54      1019\n",
       "44      1017\n",
       "42      1008\n",
       "57       964\n",
       "37       953\n",
       "71       930\n",
       "58       926\n",
       "39       924\n",
       "66       897\n",
       "63       880\n",
       "50       878\n",
       "68       873\n",
       "41       872\n",
       "52       860\n",
       "55       860\n",
       "49       848\n",
       "65       847\n",
       "46       841\n",
       "62       827\n",
       "43       824\n",
       "47       809\n",
       "61       800\n",
       "127      798\n",
       "67       797\n",
       "60       797\n",
       "51       794\n",
       "38       770\n",
       "53       770\n",
       "        ... \n",
       "2077       3\n",
       "1750       3\n",
       "1988       3\n",
       "1732       3\n",
       "1648       3\n",
       "1880       3\n",
       "1522       3\n",
       "3186       3\n",
       "2480       2\n",
       "591        2\n",
       "1432       2\n",
       "1555       2\n",
       "1687       2\n",
       "1413       2\n",
       "1925       2\n",
       "587        2\n",
       "2481       2\n",
       "2214       2\n",
       "2529       2\n",
       "3064       2\n",
       "1882       2\n",
       "839        2\n",
       "1799       2\n",
       "2053       1\n",
       "1472       1\n",
       "2063       1\n",
       "1232       1\n",
       "783        1\n",
       "1013       1\n",
       "1252       1\n",
       "Name: FAC_HOG, dtype: int64"
      ]
     },
     "execution_count": 156,
     "metadata": {},
     "output_type": "execute_result"
    }
   ],
   "source": [
    "df_copy.FAC_HOG.value_counts()"
   ]
  },
  {
   "cell_type": "code",
   "execution_count": 157,
   "metadata": {
    "collapsed": true
   },
   "outputs": [],
   "source": [
    "df_copy.to_csv('hogares-clean-no-99.csv')"
   ]
  },
  {
   "cell_type": "code",
   "execution_count": null,
   "metadata": {
    "collapsed": true
   },
   "outputs": [],
   "source": []
  }
 ],
 "metadata": {
  "anaconda-cloud": {},
  "kernelspec": {
   "display_name": "Python [default]",
   "language": "python",
   "name": "python3"
  },
  "language_info": {
   "codemirror_mode": {
    "name": "ipython",
    "version": 3
   },
   "file_extension": ".py",
   "mimetype": "text/x-python",
   "name": "python",
   "nbconvert_exporter": "python",
   "pygments_lexer": "ipython3",
   "version": "3.5.2"
  }
 },
 "nbformat": 4,
 "nbformat_minor": 2
}
