{
 "cells": [
  {
   "cell_type": "markdown",
   "metadata": {},
   "source": [
    "# Limpieza de datos para encuesta ENDITUH 2017, Tabla tr_hogar"
   ]
  },
  {
   "cell_type": "code",
   "execution_count": 1,
   "metadata": {
    "collapsed": true
   },
   "outputs": [],
   "source": [
    "import pandas as pd\n",
    "import numpy as np"
   ]
  },
  {
   "cell_type": "code",
   "execution_count": 2,
   "metadata": {
    "collapsed": false
   },
   "outputs": [
    {
     "data": {
      "text/html": [
       "<div>\n",
       "<table border=\"1\" class=\"dataframe\">\n",
       "  <thead>\n",
       "    <tr style=\"text-align: right;\">\n",
       "      <th></th>\n",
       "      <th>ï»¿UPM</th>\n",
       "      <th>VIV_SEL</th>\n",
       "      <th>HOGAR</th>\n",
       "      <th>N_INF</th>\n",
       "      <th>P4_1_1</th>\n",
       "      <th>P4_1_2</th>\n",
       "      <th>P4_1_3</th>\n",
       "      <th>P4_1_4</th>\n",
       "      <th>P4_1_5</th>\n",
       "      <th>P4_1_6</th>\n",
       "      <th>...</th>\n",
       "      <th>P5_7_7</th>\n",
       "      <th>P5_8_7</th>\n",
       "      <th>P5_10_1</th>\n",
       "      <th>P5_10_2</th>\n",
       "      <th>P5_10_3</th>\n",
       "      <th>CD_ENDUTIH</th>\n",
       "      <th>ENT</th>\n",
       "      <th>FAC_HOG</th>\n",
       "      <th>UPM_DIS</th>\n",
       "      <th>EST_DIS</th>\n",
       "    </tr>\n",
       "  </thead>\n",
       "  <tbody>\n",
       "    <tr>\n",
       "      <th>0</th>\n",
       "      <td>100008</td>\n",
       "      <td>1</td>\n",
       "      <td>1</td>\n",
       "      <td>2</td>\n",
       "      <td>1</td>\n",
       "      <td>1</td>\n",
       "      <td>1</td>\n",
       "      <td>1</td>\n",
       "      <td>1</td>\n",
       "      <td>2</td>\n",
       "      <td>...</td>\n",
       "      <td>NaN</td>\n",
       "      <td>NaN</td>\n",
       "      <td>1.0</td>\n",
       "      <td>2.0</td>\n",
       "      <td>1.0</td>\n",
       "      <td>14.0</td>\n",
       "      <td>1</td>\n",
       "      <td>144.0</td>\n",
       "      <td>1</td>\n",
       "      <td>3</td>\n",
       "    </tr>\n",
       "    <tr>\n",
       "      <th>1</th>\n",
       "      <td>100008</td>\n",
       "      <td>2</td>\n",
       "      <td>1</td>\n",
       "      <td>1</td>\n",
       "      <td>2</td>\n",
       "      <td>1</td>\n",
       "      <td>2</td>\n",
       "      <td>1</td>\n",
       "      <td>1</td>\n",
       "      <td>2</td>\n",
       "      <td>...</td>\n",
       "      <td>200.0</td>\n",
       "      <td>NaN</td>\n",
       "      <td>1.0</td>\n",
       "      <td>1.0</td>\n",
       "      <td>3.0</td>\n",
       "      <td>14.0</td>\n",
       "      <td>1</td>\n",
       "      <td>144.0</td>\n",
       "      <td>1</td>\n",
       "      <td>3</td>\n",
       "    </tr>\n",
       "    <tr>\n",
       "      <th>2</th>\n",
       "      <td>100008</td>\n",
       "      <td>3</td>\n",
       "      <td>1</td>\n",
       "      <td>1</td>\n",
       "      <td>1</td>\n",
       "      <td>1</td>\n",
       "      <td>1</td>\n",
       "      <td>1</td>\n",
       "      <td>1</td>\n",
       "      <td>1</td>\n",
       "      <td>...</td>\n",
       "      <td>NaN</td>\n",
       "      <td>NaN</td>\n",
       "      <td>1.0</td>\n",
       "      <td>2.0</td>\n",
       "      <td>1.0</td>\n",
       "      <td>14.0</td>\n",
       "      <td>1</td>\n",
       "      <td>144.0</td>\n",
       "      <td>1</td>\n",
       "      <td>3</td>\n",
       "    </tr>\n",
       "    <tr>\n",
       "      <th>3</th>\n",
       "      <td>100008</td>\n",
       "      <td>4</td>\n",
       "      <td>1</td>\n",
       "      <td>1</td>\n",
       "      <td>2</td>\n",
       "      <td>2</td>\n",
       "      <td>2</td>\n",
       "      <td>2</td>\n",
       "      <td>1</td>\n",
       "      <td>2</td>\n",
       "      <td>...</td>\n",
       "      <td>400.0</td>\n",
       "      <td>NaN</td>\n",
       "      <td>1.0</td>\n",
       "      <td>3.0</td>\n",
       "      <td>3.0</td>\n",
       "      <td>14.0</td>\n",
       "      <td>1</td>\n",
       "      <td>144.0</td>\n",
       "      <td>1</td>\n",
       "      <td>3</td>\n",
       "    </tr>\n",
       "    <tr>\n",
       "      <th>4</th>\n",
       "      <td>100008</td>\n",
       "      <td>4</td>\n",
       "      <td>2</td>\n",
       "      <td>1</td>\n",
       "      <td>2</td>\n",
       "      <td>2</td>\n",
       "      <td>2</td>\n",
       "      <td>2</td>\n",
       "      <td>1</td>\n",
       "      <td>2</td>\n",
       "      <td>...</td>\n",
       "      <td>0.0</td>\n",
       "      <td>1.0</td>\n",
       "      <td>1.0</td>\n",
       "      <td>3.0</td>\n",
       "      <td>3.0</td>\n",
       "      <td>14.0</td>\n",
       "      <td>1</td>\n",
       "      <td>144.0</td>\n",
       "      <td>1</td>\n",
       "      <td>3</td>\n",
       "    </tr>\n",
       "  </tbody>\n",
       "</table>\n",
       "<p>5 rows × 75 columns</p>\n",
       "</div>"
      ],
      "text/plain": [
       "   ï»¿UPM  VIV_SEL  HOGAR  N_INF  P4_1_1  P4_1_2  P4_1_3  P4_1_4  P4_1_5  \\\n",
       "0  100008        1      1      2       1       1       1       1       1   \n",
       "1  100008        2      1      1       2       1       2       1       1   \n",
       "2  100008        3      1      1       1       1       1       1       1   \n",
       "3  100008        4      1      1       2       2       2       2       1   \n",
       "4  100008        4      2      1       2       2       2       2       1   \n",
       "\n",
       "   P4_1_6   ...     P5_7_7  P5_8_7  P5_10_1  P5_10_2 P5_10_3  CD_ENDUTIH  ENT  \\\n",
       "0       2   ...        NaN     NaN      1.0      2.0     1.0        14.0    1   \n",
       "1       2   ...      200.0     NaN      1.0      1.0     3.0        14.0    1   \n",
       "2       1   ...        NaN     NaN      1.0      2.0     1.0        14.0    1   \n",
       "3       2   ...      400.0     NaN      1.0      3.0     3.0        14.0    1   \n",
       "4       2   ...        0.0     1.0      1.0      3.0     3.0        14.0    1   \n",
       "\n",
       "   FAC_HOG  UPM_DIS  EST_DIS  \n",
       "0    144.0        1        3  \n",
       "1    144.0        1        3  \n",
       "2    144.0        1        3  \n",
       "3    144.0        1        3  \n",
       "4    144.0        1        3  \n",
       "\n",
       "[5 rows x 75 columns]"
      ]
     },
     "execution_count": 2,
     "metadata": {},
     "output_type": "execute_result"
    }
   ],
   "source": [
    "df = pd.read_csv('tr_hogar.csv', encoding='latin', low_memory=False)\n",
    "df.head()"
   ]
  },
  {
   "cell_type": "markdown",
   "metadata": {},
   "source": [
    "## General stats"
   ]
  },
  {
   "cell_type": "code",
   "execution_count": 3,
   "metadata": {
    "collapsed": false,
    "scrolled": true
   },
   "outputs": [
    {
     "name": "stdout",
     "output_type": "stream",
     "text": [
      "<class 'pandas.core.frame.DataFrame'>\n",
      "RangeIndex: 135341 entries, 0 to 135340\n",
      "Data columns (total 75 columns):\n",
      "ï»¿UPM        135341 non-null int64\n",
      "VIV_SEL       135341 non-null int64\n",
      "HOGAR         135341 non-null int64\n",
      "N_INF         135341 non-null int64\n",
      "P4_1_1        135341 non-null int64\n",
      "P4_1_2        135341 non-null int64\n",
      "P4_1_3        135341 non-null int64\n",
      "P4_1_4        135341 non-null int64\n",
      "P4_1_5        135341 non-null int64\n",
      "P4_1_6        135341 non-null int64\n",
      "P4_2_1        135341 non-null int64\n",
      "P4_2_2        135341 non-null int64\n",
      "P4_2_3        135341 non-null int64\n",
      "P4_3          70348 non-null float64\n",
      "P4_3E         3018 non-null object\n",
      "P4_4          135341 non-null int64\n",
      "P4_5          75001 non-null float64\n",
      "P4_6_1        60671 non-null float64\n",
      "P4_6_2        60671 non-null float64\n",
      "P4_6_3        60671 non-null float64\n",
      "P4_6_4        60671 non-null float64\n",
      "P4_6_5        60671 non-null float64\n",
      "P4_6_6        60671 non-null float64\n",
      "P4_6_6E       248 non-null object\n",
      "P4_7_1        41071 non-null float64\n",
      "P4_7_2        41071 non-null float64\n",
      "P4_7_3        41071 non-null float64\n",
      "P4_7_4        41071 non-null float64\n",
      "P4_7_5        41071 non-null float64\n",
      "P4_7_5E       386 non-null object\n",
      "P4_8          60340 non-null float64\n",
      "P4_8E         2235 non-null object\n",
      "P5_1          135341 non-null int64\n",
      "P5_2_1        71872 non-null float64\n",
      "P5_2_2        71872 non-null float64\n",
      "P5_3          63469 non-null float64\n",
      "P5_3E         4998 non-null object\n",
      "P5_4          135341 non-null int64\n",
      "P5_5_1        135341 non-null int64\n",
      "P5_5_2        135341 non-null int64\n",
      "P5_5_3        135341 non-null int64\n",
      "P5_5_4        135341 non-null int64\n",
      "P5_6_1        101819 non-null float64\n",
      "P5_7_1        13943 non-null float64\n",
      "P5_8_1        153 non-null float64\n",
      "P5_9_1        144 non-null float64\n",
      "P5_6_2        101819 non-null float64\n",
      "P5_7_2        822 non-null float64\n",
      "P5_8_2        20 non-null float64\n",
      "P5_9_2        14 non-null float64\n",
      "P5_6_3        101819 non-null float64\n",
      "P5_7_3        12218 non-null float64\n",
      "P5_8_3        219 non-null float64\n",
      "P5_9_3        32 non-null float64\n",
      "P5_6_4        101819 non-null float64\n",
      "P5_7_4        26280 non-null float64\n",
      "P5_8_4        271 non-null float64\n",
      "P5_9_4        153 non-null float64\n",
      "P5_6_5        101819 non-null float64\n",
      "P5_7_5        45147 non-null float64\n",
      "P5_8_5        916 non-null float64\n",
      "P5_6_6        101819 non-null float64\n",
      "P5_7_6        9792 non-null float64\n",
      "P5_8_6        313 non-null float64\n",
      "P5_6_7        101819 non-null float64\n",
      "P5_7_7        25425 non-null float64\n",
      "P5_8_7        4646 non-null float64\n",
      "P5_10_1       101819 non-null float64\n",
      "P5_10_2       101819 non-null float64\n",
      "P5_10_3       101819 non-null float64\n",
      "CD_ENDUTIH    90960 non-null float64\n",
      "ENT           135341 non-null int64\n",
      "FAC_HOG       135341 non-null float64\n",
      "UPM_DIS       135341 non-null int64\n",
      "EST_DIS       135341 non-null int64\n",
      "dtypes: float64(47), int64(23), object(5)\n",
      "memory usage: 77.4+ MB\n"
     ]
    }
   ],
   "source": [
    "df.info()"
   ]
  },
  {
   "cell_type": "markdown",
   "metadata": {},
   "source": [
    "## Numbers of rows"
   ]
  },
  {
   "cell_type": "code",
   "execution_count": 4,
   "metadata": {
    "collapsed": false
   },
   "outputs": [
    {
     "data": {
      "text/plain": [
       "135341"
      ]
     },
     "execution_count": 4,
     "metadata": {},
     "output_type": "execute_result"
    }
   ],
   "source": [
    "df.shape[0]"
   ]
  },
  {
   "cell_type": "markdown",
   "metadata": {},
   "source": [
    "## Numbers of columns"
   ]
  },
  {
   "cell_type": "code",
   "execution_count": 5,
   "metadata": {
    "collapsed": false
   },
   "outputs": [
    {
     "data": {
      "text/plain": [
       "75"
      ]
     },
     "execution_count": 5,
     "metadata": {},
     "output_type": "execute_result"
    }
   ],
   "source": [
    "df.shape[1]"
   ]
  },
  {
   "cell_type": "markdown",
   "metadata": {},
   "source": [
    "## Columns names"
   ]
  },
  {
   "cell_type": "code",
   "execution_count": 6,
   "metadata": {
    "collapsed": false
   },
   "outputs": [
    {
     "data": {
      "text/plain": [
       "['ï»¿UPM',\n",
       " 'VIV_SEL',\n",
       " 'HOGAR',\n",
       " 'N_INF',\n",
       " 'P4_1_1',\n",
       " 'P4_1_2',\n",
       " 'P4_1_3',\n",
       " 'P4_1_4',\n",
       " 'P4_1_5',\n",
       " 'P4_1_6',\n",
       " 'P4_2_1',\n",
       " 'P4_2_2',\n",
       " 'P4_2_3',\n",
       " 'P4_3',\n",
       " 'P4_3E',\n",
       " 'P4_4',\n",
       " 'P4_5',\n",
       " 'P4_6_1',\n",
       " 'P4_6_2',\n",
       " 'P4_6_3',\n",
       " 'P4_6_4',\n",
       " 'P4_6_5',\n",
       " 'P4_6_6',\n",
       " 'P4_6_6E',\n",
       " 'P4_7_1',\n",
       " 'P4_7_2',\n",
       " 'P4_7_3',\n",
       " 'P4_7_4',\n",
       " 'P4_7_5',\n",
       " 'P4_7_5E',\n",
       " 'P4_8',\n",
       " 'P4_8E',\n",
       " 'P5_1',\n",
       " 'P5_2_1',\n",
       " 'P5_2_2',\n",
       " 'P5_3',\n",
       " 'P5_3E',\n",
       " 'P5_4',\n",
       " 'P5_5_1',\n",
       " 'P5_5_2',\n",
       " 'P5_5_3',\n",
       " 'P5_5_4',\n",
       " 'P5_6_1',\n",
       " 'P5_7_1',\n",
       " 'P5_8_1',\n",
       " 'P5_9_1',\n",
       " 'P5_6_2',\n",
       " 'P5_7_2',\n",
       " 'P5_8_2',\n",
       " 'P5_9_2',\n",
       " 'P5_6_3',\n",
       " 'P5_7_3',\n",
       " 'P5_8_3',\n",
       " 'P5_9_3',\n",
       " 'P5_6_4',\n",
       " 'P5_7_4',\n",
       " 'P5_8_4',\n",
       " 'P5_9_4',\n",
       " 'P5_6_5',\n",
       " 'P5_7_5',\n",
       " 'P5_8_5',\n",
       " 'P5_6_6',\n",
       " 'P5_7_6',\n",
       " 'P5_8_6',\n",
       " 'P5_6_7',\n",
       " 'P5_7_7',\n",
       " 'P5_8_7',\n",
       " 'P5_10_1',\n",
       " 'P5_10_2',\n",
       " 'P5_10_3',\n",
       " 'CD_ENDUTIH',\n",
       " 'ENT',\n",
       " 'FAC_HOG',\n",
       " 'UPM_DIS',\n",
       " 'EST_DIS']"
      ]
     },
     "execution_count": 6,
     "metadata": {},
     "output_type": "execute_result"
    }
   ],
   "source": [
    "df.columns.values.tolist()"
   ]
  },
  {
   "cell_type": "markdown",
   "metadata": {},
   "source": [
    "## Column data types"
   ]
  },
  {
   "cell_type": "code",
   "execution_count": 7,
   "metadata": {
    "collapsed": false,
    "scrolled": true
   },
   "outputs": [
    {
     "data": {
      "text/plain": [
       "ï»¿UPM          int64\n",
       "VIV_SEL         int64\n",
       "HOGAR           int64\n",
       "N_INF           int64\n",
       "P4_1_1          int64\n",
       "P4_1_2          int64\n",
       "P4_1_3          int64\n",
       "P4_1_4          int64\n",
       "P4_1_5          int64\n",
       "P4_1_6          int64\n",
       "P4_2_1          int64\n",
       "P4_2_2          int64\n",
       "P4_2_3          int64\n",
       "P4_3          float64\n",
       "P4_3E          object\n",
       "P4_4            int64\n",
       "P4_5          float64\n",
       "P4_6_1        float64\n",
       "P4_6_2        float64\n",
       "P4_6_3        float64\n",
       "P4_6_4        float64\n",
       "P4_6_5        float64\n",
       "P4_6_6        float64\n",
       "P4_6_6E        object\n",
       "P4_7_1        float64\n",
       "P4_7_2        float64\n",
       "P4_7_3        float64\n",
       "P4_7_4        float64\n",
       "P4_7_5        float64\n",
       "P4_7_5E        object\n",
       "               ...   \n",
       "P5_9_1        float64\n",
       "P5_6_2        float64\n",
       "P5_7_2        float64\n",
       "P5_8_2        float64\n",
       "P5_9_2        float64\n",
       "P5_6_3        float64\n",
       "P5_7_3        float64\n",
       "P5_8_3        float64\n",
       "P5_9_3        float64\n",
       "P5_6_4        float64\n",
       "P5_7_4        float64\n",
       "P5_8_4        float64\n",
       "P5_9_4        float64\n",
       "P5_6_5        float64\n",
       "P5_7_5        float64\n",
       "P5_8_5        float64\n",
       "P5_6_6        float64\n",
       "P5_7_6        float64\n",
       "P5_8_6        float64\n",
       "P5_6_7        float64\n",
       "P5_7_7        float64\n",
       "P5_8_7        float64\n",
       "P5_10_1       float64\n",
       "P5_10_2       float64\n",
       "P5_10_3       float64\n",
       "CD_ENDUTIH    float64\n",
       "ENT             int64\n",
       "FAC_HOG       float64\n",
       "UPM_DIS         int64\n",
       "EST_DIS         int64\n",
       "dtype: object"
      ]
     },
     "execution_count": 7,
     "metadata": {},
     "output_type": "execute_result"
    }
   ],
   "source": [
    "df.dtypes"
   ]
  },
  {
   "cell_type": "markdown",
   "metadata": {},
   "source": [
    "## ¿Hay valores vacíos?"
   ]
  },
  {
   "cell_type": "code",
   "execution_count": 8,
   "metadata": {
    "collapsed": false
   },
   "outputs": [
    {
     "data": {
      "text/plain": [
       "True"
      ]
     },
     "execution_count": 8,
     "metadata": {},
     "output_type": "execute_result"
    }
   ],
   "source": [
    "df.isnull().any().any()"
   ]
  },
  {
   "cell_type": "markdown",
   "metadata": {},
   "source": [
    "## Columnas con valores vacíos"
   ]
  },
  {
   "cell_type": "code",
   "execution_count": 9,
   "metadata": {
    "collapsed": false
   },
   "outputs": [
    {
     "data": {
      "text/plain": [
       "['P4_3',\n",
       " 'P4_3E',\n",
       " 'P4_5',\n",
       " 'P4_6_1',\n",
       " 'P4_6_2',\n",
       " 'P4_6_3',\n",
       " 'P4_6_4',\n",
       " 'P4_6_5',\n",
       " 'P4_6_6',\n",
       " 'P4_6_6E',\n",
       " 'P4_7_1',\n",
       " 'P4_7_2',\n",
       " 'P4_7_3',\n",
       " 'P4_7_4',\n",
       " 'P4_7_5',\n",
       " 'P4_7_5E',\n",
       " 'P4_8',\n",
       " 'P4_8E',\n",
       " 'P5_2_1',\n",
       " 'P5_2_2',\n",
       " 'P5_3',\n",
       " 'P5_3E',\n",
       " 'P5_6_1',\n",
       " 'P5_7_1',\n",
       " 'P5_8_1',\n",
       " 'P5_9_1',\n",
       " 'P5_6_2',\n",
       " 'P5_7_2',\n",
       " 'P5_8_2',\n",
       " 'P5_9_2',\n",
       " 'P5_6_3',\n",
       " 'P5_7_3',\n",
       " 'P5_8_3',\n",
       " 'P5_9_3',\n",
       " 'P5_6_4',\n",
       " 'P5_7_4',\n",
       " 'P5_8_4',\n",
       " 'P5_9_4',\n",
       " 'P5_6_5',\n",
       " 'P5_7_5',\n",
       " 'P5_8_5',\n",
       " 'P5_6_6',\n",
       " 'P5_7_6',\n",
       " 'P5_8_6',\n",
       " 'P5_6_7',\n",
       " 'P5_7_7',\n",
       " 'P5_8_7',\n",
       " 'P5_10_1',\n",
       " 'P5_10_2',\n",
       " 'P5_10_3',\n",
       " 'CD_ENDUTIH']"
      ]
     },
     "execution_count": 9,
     "metadata": {},
     "output_type": "execute_result"
    }
   ],
   "source": [
    "list_with_empty_fields = df.columns[df.isnull().any()].tolist()\n",
    "list_with_empty_fields"
   ]
  },
  {
   "cell_type": "markdown",
   "metadata": {},
   "source": [
    "# 1er columna UPM (Unidad primaria de muestreo)\n",
    "## vemos que su nombre esta mal.  "
   ]
  },
  {
   "cell_type": "code",
   "execution_count": 10,
   "metadata": {
    "collapsed": false
   },
   "outputs": [],
   "source": [
    "df = df.rename(columns={'ï»¿UPM': 'UPM'})"
   ]
  },
  {
   "cell_type": "markdown",
   "metadata": {},
   "source": [
    "## creamos copia del dataframe"
   ]
  },
  {
   "cell_type": "code",
   "execution_count": 11,
   "metadata": {
    "collapsed": true
   },
   "outputs": [],
   "source": [
    "df_copy = df.copy()"
   ]
  },
  {
   "cell_type": "markdown",
   "metadata": {},
   "source": [
    "df_copy.UPM"
   ]
  },
  {
   "cell_type": "code",
   "execution_count": 12,
   "metadata": {
    "collapsed": false,
    "scrolled": true
   },
   "outputs": [
    {
     "data": {
      "text/plain": [
       "102137     40\n",
       "1106101    40\n",
       "206948     39\n",
       "207192     38\n",
       "207899     37\n",
       "207917     37\n",
       "206970     36\n",
       "1909836    36\n",
       "360096     36\n",
       "207914     36\n",
       "207003     36\n",
       "207997     34\n",
       "207880     32\n",
       "2360200    31\n",
       "2061378    27\n",
       "2901097    25\n",
       "2360055    25\n",
       "2403483    25\n",
       "703409     25\n",
       "1108585    25\n",
       "3260684    24\n",
       "2460920    24\n",
       "1060304    24\n",
       "1660490    24\n",
       "2303062    24\n",
       "1460175    24\n",
       "1660183    23\n",
       "3160001    23\n",
       "2860096    23\n",
       "160198     23\n",
       "           ..\n",
       "1702303     1\n",
       "1300361     1\n",
       "203360      1\n",
       "2301647     1\n",
       "2401812     1\n",
       "2105538     1\n",
       "1300950     1\n",
       "2700392     1\n",
       "2302397     1\n",
       "3004378     1\n",
       "1700607     1\n",
       "2400753     1\n",
       "3003846     1\n",
       "2700334     1\n",
       "2400474     1\n",
       "2700822     1\n",
       "3101238     1\n",
       "2102254     1\n",
       "1600075     1\n",
       "2901492     1\n",
       "1201046     1\n",
       "502955      1\n",
       "2302168     1\n",
       "206511      1\n",
       "300167      1\n",
       "2400524     1\n",
       "2806896     1\n",
       "1702785     1\n",
       "1600874     1\n",
       "1514922     1\n",
       "Name: UPM, dtype: int64"
      ]
     },
     "execution_count": 12,
     "metadata": {},
     "output_type": "execute_result"
    }
   ],
   "source": [
    "df.UPM.value_counts()"
   ]
  },
  {
   "cell_type": "markdown",
   "metadata": {},
   "source": [
    "## Vemos que no hay valores vacíos en la primer columna"
   ]
  },
  {
   "cell_type": "code",
   "execution_count": 13,
   "metadata": {
    "collapsed": false
   },
   "outputs": [
    {
     "data": {
      "text/plain": [
       "False"
      ]
     },
     "execution_count": 13,
     "metadata": {},
     "output_type": "execute_result"
    }
   ],
   "source": [
    "df.isnull().UPM.any()"
   ]
  },
  {
   "cell_type": "markdown",
   "metadata": {},
   "source": [
    "#  2da columna  VIV_SEL (Vivienda seleccionada)"
   ]
  },
  {
   "cell_type": "markdown",
   "metadata": {},
   "source": [
    "## No presenta valores vacíos"
   ]
  },
  {
   "cell_type": "code",
   "execution_count": 14,
   "metadata": {
    "collapsed": false,
    "scrolled": true
   },
   "outputs": [
    {
     "data": {
      "text/plain": [
       "False"
      ]
     },
     "execution_count": 14,
     "metadata": {},
     "output_type": "execute_result"
    }
   ],
   "source": [
    "df.isnull().VIV_SEL.any()"
   ]
  },
  {
   "cell_type": "markdown",
   "metadata": {},
   "source": [
    "## su contenido no esta  fuera de lo común"
   ]
  },
  {
   "cell_type": "code",
   "execution_count": 15,
   "metadata": {
    "collapsed": false,
    "scrolled": true
   },
   "outputs": [
    {
     "data": {
      "text/plain": [
       "2     17763\n",
       "3     17741\n",
       "1     17642\n",
       "4     17631\n",
       "5     17587\n",
       "8      5226\n",
       "9      5215\n",
       "7      5189\n",
       "6      5187\n",
       "10     5177\n",
       "11     2105\n",
       "12     2085\n",
       "16     2075\n",
       "15     2072\n",
       "17     2072\n",
       "13     2054\n",
       "14     2047\n",
       "18     2044\n",
       "19     2036\n",
       "20     1899\n",
       "21      224\n",
       "22       68\n",
       "23       13\n",
       "26       13\n",
       "30       12\n",
       "38       12\n",
       "37       12\n",
       "28       12\n",
       "31       12\n",
       "32       11\n",
       "35       11\n",
       "34       11\n",
       "40       11\n",
       "29       11\n",
       "27       11\n",
       "24       11\n",
       "33       10\n",
       "36       10\n",
       "25       10\n",
       "39        9\n",
       "Name: VIV_SEL, dtype: int64"
      ]
     },
     "execution_count": 15,
     "metadata": {},
     "output_type": "execute_result"
    }
   ],
   "source": [
    "df.VIV_SEL.value_counts()"
   ]
  },
  {
   "cell_type": "markdown",
   "metadata": {},
   "source": [
    "# 3er columna HOGAR valores permitidos [1-6]"
   ]
  },
  {
   "cell_type": "markdown",
   "metadata": {},
   "source": [
    "## No presenta vacíos y sus valores corresponden al rango permitido"
   ]
  },
  {
   "cell_type": "code",
   "execution_count": 16,
   "metadata": {
    "collapsed": false,
    "scrolled": false
   },
   "outputs": [
    {
     "data": {
      "text/plain": [
       "1    132266\n",
       "2      2593\n",
       "3       383\n",
       "4        81\n",
       "5        18\n",
       "Name: HOGAR, dtype: int64"
      ]
     },
     "execution_count": 16,
     "metadata": {},
     "output_type": "execute_result"
    }
   ],
   "source": [
    "df_copy.HOGAR.value_counts()"
   ]
  },
  {
   "cell_type": "markdown",
   "metadata": {
    "collapsed": true
   },
   "source": [
    "# 4ta Columna  N_INF (Número de renglón del informante)\n",
    "## valores permitidos [01-30],99"
   ]
  },
  {
   "cell_type": "markdown",
   "metadata": {},
   "source": [
    "## los valores se encuentran en el rango permitido"
   ]
  },
  {
   "cell_type": "code",
   "execution_count": 18,
   "metadata": {
    "collapsed": false,
    "scrolled": true
   },
   "outputs": [
    {
     "data": {
      "text/plain": [
       "1     64503\n",
       "2     53517\n",
       "3      9758\n",
       "4      4585\n",
       "5      1862\n",
       "6       692\n",
       "7       245\n",
       "8        96\n",
       "9        36\n",
       "10       20\n",
       "11       14\n",
       "12        7\n",
       "13        4\n",
       "21        1\n",
       "16        1\n",
       "Name: N_INF, dtype: int64"
      ]
     },
     "execution_count": 18,
     "metadata": {},
     "output_type": "execute_result"
    }
   ],
   "source": [
    "df_copy.N_INF.value_counts()"
   ]
  },
  {
   "cell_type": "markdown",
   "metadata": {},
   "source": [
    "## No tiene valores vacíos"
   ]
  },
  {
   "cell_type": "code",
   "execution_count": 19,
   "metadata": {
    "collapsed": false,
    "scrolled": true
   },
   "outputs": [
    {
     "data": {
      "text/plain": [
       "False"
      ]
     },
     "execution_count": 19,
     "metadata": {},
     "output_type": "execute_result"
    }
   ],
   "source": [
    "df.isnull().N_INF.any()"
   ]
  },
  {
   "cell_type": "markdown",
   "metadata": {},
   "source": [
    "# 5ta columna P4_1_1 (4.1 Por favor, dígame si dispone de Radio: (DEBEN ESTAR EN CONDICIONES DE USO)) \n",
    "\n",
    "## No tiene anomalías sus datos"
   ]
  },
  {
   "cell_type": "code",
   "execution_count": 21,
   "metadata": {
    "collapsed": false,
    "scrolled": true
   },
   "outputs": [
    {
     "data": {
      "text/plain": [
       "1    77498\n",
       "2    57843\n",
       "Name: P4_1_1, dtype: int64"
      ]
     },
     "execution_count": 21,
     "metadata": {},
     "output_type": "execute_result"
    }
   ],
   "source": [
    "df_copy.P4_1_1.value_counts()"
   ]
  },
  {
   "cell_type": "markdown",
   "metadata": {},
   "source": [
    "## No tiene valores vacíos"
   ]
  },
  {
   "cell_type": "code",
   "execution_count": 22,
   "metadata": {
    "collapsed": false
   },
   "outputs": [
    {
     "data": {
      "text/plain": [
       "False"
      ]
     },
     "execution_count": 22,
     "metadata": {},
     "output_type": "execute_result"
    }
   ],
   "source": [
    "df.isnull().P4_1_1.any()"
   ]
  },
  {
   "cell_type": "markdown",
   "metadata": {},
   "source": [
    "# 6ta columna P4_1_2 (2. Televisor analógico (de cinescopio)) \n",
    "## No tiene anomalías sus datos"
   ]
  },
  {
   "cell_type": "code",
   "execution_count": 24,
   "metadata": {
    "collapsed": false
   },
   "outputs": [
    {
     "data": {
      "text/plain": [
       "2    71858\n",
       "1    63483\n",
       "Name: P4_1_2, dtype: int64"
      ]
     },
     "execution_count": 24,
     "metadata": {},
     "output_type": "execute_result"
    }
   ],
   "source": [
    "df_copy.P4_1_2.value_counts()"
   ]
  },
  {
   "cell_type": "code",
   "execution_count": 23,
   "metadata": {
    "collapsed": false,
    "scrolled": false
   },
   "outputs": [
    {
     "data": {
      "text/plain": [
       "False"
      ]
     },
     "execution_count": 23,
     "metadata": {},
     "output_type": "execute_result"
    }
   ],
   "source": [
    "df.isnull().P4_1_2.any()"
   ]
  },
  {
   "cell_type": "markdown",
   "metadata": {},
   "source": [
    "# 7ma columna P4_1_3 (3. Pantalla plana (televisor digital, LCD o LED)) \n",
    "## No tiene anomalías sus datos"
   ]
  },
  {
   "cell_type": "code",
   "execution_count": 25,
   "metadata": {
    "collapsed": false
   },
   "outputs": [
    {
     "data": {
      "text/plain": [
       "1    95652\n",
       "2    39689\n",
       "Name: P4_1_3, dtype: int64"
      ]
     },
     "execution_count": 25,
     "metadata": {},
     "output_type": "execute_result"
    }
   ],
   "source": [
    "df_copy.P4_1_3.value_counts()"
   ]
  },
  {
   "cell_type": "code",
   "execution_count": 26,
   "metadata": {
    "collapsed": false
   },
   "outputs": [
    {
     "data": {
      "text/plain": [
       "False"
      ]
     },
     "execution_count": 26,
     "metadata": {},
     "output_type": "execute_result"
    }
   ],
   "source": [
    "df.isnull().P4_1_2.any()"
   ]
  },
  {
   "cell_type": "markdown",
   "metadata": {},
   "source": [
    "# 8va columna P4_1_4 (4. Decodificador de TV digital abierta (diferente a TV de paga)) \n",
    "## No tiene anomalías sus datos"
   ]
  },
  {
   "cell_type": "code",
   "execution_count": 27,
   "metadata": {
    "collapsed": false
   },
   "outputs": [
    {
     "data": {
      "text/plain": [
       "2    114864\n",
       "1     20477\n",
       "Name: P4_1_4, dtype: int64"
      ]
     },
     "execution_count": 27,
     "metadata": {},
     "output_type": "execute_result"
    }
   ],
   "source": [
    "df_copy.P4_1_4.value_counts()"
   ]
  },
  {
   "cell_type": "code",
   "execution_count": 28,
   "metadata": {
    "collapsed": false
   },
   "outputs": [
    {
     "data": {
      "text/plain": [
       "False"
      ]
     },
     "execution_count": 28,
     "metadata": {},
     "output_type": "execute_result"
    }
   ],
   "source": [
    "df.isnull().P4_1_4.any()"
   ]
  },
  {
   "cell_type": "markdown",
   "metadata": {},
   "source": [
    "# 9na columna P4_1_5 (5. Teléfono celular móvil (por cualquiera de los integrantes)) \n",
    "## No tiene anomalías sus datos"
   ]
  },
  {
   "cell_type": "code",
   "execution_count": 29,
   "metadata": {
    "collapsed": false
   },
   "outputs": [
    {
     "data": {
      "text/plain": [
       "1    123412\n",
       "2     11929\n",
       "Name: P4_1_5, dtype: int64"
      ]
     },
     "execution_count": 29,
     "metadata": {},
     "output_type": "execute_result"
    }
   ],
   "source": [
    "df_copy.P4_1_5.value_counts()"
   ]
  },
  {
   "cell_type": "code",
   "execution_count": 30,
   "metadata": {
    "collapsed": false
   },
   "outputs": [
    {
     "data": {
      "text/plain": [
       "False"
      ]
     },
     "execution_count": 30,
     "metadata": {},
     "output_type": "execute_result"
    }
   ],
   "source": [
    "df.isnull().P4_1_5.any()"
   ]
  },
  {
   "cell_type": "markdown",
   "metadata": {},
   "source": [
    "# 10Ma columna P4_1_6 (6. Consola de videojuegos) \n",
    "## No tiene anomalías sus datos"
   ]
  },
  {
   "cell_type": "code",
   "execution_count": 33,
   "metadata": {
    "collapsed": false
   },
   "outputs": [
    {
     "data": {
      "text/plain": [
       "2    118148\n",
       "1     17193\n",
       "Name: P4_1_6, dtype: int64"
      ]
     },
     "execution_count": 33,
     "metadata": {},
     "output_type": "execute_result"
    }
   ],
   "source": [
    "df_copy.P4_1_6.value_counts()"
   ]
  },
  {
   "cell_type": "code",
   "execution_count": 34,
   "metadata": {
    "collapsed": false
   },
   "outputs": [
    {
     "data": {
      "text/plain": [
       "False"
      ]
     },
     "execution_count": 34,
     "metadata": {},
     "output_type": "execute_result"
    }
   ],
   "source": [
    "df.isnull().P4_1_6.any()"
   ]
  },
  {
   "cell_type": "code",
   "execution_count": null,
   "metadata": {
    "collapsed": true
   },
   "outputs": [],
   "source": []
  }
 ],
 "metadata": {
  "anaconda-cloud": {},
  "kernelspec": {
   "display_name": "Python [default]",
   "language": "python",
   "name": "python3"
  },
  "language_info": {
   "codemirror_mode": {
    "name": "ipython",
    "version": 3
   },
   "file_extension": ".py",
   "mimetype": "text/x-python",
   "name": "python",
   "nbconvert_exporter": "python",
   "pygments_lexer": "ipython3",
   "version": "3.5.2"
  }
 },
 "nbformat": 4,
 "nbformat_minor": 1
}
