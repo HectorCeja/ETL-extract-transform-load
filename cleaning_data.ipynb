{
 "cells": [
  {
   "cell_type": "markdown",
   "metadata": {},
   "source": [
    "# Limpieza de datos para encuesta ENDITUH 2017, Tabla tr_hogar"
   ]
  },
  {
   "cell_type": "code",
   "execution_count": 1,
   "metadata": {},
   "outputs": [],
   "source": [
    "import pandas as pd\n",
    "import numpy as np"
   ]
  },
  {
   "cell_type": "code",
   "execution_count": 2,
   "metadata": {},
   "outputs": [
    {
     "data": {
      "text/html": [
       "<div>\n",
       "<style scoped>\n",
       "    .dataframe tbody tr th:only-of-type {\n",
       "        vertical-align: middle;\n",
       "    }\n",
       "\n",
       "    .dataframe tbody tr th {\n",
       "        vertical-align: top;\n",
       "    }\n",
       "\n",
       "    .dataframe thead th {\n",
       "        text-align: right;\n",
       "    }\n",
       "</style>\n",
       "<table border=\"1\" class=\"dataframe\">\n",
       "  <thead>\n",
       "    <tr style=\"text-align: right;\">\n",
       "      <th></th>\n",
       "      <th>UPM</th>\n",
       "      <th>VIV_SEL</th>\n",
       "      <th>HOGAR</th>\n",
       "      <th>N_INF</th>\n",
       "      <th>P4_1_1</th>\n",
       "      <th>P4_1_2</th>\n",
       "      <th>P4_1_3</th>\n",
       "      <th>P4_1_4</th>\n",
       "      <th>P4_1_5</th>\n",
       "      <th>P4_1_6</th>\n",
       "      <th>...</th>\n",
       "      <th>P5_7_7</th>\n",
       "      <th>P5_8_7</th>\n",
       "      <th>P5_10_1</th>\n",
       "      <th>P5_10_2</th>\n",
       "      <th>P5_10_3</th>\n",
       "      <th>CD_ENDUTIH</th>\n",
       "      <th>ENT</th>\n",
       "      <th>FAC_HOG</th>\n",
       "      <th>UPM_DIS</th>\n",
       "      <th>EST_DIS</th>\n",
       "    </tr>\n",
       "  </thead>\n",
       "  <tbody>\n",
       "    <tr>\n",
       "      <th>0</th>\n",
       "      <td>100008</td>\n",
       "      <td>1</td>\n",
       "      <td>1</td>\n",
       "      <td>2</td>\n",
       "      <td>1</td>\n",
       "      <td>1</td>\n",
       "      <td>1</td>\n",
       "      <td>1</td>\n",
       "      <td>1</td>\n",
       "      <td>2</td>\n",
       "      <td>...</td>\n",
       "      <td>NaN</td>\n",
       "      <td>NaN</td>\n",
       "      <td>1.0</td>\n",
       "      <td>2.0</td>\n",
       "      <td>1.0</td>\n",
       "      <td>14.0</td>\n",
       "      <td>1</td>\n",
       "      <td>144.0</td>\n",
       "      <td>1</td>\n",
       "      <td>3</td>\n",
       "    </tr>\n",
       "    <tr>\n",
       "      <th>1</th>\n",
       "      <td>100008</td>\n",
       "      <td>2</td>\n",
       "      <td>1</td>\n",
       "      <td>1</td>\n",
       "      <td>2</td>\n",
       "      <td>1</td>\n",
       "      <td>2</td>\n",
       "      <td>1</td>\n",
       "      <td>1</td>\n",
       "      <td>2</td>\n",
       "      <td>...</td>\n",
       "      <td>200.0</td>\n",
       "      <td>NaN</td>\n",
       "      <td>1.0</td>\n",
       "      <td>1.0</td>\n",
       "      <td>3.0</td>\n",
       "      <td>14.0</td>\n",
       "      <td>1</td>\n",
       "      <td>144.0</td>\n",
       "      <td>1</td>\n",
       "      <td>3</td>\n",
       "    </tr>\n",
       "    <tr>\n",
       "      <th>2</th>\n",
       "      <td>100008</td>\n",
       "      <td>3</td>\n",
       "      <td>1</td>\n",
       "      <td>1</td>\n",
       "      <td>1</td>\n",
       "      <td>1</td>\n",
       "      <td>1</td>\n",
       "      <td>1</td>\n",
       "      <td>1</td>\n",
       "      <td>1</td>\n",
       "      <td>...</td>\n",
       "      <td>NaN</td>\n",
       "      <td>NaN</td>\n",
       "      <td>1.0</td>\n",
       "      <td>2.0</td>\n",
       "      <td>1.0</td>\n",
       "      <td>14.0</td>\n",
       "      <td>1</td>\n",
       "      <td>144.0</td>\n",
       "      <td>1</td>\n",
       "      <td>3</td>\n",
       "    </tr>\n",
       "    <tr>\n",
       "      <th>3</th>\n",
       "      <td>100008</td>\n",
       "      <td>4</td>\n",
       "      <td>1</td>\n",
       "      <td>1</td>\n",
       "      <td>2</td>\n",
       "      <td>2</td>\n",
       "      <td>2</td>\n",
       "      <td>2</td>\n",
       "      <td>1</td>\n",
       "      <td>2</td>\n",
       "      <td>...</td>\n",
       "      <td>400.0</td>\n",
       "      <td>NaN</td>\n",
       "      <td>1.0</td>\n",
       "      <td>3.0</td>\n",
       "      <td>3.0</td>\n",
       "      <td>14.0</td>\n",
       "      <td>1</td>\n",
       "      <td>144.0</td>\n",
       "      <td>1</td>\n",
       "      <td>3</td>\n",
       "    </tr>\n",
       "    <tr>\n",
       "      <th>4</th>\n",
       "      <td>100008</td>\n",
       "      <td>4</td>\n",
       "      <td>2</td>\n",
       "      <td>1</td>\n",
       "      <td>2</td>\n",
       "      <td>2</td>\n",
       "      <td>2</td>\n",
       "      <td>2</td>\n",
       "      <td>1</td>\n",
       "      <td>2</td>\n",
       "      <td>...</td>\n",
       "      <td>0.0</td>\n",
       "      <td>1.0</td>\n",
       "      <td>1.0</td>\n",
       "      <td>3.0</td>\n",
       "      <td>3.0</td>\n",
       "      <td>14.0</td>\n",
       "      <td>1</td>\n",
       "      <td>144.0</td>\n",
       "      <td>1</td>\n",
       "      <td>3</td>\n",
       "    </tr>\n",
       "  </tbody>\n",
       "</table>\n",
       "<p>5 rows × 75 columns</p>\n",
       "</div>"
      ],
      "text/plain": [
       "      UPM  VIV_SEL  HOGAR  N_INF  P4_1_1  P4_1_2  P4_1_3  P4_1_4  P4_1_5  \\\n",
       "0  100008        1      1      2       1       1       1       1       1   \n",
       "1  100008        2      1      1       2       1       2       1       1   \n",
       "2  100008        3      1      1       1       1       1       1       1   \n",
       "3  100008        4      1      1       2       2       2       2       1   \n",
       "4  100008        4      2      1       2       2       2       2       1   \n",
       "\n",
       "   P4_1_6   ...     P5_7_7  P5_8_7  P5_10_1  P5_10_2 P5_10_3  CD_ENDUTIH  ENT  \\\n",
       "0       2   ...        NaN     NaN      1.0      2.0     1.0        14.0    1   \n",
       "1       2   ...      200.0     NaN      1.0      1.0     3.0        14.0    1   \n",
       "2       1   ...        NaN     NaN      1.0      2.0     1.0        14.0    1   \n",
       "3       2   ...      400.0     NaN      1.0      3.0     3.0        14.0    1   \n",
       "4       2   ...        0.0     1.0      1.0      3.0     3.0        14.0    1   \n",
       "\n",
       "   FAC_HOG  UPM_DIS  EST_DIS  \n",
       "0    144.0        1        3  \n",
       "1    144.0        1        3  \n",
       "2    144.0        1        3  \n",
       "3    144.0        1        3  \n",
       "4    144.0        1        3  \n",
       "\n",
       "[5 rows x 75 columns]"
      ]
     },
     "execution_count": 2,
     "metadata": {},
     "output_type": "execute_result"
    }
   ],
   "source": [
    "df = pd.read_csv('tr_hogar.csv', encoding='latin', low_memory=False)\n",
    "df.head()"
   ]
  },
  {
   "cell_type": "markdown",
   "metadata": {},
   "source": [
    "## General stats"
   ]
  },
  {
   "cell_type": "code",
   "execution_count": 3,
   "metadata": {
    "scrolled": true
   },
   "outputs": [
    {
     "name": "stdout",
     "output_type": "stream",
     "text": [
      "<class 'pandas.core.frame.DataFrame'>\n",
      "RangeIndex: 135341 entries, 0 to 135340\n",
      "Data columns (total 75 columns):\n",
      "UPM           135341 non-null int64\n",
      "VIV_SEL       135341 non-null int64\n",
      "HOGAR         135341 non-null int64\n",
      "N_INF         135341 non-null int64\n",
      "P4_1_1        135341 non-null int64\n",
      "P4_1_2        135341 non-null int64\n",
      "P4_1_3        135341 non-null int64\n",
      "P4_1_4        135341 non-null int64\n",
      "P4_1_5        135341 non-null int64\n",
      "P4_1_6        135341 non-null int64\n",
      "P4_2_1        135341 non-null int64\n",
      "P4_2_2        135341 non-null int64\n",
      "P4_2_3        135341 non-null int64\n",
      "P4_3          70348 non-null float64\n",
      "P4_3E         3018 non-null object\n",
      "P4_4          135341 non-null int64\n",
      "P4_5          75001 non-null float64\n",
      "P4_6_1        60671 non-null float64\n",
      "P4_6_2        60671 non-null float64\n",
      "P4_6_3        60671 non-null float64\n",
      "P4_6_4        60671 non-null float64\n",
      "P4_6_5        60671 non-null float64\n",
      "P4_6_6        60671 non-null float64\n",
      "P4_6_6E       248 non-null object\n",
      "P4_7_1        41071 non-null float64\n",
      "P4_7_2        41071 non-null float64\n",
      "P4_7_3        41071 non-null float64\n",
      "P4_7_4        41071 non-null float64\n",
      "P4_7_5        41071 non-null float64\n",
      "P4_7_5E       386 non-null object\n",
      "P4_8          60340 non-null float64\n",
      "P4_8E         2235 non-null object\n",
      "P5_1          135341 non-null int64\n",
      "P5_2_1        71872 non-null float64\n",
      "P5_2_2        71872 non-null float64\n",
      "P5_3          63469 non-null float64\n",
      "P5_3E         4998 non-null object\n",
      "P5_4          135341 non-null int64\n",
      "P5_5_1        135341 non-null int64\n",
      "P5_5_2        135341 non-null int64\n",
      "P5_5_3        135341 non-null int64\n",
      "P5_5_4        135341 non-null int64\n",
      "P5_6_1        101819 non-null float64\n",
      "P5_7_1        13943 non-null float64\n",
      "P5_8_1        153 non-null float64\n",
      "P5_9_1        144 non-null float64\n",
      "P5_6_2        101819 non-null float64\n",
      "P5_7_2        822 non-null float64\n",
      "P5_8_2        20 non-null float64\n",
      "P5_9_2        14 non-null float64\n",
      "P5_6_3        101819 non-null float64\n",
      "P5_7_3        12218 non-null float64\n",
      "P5_8_3        219 non-null float64\n",
      "P5_9_3        32 non-null float64\n",
      "P5_6_4        101819 non-null float64\n",
      "P5_7_4        26280 non-null float64\n",
      "P5_8_4        271 non-null float64\n",
      "P5_9_4        153 non-null float64\n",
      "P5_6_5        101819 non-null float64\n",
      "P5_7_5        45147 non-null float64\n",
      "P5_8_5        916 non-null float64\n",
      "P5_6_6        101819 non-null float64\n",
      "P5_7_6        9792 non-null float64\n",
      "P5_8_6        313 non-null float64\n",
      "P5_6_7        101819 non-null float64\n",
      "P5_7_7        25425 non-null float64\n",
      "P5_8_7        4646 non-null float64\n",
      "P5_10_1       101819 non-null float64\n",
      "P5_10_2       101819 non-null float64\n",
      "P5_10_3       101819 non-null float64\n",
      "CD_ENDUTIH    90960 non-null float64\n",
      "ENT           135341 non-null int64\n",
      "FAC_HOG       135341 non-null float64\n",
      "UPM_DIS       135341 non-null int64\n",
      "EST_DIS       135341 non-null int64\n",
      "dtypes: float64(47), int64(23), object(5)\n",
      "memory usage: 77.4+ MB\n"
     ]
    }
   ],
   "source": [
    "df.info()"
   ]
  },
  {
   "cell_type": "markdown",
   "metadata": {},
   "source": [
    "## Numbers of rows"
   ]
  },
  {
   "cell_type": "code",
   "execution_count": 4,
   "metadata": {},
   "outputs": [
    {
     "data": {
      "text/plain": [
       "135341"
      ]
     },
     "execution_count": 4,
     "metadata": {},
     "output_type": "execute_result"
    }
   ],
   "source": [
    "df.shape[0]"
   ]
  },
  {
   "cell_type": "markdown",
   "metadata": {},
   "source": [
    "## Numbers of columns"
   ]
  },
  {
   "cell_type": "code",
   "execution_count": 5,
   "metadata": {},
   "outputs": [
    {
     "data": {
      "text/plain": [
       "75"
      ]
     },
     "execution_count": 5,
     "metadata": {},
     "output_type": "execute_result"
    }
   ],
   "source": [
    "df.shape[1]"
   ]
  },
  {
   "cell_type": "markdown",
   "metadata": {},
   "source": [
    "## Columns names"
   ]
  },
  {
   "cell_type": "code",
   "execution_count": 6,
   "metadata": {},
   "outputs": [
    {
     "data": {
      "text/plain": [
       "['UPM',\n",
       " 'VIV_SEL',\n",
       " 'HOGAR',\n",
       " 'N_INF',\n",
       " 'P4_1_1',\n",
       " 'P4_1_2',\n",
       " 'P4_1_3',\n",
       " 'P4_1_4',\n",
       " 'P4_1_5',\n",
       " 'P4_1_6',\n",
       " 'P4_2_1',\n",
       " 'P4_2_2',\n",
       " 'P4_2_3',\n",
       " 'P4_3',\n",
       " 'P4_3E',\n",
       " 'P4_4',\n",
       " 'P4_5',\n",
       " 'P4_6_1',\n",
       " 'P4_6_2',\n",
       " 'P4_6_3',\n",
       " 'P4_6_4',\n",
       " 'P4_6_5',\n",
       " 'P4_6_6',\n",
       " 'P4_6_6E',\n",
       " 'P4_7_1',\n",
       " 'P4_7_2',\n",
       " 'P4_7_3',\n",
       " 'P4_7_4',\n",
       " 'P4_7_5',\n",
       " 'P4_7_5E',\n",
       " 'P4_8',\n",
       " 'P4_8E',\n",
       " 'P5_1',\n",
       " 'P5_2_1',\n",
       " 'P5_2_2',\n",
       " 'P5_3',\n",
       " 'P5_3E',\n",
       " 'P5_4',\n",
       " 'P5_5_1',\n",
       " 'P5_5_2',\n",
       " 'P5_5_3',\n",
       " 'P5_5_4',\n",
       " 'P5_6_1',\n",
       " 'P5_7_1',\n",
       " 'P5_8_1',\n",
       " 'P5_9_1',\n",
       " 'P5_6_2',\n",
       " 'P5_7_2',\n",
       " 'P5_8_2',\n",
       " 'P5_9_2',\n",
       " 'P5_6_3',\n",
       " 'P5_7_3',\n",
       " 'P5_8_3',\n",
       " 'P5_9_3',\n",
       " 'P5_6_4',\n",
       " 'P5_7_4',\n",
       " 'P5_8_4',\n",
       " 'P5_9_4',\n",
       " 'P5_6_5',\n",
       " 'P5_7_5',\n",
       " 'P5_8_5',\n",
       " 'P5_6_6',\n",
       " 'P5_7_6',\n",
       " 'P5_8_6',\n",
       " 'P5_6_7',\n",
       " 'P5_7_7',\n",
       " 'P5_8_7',\n",
       " 'P5_10_1',\n",
       " 'P5_10_2',\n",
       " 'P5_10_3',\n",
       " 'CD_ENDUTIH',\n",
       " 'ENT',\n",
       " 'FAC_HOG',\n",
       " 'UPM_DIS',\n",
       " 'EST_DIS']"
      ]
     },
     "execution_count": 6,
     "metadata": {},
     "output_type": "execute_result"
    }
   ],
   "source": [
    "df.columns.values.tolist()"
   ]
  },
  {
   "cell_type": "markdown",
   "metadata": {},
   "source": [
    "## Column data types"
   ]
  },
  {
   "cell_type": "code",
   "execution_count": 7,
   "metadata": {
    "scrolled": true
   },
   "outputs": [
    {
     "data": {
      "text/plain": [
       "UPM             int64\n",
       "VIV_SEL         int64\n",
       "HOGAR           int64\n",
       "N_INF           int64\n",
       "P4_1_1          int64\n",
       "P4_1_2          int64\n",
       "P4_1_3          int64\n",
       "P4_1_4          int64\n",
       "P4_1_5          int64\n",
       "P4_1_6          int64\n",
       "P4_2_1          int64\n",
       "P4_2_2          int64\n",
       "P4_2_3          int64\n",
       "P4_3          float64\n",
       "P4_3E          object\n",
       "P4_4            int64\n",
       "P4_5          float64\n",
       "P4_6_1        float64\n",
       "P4_6_2        float64\n",
       "P4_6_3        float64\n",
       "P4_6_4        float64\n",
       "P4_6_5        float64\n",
       "P4_6_6        float64\n",
       "P4_6_6E        object\n",
       "P4_7_1        float64\n",
       "P4_7_2        float64\n",
       "P4_7_3        float64\n",
       "P4_7_4        float64\n",
       "P4_7_5        float64\n",
       "P4_7_5E        object\n",
       "               ...   \n",
       "P5_9_1        float64\n",
       "P5_6_2        float64\n",
       "P5_7_2        float64\n",
       "P5_8_2        float64\n",
       "P5_9_2        float64\n",
       "P5_6_3        float64\n",
       "P5_7_3        float64\n",
       "P5_8_3        float64\n",
       "P5_9_3        float64\n",
       "P5_6_4        float64\n",
       "P5_7_4        float64\n",
       "P5_8_4        float64\n",
       "P5_9_4        float64\n",
       "P5_6_5        float64\n",
       "P5_7_5        float64\n",
       "P5_8_5        float64\n",
       "P5_6_6        float64\n",
       "P5_7_6        float64\n",
       "P5_8_6        float64\n",
       "P5_6_7        float64\n",
       "P5_7_7        float64\n",
       "P5_8_7        float64\n",
       "P5_10_1       float64\n",
       "P5_10_2       float64\n",
       "P5_10_3       float64\n",
       "CD_ENDUTIH    float64\n",
       "ENT             int64\n",
       "FAC_HOG       float64\n",
       "UPM_DIS         int64\n",
       "EST_DIS         int64\n",
       "Length: 75, dtype: object"
      ]
     },
     "execution_count": 7,
     "metadata": {},
     "output_type": "execute_result"
    }
   ],
   "source": [
    "df.dtypes"
   ]
  },
  {
   "cell_type": "markdown",
   "metadata": {},
   "source": [
    "## ¿Hay valores vacíos?"
   ]
  },
  {
   "cell_type": "code",
   "execution_count": 8,
   "metadata": {},
   "outputs": [
    {
     "data": {
      "text/plain": [
       "True"
      ]
     },
     "execution_count": 8,
     "metadata": {},
     "output_type": "execute_result"
    }
   ],
   "source": [
    "df.isnull().any().any()"
   ]
  },
  {
   "cell_type": "markdown",
   "metadata": {},
   "source": [
    "## Columnas con valores vacíos"
   ]
  },
  {
   "cell_type": "code",
   "execution_count": 9,
   "metadata": {},
   "outputs": [
    {
     "data": {
      "text/plain": [
       "['P4_3',\n",
       " 'P4_3E',\n",
       " 'P4_5',\n",
       " 'P4_6_1',\n",
       " 'P4_6_2',\n",
       " 'P4_6_3',\n",
       " 'P4_6_4',\n",
       " 'P4_6_5',\n",
       " 'P4_6_6',\n",
       " 'P4_6_6E',\n",
       " 'P4_7_1',\n",
       " 'P4_7_2',\n",
       " 'P4_7_3',\n",
       " 'P4_7_4',\n",
       " 'P4_7_5',\n",
       " 'P4_7_5E',\n",
       " 'P4_8',\n",
       " 'P4_8E',\n",
       " 'P5_2_1',\n",
       " 'P5_2_2',\n",
       " 'P5_3',\n",
       " 'P5_3E',\n",
       " 'P5_6_1',\n",
       " 'P5_7_1',\n",
       " 'P5_8_1',\n",
       " 'P5_9_1',\n",
       " 'P5_6_2',\n",
       " 'P5_7_2',\n",
       " 'P5_8_2',\n",
       " 'P5_9_2',\n",
       " 'P5_6_3',\n",
       " 'P5_7_3',\n",
       " 'P5_8_3',\n",
       " 'P5_9_3',\n",
       " 'P5_6_4',\n",
       " 'P5_7_4',\n",
       " 'P5_8_4',\n",
       " 'P5_9_4',\n",
       " 'P5_6_5',\n",
       " 'P5_7_5',\n",
       " 'P5_8_5',\n",
       " 'P5_6_6',\n",
       " 'P5_7_6',\n",
       " 'P5_8_6',\n",
       " 'P5_6_7',\n",
       " 'P5_7_7',\n",
       " 'P5_8_7',\n",
       " 'P5_10_1',\n",
       " 'P5_10_2',\n",
       " 'P5_10_3',\n",
       " 'CD_ENDUTIH']"
      ]
     },
     "execution_count": 9,
     "metadata": {},
     "output_type": "execute_result"
    }
   ],
   "source": [
    "list_with_empty_fields = df.columns[df.isnull().any()].tolist()\n",
    "list_with_empty_fields"
   ]
  },
  {
   "cell_type": "markdown",
   "metadata": {},
   "source": [
    "# 1er columna UPM (Unidad primaria de muestreo)\n",
    "## vemos que su nombre esta mal.  "
   ]
  },
  {
   "cell_type": "code",
   "execution_count": 10,
   "metadata": {},
   "outputs": [],
   "source": [
    "df = df.rename(columns={'ï»¿UPM': 'UPM'})"
   ]
  },
  {
   "cell_type": "markdown",
   "metadata": {},
   "source": [
    "## creamos copia del dataframe"
   ]
  },
  {
   "cell_type": "code",
   "execution_count": 11,
   "metadata": {},
   "outputs": [],
   "source": [
    "df_copy = df.copy()"
   ]
  },
  {
   "cell_type": "markdown",
   "metadata": {},
   "source": [
    "## no hay anomalías en sus datos"
   ]
  },
  {
   "cell_type": "code",
   "execution_count": 12,
   "metadata": {
    "scrolled": true
   },
   "outputs": [
    {
     "data": {
      "text/plain": [
       "102137     40\n",
       "1106101    40\n",
       "206948     39\n",
       "207192     38\n",
       "207899     37\n",
       "207917     37\n",
       "206970     36\n",
       "1909836    36\n",
       "360096     36\n",
       "207914     36\n",
       "207003     36\n",
       "207997     34\n",
       "207880     32\n",
       "2360200    31\n",
       "2061378    27\n",
       "2901097    25\n",
       "2360055    25\n",
       "2403483    25\n",
       "703409     25\n",
       "1108585    25\n",
       "3260684    24\n",
       "2460920    24\n",
       "1060304    24\n",
       "1660490    24\n",
       "2303062    24\n",
       "1460175    24\n",
       "1660183    23\n",
       "3160001    23\n",
       "2860096    23\n",
       "160198     23\n",
       "           ..\n",
       "1702303     1\n",
       "1300361     1\n",
       "203360      1\n",
       "2301647     1\n",
       "2401812     1\n",
       "2105538     1\n",
       "1300950     1\n",
       "2700392     1\n",
       "2302397     1\n",
       "3004378     1\n",
       "1700607     1\n",
       "2400753     1\n",
       "3003846     1\n",
       "2700334     1\n",
       "2400474     1\n",
       "2700822     1\n",
       "3101238     1\n",
       "2102254     1\n",
       "1600075     1\n",
       "2901492     1\n",
       "1201046     1\n",
       "502955      1\n",
       "2302168     1\n",
       "206511      1\n",
       "300167      1\n",
       "2400524     1\n",
       "2806896     1\n",
       "1702785     1\n",
       "1600874     1\n",
       "1514922     1\n",
       "Name: UPM, Length: 19903, dtype: int64"
      ]
     },
     "execution_count": 12,
     "metadata": {},
     "output_type": "execute_result"
    }
   ],
   "source": [
    "df_copy.UPM.value_counts()"
   ]
  },
  {
   "cell_type": "markdown",
   "metadata": {},
   "source": [
    "## Vemos que no hay valores vacíos en la primer columna"
   ]
  },
  {
   "cell_type": "code",
   "execution_count": 13,
   "metadata": {},
   "outputs": [
    {
     "data": {
      "text/plain": [
       "False"
      ]
     },
     "execution_count": 13,
     "metadata": {},
     "output_type": "execute_result"
    }
   ],
   "source": [
    "df_copy.isnull().UPM.any()"
   ]
  },
  {
   "cell_type": "code",
   "execution_count": 14,
   "metadata": {},
   "outputs": [
    {
     "data": {
      "text/plain": [
       "135341"
      ]
     },
     "execution_count": 14,
     "metadata": {},
     "output_type": "execute_result"
    }
   ],
   "source": [
    "df_copy.UPM.value_counts().sum()"
   ]
  },
  {
   "cell_type": "markdown",
   "metadata": {},
   "source": [
    "#  2da columna  VIV_SEL (Vivienda seleccionada)"
   ]
  },
  {
   "cell_type": "markdown",
   "metadata": {},
   "source": [
    "## No presenta valores vacíos"
   ]
  },
  {
   "cell_type": "code",
   "execution_count": 15,
   "metadata": {
    "scrolled": true
   },
   "outputs": [
    {
     "data": {
      "text/plain": [
       "False"
      ]
     },
     "execution_count": 15,
     "metadata": {},
     "output_type": "execute_result"
    }
   ],
   "source": [
    "df_copy.isnull().VIV_SEL.any()"
   ]
  },
  {
   "cell_type": "markdown",
   "metadata": {},
   "source": [
    "## su contenido no esta  fuera de lo común"
   ]
  },
  {
   "cell_type": "code",
   "execution_count": 16,
   "metadata": {
    "scrolled": true
   },
   "outputs": [
    {
     "data": {
      "text/plain": [
       "2     17763\n",
       "3     17741\n",
       "1     17642\n",
       "4     17631\n",
       "5     17587\n",
       "8      5226\n",
       "9      5215\n",
       "7      5189\n",
       "6      5187\n",
       "10     5177\n",
       "11     2105\n",
       "12     2085\n",
       "16     2075\n",
       "15     2072\n",
       "17     2072\n",
       "13     2054\n",
       "14     2047\n",
       "18     2044\n",
       "19     2036\n",
       "20     1899\n",
       "21      224\n",
       "22       68\n",
       "23       13\n",
       "26       13\n",
       "30       12\n",
       "38       12\n",
       "37       12\n",
       "28       12\n",
       "31       12\n",
       "32       11\n",
       "35       11\n",
       "34       11\n",
       "40       11\n",
       "29       11\n",
       "27       11\n",
       "24       11\n",
       "33       10\n",
       "36       10\n",
       "25       10\n",
       "39        9\n",
       "Name: VIV_SEL, dtype: int64"
      ]
     },
     "execution_count": 16,
     "metadata": {},
     "output_type": "execute_result"
    }
   ],
   "source": [
    "df_copy.VIV_SEL.value_counts()"
   ]
  },
  {
   "cell_type": "code",
   "execution_count": 17,
   "metadata": {},
   "outputs": [
    {
     "data": {
      "text/plain": [
       "135341"
      ]
     },
     "execution_count": 17,
     "metadata": {},
     "output_type": "execute_result"
    }
   ],
   "source": [
    "df_copy.VIV_SEL.value_counts().sum()"
   ]
  },
  {
   "cell_type": "markdown",
   "metadata": {},
   "source": [
    "# 3er columna HOGAR valores permitidos [1-6]"
   ]
  },
  {
   "cell_type": "markdown",
   "metadata": {},
   "source": [
    "## No presenta vacíos y sus valores corresponden al rango permitido"
   ]
  },
  {
   "cell_type": "code",
   "execution_count": 18,
   "metadata": {
    "scrolled": true
   },
   "outputs": [
    {
     "data": {
      "text/plain": [
       "1    132266\n",
       "2      2593\n",
       "3       383\n",
       "4        81\n",
       "5        18\n",
       "Name: HOGAR, dtype: int64"
      ]
     },
     "execution_count": 18,
     "metadata": {},
     "output_type": "execute_result"
    }
   ],
   "source": [
    "df_copy.HOGAR.value_counts()"
   ]
  },
  {
   "cell_type": "code",
   "execution_count": 19,
   "metadata": {},
   "outputs": [
    {
     "data": {
      "text/plain": [
       "135341"
      ]
     },
     "execution_count": 19,
     "metadata": {},
     "output_type": "execute_result"
    }
   ],
   "source": [
    "df_copy.HOGAR.value_counts().sum()"
   ]
  },
  {
   "cell_type": "markdown",
   "metadata": {
    "collapsed": true
   },
   "source": [
    "# 4ta Columna  N_INF (Número de renglón del informante)\n",
    "## valores permitidos [01-30],99"
   ]
  },
  {
   "cell_type": "markdown",
   "metadata": {},
   "source": [
    "## los valores se encuentran en el rango permitido"
   ]
  },
  {
   "cell_type": "code",
   "execution_count": 20,
   "metadata": {
    "scrolled": true
   },
   "outputs": [
    {
     "data": {
      "text/plain": [
       "1     64503\n",
       "2     53517\n",
       "3      9758\n",
       "4      4585\n",
       "5      1862\n",
       "6       692\n",
       "7       245\n",
       "8        96\n",
       "9        36\n",
       "10       20\n",
       "11       14\n",
       "12        7\n",
       "13        4\n",
       "21        1\n",
       "16        1\n",
       "Name: N_INF, dtype: int64"
      ]
     },
     "execution_count": 20,
     "metadata": {},
     "output_type": "execute_result"
    }
   ],
   "source": [
    "df_copy.N_INF.value_counts()"
   ]
  },
  {
   "cell_type": "markdown",
   "metadata": {},
   "source": [
    "## No tiene valores vacíos"
   ]
  },
  {
   "cell_type": "code",
   "execution_count": 21,
   "metadata": {
    "scrolled": true
   },
   "outputs": [
    {
     "data": {
      "text/plain": [
       "False"
      ]
     },
     "execution_count": 21,
     "metadata": {},
     "output_type": "execute_result"
    }
   ],
   "source": [
    "df_copy.isnull().N_INF.any()"
   ]
  },
  {
   "cell_type": "code",
   "execution_count": 22,
   "metadata": {},
   "outputs": [
    {
     "data": {
      "text/plain": [
       "135341"
      ]
     },
     "execution_count": 22,
     "metadata": {},
     "output_type": "execute_result"
    }
   ],
   "source": [
    "df_copy.N_INF.value_counts().sum()"
   ]
  },
  {
   "cell_type": "markdown",
   "metadata": {},
   "source": [
    "# 5ta columna P4_1_1 (4.1 Por favor, dígame si dispone de Radio: (DEBEN ESTAR EN CONDICIONES DE USO)) \n",
    "\n",
    "## No tiene anomalías sus datos"
   ]
  },
  {
   "cell_type": "code",
   "execution_count": 23,
   "metadata": {
    "scrolled": true
   },
   "outputs": [
    {
     "data": {
      "text/plain": [
       "1    77498\n",
       "2    57843\n",
       "Name: P4_1_1, dtype: int64"
      ]
     },
     "execution_count": 23,
     "metadata": {},
     "output_type": "execute_result"
    }
   ],
   "source": [
    "df_copy.P4_1_1.value_counts()"
   ]
  },
  {
   "cell_type": "markdown",
   "metadata": {},
   "source": [
    "## No tiene valores vacíos"
   ]
  },
  {
   "cell_type": "code",
   "execution_count": 24,
   "metadata": {},
   "outputs": [
    {
     "data": {
      "text/plain": [
       "False"
      ]
     },
     "execution_count": 24,
     "metadata": {},
     "output_type": "execute_result"
    }
   ],
   "source": [
    "df_copy.isnull().P4_1_1.any()"
   ]
  },
  {
   "cell_type": "code",
   "execution_count": 25,
   "metadata": {},
   "outputs": [
    {
     "data": {
      "text/plain": [
       "135341"
      ]
     },
     "execution_count": 25,
     "metadata": {},
     "output_type": "execute_result"
    }
   ],
   "source": [
    "df_copy.P4_1_1.value_counts().sum()"
   ]
  },
  {
   "cell_type": "markdown",
   "metadata": {},
   "source": [
    "# 6ta columna P4_1_2 (2. Televisor analógico (de cinescopio)) \n",
    "## No tiene anomalías sus datos"
   ]
  },
  {
   "cell_type": "code",
   "execution_count": 26,
   "metadata": {},
   "outputs": [
    {
     "data": {
      "text/plain": [
       "2    71858\n",
       "1    63483\n",
       "Name: P4_1_2, dtype: int64"
      ]
     },
     "execution_count": 26,
     "metadata": {},
     "output_type": "execute_result"
    }
   ],
   "source": [
    "df_copy.P4_1_2.value_counts()"
   ]
  },
  {
   "cell_type": "code",
   "execution_count": 27,
   "metadata": {
    "scrolled": false
   },
   "outputs": [
    {
     "data": {
      "text/plain": [
       "False"
      ]
     },
     "execution_count": 27,
     "metadata": {},
     "output_type": "execute_result"
    }
   ],
   "source": [
    "df_copy.isnull().P4_1_2.any()"
   ]
  },
  {
   "cell_type": "code",
   "execution_count": 28,
   "metadata": {},
   "outputs": [
    {
     "data": {
      "text/plain": [
       "135341"
      ]
     },
     "execution_count": 28,
     "metadata": {},
     "output_type": "execute_result"
    }
   ],
   "source": [
    "df_copy.P4_1_2.value_counts().sum()"
   ]
  },
  {
   "cell_type": "markdown",
   "metadata": {},
   "source": [
    "# 7ma columna P4_1_3 (3. Pantalla plana (televisor digital, LCD o LED)) \n",
    "## No tiene anomalías sus datos"
   ]
  },
  {
   "cell_type": "code",
   "execution_count": 29,
   "metadata": {},
   "outputs": [
    {
     "data": {
      "text/plain": [
       "1    95652\n",
       "2    39689\n",
       "Name: P4_1_3, dtype: int64"
      ]
     },
     "execution_count": 29,
     "metadata": {},
     "output_type": "execute_result"
    }
   ],
   "source": [
    "df_copy.P4_1_3.value_counts()"
   ]
  },
  {
   "cell_type": "code",
   "execution_count": 30,
   "metadata": {},
   "outputs": [
    {
     "data": {
      "text/plain": [
       "False"
      ]
     },
     "execution_count": 30,
     "metadata": {},
     "output_type": "execute_result"
    }
   ],
   "source": [
    "df_copy.isnull().P4_1_3.any()"
   ]
  },
  {
   "cell_type": "code",
   "execution_count": 31,
   "metadata": {},
   "outputs": [
    {
     "data": {
      "text/plain": [
       "135341"
      ]
     },
     "execution_count": 31,
     "metadata": {},
     "output_type": "execute_result"
    }
   ],
   "source": [
    "df_copy.P4_1_3.value_counts().sum()"
   ]
  },
  {
   "cell_type": "markdown",
   "metadata": {},
   "source": [
    "# 8va columna P4_1_4 (4. Decodificador de TV digital abierta (diferente a TV de paga)) \n",
    "## No tiene anomalías sus datos"
   ]
  },
  {
   "cell_type": "code",
   "execution_count": 32,
   "metadata": {},
   "outputs": [
    {
     "data": {
      "text/plain": [
       "2    114864\n",
       "1     20477\n",
       "Name: P4_1_4, dtype: int64"
      ]
     },
     "execution_count": 32,
     "metadata": {},
     "output_type": "execute_result"
    }
   ],
   "source": [
    "df_copy.P4_1_4.value_counts()"
   ]
  },
  {
   "cell_type": "code",
   "execution_count": 33,
   "metadata": {},
   "outputs": [
    {
     "data": {
      "text/plain": [
       "False"
      ]
     },
     "execution_count": 33,
     "metadata": {},
     "output_type": "execute_result"
    }
   ],
   "source": [
    "df_copy.isnull().P4_1_4.any()"
   ]
  },
  {
   "cell_type": "code",
   "execution_count": 34,
   "metadata": {},
   "outputs": [
    {
     "data": {
      "text/plain": [
       "135341"
      ]
     },
     "execution_count": 34,
     "metadata": {},
     "output_type": "execute_result"
    }
   ],
   "source": [
    "df_copy.P4_1_4.value_counts().sum()"
   ]
  },
  {
   "cell_type": "markdown",
   "metadata": {},
   "source": [
    "# 9na columna P4_1_5 (5. Teléfono celular móvil (por cualquiera de los integrantes)) \n",
    "## No tiene anomalías sus datos"
   ]
  },
  {
   "cell_type": "code",
   "execution_count": 35,
   "metadata": {},
   "outputs": [
    {
     "data": {
      "text/plain": [
       "1    123412\n",
       "2     11929\n",
       "Name: P4_1_5, dtype: int64"
      ]
     },
     "execution_count": 35,
     "metadata": {},
     "output_type": "execute_result"
    }
   ],
   "source": [
    "df_copy.P4_1_5.value_counts()"
   ]
  },
  {
   "cell_type": "code",
   "execution_count": 36,
   "metadata": {},
   "outputs": [
    {
     "data": {
      "text/plain": [
       "False"
      ]
     },
     "execution_count": 36,
     "metadata": {},
     "output_type": "execute_result"
    }
   ],
   "source": [
    "df_copy.isnull().P4_1_5.any()"
   ]
  },
  {
   "cell_type": "code",
   "execution_count": 37,
   "metadata": {},
   "outputs": [
    {
     "data": {
      "text/plain": [
       "135341"
      ]
     },
     "execution_count": 37,
     "metadata": {},
     "output_type": "execute_result"
    }
   ],
   "source": [
    "df_copy.P4_1_5.value_counts().sum()"
   ]
  },
  {
   "cell_type": "markdown",
   "metadata": {},
   "source": [
    "# 10ma columna P4_1_6 (6. Consola de videojuegos) \n",
    "## No tiene anomalías sus datos"
   ]
  },
  {
   "cell_type": "code",
   "execution_count": 38,
   "metadata": {},
   "outputs": [
    {
     "data": {
      "text/plain": [
       "2    118148\n",
       "1     17193\n",
       "Name: P4_1_6, dtype: int64"
      ]
     },
     "execution_count": 38,
     "metadata": {},
     "output_type": "execute_result"
    }
   ],
   "source": [
    "df_copy.P4_1_6.value_counts()"
   ]
  },
  {
   "cell_type": "code",
   "execution_count": 39,
   "metadata": {},
   "outputs": [
    {
     "data": {
      "text/plain": [
       "False"
      ]
     },
     "execution_count": 39,
     "metadata": {},
     "output_type": "execute_result"
    }
   ],
   "source": [
    "df_copy.isnull().P4_1_6.any()"
   ]
  },
  {
   "cell_type": "code",
   "execution_count": 40,
   "metadata": {},
   "outputs": [
    {
     "data": {
      "text/plain": [
       "135341"
      ]
     },
     "execution_count": 40,
     "metadata": {},
     "output_type": "execute_result"
    }
   ],
   "source": [
    "df_copy.P4_1_6.value_counts().sum()"
   ]
  },
  {
   "cell_type": "markdown",
   "metadata": {},
   "source": [
    "# 11.a columna P4_2_1 (4.2 ¿Dispone de computadora de escritorio (teclado, monitor y CPU se encuentran separados)?) \n",
    "## No tiene anomalías sus datos"
   ]
  },
  {
   "cell_type": "code",
   "execution_count": 41,
   "metadata": {},
   "outputs": [
    {
     "data": {
      "text/plain": [
       "2    113113\n",
       "1     22228\n",
       "Name: P4_2_1, dtype: int64"
      ]
     },
     "execution_count": 41,
     "metadata": {},
     "output_type": "execute_result"
    }
   ],
   "source": [
    "df_copy.P4_2_1.value_counts()"
   ]
  },
  {
   "cell_type": "code",
   "execution_count": 42,
   "metadata": {},
   "outputs": [
    {
     "data": {
      "text/plain": [
       "False"
      ]
     },
     "execution_count": 42,
     "metadata": {},
     "output_type": "execute_result"
    }
   ],
   "source": [
    "df_copy.isnull().P4_2_1.any()"
   ]
  },
  {
   "cell_type": "code",
   "execution_count": 43,
   "metadata": {},
   "outputs": [
    {
     "data": {
      "text/plain": [
       "135341"
      ]
     },
     "execution_count": 43,
     "metadata": {},
     "output_type": "execute_result"
    }
   ],
   "source": [
    "df_copy.P4_2_1.value_counts().sum()"
   ]
  },
  {
   "cell_type": "markdown",
   "metadata": {},
   "source": [
    "# 12.a columna P4_2_2 (¿Dispone de computadora portátil (teclado, monitor y CPU se encuentran integrados físicamente)?) \n",
    "## No tiene anomalías sus datos"
   ]
  },
  {
   "cell_type": "code",
   "execution_count": 44,
   "metadata": {},
   "outputs": [
    {
     "data": {
      "text/plain": [
       "2    90541\n",
       "1    44800\n",
       "Name: P4_2_2, dtype: int64"
      ]
     },
     "execution_count": 44,
     "metadata": {},
     "output_type": "execute_result"
    }
   ],
   "source": [
    "df_copy.P4_2_2.value_counts()"
   ]
  },
  {
   "cell_type": "code",
   "execution_count": 45,
   "metadata": {},
   "outputs": [
    {
     "data": {
      "text/plain": [
       "False"
      ]
     },
     "execution_count": 45,
     "metadata": {},
     "output_type": "execute_result"
    }
   ],
   "source": [
    "df_copy.isnull().P4_2_1.any()"
   ]
  },
  {
   "cell_type": "code",
   "execution_count": 46,
   "metadata": {},
   "outputs": [
    {
     "data": {
      "text/plain": [
       "135341"
      ]
     },
     "execution_count": 46,
     "metadata": {},
     "output_type": "execute_result"
    }
   ],
   "source": [
    "df_copy.P4_2_2.value_counts().sum()"
   ]
  },
  {
   "cell_type": "markdown",
   "metadata": {},
   "source": [
    "# 13.a columna P4_2_3 (¿Dispone de tablet (teclado y puntero virtuales, en la pantalla táctil)?) \n",
    "## No tiene anomalías sus datos"
   ]
  },
  {
   "cell_type": "code",
   "execution_count": 47,
   "metadata": {},
   "outputs": [
    {
     "data": {
      "text/plain": [
       "2    102663\n",
       "1     32678\n",
       "Name: P4_2_3, dtype: int64"
      ]
     },
     "execution_count": 47,
     "metadata": {},
     "output_type": "execute_result"
    }
   ],
   "source": [
    "df_copy.P4_2_3.value_counts()"
   ]
  },
  {
   "cell_type": "code",
   "execution_count": 48,
   "metadata": {},
   "outputs": [
    {
     "data": {
      "text/plain": [
       "False"
      ]
     },
     "execution_count": 48,
     "metadata": {},
     "output_type": "execute_result"
    }
   ],
   "source": [
    "df_copy.isnull().P4_2_3.any()"
   ]
  },
  {
   "cell_type": "code",
   "execution_count": 49,
   "metadata": {},
   "outputs": [
    {
     "data": {
      "text/plain": [
       "135341"
      ]
     },
     "execution_count": 49,
     "metadata": {},
     "output_type": "execute_result"
    }
   ],
   "source": [
    "df_copy.P4_2_3.value_counts().sum()"
   ]
  },
  {
   "cell_type": "markdown",
   "metadata": {},
   "source": [
    "# 14.a columna P4_3 (4.3 ¿Por qué no disponen de computadora, laptop o tablet?) \n",
    "## [1-5], 99 en blanco"
   ]
  },
  {
   "cell_type": "code",
   "execution_count": 50,
   "metadata": {},
   "outputs": [
    {
     "data": {
      "text/plain": [
       "1.0    39329\n",
       "2.0    13652\n",
       "3.0    10003\n",
       "4.0     4287\n",
       "5.0     3018\n",
       "8.0       59\n",
       "Name: P4_3, dtype: int64"
      ]
     },
     "execution_count": 50,
     "metadata": {},
     "output_type": "execute_result"
    }
   ],
   "source": [
    "df_copy.P4_3.value_counts()"
   ]
  },
  {
   "cell_type": "markdown",
   "metadata": {},
   "source": [
    "## hay valores vacios"
   ]
  },
  {
   "cell_type": "code",
   "execution_count": 51,
   "metadata": {
    "scrolled": true
   },
   "outputs": [
    {
     "data": {
      "text/plain": [
       "True"
      ]
     },
     "execution_count": 51,
     "metadata": {},
     "output_type": "execute_result"
    }
   ],
   "source": [
    "df_copy.isnull().P4_3.any()"
   ]
  },
  {
   "cell_type": "markdown",
   "metadata": {},
   "source": [
    "## convertimos los datos de la columna a string para mayor comodidad"
   ]
  },
  {
   "cell_type": "code",
   "execution_count": 52,
   "metadata": {},
   "outputs": [],
   "source": [
    "P4_3 = df_copy.P4_3.astype('str')"
   ]
  },
  {
   "cell_type": "code",
   "execution_count": 53,
   "metadata": {
    "scrolled": false
   },
   "outputs": [
    {
     "data": {
      "text/plain": [
       "nan    64993\n",
       "1.0    39329\n",
       "2.0    13652\n",
       "3.0    10003\n",
       "4.0     4287\n",
       "5.0     3018\n",
       "8.0       59\n",
       "Name: P4_3, dtype: int64"
      ]
     },
     "execution_count": 53,
     "metadata": {},
     "output_type": "execute_result"
    }
   ],
   "source": [
    "P4_3.value_counts()"
   ]
  },
  {
   "cell_type": "markdown",
   "metadata": {},
   "source": [
    "## reemplazamos los valores vacios por 99"
   ]
  },
  {
   "cell_type": "code",
   "execution_count": 54,
   "metadata": {},
   "outputs": [
    {
     "data": {
      "text/plain": [
       "99     64993\n",
       "1.0    39329\n",
       "2.0    13652\n",
       "3.0    10003\n",
       "4.0     4287\n",
       "5.0     3018\n",
       "8.0       59\n",
       "Name: P4_3, dtype: int64"
      ]
     },
     "execution_count": 54,
     "metadata": {},
     "output_type": "execute_result"
    }
   ],
   "source": [
    "P4_3 = P4_3.replace({'nan':'99'})\n",
    "P4_3.value_counts()"
   ]
  },
  {
   "cell_type": "markdown",
   "metadata": {},
   "source": [
    "## convertimos todos los datos a enteros"
   ]
  },
  {
   "cell_type": "code",
   "execution_count": 55,
   "metadata": {},
   "outputs": [],
   "source": [
    "df_copy.P4_3 = P4_3\n",
    "df_copy.P4_3 = df_copy.P4_3.astype('str').astype('float').astype('int64')"
   ]
  },
  {
   "cell_type": "markdown",
   "metadata": {},
   "source": [
    "## se comprueba que ya no hay valores vacios y estan en un solo valor que es 99"
   ]
  },
  {
   "cell_type": "code",
   "execution_count": 56,
   "metadata": {
    "scrolled": false
   },
   "outputs": [
    {
     "data": {
      "text/plain": [
       "99    64993\n",
       "1     39329\n",
       "2     13652\n",
       "3     10003\n",
       "4      4287\n",
       "5      3018\n",
       "8        59\n",
       "Name: P4_3, dtype: int64"
      ]
     },
     "execution_count": 56,
     "metadata": {},
     "output_type": "execute_result"
    }
   ],
   "source": [
    "df_copy.P4_3.value_counts()"
   ]
  },
  {
   "cell_type": "markdown",
   "metadata": {},
   "source": [
    "## reemplazamos los valores 8 por 99, ya que no responden"
   ]
  },
  {
   "cell_type": "code",
   "execution_count": 57,
   "metadata": {},
   "outputs": [
    {
     "name": "stderr",
     "output_type": "stream",
     "text": [
      "/home/hectorceja/anaconda3/lib/python3.6/site-packages/ipykernel_launcher.py:4: SettingWithCopyWarning: \n",
      "A value is trying to be set on a copy of a slice from a DataFrame\n",
      "\n",
      "See the caveats in the documentation: http://pandas.pydata.org/pandas-docs/stable/indexing.html#indexing-view-versus-copy\n",
      "  after removing the cwd from sys.path.\n"
     ]
    }
   ],
   "source": [
    "count = 0\n",
    "for row in  df_copy.P4_3:\n",
    "    if df_copy.P4_3[count] == 8:\n",
    "        df_copy.P4_3[count] = 99\n",
    "    count = count + 1"
   ]
  },
  {
   "cell_type": "code",
   "execution_count": 58,
   "metadata": {},
   "outputs": [
    {
     "data": {
      "text/plain": [
       "99    65052\n",
       "1     39329\n",
       "2     13652\n",
       "3     10003\n",
       "4      4287\n",
       "5      3018\n",
       "Name: P4_3, dtype: int64"
      ]
     },
     "execution_count": 58,
     "metadata": {},
     "output_type": "execute_result"
    }
   ],
   "source": [
    "df_copy.P4_3.value_counts()"
   ]
  },
  {
   "cell_type": "markdown",
   "metadata": {},
   "source": [
    "## se comprueba el tamaño de la columna"
   ]
  },
  {
   "cell_type": "code",
   "execution_count": 59,
   "metadata": {},
   "outputs": [
    {
     "data": {
      "text/plain": [
       "135341"
      ]
     },
     "execution_count": 59,
     "metadata": {},
     "output_type": "execute_result"
    }
   ],
   "source": [
    "df_copy.P4_3.value_counts().sum()"
   ]
  },
  {
   "cell_type": "markdown",
   "metadata": {},
   "source": [
    "# 15.a columna P4_3E (4.3 ¿Por qué no disponen de computadora, laptop o tablet?) \n",
    "## [0-9, A-Z; Símbolos], b"
   ]
  },
  {
   "cell_type": "code",
   "execution_count": 60,
   "metadata": {},
   "outputs": [
    {
     "data": {
      "text/plain": [
       "NO LA NECESITAN                                                                           134\n",
       "NO LA NECESITA                                                                             85\n",
       "SE DESCOMPUSO                                                                              69\n",
       "NO LA OCUPAN                                                                               36\n",
       "NO LO NECESITAN                                                                            34\n",
       "SE LA ROBARON                                                                              32\n",
       "NO LO NECESITA                                                                             27\n",
       "FALTA DE TIEMPO                                                                            20\n",
       "NO TIENEN INTERNET                                                                         20\n",
       "NO ES NECESARIO                                                                            20\n",
       "ESTA DESCOMPUESTA                                                                          18\n",
       "NO HAY INTERNET                                                                            18\n",
       "NO LA OCUPA                                                                                16\n",
       "NO LE GUSTA                                                                                15\n",
       "NO TIENE TIEMPO                                                                            14\n",
       "NO HAY INFRAESTRUCTURA                                                                     13\n",
       "NO HAY SEÃAL                                                                              12\n",
       "SE DESCOMPUSIERON                                                                          12\n",
       "NO ES NECESARIA                                                                            11\n",
       "POR SEGURIDAD                                                                              10\n",
       "PORQUE NO TIENEN INTERNET                                                                  10\n",
       "NO TIENEN TIEMPO                                                                           10\n",
       "NO LE HACE FALTA                                                                           10\n",
       "PORQUE NO TIENE INTERNET                                                                    9\n",
       "NO TIENE LA NECESIDAD                                                                       8\n",
       "NO LES GUSTA                                                                                8\n",
       "NO LA NECESITA.                                                                             7\n",
       "POR ROBO                                                                                    7\n",
       "POR FALTA DE TIEMPO                                                                         7\n",
       "NO LES HACE FALTA                                                                           7\n",
       "                                                                                         ... \n",
       "SE DESCOMPUSOO                                                                              1\n",
       " NO LA NECESITAN                                                                            1\n",
       "SI CONTABA CON UNA PERO SE LA REGALO A UN HIJO                                              1\n",
       "APENAS SE CAMBIARON A ESTA CASA VIENEN DE OTRO ESTADO                                       1\n",
       "NO EUIERE QUE LOS MENORES VEAN COSAS NEGATIVAS                                              1\n",
       "POR QUE SUS HIJOS ESTAN PEQUEÃOS Y NO TIENEN CUIDADO                                       1\n",
       "NO LES GUSTA LA COMPUTADORA NI LA TECNOLOGIA                                                1\n",
       "PORQUE EN LA CASA HAN ROBADO                                                                1\n",
       "NO TIENEN EL SERVICIO EN LA ZONA                                                            1\n",
       "SOLO LO UTILIZA EN SU TRABAJO                                                               1\n",
       "APENAS LA VAN A COMPRAR LA COMPUTADORA                                                      1\n",
       "CASI NO ESTAN EN CASA Y NO LAO VEN PRACTICO EL TENER EQUIPOS EN CASA                        1\n",
       "LAS EN TRABAJO                                                                              1\n",
       "NO HAY INTERNET CERCA                                                                       1\n",
       "PORQUE EL SEÃOR EFRAIN EN SU TRABAJO DISPONE DE COMPUTADORA.                               1\n",
       "PORQUE NO LA HAN NECESITADO HASTA EL MOMENTO                                                1\n",
       "POR EL TIEMPO MAS QUE NADA EL CELULAR                                                       1\n",
       "SE DAÃO YA QUE LA PRESTO A UN AMIGO                                                        1\n",
       "SE DESCOMPUSO Y NO SE ARREGLO                                                               1\n",
       "POR LA INSEGURIDAD QUE HAY EN LA COLONIA                                                    1\n",
       "PORQUE VAN AL CAFE INTERNET                                                                 1\n",
       "NO SE ENCUENTRAN TODO EL DIA TRABAJAN.                                                      1\n",
       "PORQUE TIENEN UN HIJO QUE SIN PERMISO SE LLEVA LOS APARATOS  POR ESO YA NO LOS COMPRAN      1\n",
       "NO HAY SEÃAL A INTERNET                                                                    1\n",
       "NO LO NECESITAN EN SU CASA                                                                  1\n",
       "NO DISPONEN DE LUZ ELECTRICA                                                                1\n",
       "LOS DUEÃOS DE LA VIVIENDA VIVE EN SAN DIEGO                                                1\n",
       "REQUIERE INTERNET PA USARLA                                                                 1\n",
       "NPOVO ESTAN EN LA CASA                                                                      1\n",
       "SU RELIGION NO SE LO PERMITE                                                                1\n",
       "Name: P4_3E, Length: 2092, dtype: int64"
      ]
     },
     "execution_count": 60,
     "metadata": {},
     "output_type": "execute_result"
    }
   ],
   "source": [
    "df_copy.P4_3E.value_counts()"
   ]
  },
  {
   "cell_type": "code",
   "execution_count": 61,
   "metadata": {},
   "outputs": [
    {
     "data": {
      "text/plain": [
       "True"
      ]
     },
     "execution_count": 61,
     "metadata": {},
     "output_type": "execute_result"
    }
   ],
   "source": [
    "df_copy.isnull().P4_3E.any()"
   ]
  },
  {
   "cell_type": "markdown",
   "metadata": {},
   "source": [
    "## se reemplazan los valores en blanco por b, como dice el diccionario"
   ]
  },
  {
   "cell_type": "code",
   "execution_count": 62,
   "metadata": {},
   "outputs": [],
   "source": [
    "P4_3E = df_copy.P4_3E.astype('str')\n",
    "P4_3E = P4_3E.replace({'nan':'b'})"
   ]
  },
  {
   "cell_type": "code",
   "execution_count": 63,
   "metadata": {},
   "outputs": [
    {
     "data": {
      "text/plain": [
       "b                                                                                         132323\n",
       "NO LA NECESITAN                                                                              134\n",
       "NO LA NECESITA                                                                                85\n",
       "SE DESCOMPUSO                                                                                 69\n",
       "NO LA OCUPAN                                                                                  36\n",
       "NO LO NECESITAN                                                                               34\n",
       "SE LA ROBARON                                                                                 32\n",
       "NO LO NECESITA                                                                                27\n",
       "NO ES NECESARIO                                                                               20\n",
       "NO TIENEN INTERNET                                                                            20\n",
       "FALTA DE TIEMPO                                                                               20\n",
       "NO HAY INTERNET                                                                               18\n",
       "ESTA DESCOMPUESTA                                                                             18\n",
       "NO LA OCUPA                                                                                   16\n",
       "NO LE GUSTA                                                                                   15\n",
       "NO TIENE TIEMPO                                                                               14\n",
       "NO HAY INFRAESTRUCTURA                                                                        13\n",
       "SE DESCOMPUSIERON                                                                             12\n",
       "NO HAY SEÃAL                                                                                 12\n",
       "NO ES NECESARIA                                                                               11\n",
       "PORQUE NO TIENEN INTERNET                                                                     10\n",
       "POR SEGURIDAD                                                                                 10\n",
       "NO LE HACE FALTA                                                                              10\n",
       "NO TIENEN TIEMPO                                                                              10\n",
       "PORQUE NO TIENE INTERNET                                                                       9\n",
       "NO TIENE LA NECESIDAD                                                                          8\n",
       "NO LES GUSTA                                                                                   8\n",
       "NO LES HACE FALTA                                                                              7\n",
       "NO TIENE NECESIDAD                                                                             7\n",
       "NO LA NECESITA.                                                                                7\n",
       "                                                                                           ...  \n",
       "SE DESCOMPUSOO                                                                                 1\n",
       " NO LA NECESITAN                                                                               1\n",
       "SI CONTABA CON UNA PERO SE LA REGALO A UN HIJO                                                 1\n",
       "APENAS SE CAMBIARON A ESTA CASA VIENEN DE OTRO ESTADO                                          1\n",
       "NO EUIERE QUE LOS MENORES VEAN COSAS NEGATIVAS                                                 1\n",
       "POR QUE SUS HIJOS ESTAN PEQUEÃOS Y NO TIENEN CUIDADO                                          1\n",
       "NO LES GUSTA LA COMPUTADORA NI LA TECNOLOGIA                                                   1\n",
       "PORQUE EN LA CASA HAN ROBADO                                                                   1\n",
       "NO TIENEN EL SERVICIO EN LA ZONA                                                               1\n",
       "SOLO LO UTILIZA EN SU TRABAJO                                                                  1\n",
       "APENAS LA VAN A COMPRAR LA COMPUTADORA                                                         1\n",
       "CASI NO ESTAN EN CASA Y NO LAO VEN PRACTICO EL TENER EQUIPOS EN CASA                           1\n",
       "LAS EN TRABAJO                                                                                 1\n",
       "NO HAY INTERNET CERCA                                                                          1\n",
       "PORQUE EL SEÃOR EFRAIN EN SU TRABAJO DISPONE DE COMPUTADORA.                                  1\n",
       "PORQUE NO LA HAN NECESITADO HASTA EL MOMENTO                                                   1\n",
       "POR EL TIEMPO MAS QUE NADA EL CELULAR                                                          1\n",
       "SE DAÃO YA QUE LA PRESTO A UN AMIGO                                                           1\n",
       "SE DESCOMPUSO Y NO SE ARREGLO                                                                  1\n",
       "POR LA INSEGURIDAD QUE HAY EN LA COLONIA                                                       1\n",
       "PORQUE VAN AL CAFE INTERNET                                                                    1\n",
       "NO SE ENCUENTRAN TODO EL DIA TRABAJAN.                                                         1\n",
       "PORQUE TIENEN UN HIJO QUE SIN PERMISO SE LLEVA LOS APARATOS  POR ESO YA NO LOS COMPRAN         1\n",
       "NO HAY SEÃAL A INTERNET                                                                       1\n",
       "NO LO NECESITAN EN SU CASA                                                                     1\n",
       "NO DISPONEN DE LUZ ELECTRICA                                                                   1\n",
       "LOS DUEÃOS DE LA VIVIENDA VIVE EN SAN DIEGO                                                   1\n",
       "REQUIERE INTERNET PA USARLA                                                                    1\n",
       "NPOVO ESTAN EN LA CASA                                                                         1\n",
       "SU RELIGION NO SE LO PERMITE                                                                   1\n",
       "Name: P4_3E, Length: 2093, dtype: int64"
      ]
     },
     "execution_count": 63,
     "metadata": {},
     "output_type": "execute_result"
    }
   ],
   "source": [
    "P4_3E.value_counts()"
   ]
  },
  {
   "cell_type": "markdown",
   "metadata": {},
   "source": [
    "## vemos que la mayoria de los datos están en blanco asi que procedemos a borrar la columna"
   ]
  },
  {
   "cell_type": "code",
   "execution_count": 64,
   "metadata": {},
   "outputs": [],
   "source": [
    "df_copy.drop('P4_3E',1, inplace=True)"
   ]
  },
  {
   "cell_type": "markdown",
   "metadata": {},
   "source": [
    "# 16.a columna P4_4 (4.4 ¿Disponen de conexión a Internet en el hogar?) \n",
    "## valores aceptados 1-2"
   ]
  },
  {
   "cell_type": "code",
   "execution_count": 65,
   "metadata": {},
   "outputs": [
    {
     "data": {
      "text/plain": [
       "1    75001\n",
       "2    60340\n",
       "Name: P4_4, dtype: int64"
      ]
     },
     "execution_count": 65,
     "metadata": {},
     "output_type": "execute_result"
    }
   ],
   "source": [
    "df_copy.P4_4.value_counts()"
   ]
  },
  {
   "cell_type": "code",
   "execution_count": 66,
   "metadata": {},
   "outputs": [
    {
     "data": {
      "text/plain": [
       "False"
      ]
     },
     "execution_count": 66,
     "metadata": {},
     "output_type": "execute_result"
    }
   ],
   "source": [
    "df_copy.isnull().P4_4.any()"
   ]
  },
  {
   "cell_type": "code",
   "execution_count": 67,
   "metadata": {},
   "outputs": [
    {
     "data": {
      "text/plain": [
       "135341"
      ]
     },
     "execution_count": 67,
     "metadata": {},
     "output_type": "execute_result"
    }
   ],
   "source": [
    "df_copy.P4_4.value_counts().sum()"
   ]
  },
  {
   "cell_type": "markdown",
   "metadata": {},
   "source": [
    "# 17.a columna P4_5 (4.5 ¿La conexión a Internet es fija, móvil o de ambas?) \n",
    "## valores aceptados [1-3], 99"
   ]
  },
  {
   "cell_type": "code",
   "execution_count": 68,
   "metadata": {},
   "outputs": [
    {
     "data": {
      "text/plain": [
       "1.0    33803\n",
       "3.0    26868\n",
       "2.0    14203\n",
       "9.0      127\n",
       "Name: P4_5, dtype: int64"
      ]
     },
     "execution_count": 68,
     "metadata": {},
     "output_type": "execute_result"
    }
   ],
   "source": [
    "df_copy.P4_5.value_counts()"
   ]
  },
  {
   "cell_type": "markdown",
   "metadata": {},
   "source": [
    "## vemos que hay valores nulos"
   ]
  },
  {
   "cell_type": "code",
   "execution_count": 69,
   "metadata": {
    "scrolled": true
   },
   "outputs": [
    {
     "data": {
      "text/plain": [
       "True"
      ]
     },
     "execution_count": 69,
     "metadata": {},
     "output_type": "execute_result"
    }
   ],
   "source": [
    "df_copy.isnull().P4_5.any()"
   ]
  },
  {
   "cell_type": "code",
   "execution_count": 70,
   "metadata": {},
   "outputs": [
    {
     "data": {
      "text/plain": [
       "75001"
      ]
     },
     "execution_count": 70,
     "metadata": {},
     "output_type": "execute_result"
    }
   ],
   "source": [
    "df_copy.P4_5.value_counts().sum()"
   ]
  },
  {
   "cell_type": "markdown",
   "metadata": {},
   "source": [
    "## cambiamos a string para reemplazar los valores nulos"
   ]
  },
  {
   "cell_type": "code",
   "execution_count": 71,
   "metadata": {},
   "outputs": [],
   "source": [
    "df_copy.P4_5 = df_copy.P4_5.astype('str')\n",
    "df_copy.P4_5.replace({'nan':'99'}, inplace=True)"
   ]
  },
  {
   "cell_type": "code",
   "execution_count": 72,
   "metadata": {},
   "outputs": [],
   "source": [
    "df_copy.P4_5 = df_copy.P4_5.astype('float').astype('int64')"
   ]
  },
  {
   "cell_type": "markdown",
   "metadata": {},
   "source": [
    "## ya no hay valores nulos, fueron reemplazados por 99"
   ]
  },
  {
   "cell_type": "code",
   "execution_count": 73,
   "metadata": {
    "scrolled": true
   },
   "outputs": [
    {
     "data": {
      "text/plain": [
       "99    60340\n",
       "1     33803\n",
       "3     26868\n",
       "2     14203\n",
       "9       127\n",
       "Name: P4_5, dtype: int64"
      ]
     },
     "execution_count": 73,
     "metadata": {},
     "output_type": "execute_result"
    }
   ],
   "source": [
    "df_copy.P4_5.value_counts()"
   ]
  },
  {
   "cell_type": "code",
   "execution_count": 74,
   "metadata": {},
   "outputs": [
    {
     "data": {
      "text/plain": [
       "False"
      ]
     },
     "execution_count": 74,
     "metadata": {},
     "output_type": "execute_result"
    }
   ],
   "source": [
    "df_copy.isnull().P4_5.any()"
   ]
  },
  {
   "cell_type": "code",
   "execution_count": 75,
   "metadata": {},
   "outputs": [
    {
     "data": {
      "text/plain": [
       "135341"
      ]
     },
     "execution_count": 75,
     "metadata": {},
     "output_type": "execute_result"
    }
   ],
   "source": [
    "df_copy.P4_5.value_counts().sum()"
   ]
  },
  {
   "cell_type": "markdown",
   "metadata": {},
   "source": [
    "## reemplazamos los valores 9, por 99, ya que significa que no responden"
   ]
  },
  {
   "cell_type": "code",
   "execution_count": 76,
   "metadata": {},
   "outputs": [
    {
     "name": "stderr",
     "output_type": "stream",
     "text": [
      "/home/hectorceja/anaconda3/lib/python3.6/site-packages/ipykernel_launcher.py:4: SettingWithCopyWarning: \n",
      "A value is trying to be set on a copy of a slice from a DataFrame\n",
      "\n",
      "See the caveats in the documentation: http://pandas.pydata.org/pandas-docs/stable/indexing.html#indexing-view-versus-copy\n",
      "  after removing the cwd from sys.path.\n"
     ]
    }
   ],
   "source": [
    "count = 0\n",
    "for row in  df_copy.P4_5:\n",
    "    if df_copy.P4_5[count] == 9:\n",
    "        df_copy.P4_5[count] = 99\n",
    "    count = count + 1"
   ]
  },
  {
   "cell_type": "code",
   "execution_count": 81,
   "metadata": {},
   "outputs": [
    {
     "data": {
      "text/plain": [
       "99    60467\n",
       "1     33803\n",
       "3     26868\n",
       "2     14203\n",
       "Name: P4_5, dtype: int64"
      ]
     },
     "execution_count": 81,
     "metadata": {},
     "output_type": "execute_result"
    }
   ],
   "source": [
    "df_copy.P4_5.value_counts()"
   ]
  },
  {
   "cell_type": "code",
   "execution_count": 78,
   "metadata": {},
   "outputs": [
    {
     "data": {
      "text/plain": [
       "135341"
      ]
     },
     "execution_count": 78,
     "metadata": {},
     "output_type": "execute_result"
    }
   ],
   "source": [
    "df_copy.P4_5.value_counts().sum()"
   ]
  },
  {
   "cell_type": "markdown",
   "metadata": {},
   "source": [
    "# 18.a columna P4_6_1 (4.6 ¿El medio de conexión fija es por: línea telefónica dedicada (con la que puede hablar por teléfono cuando está conectado a Internet)?) \n",
    "## valores aceptados [1-2], 99"
   ]
  },
  {
   "cell_type": "code",
   "execution_count": 79,
   "metadata": {},
   "outputs": [
    {
     "data": {
      "text/plain": [
       "1.0    32788\n",
       "2.0    27883\n",
       "Name: P4_6_1, dtype: int64"
      ]
     },
     "execution_count": 79,
     "metadata": {},
     "output_type": "execute_result"
    }
   ],
   "source": [
    "df_copy.P4_6_1.value_counts()"
   ]
  },
  {
   "cell_type": "markdown",
   "metadata": {},
   "source": [
    "## hay valores vacios"
   ]
  },
  {
   "cell_type": "code",
   "execution_count": 82,
   "metadata": {},
   "outputs": [
    {
     "data": {
      "text/plain": [
       "True"
      ]
     },
     "execution_count": 82,
     "metadata": {},
     "output_type": "execute_result"
    }
   ],
   "source": [
    "df_copy.isnull().P4_6_1.any()"
   ]
  },
  {
   "cell_type": "markdown",
   "metadata": {},
   "source": [
    "## reemplazamos valores vacios por 99"
   ]
  },
  {
   "cell_type": "code",
   "execution_count": 83,
   "metadata": {},
   "outputs": [],
   "source": [
    "df_copy.P4_6_1 = df_copy.P4_6_1.astype('str')\n",
    "df_copy.P4_6_1.replace({'nan':'99'}, inplace=True)"
   ]
  },
  {
   "cell_type": "code",
   "execution_count": 84,
   "metadata": {},
   "outputs": [],
   "source": [
    "df_copy.P4_6_1 = df_copy.P4_6_1.astype('float').astype('int64')"
   ]
  },
  {
   "cell_type": "code",
   "execution_count": 85,
   "metadata": {},
   "outputs": [
    {
     "data": {
      "text/plain": [
       "99    74670\n",
       "1     32788\n",
       "2     27883\n",
       "Name: P4_6_1, dtype: int64"
      ]
     },
     "execution_count": 85,
     "metadata": {},
     "output_type": "execute_result"
    }
   ],
   "source": [
    "df_copy.P4_6_1.value_counts()"
   ]
  },
  {
   "cell_type": "code",
   "execution_count": 86,
   "metadata": {},
   "outputs": [
    {
     "data": {
      "text/plain": [
       "False"
      ]
     },
     "execution_count": 86,
     "metadata": {},
     "output_type": "execute_result"
    }
   ],
   "source": [
    "df_copy.isnull().P4_6_1.any()"
   ]
  },
  {
   "cell_type": "code",
   "execution_count": 87,
   "metadata": {},
   "outputs": [
    {
     "data": {
      "text/plain": [
       "135341"
      ]
     },
     "execution_count": 87,
     "metadata": {},
     "output_type": "execute_result"
    }
   ],
   "source": [
    "df_copy.P4_6_1.value_counts().sum()"
   ]
  },
  {
   "cell_type": "markdown",
   "metadata": {},
   "source": [
    "# 19.a columna P4_6_2 (4Internet por cable (comúnmente asociada a TV de paga)?) \n",
    "## valores aceptados [1-2], 99"
   ]
  },
  {
   "cell_type": "code",
   "execution_count": 88,
   "metadata": {},
   "outputs": [
    {
     "data": {
      "text/plain": [
       "2.0    35157\n",
       "1.0    25514\n",
       "Name: P4_6_2, dtype: int64"
      ]
     },
     "execution_count": 88,
     "metadata": {},
     "output_type": "execute_result"
    }
   ],
   "source": [
    "df_copy.P4_6_2.value_counts()"
   ]
  },
  {
   "cell_type": "markdown",
   "metadata": {},
   "source": [
    "## hay valores vacíos"
   ]
  },
  {
   "cell_type": "code",
   "execution_count": 89,
   "metadata": {},
   "outputs": [
    {
     "data": {
      "text/plain": [
       "True"
      ]
     },
     "execution_count": 89,
     "metadata": {},
     "output_type": "execute_result"
    }
   ],
   "source": [
    "df_copy.isnull().P4_6_2.any()"
   ]
  },
  {
   "cell_type": "markdown",
   "metadata": {},
   "source": [
    "## reemplazamos valores vacios por 99"
   ]
  },
  {
   "cell_type": "code",
   "execution_count": 90,
   "metadata": {},
   "outputs": [],
   "source": [
    "df_copy.P4_6_2 = df_copy.P4_6_2.astype('str')\n",
    "df_copy.P4_6_2.replace({'nan':'99'}, inplace=True)"
   ]
  },
  {
   "cell_type": "code",
   "execution_count": 91,
   "metadata": {},
   "outputs": [],
   "source": [
    "df_copy.P4_6_2 = df_copy.P4_6_2.astype('float').astype('int64')"
   ]
  },
  {
   "cell_type": "code",
   "execution_count": 92,
   "metadata": {
    "scrolled": true
   },
   "outputs": [
    {
     "data": {
      "text/plain": [
       "99    74670\n",
       "2     35157\n",
       "1     25514\n",
       "Name: P4_6_2, dtype: int64"
      ]
     },
     "execution_count": 92,
     "metadata": {},
     "output_type": "execute_result"
    }
   ],
   "source": [
    "df_copy.P4_6_2.value_counts()"
   ]
  },
  {
   "cell_type": "code",
   "execution_count": 93,
   "metadata": {},
   "outputs": [
    {
     "data": {
      "text/plain": [
       "False"
      ]
     },
     "execution_count": 93,
     "metadata": {},
     "output_type": "execute_result"
    }
   ],
   "source": [
    "df_copy.isnull().P4_6_2.any()"
   ]
  },
  {
   "cell_type": "code",
   "execution_count": 94,
   "metadata": {},
   "outputs": [
    {
     "data": {
      "text/plain": [
       "135341"
      ]
     },
     "execution_count": 94,
     "metadata": {},
     "output_type": "execute_result"
    }
   ],
   "source": [
    "df_copy.P4_6_2.value_counts().sum()"
   ]
  },
  {
   "cell_type": "markdown",
   "metadata": {},
   "source": [
    "# 20.a columna P4_6_3 (conexión satelital (por una antena parabólica, no confundir con las antenas de plato que otorgan servicio como Sky o Dish)?) \n",
    "## valores aceptados [1-2], 99"
   ]
  },
  {
   "cell_type": "code",
   "execution_count": 95,
   "metadata": {},
   "outputs": [
    {
     "data": {
      "text/plain": [
       "2.0    59203\n",
       "1.0     1468\n",
       "Name: P4_6_3, dtype: int64"
      ]
     },
     "execution_count": 95,
     "metadata": {},
     "output_type": "execute_result"
    }
   ],
   "source": [
    "df_copy.P4_6_3.value_counts()"
   ]
  },
  {
   "cell_type": "markdown",
   "metadata": {},
   "source": [
    "## hay valores vacios"
   ]
  },
  {
   "cell_type": "code",
   "execution_count": 96,
   "metadata": {},
   "outputs": [
    {
     "data": {
      "text/plain": [
       "True"
      ]
     },
     "execution_count": 96,
     "metadata": {},
     "output_type": "execute_result"
    }
   ],
   "source": [
    "df_copy.isnull().P4_6_3.any()"
   ]
  },
  {
   "cell_type": "markdown",
   "metadata": {},
   "source": [
    "## reemplazamos los valores"
   ]
  },
  {
   "cell_type": "code",
   "execution_count": 97,
   "metadata": {},
   "outputs": [],
   "source": [
    "df_copy.P4_6_3 = df_copy.P4_6_3.astype('str')\n",
    "df_copy.P4_6_3.replace({'nan':'99'}, inplace=True)"
   ]
  },
  {
   "cell_type": "code",
   "execution_count": 98,
   "metadata": {},
   "outputs": [],
   "source": [
    "df_copy.P4_6_3 = df_copy.P4_6_3.astype('float').astype('int64')"
   ]
  },
  {
   "cell_type": "code",
   "execution_count": 99,
   "metadata": {},
   "outputs": [
    {
     "data": {
      "text/plain": [
       "99    74670\n",
       "2     59203\n",
       "1      1468\n",
       "Name: P4_6_3, dtype: int64"
      ]
     },
     "execution_count": 99,
     "metadata": {},
     "output_type": "execute_result"
    }
   ],
   "source": [
    "df_copy.P4_6_3.value_counts()"
   ]
  },
  {
   "cell_type": "code",
   "execution_count": 100,
   "metadata": {},
   "outputs": [
    {
     "data": {
      "text/plain": [
       "False"
      ]
     },
     "execution_count": 100,
     "metadata": {},
     "output_type": "execute_result"
    }
   ],
   "source": [
    "df_copy.isnull().P4_6_3.any()"
   ]
  },
  {
   "cell_type": "code",
   "execution_count": 101,
   "metadata": {},
   "outputs": [
    {
     "data": {
      "text/plain": [
       "135341"
      ]
     },
     "execution_count": 101,
     "metadata": {},
     "output_type": "execute_result"
    }
   ],
   "source": [
    "df_copy.P4_6_3.value_counts().sum()"
   ]
  },
  {
   "cell_type": "markdown",
   "metadata": {
    "collapsed": true
   },
   "source": [
    "# 21.a columna P4_6_4 (señal abierta de WiFi (externa a su hogar)?) \n",
    "## valores aceptados [1-2], 99"
   ]
  },
  {
   "cell_type": "code",
   "execution_count": 102,
   "metadata": {},
   "outputs": [
    {
     "data": {
      "text/plain": [
       "2.0    58011\n",
       "1.0     2660\n",
       "Name: P4_6_4, dtype: int64"
      ]
     },
     "execution_count": 102,
     "metadata": {},
     "output_type": "execute_result"
    }
   ],
   "source": [
    "df_copy.P4_6_4.value_counts()"
   ]
  },
  {
   "cell_type": "code",
   "execution_count": 103,
   "metadata": {},
   "outputs": [
    {
     "data": {
      "text/plain": [
       "True"
      ]
     },
     "execution_count": 103,
     "metadata": {},
     "output_type": "execute_result"
    }
   ],
   "source": [
    "df_copy.isnull().P4_6_4.any()"
   ]
  },
  {
   "cell_type": "code",
   "execution_count": 104,
   "metadata": {},
   "outputs": [],
   "source": [
    "df_copy.P4_6_4 = df_copy.P4_6_4.astype('str')\n",
    "df_copy.P4_6_4.replace({'nan':'99'}, inplace=True)"
   ]
  },
  {
   "cell_type": "code",
   "execution_count": 105,
   "metadata": {},
   "outputs": [],
   "source": [
    "df_copy.P4_6_4 = df_copy.P4_6_4.astype('float').astype('int64')"
   ]
  },
  {
   "cell_type": "code",
   "execution_count": 106,
   "metadata": {},
   "outputs": [
    {
     "data": {
      "text/plain": [
       "99    74670\n",
       "2     58011\n",
       "1      2660\n",
       "Name: P4_6_4, dtype: int64"
      ]
     },
     "execution_count": 106,
     "metadata": {},
     "output_type": "execute_result"
    }
   ],
   "source": [
    "df_copy.P4_6_4.value_counts()"
   ]
  },
  {
   "cell_type": "code",
   "execution_count": 107,
   "metadata": {},
   "outputs": [
    {
     "data": {
      "text/plain": [
       "False"
      ]
     },
     "execution_count": 107,
     "metadata": {},
     "output_type": "execute_result"
    }
   ],
   "source": [
    "df_copy.isnull().P4_6_4.any()"
   ]
  },
  {
   "cell_type": "code",
   "execution_count": 108,
   "metadata": {},
   "outputs": [
    {
     "data": {
      "text/plain": [
       "135341"
      ]
     },
     "execution_count": 108,
     "metadata": {},
     "output_type": "execute_result"
    }
   ],
   "source": [
    "df_copy.P4_6_4.value_counts().sum()"
   ]
  },
  {
   "cell_type": "markdown",
   "metadata": {},
   "source": [
    "# 22.a columna P4_6_5 (línea telefónica por marcación (DIAL UP, mientras está conectado a Internet no puede hablar por teléfono)?) \n",
    "## valores aceptados [1-2], 99"
   ]
  },
  {
   "cell_type": "code",
   "execution_count": 109,
   "metadata": {},
   "outputs": [
    {
     "data": {
      "text/plain": [
       "2.0    60557\n",
       "1.0      114\n",
       "Name: P4_6_5, dtype: int64"
      ]
     },
     "execution_count": 109,
     "metadata": {},
     "output_type": "execute_result"
    }
   ],
   "source": [
    "df_copy.P4_6_5.value_counts()"
   ]
  },
  {
   "cell_type": "code",
   "execution_count": 110,
   "metadata": {},
   "outputs": [
    {
     "data": {
      "text/plain": [
       "True"
      ]
     },
     "execution_count": 110,
     "metadata": {},
     "output_type": "execute_result"
    }
   ],
   "source": [
    "df_copy.isnull().P4_6_5.any()"
   ]
  },
  {
   "cell_type": "code",
   "execution_count": 111,
   "metadata": {},
   "outputs": [],
   "source": [
    "df_copy.P4_6_5 = df_copy.P4_6_5.astype('str')\n",
    "df_copy.P4_6_5.replace({'nan':'99'}, inplace=True)"
   ]
  },
  {
   "cell_type": "code",
   "execution_count": 112,
   "metadata": {},
   "outputs": [],
   "source": [
    "df_copy.P4_6_5 = df_copy.P4_6_5.astype('float').astype('int64')"
   ]
  },
  {
   "cell_type": "code",
   "execution_count": 113,
   "metadata": {},
   "outputs": [
    {
     "data": {
      "text/plain": [
       "99    74670\n",
       "2     60557\n",
       "1       114\n",
       "Name: P4_6_5, dtype: int64"
      ]
     },
     "execution_count": 113,
     "metadata": {},
     "output_type": "execute_result"
    }
   ],
   "source": [
    "df_copy.P4_6_5.value_counts()"
   ]
  },
  {
   "cell_type": "code",
   "execution_count": 114,
   "metadata": {},
   "outputs": [
    {
     "data": {
      "text/plain": [
       "False"
      ]
     },
     "execution_count": 114,
     "metadata": {},
     "output_type": "execute_result"
    }
   ],
   "source": [
    "df_copy.isnull().P4_6_5.any()"
   ]
  },
  {
   "cell_type": "code",
   "execution_count": 115,
   "metadata": {},
   "outputs": [
    {
     "data": {
      "text/plain": [
       "135341"
      ]
     },
     "execution_count": 115,
     "metadata": {},
     "output_type": "execute_result"
    }
   ],
   "source": [
    "df_copy.P4_6_5.value_counts().sum()"
   ]
  },
  {
   "cell_type": "markdown",
   "metadata": {},
   "source": [
    "# 23.a columna P4_6_6 (Otro medio) \n",
    "## valores aceptados [1-2], 99"
   ]
  },
  {
   "cell_type": "code",
   "execution_count": 116,
   "metadata": {},
   "outputs": [
    {
     "data": {
      "text/plain": [
       "2.0    60423\n",
       "1.0      248\n",
       "Name: P4_6_6, dtype: int64"
      ]
     },
     "execution_count": 116,
     "metadata": {},
     "output_type": "execute_result"
    }
   ],
   "source": [
    "df_copy.P4_6_6.value_counts()"
   ]
  },
  {
   "cell_type": "code",
   "execution_count": 117,
   "metadata": {},
   "outputs": [
    {
     "data": {
      "text/plain": [
       "True"
      ]
     },
     "execution_count": 117,
     "metadata": {},
     "output_type": "execute_result"
    }
   ],
   "source": [
    "df_copy.isnull().P4_6_6.any()"
   ]
  },
  {
   "cell_type": "code",
   "execution_count": 118,
   "metadata": {},
   "outputs": [],
   "source": [
    "df_copy.P4_6_6 = df_copy.P4_6_6.astype('str')\n",
    "df_copy.P4_6_6.replace({'nan':'99'}, inplace=True)"
   ]
  },
  {
   "cell_type": "code",
   "execution_count": 119,
   "metadata": {},
   "outputs": [],
   "source": [
    "df_copy.P4_6_6 = df_copy.P4_6_6.astype('float').astype('int64')"
   ]
  },
  {
   "cell_type": "code",
   "execution_count": 120,
   "metadata": {},
   "outputs": [
    {
     "data": {
      "text/plain": [
       "99    74670\n",
       "2     60423\n",
       "1       248\n",
       "Name: P4_6_6, dtype: int64"
      ]
     },
     "execution_count": 120,
     "metadata": {},
     "output_type": "execute_result"
    }
   ],
   "source": [
    "df_copy.P4_6_6.value_counts()"
   ]
  },
  {
   "cell_type": "code",
   "execution_count": 121,
   "metadata": {},
   "outputs": [
    {
     "data": {
      "text/plain": [
       "False"
      ]
     },
     "execution_count": 121,
     "metadata": {},
     "output_type": "execute_result"
    }
   ],
   "source": [
    "df_copy.isnull().P4_6_6.any()"
   ]
  },
  {
   "cell_type": "code",
   "execution_count": 122,
   "metadata": {},
   "outputs": [
    {
     "data": {
      "text/plain": [
       "135341"
      ]
     },
     "execution_count": 122,
     "metadata": {},
     "output_type": "execute_result"
    }
   ],
   "source": [
    "df_copy.P4_6_6.value_counts().sum()"
   ]
  },
  {
   "cell_type": "markdown",
   "metadata": {},
   "source": [
    "# 24.a columna P4_6_6E (Especifique) \n",
    "## valores aceptados [0-9, A-Z; Símbolos], b"
   ]
  },
  {
   "cell_type": "code",
   "execution_count": 123,
   "metadata": {},
   "outputs": [
    {
     "data": {
      "text/plain": [
       "ANTENA                                                                                                      11\n",
       "SOLO INTERNET                                                                                               10\n",
       "FIBRA OPTICA                                                                                                 6\n",
       "CELULAR                                                                                                      5\n",
       "MODEM                                                                                                        5\n",
       "ANTENA REPETIDORA                                                                                            4\n",
       "BANDA ANCHA                                                                                                  4\n",
       "RED DE DATOS                                                                                                 3\n",
       "NO SABE                                                                                                      3\n",
       "CELULARES                                                                                                    3\n",
       "TOTAL PLAY                                                                                                   3\n",
       "DATOS DEL CELULAR                                                                                            2\n",
       "REPETIDORA                                                                                                   2\n",
       "AXTEL                                                                                                        2\n",
       "DATOS                                                                                                        2\n",
       "POR MEDIO DE ANTENA                                                                                          2\n",
       "TELMEX                                                                                                       2\n",
       "ES POR MEDIO DE ANTENA                                                                                       2\n",
       "MEDIANTE ANTENA DE ESPEJO                                                                                    1\n",
       "UNA PERSONA LES CONECTA EL SERVICIO A TRAVES DEUNA CAJA EN LA AZOTEA.PROVEEDOR INDEPENDIENTE                 1\n",
       "INTERNET FIJA POR MEDIO DE UN A REPITODORA SE LLAMA GOWIRELESS                                               1\n",
       "JALAN INTERNET DE OTRA VIVIENDA                                                                              1\n",
       "EL INTERNET ES POR  ANTENA REPETIDORA Y A PARTE TIENEN DE DATOS MOVILES                                      1\n",
       "ENTENA REPETIDORA DIRIGIDA                                                                                   1\n",
       "CABLE MAX                                                                                                    1\n",
       "INTERNET CON ANTENA DE PAGO A TERCEROS                                                                       1\n",
       "LE PASAN EL INTERNET DE OTRO HOGAR                                                                           1\n",
       "UNA ANTENA                                                                                                   1\n",
       "ANTENA CON REPETIDOR DE SEÃAL                                                                               1\n",
       "DE ANTENA                                                                                                    1\n",
       "                                                                                                            ..\n",
       "SE LO PASA SU HERMANO                                                                                        1\n",
       "INMFINITUM                                                                                                   1\n",
       "COMPRAN UNA CLAVE AL CYBER DE AL LADO                                                                        1\n",
       "MEGAS DE SU TELEFONO CELULAR                                                                                 1\n",
       "INTERNET SOLO                                                                                                1\n",
       "ME PASA LA CLAVE UN VECINO                                                                                   1\n",
       "LE PAGAN A SU VECINA POR EL USO DE LA INTERNET                                                               1\n",
       "POR EL CELULAR                                                                                               1\n",
       "SOLO UTILIZAN PARA ENVIAR Y RECIBIR MEN SAJES DE WHATSSAP                                                    1\n",
       "ES SEÃAL DE INTERNET SOLA                                                                                   1\n",
       "SOLO PAGAN EL INTERNET                                                                                       1\n",
       "INFINITUM NEWORK DE LOS MOCHI                                                                                1\n",
       "SOLO EL INTERNET                                                                                             1\n",
       "REPETIDOR DE INTERNET                                                                                        1\n",
       "POR DATOS                                                                                                    1\n",
       "SOLO SE CONECTA A INTERNET POR MEDIO DE SU CELULAR                                                           1\n",
       "ESTA CONTRATADO SOLO EL INTERNET MEDIANTE UNA COMPAÃIA TELEFONICA PERO SIN EL SERVICIO DE TELEFONO FIJO     1\n",
       "ES POR MEDIO DE MODEM                                                                                        1\n",
       "COOPERAN CON LA VECINA Y SE LOS COMPARTE                                                                     1\n",
       "SOLO CONTRATO POR MEGACABLE EL INTERNET                                                                      1\n",
       "SE LO COMPARTE UN FAMILIAR                                                                                   1\n",
       "ES UN DECODIFICADOR PARA ATRAER LA SEÃAL DEL SERVICIO                                                       1\n",
       "SOLO TIENE APARATO PARA INTERNET.                                                                            1\n",
       "POR FIBRA OPTICA                                                                                             1\n",
       "SOLO CUENTAN CON EL MODEM                                                                                    1\n",
       "POR COPAÃIA DE TELEVISION DE PAGA                                                                           1\n",
       "POR MEDIO DE TELMEX Y CELULAR                                                                                1\n",
       "CELULAR MOVIL                                                                                                1\n",
       "WIFI DE LA VECINA                                                                                            1\n",
       "POR MEDIO DE INTERNET EN EL TRABAJO Y SUS DATOS MOVILES DE SU CELULAR                                        1\n",
       "Name: P4_6_6E, Length: 195, dtype: int64"
      ]
     },
     "execution_count": 123,
     "metadata": {},
     "output_type": "execute_result"
    }
   ],
   "source": [
    "df_copy.P4_6_6E.value_counts()"
   ]
  },
  {
   "cell_type": "code",
   "execution_count": 124,
   "metadata": {},
   "outputs": [
    {
     "data": {
      "text/plain": [
       "True"
      ]
     },
     "execution_count": 124,
     "metadata": {},
     "output_type": "execute_result"
    }
   ],
   "source": [
    "df_copy.isnull().P4_6_6E.any()"
   ]
  },
  {
   "cell_type": "code",
   "execution_count": 125,
   "metadata": {},
   "outputs": [],
   "source": [
    "df_copy.P4_6_6E = df_copy.P4_6_6E.astype('str')\n",
    "df_copy.P4_6_6E.replace({'nan':'b'}, inplace=True)"
   ]
  },
  {
   "cell_type": "markdown",
   "metadata": {},
   "source": [
    "# más del 95% son valores vacíos, procedemos a borrar la columna"
   ]
  },
  {
   "cell_type": "code",
   "execution_count": 126,
   "metadata": {},
   "outputs": [
    {
     "data": {
      "text/plain": [
       "b                                                                                                           135093\n",
       "ANTENA                                                                                                          11\n",
       "SOLO INTERNET                                                                                                   10\n",
       "FIBRA OPTICA                                                                                                     6\n",
       "CELULAR                                                                                                          5\n",
       "MODEM                                                                                                            5\n",
       "ANTENA REPETIDORA                                                                                                4\n",
       "BANDA ANCHA                                                                                                      4\n",
       "NO SABE                                                                                                          3\n",
       "RED DE DATOS                                                                                                     3\n",
       "CELULARES                                                                                                        3\n",
       "TOTAL PLAY                                                                                                       3\n",
       "AXTEL                                                                                                            2\n",
       "TELMEX                                                                                                           2\n",
       "POR MEDIO DE ANTENA                                                                                              2\n",
       "DATOS                                                                                                            2\n",
       "REPETIDORA                                                                                                       2\n",
       "DATOS DEL CELULAR                                                                                                2\n",
       "ES POR MEDIO DE ANTENA                                                                                           2\n",
       "JALAN INTERNET DE OTRA VIVIENDA                                                                                  1\n",
       "DE ANTENA                                                                                                        1\n",
       "ENTENA REPETIDORA DIRIGIDA                                                                                       1\n",
       "WIMEX                                                                                                            1\n",
       "INTERNET CON ANTENA DE PAGO A TERCEROS                                                                           1\n",
       "UNA ANTENA                                                                                                       1\n",
       "POR UNA ANTENA                                                                                                   1\n",
       "ANTENA CON REPETIDOR DE SEÃAL                                                                                   1\n",
       "TIENE SOLO INTERNET POR MEDIO IZZI                                                                               1\n",
       "EL INTERNET ES POR  ANTENA REPETIDORA Y A PARTE TIENEN DE DATOS MOVILES                                          1\n",
       "VIVONET                                                                                                          1\n",
       "                                                                                                             ...  \n",
       "SE LO PASA SU HERMANO                                                                                            1\n",
       "INMFINITUM                                                                                                       1\n",
       "COMPRAN UNA CLAVE AL CYBER DE AL LADO                                                                            1\n",
       "MEGAS DE SU TELEFONO CELULAR                                                                                     1\n",
       "INTERNET SOLO                                                                                                    1\n",
       "ME PASA LA CLAVE UN VECINO                                                                                       1\n",
       "LE PAGAN A SU VECINA POR EL USO DE LA INTERNET                                                                   1\n",
       "POR EL CELULAR                                                                                                   1\n",
       "SOLO UTILIZAN PARA ENVIAR Y RECIBIR MEN SAJES DE WHATSSAP                                                        1\n",
       "ES SEÃAL DE INTERNET SOLA                                                                                       1\n",
       "SOLO PAGAN EL INTERNET                                                                                           1\n",
       "INFINITUM NEWORK DE LOS MOCHI                                                                                    1\n",
       "SOLO EL INTERNET                                                                                                 1\n",
       "REPETIDOR DE INTERNET                                                                                            1\n",
       "POR DATOS                                                                                                        1\n",
       "SOLO SE CONECTA A INTERNET POR MEDIO DE SU CELULAR                                                               1\n",
       "ESTA CONTRATADO SOLO EL INTERNET MEDIANTE UNA COMPAÃIA TELEFONICA PERO SIN EL SERVICIO DE TELEFONO FIJO         1\n",
       "ES POR MEDIO DE MODEM                                                                                            1\n",
       "COOPERAN CON LA VECINA Y SE LOS COMPARTE                                                                         1\n",
       "SOLO CONTRATO POR MEGACABLE EL INTERNET                                                                          1\n",
       "SE LO COMPARTE UN FAMILIAR                                                                                       1\n",
       "ES UN DECODIFICADOR PARA ATRAER LA SEÃAL DEL SERVICIO                                                           1\n",
       "SOLO TIENE APARATO PARA INTERNET.                                                                                1\n",
       "POR FIBRA OPTICA                                                                                                 1\n",
       "SOLO CUENTAN CON EL MODEM                                                                                        1\n",
       "POR COPAÃIA DE TELEVISION DE PAGA                                                                               1\n",
       "POR MEDIO DE TELMEX Y CELULAR                                                                                    1\n",
       "CELULAR MOVIL                                                                                                    1\n",
       "WIFI DE LA VECINA                                                                                                1\n",
       "POR MEDIO DE INTERNET EN EL TRABAJO Y SUS DATOS MOVILES DE SU CELULAR                                            1\n",
       "Name: P4_6_6E, Length: 196, dtype: int64"
      ]
     },
     "execution_count": 126,
     "metadata": {},
     "output_type": "execute_result"
    }
   ],
   "source": [
    "df_copy.P4_6_6E.value_counts()"
   ]
  },
  {
   "cell_type": "code",
   "execution_count": 127,
   "metadata": {},
   "outputs": [],
   "source": [
    "df_copy.drop('P4_6_6E',1, inplace=True)"
   ]
  },
  {
   "cell_type": "markdown",
   "metadata": {},
   "source": [
    "# 25.a columna P4_7_1 (4.7 ¿Con qué equipo(s) hacen la conexión móvil: Con un celular inteligente (Smartphone)?) \n",
    "## valores aceptados [1 Si-2 No], 99"
   ]
  },
  {
   "cell_type": "code",
   "execution_count": 128,
   "metadata": {},
   "outputs": [
    {
     "data": {
      "text/plain": [
       "1.0    40987\n",
       "2.0       84\n",
       "Name: P4_7_1, dtype: int64"
      ]
     },
     "execution_count": 128,
     "metadata": {},
     "output_type": "execute_result"
    }
   ],
   "source": [
    "df_copy.P4_7_1.value_counts()"
   ]
  },
  {
   "cell_type": "code",
   "execution_count": 129,
   "metadata": {},
   "outputs": [
    {
     "data": {
      "text/plain": [
       "True"
      ]
     },
     "execution_count": 129,
     "metadata": {},
     "output_type": "execute_result"
    }
   ],
   "source": [
    "df_copy.isnull().P4_7_1.any()"
   ]
  },
  {
   "cell_type": "code",
   "execution_count": 130,
   "metadata": {},
   "outputs": [],
   "source": [
    "df_copy.P4_7_1 = df_copy.P4_7_1.astype('str')\n",
    "df_copy.P4_7_1.replace({'nan':'99'}, inplace=True)"
   ]
  },
  {
   "cell_type": "code",
   "execution_count": 131,
   "metadata": {},
   "outputs": [],
   "source": [
    "df_copy.P4_7_1 = df_copy.P4_7_1.astype('float').astype('int64')"
   ]
  },
  {
   "cell_type": "code",
   "execution_count": 132,
   "metadata": {},
   "outputs": [
    {
     "data": {
      "text/plain": [
       "99    94270\n",
       "1     40987\n",
       "2        84\n",
       "Name: P4_7_1, dtype: int64"
      ]
     },
     "execution_count": 132,
     "metadata": {},
     "output_type": "execute_result"
    }
   ],
   "source": [
    "df_copy.P4_7_1.value_counts()"
   ]
  },
  {
   "cell_type": "code",
   "execution_count": 133,
   "metadata": {},
   "outputs": [
    {
     "data": {
      "text/plain": [
       "False"
      ]
     },
     "execution_count": 133,
     "metadata": {},
     "output_type": "execute_result"
    }
   ],
   "source": [
    "df_copy.isnull().P4_7_1.any()"
   ]
  },
  {
   "cell_type": "code",
   "execution_count": 134,
   "metadata": {},
   "outputs": [
    {
     "data": {
      "text/plain": [
       "135341"
      ]
     },
     "execution_count": 134,
     "metadata": {},
     "output_type": "execute_result"
    }
   ],
   "source": [
    "df_copy.P4_7_1.value_counts().sum()"
   ]
  },
  {
   "cell_type": "markdown",
   "metadata": {},
   "source": [
    "# 26.a columna P4_7_2 (Con una computadora de escritorio y una tarjeta Banda Ancha Móvil, tipo USB) \n",
    "## valores aceptados [1 Si-2 No], 99"
   ]
  },
  {
   "cell_type": "code",
   "execution_count": 135,
   "metadata": {},
   "outputs": [
    {
     "data": {
      "text/plain": [
       "2.0    39138\n",
       "1.0     1933\n",
       "Name: P4_7_2, dtype: int64"
      ]
     },
     "execution_count": 135,
     "metadata": {},
     "output_type": "execute_result"
    }
   ],
   "source": [
    "df_copy.P4_7_2.value_counts()"
   ]
  },
  {
   "cell_type": "code",
   "execution_count": 136,
   "metadata": {},
   "outputs": [
    {
     "data": {
      "text/plain": [
       "True"
      ]
     },
     "execution_count": 136,
     "metadata": {},
     "output_type": "execute_result"
    }
   ],
   "source": [
    "df_copy.isnull().P4_7_2.any()"
   ]
  },
  {
   "cell_type": "code",
   "execution_count": 137,
   "metadata": {},
   "outputs": [],
   "source": [
    "df_copy.P4_7_2 = df_copy.P4_7_2.astype('str')\n",
    "df_copy.P4_7_2.replace({'nan':'99'}, inplace=True)"
   ]
  },
  {
   "cell_type": "code",
   "execution_count": 138,
   "metadata": {},
   "outputs": [],
   "source": [
    "df_copy.P4_7_2 = df_copy.P4_7_2.astype('float').astype('int64')"
   ]
  },
  {
   "cell_type": "code",
   "execution_count": 139,
   "metadata": {},
   "outputs": [
    {
     "data": {
      "text/plain": [
       "99    94270\n",
       "2     39138\n",
       "1      1933\n",
       "Name: P4_7_2, dtype: int64"
      ]
     },
     "execution_count": 139,
     "metadata": {},
     "output_type": "execute_result"
    }
   ],
   "source": [
    "df_copy.P4_7_2.value_counts()"
   ]
  },
  {
   "cell_type": "code",
   "execution_count": 140,
   "metadata": {},
   "outputs": [
    {
     "data": {
      "text/plain": [
       "False"
      ]
     },
     "execution_count": 140,
     "metadata": {},
     "output_type": "execute_result"
    }
   ],
   "source": [
    "df_copy.isnull().P4_7_2.any()"
   ]
  },
  {
   "cell_type": "code",
   "execution_count": 141,
   "metadata": {},
   "outputs": [
    {
     "data": {
      "text/plain": [
       "135341"
      ]
     },
     "execution_count": 141,
     "metadata": {},
     "output_type": "execute_result"
    }
   ],
   "source": [
    "df_copy.P4_7_2.value_counts().sum()"
   ]
  },
  {
   "cell_type": "markdown",
   "metadata": {},
   "source": [
    "# 27.a columna P4_7_3 (Con una computadora portátil y una tarjeta Banda Ancha Móvil, tipo USB) \n",
    "## valores aceptados [1 Si-2 No], 99"
   ]
  },
  {
   "cell_type": "code",
   "execution_count": 142,
   "metadata": {},
   "outputs": [
    {
     "data": {
      "text/plain": [
       "2.0    36305\n",
       "1.0     4766\n",
       "Name: P4_7_3, dtype: int64"
      ]
     },
     "execution_count": 142,
     "metadata": {},
     "output_type": "execute_result"
    }
   ],
   "source": [
    "df_copy.P4_7_3.value_counts()"
   ]
  },
  {
   "cell_type": "code",
   "execution_count": 143,
   "metadata": {},
   "outputs": [
    {
     "data": {
      "text/plain": [
       "True"
      ]
     },
     "execution_count": 143,
     "metadata": {},
     "output_type": "execute_result"
    }
   ],
   "source": [
    "df_copy.isnull().P4_7_3.any()"
   ]
  },
  {
   "cell_type": "code",
   "execution_count": 144,
   "metadata": {},
   "outputs": [],
   "source": [
    "df_copy.P4_7_3 = df_copy.P4_7_3.astype('str')\n",
    "df_copy.P4_7_3.replace({'nan':'99'}, inplace=True)"
   ]
  },
  {
   "cell_type": "code",
   "execution_count": 145,
   "metadata": {},
   "outputs": [],
   "source": [
    "df_copy.P4_7_3 = df_copy.P4_7_3.astype('float').astype('int64')"
   ]
  },
  {
   "cell_type": "code",
   "execution_count": 146,
   "metadata": {},
   "outputs": [
    {
     "data": {
      "text/plain": [
       "99    94270\n",
       "2     36305\n",
       "1      4766\n",
       "Name: P4_7_3, dtype: int64"
      ]
     },
     "execution_count": 146,
     "metadata": {},
     "output_type": "execute_result"
    }
   ],
   "source": [
    "df_copy.P4_7_3.value_counts()"
   ]
  },
  {
   "cell_type": "code",
   "execution_count": 147,
   "metadata": {},
   "outputs": [
    {
     "data": {
      "text/plain": [
       "False"
      ]
     },
     "execution_count": 147,
     "metadata": {},
     "output_type": "execute_result"
    }
   ],
   "source": [
    "df_copy.isnull().P4_7_3.any()"
   ]
  },
  {
   "cell_type": "code",
   "execution_count": 148,
   "metadata": {},
   "outputs": [
    {
     "data": {
      "text/plain": [
       "135341"
      ]
     },
     "execution_count": 148,
     "metadata": {},
     "output_type": "execute_result"
    }
   ],
   "source": [
    "df_copy.P4_7_3.value_counts().sum()"
   ]
  },
  {
   "cell_type": "markdown",
   "metadata": {},
   "source": [
    "# 28.a columna P4_7_4 (Con una tablet con acceso a red móvil) \n",
    "## valores aceptados [1 Si-2 No], 99"
   ]
  },
  {
   "cell_type": "code",
   "execution_count": 149,
   "metadata": {},
   "outputs": [
    {
     "data": {
      "text/plain": [
       "2.0    36885\n",
       "1.0     4186\n",
       "Name: P4_7_4, dtype: int64"
      ]
     },
     "execution_count": 149,
     "metadata": {},
     "output_type": "execute_result"
    }
   ],
   "source": [
    "df_copy.P4_7_4.value_counts()"
   ]
  },
  {
   "cell_type": "code",
   "execution_count": 150,
   "metadata": {},
   "outputs": [
    {
     "data": {
      "text/plain": [
       "True"
      ]
     },
     "execution_count": 150,
     "metadata": {},
     "output_type": "execute_result"
    }
   ],
   "source": [
    "df_copy.isnull().P4_7_4.any()"
   ]
  },
  {
   "cell_type": "code",
   "execution_count": 151,
   "metadata": {},
   "outputs": [],
   "source": [
    "df_copy.P4_7_4 = df_copy.P4_7_4.astype('str')\n",
    "df_copy.P4_7_4.replace({'nan':'99'}, inplace=True)"
   ]
  },
  {
   "cell_type": "code",
   "execution_count": 152,
   "metadata": {},
   "outputs": [],
   "source": [
    "df_copy.P4_7_4 = df_copy.P4_7_4.astype('float').astype('int64')"
   ]
  },
  {
   "cell_type": "code",
   "execution_count": 153,
   "metadata": {},
   "outputs": [
    {
     "data": {
      "text/plain": [
       "99    94270\n",
       "2     36885\n",
       "1      4186\n",
       "Name: P4_7_4, dtype: int64"
      ]
     },
     "execution_count": 153,
     "metadata": {},
     "output_type": "execute_result"
    }
   ],
   "source": [
    "df_copy.P4_7_4.value_counts()"
   ]
  },
  {
   "cell_type": "code",
   "execution_count": 154,
   "metadata": {},
   "outputs": [
    {
     "data": {
      "text/plain": [
       "False"
      ]
     },
     "execution_count": 154,
     "metadata": {},
     "output_type": "execute_result"
    }
   ],
   "source": [
    "df_copy.isnull().P4_7_4.any()"
   ]
  },
  {
   "cell_type": "code",
   "execution_count": 155,
   "metadata": {},
   "outputs": [
    {
     "data": {
      "text/plain": [
       "135341"
      ]
     },
     "execution_count": 155,
     "metadata": {},
     "output_type": "execute_result"
    }
   ],
   "source": [
    "df_copy.P4_7_4.value_counts().sum()"
   ]
  },
  {
   "cell_type": "markdown",
   "metadata": {},
   "source": [
    "# 29.a columna P4_7_5 (Otro equipo) \n",
    "## valores aceptados [1 Si-2 No], 99"
   ]
  },
  {
   "cell_type": "code",
   "execution_count": 156,
   "metadata": {},
   "outputs": [
    {
     "data": {
      "text/plain": [
       "2.0    40685\n",
       "1.0      386\n",
       "Name: P4_7_5, dtype: int64"
      ]
     },
     "execution_count": 156,
     "metadata": {},
     "output_type": "execute_result"
    }
   ],
   "source": [
    "df_copy.P4_7_5.value_counts()"
   ]
  },
  {
   "cell_type": "code",
   "execution_count": 157,
   "metadata": {},
   "outputs": [
    {
     "data": {
      "text/plain": [
       "True"
      ]
     },
     "execution_count": 157,
     "metadata": {},
     "output_type": "execute_result"
    }
   ],
   "source": [
    "df_copy.isnull().P4_7_5.any()"
   ]
  },
  {
   "cell_type": "code",
   "execution_count": 158,
   "metadata": {},
   "outputs": [],
   "source": [
    "df_copy.P4_7_5 = df_copy.P4_7_5.astype('str')\n",
    "df_copy.P4_7_5.replace({'nan':'99'}, inplace=True)"
   ]
  },
  {
   "cell_type": "code",
   "execution_count": 159,
   "metadata": {},
   "outputs": [],
   "source": [
    "df_copy.P4_7_5 = df_copy.P4_7_5.astype('float').astype('int64')"
   ]
  },
  {
   "cell_type": "code",
   "execution_count": 160,
   "metadata": {},
   "outputs": [
    {
     "data": {
      "text/plain": [
       "99    94270\n",
       "2     40685\n",
       "1       386\n",
       "Name: P4_7_5, dtype: int64"
      ]
     },
     "execution_count": 160,
     "metadata": {},
     "output_type": "execute_result"
    }
   ],
   "source": [
    "df_copy.P4_7_5.value_counts()"
   ]
  },
  {
   "cell_type": "code",
   "execution_count": 161,
   "metadata": {},
   "outputs": [
    {
     "data": {
      "text/plain": [
       "False"
      ]
     },
     "execution_count": 161,
     "metadata": {},
     "output_type": "execute_result"
    }
   ],
   "source": [
    "df_copy.isnull().P4_7_5.any()"
   ]
  },
  {
   "cell_type": "code",
   "execution_count": 162,
   "metadata": {},
   "outputs": [
    {
     "data": {
      "text/plain": [
       "135341"
      ]
     },
     "execution_count": 162,
     "metadata": {},
     "output_type": "execute_result"
    }
   ],
   "source": [
    "df_copy.P4_7_5.value_counts().sum()"
   ]
  },
  {
   "cell_type": "markdown",
   "metadata": {},
   "source": [
    "# 30.a columna P4_7_5E (Especifique) "
   ]
  },
  {
   "cell_type": "code",
   "execution_count": 163,
   "metadata": {},
   "outputs": [
    {
     "data": {
      "text/plain": [
       "LAPTOP                                                                                      57\n",
       "TELEVISION                                                                                  50\n",
       "CONSOLA DE VIDEO JUEGOS                                                                     12\n",
       "SMART TV                                                                                    11\n",
       "LAPTOP TABLET                                                                               11\n",
       "CONSOLA DE VIDEOJUEGOS                                                                      11\n",
       "TABLET                                                                                      10\n",
       "LAP TOP                                                                                      9\n",
       "XBOX                                                                                         7\n",
       "CONSOLA                                                                                      7\n",
       "CON LA TELEVISION                                                                            6\n",
       "PANTALLA PLANA                                                                               5\n",
       "COMPUTADORA                                                                                  4\n",
       "TV CON ACCESO A INTERNET                                                                     4\n",
       "TABLET LAPTOP                                                                                4\n",
       "TELEVISOR                                                                                    4\n",
       "TELEVICION                                                                                   3\n",
       "MODEM                                                                                        3\n",
       "IPOD                                                                                         3\n",
       "VIDEO JUEGO                                                                                  3\n",
       "IPAD                                                                                         3\n",
       "PANTALLA                                                                                     3\n",
       "LAPTOP Y CONSOLA DE VIDEO JUEGOS                                                             2\n",
       "TV SMART                                                                                     2\n",
       "CON LA TV                                                                                    2\n",
       "CONSOLA DE VIDEO JUEGO                                                                       2\n",
       "LAP                                                                                          2\n",
       "COMPUTADORA DE ESCRITORIO                                                                    2\n",
       "NINGUNO                                                                                      2\n",
       "CON SMARTTV                                                                                  2\n",
       "                                                                                            ..\n",
       "RELOJ SMART WASH                                                                             1\n",
       "XBOX APPLETV ROKU                                                                            1\n",
       "TV Y CONSOLA DE VIDEOJUEGO                                                                   1\n",
       "CON LA LAPTOP MEDIANTE. LOS DATOS DEL CELULAR                                                1\n",
       "TELEVISION SMART TV                                                                          1\n",
       "EXXV0S                                                                                       1\n",
       "CON LA DE ESCRITORIO Y LA LAP TOP                                                            1\n",
       "LA COMPUTADORA CUANDO VIENEN DE VISITA LOS HIJOS EN VACACIONES                               1\n",
       "EQUIPO DE JUEGOS                                                                             1\n",
       "LA CONEXION ES PRESTA POR SU HERMANO                                                         1\n",
       "XBOOX                                                                                        1\n",
       "COMPUTADORA PORTATIL                                                                         1\n",
       "PANTALLA SMART TV Y LAPTOP                                                                   1\n",
       "UN DISPOSITIVO MOVIL DE WIFI DE PREPAGO DESCONOCE LA COMPAÃIA QUE LE OFRESE EL SERVICIO     1\n",
       "EN TELEVISION                                                                                1\n",
       "CON UNA LAPTOP COMPUTADORA DE ESCRITORIO                                                     1\n",
       "LAPTOP XBOX                                                                                  1\n",
       "TE3EV5S56N                                                                                   1\n",
       "CUN UNA USB BANDA ANCHA                                                                      1\n",
       "CONSOLA  DE VIDEOJUEGOS                                                                      1\n",
       "LAPTOP ANCLADA A SU CELULAR                                                                  1\n",
       "CONSOLA DE VIDZEO JUEGOS                                                                     1\n",
       "CONSOLA DE VIDEJUEGOS                                                                        1\n",
       "TELDEVISION                                                                                  1\n",
       "COMPUTADORA DE ESCRITORIO LAPTOP Y TELEVISION                                                1\n",
       "CON UAN COMPUTADORA PORTATIL                                                                 1\n",
       "TELEVISION CON ACCESO A INTERNET                                                             1\n",
       "PANTALLA TV SMART TV                                                                         1\n",
       "SMAR TV                                                                                      1\n",
       "ATRAVEZ DE SU LAPTOP CON UNA CLAVE DE INTERNET QUE LE VENDEN EN LA TIENDA                    1\n",
       "Name: P4_7_5E, Length: 164, dtype: int64"
      ]
     },
     "execution_count": 163,
     "metadata": {},
     "output_type": "execute_result"
    }
   ],
   "source": [
    "df_copy.P4_7_5E.value_counts()"
   ]
  },
  {
   "cell_type": "code",
   "execution_count": 164,
   "metadata": {},
   "outputs": [],
   "source": [
    "df_copy.P4_7_5E = df_copy.P4_7_5E.astype('str')\n",
    "df_copy.P4_7_5E.replace({'nan':'b'}, inplace=True)"
   ]
  },
  {
   "cell_type": "code",
   "execution_count": 165,
   "metadata": {},
   "outputs": [
    {
     "data": {
      "text/plain": [
       "b                                                                            134955\n",
       "LAPTOP                                                                           57\n",
       "TELEVISION                                                                       50\n",
       "CONSOLA DE VIDEO JUEGOS                                                          12\n",
       "CONSOLA DE VIDEOJUEGOS                                                           11\n",
       "SMART TV                                                                         11\n",
       "LAPTOP TABLET                                                                    11\n",
       "TABLET                                                                           10\n",
       "LAP TOP                                                                           9\n",
       "XBOX                                                                              7\n",
       "CONSOLA                                                                           7\n",
       "CON LA TELEVISION                                                                 6\n",
       "PANTALLA PLANA                                                                    5\n",
       "TABLET LAPTOP                                                                     4\n",
       "TV CON ACCESO A INTERNET                                                          4\n",
       "TELEVISOR                                                                         4\n",
       "COMPUTADORA                                                                       4\n",
       "VIDEO JUEGO                                                                       3\n",
       "TELEVICION                                                                        3\n",
       "PANTALLA                                                                          3\n",
       "IPOD                                                                              3\n",
       "MODEM                                                                             3\n",
       "IPAD                                                                              3\n",
       "NINGUNO                                                                           2\n",
       "COMPUTADORA DE ESCRITORIO                                                         2\n",
       "TV SMART                                                                          2\n",
       "LAPTOP Y CONSOLA DE VIDEO JUEGOS                                                  2\n",
       "CONSOLA DE VIDEO JUEGO                                                            2\n",
       "CON SMARTTV                                                                       2\n",
       "CON LA TV                                                                         2\n",
       "                                                                              ...  \n",
       "CON UNALAP TOP ANCLADA A LA RED DEL TELEFONO CELULAR                              1\n",
       "LAPTOP POR MEDIO DE FICHAS WIFI                                                   1\n",
       "BOCINA                                                                            1\n",
       "POR LA TELEVISION DE PLASMA                                                       1\n",
       "CON LA SMARTV                                                                     1\n",
       "XBOOX                                                                             1\n",
       "VIDEOJUEGOS                                                                       1\n",
       "LA CONEXION ES PRESTA POR SU HERMANO                                              1\n",
       "EQUIPO DE JUEGOS                                                                  1\n",
       "ROKU                                                                              1\n",
       "LA COMPUTADORA CUANDO VIENEN DE VISITA LOS HIJOS EN VACACIONES                    1\n",
       "CON LA DE ESCRITORIO Y LA LAP TOP                                                 1\n",
       "EXXV0S                                                                            1\n",
       "CON LA LAPTOP MEDIANTE. LOS DATOS DEL CELULAR                                     1\n",
       "CONSOLO DE VIDEOJUEGOS                                                            1\n",
       "SMART TV Y CONSOLA DE VIDEOJUEGOS                                                 1\n",
       "JUEGOS DE EXBOX                                                                   1\n",
       "TV Y CONSOLA DE VIDEOJUEGO                                                        1\n",
       "BLURAI                                                                            1\n",
       "XBOX APPLETV ROKU                                                                 1\n",
       "RELOJ SMART WASH                                                                  1\n",
       "CON LA TELREVISION Y CONSOLA DE VIDEO JUEGOS                                      1\n",
       "LAP TOP NY TABLET                                                                 1\n",
       "CON TELEVISION CONECTADA A WIFI                                                   1\n",
       "COMPUTADORA PORTATIL                                                              1\n",
       "TELEVISION SMART TV                                                               1\n",
       "PANTALLA SMART TV Y LAPTOP                                                        1\n",
       "CONSOLA DE VIDEJUEGOS                                                             1\n",
       "SMAR TV                                                                           1\n",
       "ATRAVEZ DE SU LAPTOP CON UNA CLAVE DE INTERNET QUE LE VENDEN EN LA TIENDA         1\n",
       "Name: P4_7_5E, Length: 165, dtype: int64"
      ]
     },
     "execution_count": 165,
     "metadata": {},
     "output_type": "execute_result"
    }
   ],
   "source": [
    "df_copy.P4_7_5E.value_counts()"
   ]
  },
  {
   "cell_type": "code",
   "execution_count": 166,
   "metadata": {},
   "outputs": [],
   "source": [
    "df_copy.drop('P4_7_5E',1, inplace=True)"
   ]
  },
  {
   "cell_type": "markdown",
   "metadata": {},
   "source": [
    "# 31.a columna P4_8 (4.8 ¿Por qué no dispone de Internet en el hogar?) \n",
    "## 1 Falta de recursos económicos (servicio incosteable),2 No les interesa o no lo necesitan,3 No sabe usarlo,4 Desconoce su utilidad,5 Equipo insuficiente o sin capacidad,6 No hay proveedor o infraestructura en su localidad,7 Otra razón,99 No responde"
   ]
  },
  {
   "cell_type": "code",
   "execution_count": 167,
   "metadata": {},
   "outputs": [
    {
     "data": {
      "text/plain": [
       "1.0    32391\n",
       "2.0    13788\n",
       "3.0     6106\n",
       "6.0     4644\n",
       "7.0     2235\n",
       "4.0      631\n",
       "5.0      513\n",
       "8.0       32\n",
       "Name: P4_8, dtype: int64"
      ]
     },
     "execution_count": 167,
     "metadata": {},
     "output_type": "execute_result"
    }
   ],
   "source": [
    "df_copy.P4_8.value_counts()"
   ]
  },
  {
   "cell_type": "code",
   "execution_count": 168,
   "metadata": {},
   "outputs": [
    {
     "data": {
      "text/plain": [
       "True"
      ]
     },
     "execution_count": 168,
     "metadata": {},
     "output_type": "execute_result"
    }
   ],
   "source": [
    "df_copy.isnull().P4_8.any()"
   ]
  },
  {
   "cell_type": "code",
   "execution_count": 169,
   "metadata": {},
   "outputs": [],
   "source": [
    "df_copy.P4_8 = df_copy.P4_8.astype('str')\n",
    "df_copy.P4_8.replace({'nan':'99'}, inplace=True)"
   ]
  },
  {
   "cell_type": "code",
   "execution_count": 170,
   "metadata": {},
   "outputs": [],
   "source": [
    "df_copy.P4_8 = df_copy.P4_8.astype('float').astype('int64')"
   ]
  },
  {
   "cell_type": "code",
   "execution_count": 171,
   "metadata": {},
   "outputs": [
    {
     "data": {
      "text/plain": [
       "99    75001\n",
       "1     32391\n",
       "2     13788\n",
       "3      6106\n",
       "6      4644\n",
       "7      2235\n",
       "4       631\n",
       "5       513\n",
       "8        32\n",
       "Name: P4_8, dtype: int64"
      ]
     },
     "execution_count": 171,
     "metadata": {},
     "output_type": "execute_result"
    }
   ],
   "source": [
    "df_copy.P4_8.value_counts()"
   ]
  },
  {
   "cell_type": "markdown",
   "metadata": {},
   "source": [
    "## juntamos el 8 con el 99"
   ]
  },
  {
   "cell_type": "code",
   "execution_count": 172,
   "metadata": {},
   "outputs": [
    {
     "name": "stderr",
     "output_type": "stream",
     "text": [
      "/home/hectorceja/anaconda3/lib/python3.6/site-packages/ipykernel_launcher.py:4: SettingWithCopyWarning: \n",
      "A value is trying to be set on a copy of a slice from a DataFrame\n",
      "\n",
      "See the caveats in the documentation: http://pandas.pydata.org/pandas-docs/stable/indexing.html#indexing-view-versus-copy\n",
      "  after removing the cwd from sys.path.\n"
     ]
    }
   ],
   "source": [
    "count = 0\n",
    "for row in df_copy.P4_8:\n",
    "    if df_copy.P4_8[count] == 8:\n",
    "        df_copy.P4_8[count] = 99\n",
    "    count = count + 1"
   ]
  },
  {
   "cell_type": "code",
   "execution_count": 173,
   "metadata": {},
   "outputs": [
    {
     "data": {
      "text/plain": [
       "99    75033\n",
       "1     32391\n",
       "2     13788\n",
       "3      6106\n",
       "6      4644\n",
       "7      2235\n",
       "4       631\n",
       "5       513\n",
       "Name: P4_8, dtype: int64"
      ]
     },
     "execution_count": 173,
     "metadata": {},
     "output_type": "execute_result"
    }
   ],
   "source": [
    "df_copy.P4_8.value_counts()"
   ]
  },
  {
   "cell_type": "code",
   "execution_count": 177,
   "metadata": {},
   "outputs": [
    {
     "data": {
      "text/plain": [
       "False"
      ]
     },
     "execution_count": 177,
     "metadata": {},
     "output_type": "execute_result"
    }
   ],
   "source": [
    "df_copy.isnull().P4_8.any()"
   ]
  },
  {
   "cell_type": "code",
   "execution_count": 178,
   "metadata": {},
   "outputs": [
    {
     "data": {
      "text/plain": [
       "135341"
      ]
     },
     "execution_count": 178,
     "metadata": {},
     "output_type": "execute_result"
    }
   ],
   "source": [
    "df_copy.P4_8.value_counts().sum()"
   ]
  },
  {
   "cell_type": "markdown",
   "metadata": {},
   "source": [
    "# 32.a columna P4_8E (Especifique) "
   ]
  },
  {
   "cell_type": "code",
   "execution_count": 179,
   "metadata": {},
   "outputs": [
    {
     "data": {
      "text/plain": [
       "POR SEGURIDAD                                                                                                     17\n",
       "NO HAY SEÃAL                                                                                                     15\n",
       "FALTA DE TIEMPO                                                                                                   11\n",
       "NO TIENE COMPUTADORA                                                                                              11\n",
       "NO LO NECESITA                                                                                                    10\n",
       "NO HAY SERVICIO EN LA LOCALIDAD                                                                                   10\n",
       "NO TIENEN COMPUTADORA                                                                                              8\n",
       "SE ACABAN DE MUDAR                                                                                                 8\n",
       "CASI NO ESTAN EN CASA                                                                                              8\n",
       "NO LO OCUPAN                                                                                                       7\n",
       "POR FALTA DE TIEMPO                                                                                                7\n",
       "NO LO NECESITAN                                                                                                    7\n",
       "CADA QUIEN TIENE SU CELULAR                                                                                        7\n",
       "NO LLEGA LA SEÃAL                                                                                                 6\n",
       "NO TIENE TIEMPO                                                                                                    6\n",
       "NO LO HAN CONTRATADO                                                                                               6\n",
       "NO LO HA CONTRATADO                                                                                                6\n",
       "CASI NO ESTA EN SU CASA                                                                                            6\n",
       "PORQUE NO TIENEN COMPUTADORA                                                                                       6\n",
       "NO LE GUSTA                                                                                                        5\n",
       "APENAS LO VAN A CONTRATAR                                                                                          5\n",
       "SE ACABAN DE CAMBIAR                                                                                               5\n",
       "CASI NO ESTAN EN SU CASA                                                                                           5\n",
       "NO TIENEN TIEMPO                                                                                                   5\n",
       "NO HA CONTRATADO                                                                                                   5\n",
       "NO LES GUSTA                                                                                                       4\n",
       "UTILIZA EL CELULAR                                                                                                 4\n",
       "NO LO OCUPA                                                                                                        4\n",
       "USAN EL CELULAR                                                                                                    4\n",
       "SE ACABA DE CAMBIAR                                                                                                4\n",
       "                                                                                                                  ..\n",
       "LA VIVIENDA DE AL LADO SE LO PRESTA                                                                                1\n",
       "POR FALTA DE TIEMPO NO HAN SOLITADO SERVICIO PERO LO HARAN                                                         1\n",
       "POR QUE APENAS VAN A CONTRATAR                                                                                     1\n",
       "FALTA DE SEÃAL                                                                                                    1\n",
       "LO TIENEN SUSPENDIDO Y NO PIENSAN REACTIVARLO                                                                      1\n",
       "UTILIZAN LOS DATOS DEL CELULAR PARA CONECTARSE                                                                     1\n",
       "APENAS LLEGARON A VIVIR HACE 3 DIAS                                                                                1\n",
       "SE LO ACABAN DE CORTAR                                                                                             1\n",
       "FAMILIAR VECINO LES PASA LA SEÃAL DE WI FI                                                                        1\n",
       "SE ENTRETIENEN LOS NIÃOS Y NO QUIEREN HACER LA TAREA                                                              1\n",
       "CASI NUNCA SE ENCUENTRA EN SU VIVIENDA Y COMENTA QUE LO PAGARIA EN VANO                                            1\n",
       "SOLO HABITAN EL HOGAR  POR CUESTIONES DE TRABAJO                                                                   1\n",
       "CASI NO ASISTEN EN CASA                                                                                            1\n",
       "POR QUE NO LE AUTORIZAN LOS SERVICIOS                                                                              1\n",
       "FALLAS EN EL SERVICIO HICERON QUE CANCELARAN CONTRATO                                                              1\n",
       "POR NO PAGARLO SE LES HACE UN GASTO INNECESARIO.                                                                   1\n",
       "LE RENTAN LA CASA Y TIENE PLAN EN TELEFONO CELULAR                                                                 1\n",
       "CON SU CELULAR INGRESA A INTERNET                                                                                  1\n",
       "EN LA LOCALIDAD HAY TRES CIBER DONDE SE PUEDEN CONECTAR PAGANDO EN LA VIVIENDA SELECCIONADA NO LLEGA LA SEÃAL     1\n",
       "CASI NO SE ENCUENTRAN EN CASA                                                                                      1\n",
       "POR QUE ME ACABO DE CAMBIAR                                                                                        1\n",
       "PORQUE TIENE TELEFONO CELULAR                                                                                      1\n",
       "USA EN CASA DE SU ABUELO EL INTERNET EN OTRO HOGAR                                                                 1\n",
       "LO ACABA DE CANCELAR                                                                                               1\n",
       "SOLO TIENE DATOS MOVILES Y NO LOS COMPARTE                                                                         1\n",
       "FALTA DE TIEMPO PARA CONTRATAR                                                                                     1\n",
       "LE HAN OFRECIDO Y DICE QUE NO POR SEGURIDAD DE LA FAMILIA                                                          1\n",
       "TIENEN POCO DE VIVIR EN ESTA ZONA                                                                                  1\n",
       "APENAS SE CAMBIO DE DOMICILIO Y VA A SER EL CAMBIO                                                                 1\n",
       "PO SU RELIGION                                                                                                     1\n",
       "Name: P4_8E, Length: 1949, dtype: int64"
      ]
     },
     "execution_count": 179,
     "metadata": {},
     "output_type": "execute_result"
    }
   ],
   "source": [
    "df_copy.P4_8E.value_counts()"
   ]
  },
  {
   "cell_type": "code",
   "execution_count": 181,
   "metadata": {},
   "outputs": [
    {
     "data": {
      "text/plain": [
       "True"
      ]
     },
     "execution_count": 181,
     "metadata": {},
     "output_type": "execute_result"
    }
   ],
   "source": [
    "df_copy.isnull().P4_8E.any()"
   ]
  },
  {
   "cell_type": "code",
   "execution_count": 182,
   "metadata": {},
   "outputs": [],
   "source": [
    "df_copy.P4_8E = df_copy.P4_8E.astype('str')\n",
    "df_copy.P4_8E.replace({'nan':'b'}, inplace=True)"
   ]
  },
  {
   "cell_type": "code",
   "execution_count": 183,
   "metadata": {},
   "outputs": [
    {
     "data": {
      "text/plain": [
       "b                                                                                                                 133106\n",
       "POR SEGURIDAD                                                                                                         17\n",
       "NO HAY SEÃAL                                                                                                         15\n",
       "FALTA DE TIEMPO                                                                                                       11\n",
       "NO TIENE COMPUTADORA                                                                                                  11\n",
       "NO LO NECESITA                                                                                                        10\n",
       "NO HAY SERVICIO EN LA LOCALIDAD                                                                                       10\n",
       "NO TIENEN COMPUTADORA                                                                                                  8\n",
       "SE ACABAN DE MUDAR                                                                                                     8\n",
       "CASI NO ESTAN EN CASA                                                                                                  8\n",
       "NO LO OCUPAN                                                                                                           7\n",
       "NO LO NECESITAN                                                                                                        7\n",
       "POR FALTA DE TIEMPO                                                                                                    7\n",
       "CADA QUIEN TIENE SU CELULAR                                                                                            7\n",
       "NO LO HA CONTRATADO                                                                                                    6\n",
       "NO TIENE TIEMPO                                                                                                        6\n",
       "CASI NO ESTA EN SU CASA                                                                                                6\n",
       "NO LO HAN CONTRATADO                                                                                                   6\n",
       "NO LLEGA LA SEÃAL                                                                                                     6\n",
       "PORQUE NO TIENEN COMPUTADORA                                                                                           6\n",
       "APENAS LO VAN A CONTRATAR                                                                                              5\n",
       "NO LE GUSTA                                                                                                            5\n",
       "NO TIENEN TIEMPO                                                                                                       5\n",
       "SE ACABAN DE CAMBIAR                                                                                                   5\n",
       "CASI NO ESTAN EN SU CASA                                                                                               5\n",
       "NO HA CONTRATADO                                                                                                       5\n",
       "NO LES GUSTA                                                                                                           4\n",
       "SE CONECTAN MEDIANTE DATOS MOVILES Y NO LOS COMPARTEN                                                                  4\n",
       "UTILIZA EL CELULAR                                                                                                     4\n",
       "NO LO OCUPA                                                                                                            4\n",
       "                                                                                                                   ...  \n",
       "LA VIVIENDA DE AL LADO SE LO PRESTA                                                                                    1\n",
       "POR FALTA DE TIEMPO NO HAN SOLITADO SERVICIO PERO LO HARAN                                                             1\n",
       "POR QUE APENAS VAN A CONTRATAR                                                                                         1\n",
       "FALTA DE SEÃAL                                                                                                        1\n",
       "LO TIENEN SUSPENDIDO Y NO PIENSAN REACTIVARLO                                                                          1\n",
       "UTILIZAN LOS DATOS DEL CELULAR PARA CONECTARSE                                                                         1\n",
       "APENAS LLEGARON A VIVIR HACE 3 DIAS                                                                                    1\n",
       "SE LO ACABAN DE CORTAR                                                                                                 1\n",
       "FAMILIAR VECINO LES PASA LA SEÃAL DE WI FI                                                                            1\n",
       "SE ENTRETIENEN LOS NIÃOS Y NO QUIEREN HACER LA TAREA                                                                  1\n",
       "CASI NUNCA SE ENCUENTRA EN SU VIVIENDA Y COMENTA QUE LO PAGARIA EN VANO                                                1\n",
       "SOLO HABITAN EL HOGAR  POR CUESTIONES DE TRABAJO                                                                       1\n",
       "CASI NO ASISTEN EN CASA                                                                                                1\n",
       "POR QUE NO LE AUTORIZAN LOS SERVICIOS                                                                                  1\n",
       "FALLAS EN EL SERVICIO HICERON QUE CANCELARAN CONTRATO                                                                  1\n",
       "POR NO PAGARLO SE LES HACE UN GASTO INNECESARIO.                                                                       1\n",
       "LE RENTAN LA CASA Y TIENE PLAN EN TELEFONO CELULAR                                                                     1\n",
       "CON SU CELULAR INGRESA A INTERNET                                                                                      1\n",
       "EN LA LOCALIDAD HAY TRES CIBER DONDE SE PUEDEN CONECTAR PAGANDO EN LA VIVIENDA SELECCIONADA NO LLEGA LA SEÃAL         1\n",
       "CASI NO SE ENCUENTRAN EN CASA                                                                                          1\n",
       "POR QUE ME ACABO DE CAMBIAR                                                                                            1\n",
       "PORQUE TIENE TELEFONO CELULAR                                                                                          1\n",
       "USA EN CASA DE SU ABUELO EL INTERNET EN OTRO HOGAR                                                                     1\n",
       "LO ACABA DE CANCELAR                                                                                                   1\n",
       "SOLO TIENE DATOS MOVILES Y NO LOS COMPARTE                                                                             1\n",
       "FALTA DE TIEMPO PARA CONTRATAR                                                                                         1\n",
       "LE HAN OFRECIDO Y DICE QUE NO POR SEGURIDAD DE LA FAMILIA                                                              1\n",
       "TIENEN POCO DE VIVIR EN ESTA ZONA                                                                                      1\n",
       "APENAS SE CAMBIO DE DOMICILIO Y VA A SER EL CAMBIO                                                                     1\n",
       "PO SU RELIGION                                                                                                         1\n",
       "Name: P4_8E, Length: 1950, dtype: int64"
      ]
     },
     "execution_count": 183,
     "metadata": {},
     "output_type": "execute_result"
    }
   ],
   "source": [
    "df_copy.P4_8E.value_counts()"
   ]
  },
  {
   "cell_type": "code",
   "execution_count": 184,
   "metadata": {},
   "outputs": [],
   "source": [
    "df_copy.drop('P4_8E',1, inplace=True)"
   ]
  },
  {
   "cell_type": "markdown",
   "metadata": {},
   "source": [
    "# 33.a columna P5_1 (5.1 ¿Disponen de servicio de televisión de paga?)\n",
    "## 1 Sí, 2 No"
   ]
  },
  {
   "cell_type": "code",
   "execution_count": 185,
   "metadata": {},
   "outputs": [
    {
     "data": {
      "text/plain": [
       "1    71872\n",
       "2    63469\n",
       "Name: P5_1, dtype: int64"
      ]
     },
     "execution_count": 185,
     "metadata": {},
     "output_type": "execute_result"
    }
   ],
   "source": [
    "df_copy.P5_1.value_counts()"
   ]
  },
  {
   "cell_type": "code",
   "execution_count": 186,
   "metadata": {},
   "outputs": [
    {
     "data": {
      "text/plain": [
       "False"
      ]
     },
     "execution_count": 186,
     "metadata": {},
     "output_type": "execute_result"
    }
   ],
   "source": [
    "df_copy.isnull().P5_1.any()"
   ]
  },
  {
   "cell_type": "code",
   "execution_count": 187,
   "metadata": {},
   "outputs": [
    {
     "data": {
      "text/plain": [
       "135341"
      ]
     },
     "execution_count": 187,
     "metadata": {},
     "output_type": "execute_result"
    }
   ],
   "source": [
    "df_copy.P5_1.value_counts().sum()"
   ]
  },
  {
   "cell_type": "markdown",
   "metadata": {},
   "source": [
    "# 34.a columna P5_2_1 (5.2 ¿Lo reciben por cable?)\n",
    "## 1 Sí, 2 No, 99 "
   ]
  },
  {
   "cell_type": "code",
   "execution_count": 188,
   "metadata": {},
   "outputs": [
    {
     "data": {
      "text/plain": [
       "1.0    44437\n",
       "2.0    27435\n",
       "Name: P5_2_1, dtype: int64"
      ]
     },
     "execution_count": 188,
     "metadata": {},
     "output_type": "execute_result"
    }
   ],
   "source": [
    "df_copy.P5_2_1.value_counts()"
   ]
  },
  {
   "cell_type": "code",
   "execution_count": 189,
   "metadata": {},
   "outputs": [
    {
     "data": {
      "text/plain": [
       "True"
      ]
     },
     "execution_count": 189,
     "metadata": {},
     "output_type": "execute_result"
    }
   ],
   "source": [
    "df_copy.isnull().P5_2_1.any()"
   ]
  },
  {
   "cell_type": "code",
   "execution_count": 190,
   "metadata": {},
   "outputs": [],
   "source": [
    "df_copy.P5_2_1 = df_copy.P5_2_1.astype('str')\n",
    "df_copy.P5_2_1.replace({'nan':'99'}, inplace=True)"
   ]
  },
  {
   "cell_type": "code",
   "execution_count": 191,
   "metadata": {},
   "outputs": [],
   "source": [
    "df_copy.P5_2_1 = df_copy.P5_2_1.astype('float').astype('int64')"
   ]
  },
  {
   "cell_type": "code",
   "execution_count": 192,
   "metadata": {},
   "outputs": [
    {
     "data": {
      "text/plain": [
       "99    63469\n",
       "1     44437\n",
       "2     27435\n",
       "Name: P5_2_1, dtype: int64"
      ]
     },
     "execution_count": 192,
     "metadata": {},
     "output_type": "execute_result"
    }
   ],
   "source": [
    "df_copy.P5_2_1.value_counts()"
   ]
  },
  {
   "cell_type": "code",
   "execution_count": 193,
   "metadata": {},
   "outputs": [
    {
     "data": {
      "text/plain": [
       "False"
      ]
     },
     "execution_count": 193,
     "metadata": {},
     "output_type": "execute_result"
    }
   ],
   "source": [
    "df_copy.isnull().P5_2_1.any()"
   ]
  },
  {
   "cell_type": "code",
   "execution_count": 194,
   "metadata": {},
   "outputs": [
    {
     "data": {
      "text/plain": [
       "135341"
      ]
     },
     "execution_count": 194,
     "metadata": {},
     "output_type": "execute_result"
    }
   ],
   "source": [
    "df_copy.P5_2_1.value_counts().sum()"
   ]
  },
  {
   "cell_type": "markdown",
   "metadata": {},
   "source": [
    "# 35.a columna P5_2_2 (vía satélite (Sky, Dish, etcétera)?)\n",
    "## 1 Sí, 2 No, 99 "
   ]
  },
  {
   "cell_type": "code",
   "execution_count": 195,
   "metadata": {},
   "outputs": [
    {
     "data": {
      "text/plain": [
       "2.0    44139\n",
       "1.0    27733\n",
       "Name: P5_2_2, dtype: int64"
      ]
     },
     "execution_count": 195,
     "metadata": {},
     "output_type": "execute_result"
    }
   ],
   "source": [
    "df_copy.P5_2_2.value_counts()"
   ]
  },
  {
   "cell_type": "code",
   "execution_count": 203,
   "metadata": {},
   "outputs": [
    {
     "data": {
      "text/plain": [
       "False"
      ]
     },
     "execution_count": 203,
     "metadata": {},
     "output_type": "execute_result"
    }
   ],
   "source": [
    "df_copy.isnull().P5_2_2.any()"
   ]
  },
  {
   "cell_type": "code",
   "execution_count": 197,
   "metadata": {},
   "outputs": [],
   "source": [
    "df_copy.P5_2_2 = df_copy.P5_2_2.astype('str')\n",
    "df_copy.P5_2_2.replace({'nan':'99'}, inplace=True)"
   ]
  },
  {
   "cell_type": "code",
   "execution_count": 198,
   "metadata": {},
   "outputs": [],
   "source": [
    "df_copy.P5_2_2 = df_copy.P5_2_2.astype('float').astype('int64')"
   ]
  },
  {
   "cell_type": "code",
   "execution_count": 199,
   "metadata": {},
   "outputs": [
    {
     "data": {
      "text/plain": [
       "99    63469\n",
       "2     44139\n",
       "1     27733\n",
       "Name: P5_2_2, dtype: int64"
      ]
     },
     "execution_count": 199,
     "metadata": {},
     "output_type": "execute_result"
    }
   ],
   "source": [
    "df_copy.P5_2_2.value_counts()"
   ]
  },
  {
   "cell_type": "code",
   "execution_count": 200,
   "metadata": {},
   "outputs": [
    {
     "data": {
      "text/plain": [
       "False"
      ]
     },
     "execution_count": 200,
     "metadata": {},
     "output_type": "execute_result"
    }
   ],
   "source": [
    "df_copy.isnull().P5_2_1.any()"
   ]
  },
  {
   "cell_type": "code",
   "execution_count": 201,
   "metadata": {},
   "outputs": [
    {
     "data": {
      "text/plain": [
       "135341"
      ]
     },
     "execution_count": 201,
     "metadata": {},
     "output_type": "execute_result"
    }
   ],
   "source": [
    "df_copy.P5_2_2.value_counts().sum()"
   ]
  },
  {
   "cell_type": "markdown",
   "metadata": {},
   "source": [
    "# 36.a columna P5_3 (5.3 ¿Por qué no cuentan con servicios de televisión de paga?)\n",
    "## 1 Falta de recursos económicos,2 No les interesa,3 Otra razón,99 blanco"
   ]
  },
  {
   "cell_type": "code",
   "execution_count": 202,
   "metadata": {},
   "outputs": [
    {
     "data": {
      "text/plain": [
       "1.0    37670\n",
       "2.0    20801\n",
       "3.0     4998\n",
       "Name: P5_3, dtype: int64"
      ]
     },
     "execution_count": 202,
     "metadata": {},
     "output_type": "execute_result"
    }
   ],
   "source": [
    "df_copy.P5_3.value_counts()"
   ]
  },
  {
   "cell_type": "code",
   "execution_count": 204,
   "metadata": {},
   "outputs": [],
   "source": [
    "df_copy.P5_3 = df_copy.P5_3.astype('str')\n",
    "df_copy.P5_3.replace({'nan':'99'}, inplace=True)\n",
    "df_copy.P5_3 = df_copy.P5_3.astype('float').astype('int64')"
   ]
  },
  {
   "cell_type": "code",
   "execution_count": 205,
   "metadata": {},
   "outputs": [
    {
     "data": {
      "text/plain": [
       "99    71872\n",
       "1     37670\n",
       "2     20801\n",
       "3      4998\n",
       "Name: P5_3, dtype: int64"
      ]
     },
     "execution_count": 205,
     "metadata": {},
     "output_type": "execute_result"
    }
   ],
   "source": [
    "df_copy.P5_3.value_counts()"
   ]
  },
  {
   "cell_type": "code",
   "execution_count": 206,
   "metadata": {},
   "outputs": [
    {
     "data": {
      "text/plain": [
       "135341"
      ]
     },
     "execution_count": 206,
     "metadata": {},
     "output_type": "execute_result"
    }
   ],
   "source": [
    "df_copy.P5_3.value_counts().sum()"
   ]
  },
  {
   "cell_type": "markdown",
   "metadata": {},
   "source": [
    "# 37.a columna P5_3E (Especifique)"
   ]
  },
  {
   "cell_type": "code",
   "execution_count": 207,
   "metadata": {},
   "outputs": [
    {
     "data": {
      "text/plain": [
       "NO TIENE TELEVISION                                                     232\n",
       "NO TIENEN TELEVISION                                                     94\n",
       "NO TIENE TV                                                              68\n",
       "NO LO NECESITA                                                           45\n",
       "FALTA DE TIEMPO                                                          35\n",
       "NO TIENEN TV                                                             34\n",
       "NO CUENTA CON TELEVISION                                                 32\n",
       "NO LO NECESITAN                                                          31\n",
       "NO TIENE TELEVISOR                                                       25\n",
       "NO HAY INFRAESTRUCTURA                                                   25\n",
       "NO LE GUSTA                                                              24\n",
       "NO CUENTAN CON TELEVISION                                                23\n",
       "NO TIENE TIEMPO                                                          23\n",
       "CASI NO ESTAN EN CASA                                                    22\n",
       "NO ES NECESARIO                                                          22\n",
       "NO TIENEN TIEMPO                                                         19\n",
       "MAL SERVICIO                                                             18\n",
       "PORQUE NO TIENE TELEVISION                                               18\n",
       "NO LO OCUPAN                                                             18\n",
       "POR FALTA DE TIEMPO                                                      16\n",
       "NO TIENEN TELEVISOR                                                      15\n",
       "NO CUENTAN CON TV                                                        15\n",
       "NO VEN TELEVISION                                                        15\n",
       "FALTA DE INFRAESTRUCTURA                                                 14\n",
       "NO CUENTAN CON TELEVISOR                                                 14\n",
       "PORQUE NO TIENEN TELEVISION                                              14\n",
       "NO CUENTA CON TV                                                         14\n",
       "NO LES GUSTA                                                             12\n",
       "NO TIENE LUZ                                                             12\n",
       "NO LA NECESITAN                                                          12\n",
       "                                                                       ... \n",
       "LES COMPARTEN EL SERVICIO EL OTRO HOGAR                                   1\n",
       "NO TIENE TELEVISION SE LA ROBARON                                         1\n",
       "VAN A CONTRATAR OTRO SERVICIO                                             1\n",
       "TIENE ANTENA DE CONEJO                                                    1\n",
       "SOLO UTILIZAN EL DECODIFICADOR5                                           1\n",
       "NO LE COMBIENE                                                            1\n",
       "POR LA REPETICION DE LA PROGRAMACION                                      1\n",
       "TIENEN POCO VIVIENDO AQUI                                                 1\n",
       "PORQUE CUENTA CON INTERNET                                                1\n",
       "NADIE SE LA PASA EN SU CASA LO VEN INNECESARIO                            1\n",
       "NO TIENE APARATO DE TV                                                    1\n",
       "FALTA DE TIEMPO PARA IR HACER EL CONTRATO                                 1\n",
       "UTILIZAN SEÃAL ABIERTA                                                   1\n",
       "POR QUE USA EL INTERNET                                                   1\n",
       "NO LO USABAN VEN TODO EN INTERNET                                         1\n",
       "APENAS SE PASARON ALA VIVIENDA APENAS LO VAN A SOLICITAR                  1\n",
       "NO LO GUSTA                                                               1\n",
       "TIENE UNA ANTENA YA QUE NO ESTABA CONFORME CON EL TELECABLE               1\n",
       "PORQUE NO LE GUSTO EL PAQUETE CON TV                                      1\n",
       "NO TIENE TELEVISION POR ESO NO TIENE SERVICIO DE TV DE PAGA               1\n",
       "AQUI NO HAY ESO ESTAMOS INCOMUNICADOS                                     1\n",
       "ME ESTOY INSTALANDO EN LA CASA                                            1\n",
       "PORQUE CASI N ESTAN WN LA VIIEND                                          1\n",
       "NO ESTAN EN CASA DURANTE EL DIA                                           1\n",
       "POR QUE SUS HIJOS NO SE LO CONTRATARON                                    1\n",
       "NO ES NECESARIO YA QUE COMENTA QUE NO SE ENCUENTRAN CASI EN EL HOGAR      1\n",
       "NO LES SATISFACE LA CALIDAD DE PROGRAMACION                               1\n",
       "POR QUE APENAS LO VA A CONTRATAR APENAS                                   1\n",
       "TIENEN ANTENA AEREA TELEVISION ABIERTA                                    1\n",
       "POR QUE CONECTAN LA PANTALLA A INTERNET                                   1\n",
       "Name: P5_3E, Length: 3354, dtype: int64"
      ]
     },
     "execution_count": 207,
     "metadata": {},
     "output_type": "execute_result"
    }
   ],
   "source": [
    "df_copy.P5_3E.value_counts()"
   ]
  },
  {
   "cell_type": "code",
   "execution_count": 208,
   "metadata": {},
   "outputs": [],
   "source": [
    "df_copy.P5_3E = df_copy.P5_3E.astype('str')\n",
    "df_copy.P5_3E.replace({'nan':'b'}, inplace=True)"
   ]
  },
  {
   "cell_type": "code",
   "execution_count": 209,
   "metadata": {},
   "outputs": [
    {
     "data": {
      "text/plain": [
       "b                                                                       130343\n",
       "NO TIENE TELEVISION                                                        232\n",
       "NO TIENEN TELEVISION                                                        94\n",
       "NO TIENE TV                                                                 68\n",
       "NO LO NECESITA                                                              45\n",
       "FALTA DE TIEMPO                                                             35\n",
       "NO TIENEN TV                                                                34\n",
       "NO CUENTA CON TELEVISION                                                    32\n",
       "NO LO NECESITAN                                                             31\n",
       "NO TIENE TELEVISOR                                                          25\n",
       "NO HAY INFRAESTRUCTURA                                                      25\n",
       "NO LE GUSTA                                                                 24\n",
       "NO CUENTAN CON TELEVISION                                                   23\n",
       "NO TIENE TIEMPO                                                             23\n",
       "NO ES NECESARIO                                                             22\n",
       "CASI NO ESTAN EN CASA                                                       22\n",
       "NO TIENEN TIEMPO                                                            19\n",
       "PORQUE NO TIENE TELEVISION                                                  18\n",
       "MAL SERVICIO                                                                18\n",
       "NO LO OCUPAN                                                                18\n",
       "POR FALTA DE TIEMPO                                                         16\n",
       "NO VEN TELEVISION                                                           15\n",
       "NO TIENEN TELEVISOR                                                         15\n",
       "NO CUENTAN CON TV                                                           15\n",
       "PORQUE NO TIENEN TELEVISION                                                 14\n",
       "NO CUENTA CON TV                                                            14\n",
       "NO CUENTAN CON TELEVISOR                                                    14\n",
       "FALTA DE INFRAESTRUCTURA                                                    14\n",
       "NO TIENE LUZ                                                                12\n",
       "NO LO UTILIZAN                                                              12\n",
       "                                                                         ...  \n",
       "LES COMPARTEN EL SERVICIO EL OTRO HOGAR                                      1\n",
       "NO TIENE TELEVISION SE LA ROBARON                                            1\n",
       "VAN A CONTRATAR OTRO SERVICIO                                                1\n",
       "TIENE ANTENA DE CONEJO                                                       1\n",
       "SOLO UTILIZAN EL DECODIFICADOR5                                              1\n",
       "NO LE COMBIENE                                                               1\n",
       "POR LA REPETICION DE LA PROGRAMACION                                         1\n",
       "TIENEN POCO VIVIENDO AQUI                                                    1\n",
       "PORQUE CUENTA CON INTERNET                                                   1\n",
       "NADIE SE LA PASA EN SU CASA LO VEN INNECESARIO                               1\n",
       "NO TIENE APARATO DE TV                                                       1\n",
       "FALTA DE TIEMPO PARA IR HACER EL CONTRATO                                    1\n",
       "UTILIZAN SEÃAL ABIERTA                                                      1\n",
       "POR QUE USA EL INTERNET                                                      1\n",
       "NO LO USABAN VEN TODO EN INTERNET                                            1\n",
       "APENAS SE PASARON ALA VIVIENDA APENAS LO VAN A SOLICITAR                     1\n",
       "NO LO GUSTA                                                                  1\n",
       "TIENE UNA ANTENA YA QUE NO ESTABA CONFORME CON EL TELECABLE                  1\n",
       "PORQUE NO LE GUSTO EL PAQUETE CON TV                                         1\n",
       "NO TIENE TELEVISION POR ESO NO TIENE SERVICIO DE TV DE PAGA                  1\n",
       "AQUI NO HAY ESO ESTAMOS INCOMUNICADOS                                        1\n",
       "ME ESTOY INSTALANDO EN LA CASA                                               1\n",
       "PORQUE CASI N ESTAN WN LA VIIEND                                             1\n",
       "NO ESTAN EN CASA DURANTE EL DIA                                              1\n",
       "POR QUE SUS HIJOS NO SE LO CONTRATARON                                       1\n",
       "NO ES NECESARIO YA QUE COMENTA QUE NO SE ENCUENTRAN CASI EN EL HOGAR         1\n",
       "NO LES SATISFACE LA CALIDAD DE PROGRAMACION                                  1\n",
       "POR QUE APENAS LO VA A CONTRATAR APENAS                                      1\n",
       "TIENEN ANTENA AEREA TELEVISION ABIERTA                                       1\n",
       "ES FOMENTAR EL OCIO                                                          1\n",
       "Name: P5_3E, Length: 3355, dtype: int64"
      ]
     },
     "execution_count": 209,
     "metadata": {},
     "output_type": "execute_result"
    }
   ],
   "source": [
    "df_copy.P5_3E.value_counts()"
   ]
  },
  {
   "cell_type": "code",
   "execution_count": 210,
   "metadata": {},
   "outputs": [],
   "source": [
    "df_copy.drop('P5_3E',1, inplace=True)"
   ]
  },
  {
   "cell_type": "markdown",
   "metadata": {},
   "source": [
    "# 38.a columna P5_4 (5.4 ¿Disponen de línea telefónica fija (puede ser telefonía celular fija)?)\n",
    "## 1 Sí, 2 No"
   ]
  },
  {
   "cell_type": "code",
   "execution_count": 211,
   "metadata": {},
   "outputs": [
    {
     "data": {
      "text/plain": [
       "2    84932\n",
       "1    50409\n",
       "Name: P5_4, dtype: int64"
      ]
     },
     "execution_count": 211,
     "metadata": {},
     "output_type": "execute_result"
    }
   ],
   "source": [
    "df_copy.P5_4.value_counts()"
   ]
  },
  {
   "cell_type": "code",
   "execution_count": 212,
   "metadata": {},
   "outputs": [
    {
     "data": {
      "text/plain": [
       "135341"
      ]
     },
     "execution_count": 212,
     "metadata": {},
     "output_type": "execute_result"
    }
   ],
   "source": [
    "df_copy.P5_4.value_counts().sum()"
   ]
  },
  {
   "cell_type": "markdown",
   "metadata": {},
   "source": [
    "# 39.a columna P5_5_1 (5.5 VERIFIQUE Y CIRCULE LOS SERVICIOS QUE TIENE EN EL HOGAR (VEA: 4.4, 5.1 Y 5.4): Internet)\n",
    "## 1 Sí, 2 No"
   ]
  },
  {
   "cell_type": "code",
   "execution_count": 213,
   "metadata": {},
   "outputs": [
    {
     "data": {
      "text/plain": [
       "1    75001\n",
       "2    60340\n",
       "Name: P5_5_1, dtype: int64"
      ]
     },
     "execution_count": 213,
     "metadata": {},
     "output_type": "execute_result"
    }
   ],
   "source": [
    "df_copy.P5_5_1.value_counts()"
   ]
  },
  {
   "cell_type": "code",
   "execution_count": 215,
   "metadata": {},
   "outputs": [
    {
     "data": {
      "text/plain": [
       "135341"
      ]
     },
     "execution_count": 215,
     "metadata": {},
     "output_type": "execute_result"
    }
   ],
   "source": [
    "df_copy.P5_5_1.value_counts().sum()"
   ]
  },
  {
   "cell_type": "markdown",
   "metadata": {},
   "source": [
    "# 40.a columna P5_5_2 (TV de paga)\n",
    "## 1 Sí, 2 No"
   ]
  },
  {
   "cell_type": "code",
   "execution_count": 216,
   "metadata": {},
   "outputs": [
    {
     "data": {
      "text/plain": [
       "1    71872\n",
       "2    63469\n",
       "Name: P5_5_2, dtype: int64"
      ]
     },
     "execution_count": 216,
     "metadata": {},
     "output_type": "execute_result"
    }
   ],
   "source": [
    "df_copy.P5_5_2.value_counts()"
   ]
  },
  {
   "cell_type": "code",
   "execution_count": 217,
   "metadata": {},
   "outputs": [
    {
     "data": {
      "text/plain": [
       "135341"
      ]
     },
     "execution_count": 217,
     "metadata": {},
     "output_type": "execute_result"
    }
   ],
   "source": [
    "df_copy.P5_5_2.value_counts().sum()"
   ]
  },
  {
   "cell_type": "code",
   "execution_count": null,
   "metadata": {},
   "outputs": [],
   "source": []
  }
 ],
 "metadata": {
  "anaconda-cloud": {},
  "kernelspec": {
   "display_name": "Python 3",
   "language": "python",
   "name": "python3"
  },
  "language_info": {
   "codemirror_mode": {
    "name": "ipython",
    "version": 3
   },
   "file_extension": ".py",
   "mimetype": "text/x-python",
   "name": "python",
   "nbconvert_exporter": "python",
   "pygments_lexer": "ipython3",
   "version": "3.6.5"
  }
 },
 "nbformat": 4,
 "nbformat_minor": 1
}
