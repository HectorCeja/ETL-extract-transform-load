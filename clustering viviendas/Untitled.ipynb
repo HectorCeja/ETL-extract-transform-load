{
 "cells": [
  {
   "cell_type": "code",
   "execution_count": 1,
   "metadata": {
    "collapsed": true
   },
   "outputs": [],
   "source": [
    "import pandas as pnd #para manejar el dataframe\n",
    "import numpy as np #para abrir el csv\n",
    "import matplotlib.pyplot as plt #para graficar \n",
    "import sklearn as sk #para normalizar los datos\n",
    "from sklearn.cluster import KMeans"
   ]
  },
  {
   "cell_type": "code",
   "execution_count": 2,
   "metadata": {
    "collapsed": false
   },
   "outputs": [
    {
     "data": {
      "text/html": [
       "<div>\n",
       "<table border=\"1\" class=\"dataframe\">\n",
       "  <thead>\n",
       "    <tr style=\"text-align: right;\">\n",
       "      <th></th>\n",
       "      <th>Unnamed: 0</th>\n",
       "      <th>VIV_SEL</th>\n",
       "      <th>P1_1</th>\n",
       "      <th>P1_2</th>\n",
       "      <th>P1_3</th>\n",
       "      <th>P1_4</th>\n",
       "      <th>P1_5_1</th>\n",
       "      <th>P1_5_2</th>\n",
       "      <th>P2_1</th>\n",
       "      <th>P2_2</th>\n",
       "      <th>P2_3</th>\n",
       "      <th>cve_est</th>\n",
       "      <th>cve_mun</th>\n",
       "      <th>Cluster</th>\n",
       "    </tr>\n",
       "  </thead>\n",
       "  <tbody>\n",
       "    <tr>\n",
       "      <th>0</th>\n",
       "      <td>0</td>\n",
       "      <td>5</td>\n",
       "      <td>2</td>\n",
       "      <td>1</td>\n",
       "      <td>1</td>\n",
       "      <td>1</td>\n",
       "      <td>1</td>\n",
       "      <td>1</td>\n",
       "      <td>4</td>\n",
       "      <td>1</td>\n",
       "      <td>1</td>\n",
       "      <td>1</td>\n",
       "      <td>1</td>\n",
       "      <td>1</td>\n",
       "    </tr>\n",
       "    <tr>\n",
       "      <th>1</th>\n",
       "      <td>1</td>\n",
       "      <td>1</td>\n",
       "      <td>3</td>\n",
       "      <td>1</td>\n",
       "      <td>1</td>\n",
       "      <td>1</td>\n",
       "      <td>1</td>\n",
       "      <td>1</td>\n",
       "      <td>7</td>\n",
       "      <td>1</td>\n",
       "      <td>1</td>\n",
       "      <td>1</td>\n",
       "      <td>1</td>\n",
       "      <td>2</td>\n",
       "    </tr>\n",
       "    <tr>\n",
       "      <th>2</th>\n",
       "      <td>2</td>\n",
       "      <td>3</td>\n",
       "      <td>3</td>\n",
       "      <td>1</td>\n",
       "      <td>1</td>\n",
       "      <td>1</td>\n",
       "      <td>1</td>\n",
       "      <td>1</td>\n",
       "      <td>8</td>\n",
       "      <td>1</td>\n",
       "      <td>1</td>\n",
       "      <td>1</td>\n",
       "      <td>1</td>\n",
       "      <td>2</td>\n",
       "    </tr>\n",
       "    <tr>\n",
       "      <th>3</th>\n",
       "      <td>3</td>\n",
       "      <td>4</td>\n",
       "      <td>3</td>\n",
       "      <td>1</td>\n",
       "      <td>1</td>\n",
       "      <td>1</td>\n",
       "      <td>1</td>\n",
       "      <td>1</td>\n",
       "      <td>5</td>\n",
       "      <td>1</td>\n",
       "      <td>1</td>\n",
       "      <td>1</td>\n",
       "      <td>1</td>\n",
       "      <td>2</td>\n",
       "    </tr>\n",
       "    <tr>\n",
       "      <th>4</th>\n",
       "      <td>4</td>\n",
       "      <td>5</td>\n",
       "      <td>3</td>\n",
       "      <td>1</td>\n",
       "      <td>1</td>\n",
       "      <td>1</td>\n",
       "      <td>1</td>\n",
       "      <td>1</td>\n",
       "      <td>6</td>\n",
       "      <td>1</td>\n",
       "      <td>1</td>\n",
       "      <td>1</td>\n",
       "      <td>1</td>\n",
       "      <td>2</td>\n",
       "    </tr>\n",
       "  </tbody>\n",
       "</table>\n",
       "</div>"
      ],
      "text/plain": [
       "   Unnamed: 0  VIV_SEL  P1_1  P1_2  P1_3  P1_4  P1_5_1  P1_5_2  P2_1  P2_2  \\\n",
       "0           0        5     2     1     1     1       1       1     4     1   \n",
       "1           1        1     3     1     1     1       1       1     7     1   \n",
       "2           2        3     3     1     1     1       1       1     8     1   \n",
       "3           3        4     3     1     1     1       1       1     5     1   \n",
       "4           4        5     3     1     1     1       1       1     6     1   \n",
       "\n",
       "   P2_3  cve_est  cve_mun  Cluster  \n",
       "0     1        1        1        1  \n",
       "1     1        1        1        2  \n",
       "2     1        1        1        2  \n",
       "3     1        1        1        2  \n",
       "4     1        1        1        2  "
      ]
     },
     "execution_count": 2,
     "metadata": {},
     "output_type": "execute_result"
    }
   ],
   "source": [
    "X = pnd.read_csv(\"viviendas_2015_clusters.csv\")\n",
    "X.head()"
   ]
  },
  {
   "cell_type": "code",
   "execution_count": 3,
   "metadata": {
    "collapsed": true
   },
   "outputs": [],
   "source": [
    "X.drop('Unnamed: 0', 1, inplace=True)"
   ]
  },
  {
   "cell_type": "code",
   "execution_count": 4,
   "metadata": {
    "collapsed": false
   },
   "outputs": [
    {
     "data": {
      "text/plain": [
       "15    3393\n",
       "11    3097\n",
       "30    3001\n",
       "21    2784\n",
       "7     2762\n",
       "20    2694\n",
       "2     2663\n",
       "14    2657\n",
       "19    2507\n",
       "32    2485\n",
       "8     2427\n",
       "18    2419\n",
       "12    2418\n",
       "28    2401\n",
       "5     2399\n",
       "24    2397\n",
       "16    2382\n",
       "4     2379\n",
       "27    2351\n",
       "26    2326\n",
       "22    2311\n",
       "1     2301\n",
       "6     2283\n",
       "25    2274\n",
       "9     2261\n",
       "10    2251\n",
       "29    2205\n",
       "13    2184\n",
       "31    2181\n",
       "17    2179\n",
       "3     2073\n",
       "23    1961\n",
       "Name: cve_mun, dtype: int64"
      ]
     },
     "execution_count": 4,
     "metadata": {},
     "output_type": "execute_result"
    }
   ],
   "source": [
    "X.cve_mun.value_counts()"
   ]
  },
  {
   "cell_type": "code",
   "execution_count": null,
   "metadata": {
    "collapsed": true
   },
   "outputs": [],
   "source": []
  }
 ],
 "metadata": {
  "kernelspec": {
   "display_name": "Python [default]",
   "language": "python",
   "name": "python3"
  },
  "language_info": {
   "codemirror_mode": {
    "name": "ipython",
    "version": 3
   },
   "file_extension": ".py",
   "mimetype": "text/x-python",
   "name": "python",
   "nbconvert_exporter": "python",
   "pygments_lexer": "ipython3",
   "version": "3.5.2"
  }
 },
 "nbformat": 4,
 "nbformat_minor": 1
}
