{
 "cells": [
  {
   "cell_type": "code",
   "execution_count": 1,
   "metadata": {
    "collapsed": true
   },
   "outputs": [],
   "source": [
    "import pandas as pnd #para manejar el dataframe\n",
    "import numpy as np #para abrir el csv\n",
    "import matplotlib.pyplot as plt #para graficar \n",
    "import sklearn as sk #para normalizar los datos\n",
    "from sklearn.cluster import KMeans"
   ]
  },
  {
   "cell_type": "code",
   "execution_count": 5,
   "metadata": {
    "collapsed": false
   },
   "outputs": [
    {
     "data": {
      "text/html": [
       "<div>\n",
       "<table border=\"1\" class=\"dataframe\">\n",
       "  <thead>\n",
       "    <tr style=\"text-align: right;\">\n",
       "      <th></th>\n",
       "      <th>Unnamed: 0</th>\n",
       "      <th>VIV_SEL</th>\n",
       "      <th>P1_1</th>\n",
       "      <th>P1_2</th>\n",
       "      <th>P1_3</th>\n",
       "      <th>P1_4</th>\n",
       "      <th>P1_5_1</th>\n",
       "      <th>P1_5_2</th>\n",
       "      <th>P2_1</th>\n",
       "      <th>P2_2</th>\n",
       "      <th>P2_3</th>\n",
       "      <th>cve_est</th>\n",
       "      <th>cve_mun</th>\n",
       "      <th>Cluster</th>\n",
       "    </tr>\n",
       "  </thead>\n",
       "  <tbody>\n",
       "    <tr>\n",
       "      <th>0</th>\n",
       "      <td>0</td>\n",
       "      <td>5</td>\n",
       "      <td>2</td>\n",
       "      <td>1</td>\n",
       "      <td>1</td>\n",
       "      <td>1</td>\n",
       "      <td>1</td>\n",
       "      <td>1</td>\n",
       "      <td>4</td>\n",
       "      <td>1</td>\n",
       "      <td>1</td>\n",
       "      <td>1</td>\n",
       "      <td>1</td>\n",
       "      <td>2</td>\n",
       "    </tr>\n",
       "    <tr>\n",
       "      <th>1</th>\n",
       "      <td>1</td>\n",
       "      <td>1</td>\n",
       "      <td>3</td>\n",
       "      <td>1</td>\n",
       "      <td>1</td>\n",
       "      <td>1</td>\n",
       "      <td>1</td>\n",
       "      <td>1</td>\n",
       "      <td>7</td>\n",
       "      <td>1</td>\n",
       "      <td>1</td>\n",
       "      <td>1</td>\n",
       "      <td>1</td>\n",
       "      <td>2</td>\n",
       "    </tr>\n",
       "    <tr>\n",
       "      <th>2</th>\n",
       "      <td>2</td>\n",
       "      <td>3</td>\n",
       "      <td>3</td>\n",
       "      <td>1</td>\n",
       "      <td>1</td>\n",
       "      <td>1</td>\n",
       "      <td>1</td>\n",
       "      <td>1</td>\n",
       "      <td>8</td>\n",
       "      <td>1</td>\n",
       "      <td>1</td>\n",
       "      <td>1</td>\n",
       "      <td>1</td>\n",
       "      <td>2</td>\n",
       "    </tr>\n",
       "    <tr>\n",
       "      <th>3</th>\n",
       "      <td>3</td>\n",
       "      <td>4</td>\n",
       "      <td>3</td>\n",
       "      <td>1</td>\n",
       "      <td>1</td>\n",
       "      <td>1</td>\n",
       "      <td>1</td>\n",
       "      <td>1</td>\n",
       "      <td>5</td>\n",
       "      <td>1</td>\n",
       "      <td>1</td>\n",
       "      <td>1</td>\n",
       "      <td>1</td>\n",
       "      <td>2</td>\n",
       "    </tr>\n",
       "    <tr>\n",
       "      <th>4</th>\n",
       "      <td>4</td>\n",
       "      <td>5</td>\n",
       "      <td>3</td>\n",
       "      <td>1</td>\n",
       "      <td>1</td>\n",
       "      <td>1</td>\n",
       "      <td>1</td>\n",
       "      <td>1</td>\n",
       "      <td>6</td>\n",
       "      <td>1</td>\n",
       "      <td>1</td>\n",
       "      <td>1</td>\n",
       "      <td>1</td>\n",
       "      <td>2</td>\n",
       "    </tr>\n",
       "  </tbody>\n",
       "</table>\n",
       "</div>"
      ],
      "text/plain": [
       "   Unnamed: 0  VIV_SEL  P1_1  P1_2  P1_3  P1_4  P1_5_1  P1_5_2  P2_1  P2_2  \\\n",
       "0           0        5     2     1     1     1       1       1     4     1   \n",
       "1           1        1     3     1     1     1       1       1     7     1   \n",
       "2           2        3     3     1     1     1       1       1     8     1   \n",
       "3           3        4     3     1     1     1       1       1     5     1   \n",
       "4           4        5     3     1     1     1       1       1     6     1   \n",
       "\n",
       "   P2_3  cve_est  cve_mun  Cluster  \n",
       "0     1        1        1        2  \n",
       "1     1        1        1        2  \n",
       "2     1        1        1        2  \n",
       "3     1        1        1        2  \n",
       "4     1        1        1        2  "
      ]
     },
     "execution_count": 5,
     "metadata": {},
     "output_type": "execute_result"
    }
   ],
   "source": [
    "X = pnd.read_csv(\"viviendas_2015_clusters.csv\")\n",
    "X.head()"
   ]
  },
  {
   "cell_type": "code",
   "execution_count": 6,
   "metadata": {
    "collapsed": true
   },
   "outputs": [],
   "source": [
    "X.drop('Unnamed: 0', 1, inplace=True)"
   ]
  },
  {
   "cell_type": "code",
   "execution_count": 7,
   "metadata": {
    "collapsed": false
   },
   "outputs": [
    {
     "data": {
      "text/plain": [
       "4      4104\n",
       "1      3944\n",
       "5      3805\n",
       "2      3546\n",
       "3      2996\n",
       "17     2784\n",
       "30     2717\n",
       "6      2709\n",
       "20     2153\n",
       "7      2110\n",
       "10     1681\n",
       "14     1653\n",
       "39     1612\n",
       "101    1598\n",
       "53     1541\n",
       "19     1524\n",
       "114    1513\n",
       "28     1462\n",
       "48     1280\n",
       "8      1255\n",
       "50     1230\n",
       "9      1180\n",
       "11     1161\n",
       "18     1130\n",
       "193    1063\n",
       "35      996\n",
       "106     971\n",
       "38      880\n",
       "67      843\n",
       "12      828\n",
       "       ... \n",
       "317      18\n",
       "198      18\n",
       "217      18\n",
       "207      18\n",
       "533      18\n",
       "401      18\n",
       "520      18\n",
       "210      18\n",
       "142      17\n",
       "190      17\n",
       "160      17\n",
       "513      17\n",
       "278      17\n",
       "234      17\n",
       "166      16\n",
       "211      16\n",
       "128      16\n",
       "202      16\n",
       "64       16\n",
       "346      15\n",
       "327      15\n",
       "88       14\n",
       "422      13\n",
       "403      10\n",
       "227       9\n",
       "136       9\n",
       "519       5\n",
       "135       5\n",
       "175       4\n",
       "138       4\n",
       "Name: cve_mun, dtype: int64"
      ]
     },
     "execution_count": 7,
     "metadata": {},
     "output_type": "execute_result"
    }
   ],
   "source": [
    "X.cve_mun.value_counts()"
   ]
  },
  {
   "cell_type": "code",
   "execution_count": 11,
   "metadata": {
    "collapsed": false
   },
   "outputs": [
    {
     "data": {
      "text/plain": [
       "3    26341\n",
       "1    20369\n",
       "0    20250\n",
       "2    11446\n",
       "Name: Cluster, dtype: int64"
      ]
     },
     "execution_count": 11,
     "metadata": {},
     "output_type": "execute_result"
    }
   ],
   "source": [
    "X.Cluster.value_counts()"
   ]
  },
  {
   "cell_type": "code",
   "execution_count": null,
   "metadata": {
    "collapsed": true
   },
   "outputs": [],
   "source": []
  }
 ],
 "metadata": {
  "anaconda-cloud": {},
  "kernelspec": {
   "display_name": "Python [default]",
   "language": "python",
   "name": "python3"
  },
  "language_info": {
   "codemirror_mode": {
    "name": "ipython",
    "version": 3
   },
   "file_extension": ".py",
   "mimetype": "text/x-python",
   "name": "python",
   "nbconvert_exporter": "python",
   "pygments_lexer": "ipython3",
   "version": "3.5.2"
  }
 },
 "nbformat": 4,
 "nbformat_minor": 1
}
