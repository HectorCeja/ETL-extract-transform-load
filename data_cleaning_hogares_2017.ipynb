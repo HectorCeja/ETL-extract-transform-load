{
 "cells": [
  {
   "cell_type": "markdown",
   "metadata": {},
   "source": [
    "# Limpieza de datos para encuesta ENDITUH 2017, Tabla tr_hogar"
   ]
  },
  {
   "cell_type": "code",
   "execution_count": 358,
   "metadata": {
    "collapsed": true
   },
   "outputs": [],
   "source": [
    "import pandas as pd\n",
    "import numpy as np"
   ]
  },
  {
   "cell_type": "code",
   "execution_count": 359,
   "metadata": {
    "collapsed": false
   },
   "outputs": [
    {
     "data": {
      "text/html": [
       "<div>\n",
       "<style scoped>\n",
       "    .dataframe tbody tr th:only-of-type {\n",
       "        vertical-align: middle;\n",
       "    }\n",
       "\n",
       "    .dataframe tbody tr th {\n",
       "        vertical-align: top;\n",
       "    }\n",
       "\n",
       "    .dataframe thead th {\n",
       "        text-align: right;\n",
       "    }\n",
       "</style>\n",
       "<table border=\"1\" class=\"dataframe\">\n",
       "  <thead>\n",
       "    <tr style=\"text-align: right;\">\n",
       "      <th></th>\n",
       "      <th>UPM</th>\n",
       "      <th>VIV_SEL</th>\n",
       "      <th>HOGAR</th>\n",
       "      <th>N_INF</th>\n",
       "      <th>P4_1_1</th>\n",
       "      <th>P4_1_2</th>\n",
       "      <th>P4_1_3</th>\n",
       "      <th>P4_1_4</th>\n",
       "      <th>P4_1_5</th>\n",
       "      <th>P4_1_6</th>\n",
       "      <th>...</th>\n",
       "      <th>P5_7_7</th>\n",
       "      <th>P5_8_7</th>\n",
       "      <th>P5_10_1</th>\n",
       "      <th>P5_10_2</th>\n",
       "      <th>P5_10_3</th>\n",
       "      <th>CD_ENDUTIH</th>\n",
       "      <th>ENT</th>\n",
       "      <th>FAC_HOG</th>\n",
       "      <th>UPM_DIS</th>\n",
       "      <th>EST_DIS</th>\n",
       "    </tr>\n",
       "  </thead>\n",
       "  <tbody>\n",
       "    <tr>\n",
       "      <th>0</th>\n",
       "      <td>100008</td>\n",
       "      <td>1</td>\n",
       "      <td>1</td>\n",
       "      <td>2</td>\n",
       "      <td>1</td>\n",
       "      <td>1</td>\n",
       "      <td>1</td>\n",
       "      <td>1</td>\n",
       "      <td>1</td>\n",
       "      <td>2</td>\n",
       "      <td>...</td>\n",
       "      <td>NaN</td>\n",
       "      <td>NaN</td>\n",
       "      <td>1.0</td>\n",
       "      <td>2.0</td>\n",
       "      <td>1.0</td>\n",
       "      <td>14.0</td>\n",
       "      <td>1</td>\n",
       "      <td>144.0</td>\n",
       "      <td>1</td>\n",
       "      <td>3</td>\n",
       "    </tr>\n",
       "    <tr>\n",
       "      <th>1</th>\n",
       "      <td>100008</td>\n",
       "      <td>2</td>\n",
       "      <td>1</td>\n",
       "      <td>1</td>\n",
       "      <td>2</td>\n",
       "      <td>1</td>\n",
       "      <td>2</td>\n",
       "      <td>1</td>\n",
       "      <td>1</td>\n",
       "      <td>2</td>\n",
       "      <td>...</td>\n",
       "      <td>200.0</td>\n",
       "      <td>NaN</td>\n",
       "      <td>1.0</td>\n",
       "      <td>1.0</td>\n",
       "      <td>3.0</td>\n",
       "      <td>14.0</td>\n",
       "      <td>1</td>\n",
       "      <td>144.0</td>\n",
       "      <td>1</td>\n",
       "      <td>3</td>\n",
       "    </tr>\n",
       "    <tr>\n",
       "      <th>2</th>\n",
       "      <td>100008</td>\n",
       "      <td>3</td>\n",
       "      <td>1</td>\n",
       "      <td>1</td>\n",
       "      <td>1</td>\n",
       "      <td>1</td>\n",
       "      <td>1</td>\n",
       "      <td>1</td>\n",
       "      <td>1</td>\n",
       "      <td>1</td>\n",
       "      <td>...</td>\n",
       "      <td>NaN</td>\n",
       "      <td>NaN</td>\n",
       "      <td>1.0</td>\n",
       "      <td>2.0</td>\n",
       "      <td>1.0</td>\n",
       "      <td>14.0</td>\n",
       "      <td>1</td>\n",
       "      <td>144.0</td>\n",
       "      <td>1</td>\n",
       "      <td>3</td>\n",
       "    </tr>\n",
       "    <tr>\n",
       "      <th>3</th>\n",
       "      <td>100008</td>\n",
       "      <td>4</td>\n",
       "      <td>1</td>\n",
       "      <td>1</td>\n",
       "      <td>2</td>\n",
       "      <td>2</td>\n",
       "      <td>2</td>\n",
       "      <td>2</td>\n",
       "      <td>1</td>\n",
       "      <td>2</td>\n",
       "      <td>...</td>\n",
       "      <td>400.0</td>\n",
       "      <td>NaN</td>\n",
       "      <td>1.0</td>\n",
       "      <td>3.0</td>\n",
       "      <td>3.0</td>\n",
       "      <td>14.0</td>\n",
       "      <td>1</td>\n",
       "      <td>144.0</td>\n",
       "      <td>1</td>\n",
       "      <td>3</td>\n",
       "    </tr>\n",
       "    <tr>\n",
       "      <th>4</th>\n",
       "      <td>100008</td>\n",
       "      <td>4</td>\n",
       "      <td>2</td>\n",
       "      <td>1</td>\n",
       "      <td>2</td>\n",
       "      <td>2</td>\n",
       "      <td>2</td>\n",
       "      <td>2</td>\n",
       "      <td>1</td>\n",
       "      <td>2</td>\n",
       "      <td>...</td>\n",
       "      <td>0.0</td>\n",
       "      <td>1.0</td>\n",
       "      <td>1.0</td>\n",
       "      <td>3.0</td>\n",
       "      <td>3.0</td>\n",
       "      <td>14.0</td>\n",
       "      <td>1</td>\n",
       "      <td>144.0</td>\n",
       "      <td>1</td>\n",
       "      <td>3</td>\n",
       "    </tr>\n",
       "  </tbody>\n",
       "</table>\n",
       "<p>5 rows × 75 columns</p>\n",
       "</div>"
      ],
      "text/plain": [
       "      UPM  VIV_SEL  HOGAR  N_INF  P4_1_1  P4_1_2  P4_1_3  P4_1_4  P4_1_5  \\\n",
       "0  100008        1      1      2       1       1       1       1       1   \n",
       "1  100008        2      1      1       2       1       2       1       1   \n",
       "2  100008        3      1      1       1       1       1       1       1   \n",
       "3  100008        4      1      1       2       2       2       2       1   \n",
       "4  100008        4      2      1       2       2       2       2       1   \n",
       "\n",
       "   P4_1_6   ...     P5_7_7  P5_8_7  P5_10_1  P5_10_2 P5_10_3  CD_ENDUTIH  ENT  \\\n",
       "0       2   ...        NaN     NaN      1.0      2.0     1.0        14.0    1   \n",
       "1       2   ...      200.0     NaN      1.0      1.0     3.0        14.0    1   \n",
       "2       1   ...        NaN     NaN      1.0      2.0     1.0        14.0    1   \n",
       "3       2   ...      400.0     NaN      1.0      3.0     3.0        14.0    1   \n",
       "4       2   ...        0.0     1.0      1.0      3.0     3.0        14.0    1   \n",
       "\n",
       "   FAC_HOG  UPM_DIS  EST_DIS  \n",
       "0    144.0        1        3  \n",
       "1    144.0        1        3  \n",
       "2    144.0        1        3  \n",
       "3    144.0        1        3  \n",
       "4    144.0        1        3  \n",
       "\n",
       "[5 rows x 75 columns]"
      ]
     },
     "execution_count": 359,
     "metadata": {},
     "output_type": "execute_result"
    }
   ],
   "source": [
    "df = pd.read_csv('tr_hogar.csv', encoding='latin', low_memory=False)\n",
    "df.head()"
   ]
  },
  {
   "cell_type": "markdown",
   "metadata": {},
   "source": [
    "## General stats"
   ]
  },
  {
   "cell_type": "code",
   "execution_count": 360,
   "metadata": {
    "collapsed": false,
    "scrolled": true
   },
   "outputs": [
    {
     "name": "stdout",
     "output_type": "stream",
     "text": [
      "<class 'pandas.core.frame.DataFrame'>\n",
      "RangeIndex: 135341 entries, 0 to 135340\n",
      "Data columns (total 75 columns):\n",
      "UPM           135341 non-null int64\n",
      "VIV_SEL       135341 non-null int64\n",
      "HOGAR         135341 non-null int64\n",
      "N_INF         135341 non-null int64\n",
      "P4_1_1        135341 non-null int64\n",
      "P4_1_2        135341 non-null int64\n",
      "P4_1_3        135341 non-null int64\n",
      "P4_1_4        135341 non-null int64\n",
      "P4_1_5        135341 non-null int64\n",
      "P4_1_6        135341 non-null int64\n",
      "P4_2_1        135341 non-null int64\n",
      "P4_2_2        135341 non-null int64\n",
      "P4_2_3        135341 non-null int64\n",
      "P4_3          70348 non-null float64\n",
      "P4_3E         3018 non-null object\n",
      "P4_4          135341 non-null int64\n",
      "P4_5          75001 non-null float64\n",
      "P4_6_1        60671 non-null float64\n",
      "P4_6_2        60671 non-null float64\n",
      "P4_6_3        60671 non-null float64\n",
      "P4_6_4        60671 non-null float64\n",
      "P4_6_5        60671 non-null float64\n",
      "P4_6_6        60671 non-null float64\n",
      "P4_6_6E       248 non-null object\n",
      "P4_7_1        41071 non-null float64\n",
      "P4_7_2        41071 non-null float64\n",
      "P4_7_3        41071 non-null float64\n",
      "P4_7_4        41071 non-null float64\n",
      "P4_7_5        41071 non-null float64\n",
      "P4_7_5E       386 non-null object\n",
      "P4_8          60340 non-null float64\n",
      "P4_8E         2235 non-null object\n",
      "P5_1          135341 non-null int64\n",
      "P5_2_1        71872 non-null float64\n",
      "P5_2_2        71872 non-null float64\n",
      "P5_3          63469 non-null float64\n",
      "P5_3E         4998 non-null object\n",
      "P5_4          135341 non-null int64\n",
      "P5_5_1        135341 non-null int64\n",
      "P5_5_2        135341 non-null int64\n",
      "P5_5_3        135341 non-null int64\n",
      "P5_5_4        135341 non-null int64\n",
      "P5_6_1        101819 non-null float64\n",
      "P5_7_1        13943 non-null float64\n",
      "P5_8_1        153 non-null float64\n",
      "P5_9_1        144 non-null float64\n",
      "P5_6_2        101819 non-null float64\n",
      "P5_7_2        822 non-null float64\n",
      "P5_8_2        20 non-null float64\n",
      "P5_9_2        14 non-null float64\n",
      "P5_6_3        101819 non-null float64\n",
      "P5_7_3        12218 non-null float64\n",
      "P5_8_3        219 non-null float64\n",
      "P5_9_3        32 non-null float64\n",
      "P5_6_4        101819 non-null float64\n",
      "P5_7_4        26280 non-null float64\n",
      "P5_8_4        271 non-null float64\n",
      "P5_9_4        153 non-null float64\n",
      "P5_6_5        101819 non-null float64\n",
      "P5_7_5        45147 non-null float64\n",
      "P5_8_5        916 non-null float64\n",
      "P5_6_6        101819 non-null float64\n",
      "P5_7_6        9792 non-null float64\n",
      "P5_8_6        313 non-null float64\n",
      "P5_6_7        101819 non-null float64\n",
      "P5_7_7        25425 non-null float64\n",
      "P5_8_7        4646 non-null float64\n",
      "P5_10_1       101819 non-null float64\n",
      "P5_10_2       101819 non-null float64\n",
      "P5_10_3       101819 non-null float64\n",
      "CD_ENDUTIH    90960 non-null float64\n",
      "ENT           135341 non-null int64\n",
      "FAC_HOG       135341 non-null float64\n",
      "UPM_DIS       135341 non-null int64\n",
      "EST_DIS       135341 non-null int64\n",
      "dtypes: float64(47), int64(23), object(5)\n",
      "memory usage: 77.4+ MB\n"
     ]
    }
   ],
   "source": [
    "df.info()"
   ]
  },
  {
   "cell_type": "markdown",
   "metadata": {},
   "source": [
    "## Numbers of rows"
   ]
  },
  {
   "cell_type": "code",
   "execution_count": 361,
   "metadata": {
    "collapsed": false
   },
   "outputs": [
    {
     "data": {
      "text/plain": [
       "135341"
      ]
     },
     "execution_count": 361,
     "metadata": {},
     "output_type": "execute_result"
    }
   ],
   "source": [
    "df.shape[0]"
   ]
  },
  {
   "cell_type": "markdown",
   "metadata": {},
   "source": [
    "## Numbers of columns"
   ]
  },
  {
   "cell_type": "code",
   "execution_count": 362,
   "metadata": {
    "collapsed": false
   },
   "outputs": [
    {
     "data": {
      "text/plain": [
       "75"
      ]
     },
     "execution_count": 362,
     "metadata": {},
     "output_type": "execute_result"
    }
   ],
   "source": [
    "df.shape[1]"
   ]
  },
  {
   "cell_type": "markdown",
   "metadata": {},
   "source": [
    "## Columns names"
   ]
  },
  {
   "cell_type": "code",
   "execution_count": 363,
   "metadata": {
    "collapsed": false
   },
   "outputs": [
    {
     "data": {
      "text/plain": [
       "['UPM',\n",
       " 'VIV_SEL',\n",
       " 'HOGAR',\n",
       " 'N_INF',\n",
       " 'P4_1_1',\n",
       " 'P4_1_2',\n",
       " 'P4_1_3',\n",
       " 'P4_1_4',\n",
       " 'P4_1_5',\n",
       " 'P4_1_6',\n",
       " 'P4_2_1',\n",
       " 'P4_2_2',\n",
       " 'P4_2_3',\n",
       " 'P4_3',\n",
       " 'P4_3E',\n",
       " 'P4_4',\n",
       " 'P4_5',\n",
       " 'P4_6_1',\n",
       " 'P4_6_2',\n",
       " 'P4_6_3',\n",
       " 'P4_6_4',\n",
       " 'P4_6_5',\n",
       " 'P4_6_6',\n",
       " 'P4_6_6E',\n",
       " 'P4_7_1',\n",
       " 'P4_7_2',\n",
       " 'P4_7_3',\n",
       " 'P4_7_4',\n",
       " 'P4_7_5',\n",
       " 'P4_7_5E',\n",
       " 'P4_8',\n",
       " 'P4_8E',\n",
       " 'P5_1',\n",
       " 'P5_2_1',\n",
       " 'P5_2_2',\n",
       " 'P5_3',\n",
       " 'P5_3E',\n",
       " 'P5_4',\n",
       " 'P5_5_1',\n",
       " 'P5_5_2',\n",
       " 'P5_5_3',\n",
       " 'P5_5_4',\n",
       " 'P5_6_1',\n",
       " 'P5_7_1',\n",
       " 'P5_8_1',\n",
       " 'P5_9_1',\n",
       " 'P5_6_2',\n",
       " 'P5_7_2',\n",
       " 'P5_8_2',\n",
       " 'P5_9_2',\n",
       " 'P5_6_3',\n",
       " 'P5_7_3',\n",
       " 'P5_8_3',\n",
       " 'P5_9_3',\n",
       " 'P5_6_4',\n",
       " 'P5_7_4',\n",
       " 'P5_8_4',\n",
       " 'P5_9_4',\n",
       " 'P5_6_5',\n",
       " 'P5_7_5',\n",
       " 'P5_8_5',\n",
       " 'P5_6_6',\n",
       " 'P5_7_6',\n",
       " 'P5_8_6',\n",
       " 'P5_6_7',\n",
       " 'P5_7_7',\n",
       " 'P5_8_7',\n",
       " 'P5_10_1',\n",
       " 'P5_10_2',\n",
       " 'P5_10_3',\n",
       " 'CD_ENDUTIH',\n",
       " 'ENT',\n",
       " 'FAC_HOG',\n",
       " 'UPM_DIS',\n",
       " 'EST_DIS']"
      ]
     },
     "execution_count": 363,
     "metadata": {},
     "output_type": "execute_result"
    }
   ],
   "source": [
    "df.columns.values.tolist()"
   ]
  },
  {
   "cell_type": "markdown",
   "metadata": {},
   "source": [
    "## Column data types"
   ]
  },
  {
   "cell_type": "code",
   "execution_count": 364,
   "metadata": {
    "collapsed": false,
    "scrolled": true
   },
   "outputs": [
    {
     "data": {
      "text/plain": [
       "UPM             int64\n",
       "VIV_SEL         int64\n",
       "HOGAR           int64\n",
       "N_INF           int64\n",
       "P4_1_1          int64\n",
       "P4_1_2          int64\n",
       "P4_1_3          int64\n",
       "P4_1_4          int64\n",
       "P4_1_5          int64\n",
       "P4_1_6          int64\n",
       "P4_2_1          int64\n",
       "P4_2_2          int64\n",
       "P4_2_3          int64\n",
       "P4_3          float64\n",
       "P4_3E          object\n",
       "P4_4            int64\n",
       "P4_5          float64\n",
       "P4_6_1        float64\n",
       "P4_6_2        float64\n",
       "P4_6_3        float64\n",
       "P4_6_4        float64\n",
       "P4_6_5        float64\n",
       "P4_6_6        float64\n",
       "P4_6_6E        object\n",
       "P4_7_1        float64\n",
       "P4_7_2        float64\n",
       "P4_7_3        float64\n",
       "P4_7_4        float64\n",
       "P4_7_5        float64\n",
       "P4_7_5E        object\n",
       "               ...   \n",
       "P5_9_1        float64\n",
       "P5_6_2        float64\n",
       "P5_7_2        float64\n",
       "P5_8_2        float64\n",
       "P5_9_2        float64\n",
       "P5_6_3        float64\n",
       "P5_7_3        float64\n",
       "P5_8_3        float64\n",
       "P5_9_3        float64\n",
       "P5_6_4        float64\n",
       "P5_7_4        float64\n",
       "P5_8_4        float64\n",
       "P5_9_4        float64\n",
       "P5_6_5        float64\n",
       "P5_7_5        float64\n",
       "P5_8_5        float64\n",
       "P5_6_6        float64\n",
       "P5_7_6        float64\n",
       "P5_8_6        float64\n",
       "P5_6_7        float64\n",
       "P5_7_7        float64\n",
       "P5_8_7        float64\n",
       "P5_10_1       float64\n",
       "P5_10_2       float64\n",
       "P5_10_3       float64\n",
       "CD_ENDUTIH    float64\n",
       "ENT             int64\n",
       "FAC_HOG       float64\n",
       "UPM_DIS         int64\n",
       "EST_DIS         int64\n",
       "Length: 75, dtype: object"
      ]
     },
     "execution_count": 364,
     "metadata": {},
     "output_type": "execute_result"
    }
   ],
   "source": [
    "df.dtypes"
   ]
  },
  {
   "cell_type": "markdown",
   "metadata": {},
   "source": [
    "## ¿Hay valores vacíos?"
   ]
  },
  {
   "cell_type": "code",
   "execution_count": 365,
   "metadata": {
    "collapsed": false
   },
   "outputs": [
    {
     "data": {
      "text/plain": [
       "True"
      ]
     },
     "execution_count": 365,
     "metadata": {},
     "output_type": "execute_result"
    }
   ],
   "source": [
    "df.isnull().any().any()"
   ]
  },
  {
   "cell_type": "markdown",
   "metadata": {},
   "source": [
    "## Columnas con valores vacíos"
   ]
  },
  {
   "cell_type": "code",
   "execution_count": 366,
   "metadata": {
    "collapsed": false
   },
   "outputs": [
    {
     "data": {
      "text/plain": [
       "['P4_3',\n",
       " 'P4_3E',\n",
       " 'P4_5',\n",
       " 'P4_6_1',\n",
       " 'P4_6_2',\n",
       " 'P4_6_3',\n",
       " 'P4_6_4',\n",
       " 'P4_6_5',\n",
       " 'P4_6_6',\n",
       " 'P4_6_6E',\n",
       " 'P4_7_1',\n",
       " 'P4_7_2',\n",
       " 'P4_7_3',\n",
       " 'P4_7_4',\n",
       " 'P4_7_5',\n",
       " 'P4_7_5E',\n",
       " 'P4_8',\n",
       " 'P4_8E',\n",
       " 'P5_2_1',\n",
       " 'P5_2_2',\n",
       " 'P5_3',\n",
       " 'P5_3E',\n",
       " 'P5_6_1',\n",
       " 'P5_7_1',\n",
       " 'P5_8_1',\n",
       " 'P5_9_1',\n",
       " 'P5_6_2',\n",
       " 'P5_7_2',\n",
       " 'P5_8_2',\n",
       " 'P5_9_2',\n",
       " 'P5_6_3',\n",
       " 'P5_7_3',\n",
       " 'P5_8_3',\n",
       " 'P5_9_3',\n",
       " 'P5_6_4',\n",
       " 'P5_7_4',\n",
       " 'P5_8_4',\n",
       " 'P5_9_4',\n",
       " 'P5_6_5',\n",
       " 'P5_7_5',\n",
       " 'P5_8_5',\n",
       " 'P5_6_6',\n",
       " 'P5_7_6',\n",
       " 'P5_8_6',\n",
       " 'P5_6_7',\n",
       " 'P5_7_7',\n",
       " 'P5_8_7',\n",
       " 'P5_10_1',\n",
       " 'P5_10_2',\n",
       " 'P5_10_3',\n",
       " 'CD_ENDUTIH']"
      ]
     },
     "execution_count": 366,
     "metadata": {},
     "output_type": "execute_result"
    }
   ],
   "source": [
    "list_with_empty_fields = df.columns[df.isnull().any()].tolist()\n",
    "list_with_empty_fields"
   ]
  },
  {
   "cell_type": "markdown",
   "metadata": {},
   "source": [
    "# 1er columna UPM (Unidad primaria de muestreo)\n",
    "## vemos que su nombre esta mal.  "
   ]
  },
  {
   "cell_type": "code",
   "execution_count": 367,
   "metadata": {
    "collapsed": true
   },
   "outputs": [],
   "source": [
    "df = df.rename(columns={'ï»¿UPM': 'UPM'})"
   ]
  },
  {
   "cell_type": "markdown",
   "metadata": {},
   "source": [
    "## creamos copia del dataframe"
   ]
  },
  {
   "cell_type": "code",
   "execution_count": 368,
   "metadata": {
    "collapsed": true
   },
   "outputs": [],
   "source": [
    "df_copy = df.copy()"
   ]
  },
  {
   "cell_type": "markdown",
   "metadata": {},
   "source": [
    "## no hay anomalías en sus datos"
   ]
  },
  {
   "cell_type": "code",
   "execution_count": 369,
   "metadata": {
    "collapsed": false,
    "scrolled": true
   },
   "outputs": [
    {
     "data": {
      "text/plain": [
       "102137     40\n",
       "1106101    40\n",
       "206948     39\n",
       "207192     38\n",
       "207899     37\n",
       "207917     37\n",
       "206970     36\n",
       "1909836    36\n",
       "360096     36\n",
       "207914     36\n",
       "207003     36\n",
       "207997     34\n",
       "207880     32\n",
       "2360200    31\n",
       "2061378    27\n",
       "2901097    25\n",
       "2360055    25\n",
       "2403483    25\n",
       "703409     25\n",
       "1108585    25\n",
       "3260684    24\n",
       "2460920    24\n",
       "1060304    24\n",
       "1660490    24\n",
       "2303062    24\n",
       "1460175    24\n",
       "1660183    23\n",
       "3160001    23\n",
       "2860096    23\n",
       "160198     23\n",
       "           ..\n",
       "1702303     1\n",
       "1300361     1\n",
       "203360      1\n",
       "2301647     1\n",
       "2401812     1\n",
       "2105538     1\n",
       "1300950     1\n",
       "2700392     1\n",
       "2302397     1\n",
       "3004378     1\n",
       "1700607     1\n",
       "2400753     1\n",
       "3003846     1\n",
       "2700334     1\n",
       "2400474     1\n",
       "2700822     1\n",
       "3101238     1\n",
       "2102254     1\n",
       "1600075     1\n",
       "2901492     1\n",
       "1201046     1\n",
       "502955      1\n",
       "2302168     1\n",
       "206511      1\n",
       "300167      1\n",
       "2400524     1\n",
       "2806896     1\n",
       "1702785     1\n",
       "1600874     1\n",
       "1514922     1\n",
       "Name: UPM, Length: 19903, dtype: int64"
      ]
     },
     "execution_count": 369,
     "metadata": {},
     "output_type": "execute_result"
    }
   ],
   "source": [
    "df_copy.UPM.value_counts()"
   ]
  },
  {
   "cell_type": "markdown",
   "metadata": {},
   "source": [
    "## Vemos que no hay valores vacíos en la primer columna"
   ]
  },
  {
   "cell_type": "code",
   "execution_count": 370,
   "metadata": {
    "collapsed": false
   },
   "outputs": [
    {
     "data": {
      "text/plain": [
       "False"
      ]
     },
     "execution_count": 370,
     "metadata": {},
     "output_type": "execute_result"
    }
   ],
   "source": [
    "df_copy.isnull().UPM.any()"
   ]
  },
  {
   "cell_type": "code",
   "execution_count": 371,
   "metadata": {
    "collapsed": false
   },
   "outputs": [
    {
     "data": {
      "text/plain": [
       "135341"
      ]
     },
     "execution_count": 371,
     "metadata": {},
     "output_type": "execute_result"
    }
   ],
   "source": [
    "df_copy.UPM.value_counts().sum()"
   ]
  },
  {
   "cell_type": "markdown",
   "metadata": {},
   "source": [
    "#  2da columna  VIV_SEL (Vivienda seleccionada)"
   ]
  },
  {
   "cell_type": "markdown",
   "metadata": {},
   "source": [
    "## No presenta valores vacíos"
   ]
  },
  {
   "cell_type": "code",
   "execution_count": 372,
   "metadata": {
    "collapsed": false,
    "scrolled": true
   },
   "outputs": [
    {
     "data": {
      "text/plain": [
       "False"
      ]
     },
     "execution_count": 372,
     "metadata": {},
     "output_type": "execute_result"
    }
   ],
   "source": [
    "df_copy.isnull().VIV_SEL.any()"
   ]
  },
  {
   "cell_type": "markdown",
   "metadata": {},
   "source": [
    "## su contenido no esta  fuera de lo común"
   ]
  },
  {
   "cell_type": "code",
   "execution_count": 373,
   "metadata": {
    "collapsed": false,
    "scrolled": true
   },
   "outputs": [
    {
     "data": {
      "text/plain": [
       "2     17763\n",
       "3     17741\n",
       "1     17642\n",
       "4     17631\n",
       "5     17587\n",
       "8      5226\n",
       "9      5215\n",
       "7      5189\n",
       "6      5187\n",
       "10     5177\n",
       "11     2105\n",
       "12     2085\n",
       "16     2075\n",
       "15     2072\n",
       "17     2072\n",
       "13     2054\n",
       "14     2047\n",
       "18     2044\n",
       "19     2036\n",
       "20     1899\n",
       "21      224\n",
       "22       68\n",
       "23       13\n",
       "26       13\n",
       "30       12\n",
       "38       12\n",
       "37       12\n",
       "28       12\n",
       "31       12\n",
       "32       11\n",
       "35       11\n",
       "34       11\n",
       "40       11\n",
       "29       11\n",
       "27       11\n",
       "24       11\n",
       "33       10\n",
       "36       10\n",
       "25       10\n",
       "39        9\n",
       "Name: VIV_SEL, dtype: int64"
      ]
     },
     "execution_count": 373,
     "metadata": {},
     "output_type": "execute_result"
    }
   ],
   "source": [
    "df_copy.VIV_SEL.value_counts()"
   ]
  },
  {
   "cell_type": "code",
   "execution_count": 374,
   "metadata": {
    "collapsed": false
   },
   "outputs": [
    {
     "data": {
      "text/plain": [
       "135341"
      ]
     },
     "execution_count": 374,
     "metadata": {},
     "output_type": "execute_result"
    }
   ],
   "source": [
    "df_copy.VIV_SEL.value_counts().sum()"
   ]
  },
  {
   "cell_type": "markdown",
   "metadata": {},
   "source": [
    "# 3er columna HOGAR valores permitidos [1-6]"
   ]
  },
  {
   "cell_type": "markdown",
   "metadata": {},
   "source": [
    "## No presenta vacíos y sus valores corresponden al rango permitido"
   ]
  },
  {
   "cell_type": "code",
   "execution_count": 375,
   "metadata": {
    "collapsed": false,
    "scrolled": true
   },
   "outputs": [
    {
     "data": {
      "text/plain": [
       "1    132266\n",
       "2      2593\n",
       "3       383\n",
       "4        81\n",
       "5        18\n",
       "Name: HOGAR, dtype: int64"
      ]
     },
     "execution_count": 375,
     "metadata": {},
     "output_type": "execute_result"
    }
   ],
   "source": [
    "df_copy.HOGAR.value_counts()"
   ]
  },
  {
   "cell_type": "code",
   "execution_count": 376,
   "metadata": {
    "collapsed": false
   },
   "outputs": [
    {
     "data": {
      "text/plain": [
       "135341"
      ]
     },
     "execution_count": 376,
     "metadata": {},
     "output_type": "execute_result"
    }
   ],
   "source": [
    "df_copy.HOGAR.value_counts().sum()"
   ]
  },
  {
   "cell_type": "markdown",
   "metadata": {
    "collapsed": true
   },
   "source": [
    "# 4ta Columna  N_INF (Número de renglón del informante)\n",
    "## valores permitidos [01-30],99"
   ]
  },
  {
   "cell_type": "markdown",
   "metadata": {},
   "source": [
    "## los valores se encuentran en el rango permitido"
   ]
  },
  {
   "cell_type": "code",
   "execution_count": 377,
   "metadata": {
    "collapsed": false,
    "scrolled": true
   },
   "outputs": [
    {
     "data": {
      "text/plain": [
       "1     64503\n",
       "2     53517\n",
       "3      9758\n",
       "4      4585\n",
       "5      1862\n",
       "6       692\n",
       "7       245\n",
       "8        96\n",
       "9        36\n",
       "10       20\n",
       "11       14\n",
       "12        7\n",
       "13        4\n",
       "21        1\n",
       "16        1\n",
       "Name: N_INF, dtype: int64"
      ]
     },
     "execution_count": 377,
     "metadata": {},
     "output_type": "execute_result"
    }
   ],
   "source": [
    "df_copy.N_INF.value_counts()"
   ]
  },
  {
   "cell_type": "markdown",
   "metadata": {},
   "source": [
    "## No tiene valores vacíos"
   ]
  },
  {
   "cell_type": "code",
   "execution_count": 378,
   "metadata": {
    "collapsed": false,
    "scrolled": true
   },
   "outputs": [
    {
     "data": {
      "text/plain": [
       "False"
      ]
     },
     "execution_count": 378,
     "metadata": {},
     "output_type": "execute_result"
    }
   ],
   "source": [
    "df_copy.isnull().N_INF.any()"
   ]
  },
  {
   "cell_type": "code",
   "execution_count": 379,
   "metadata": {
    "collapsed": false
   },
   "outputs": [
    {
     "data": {
      "text/plain": [
       "135341"
      ]
     },
     "execution_count": 379,
     "metadata": {},
     "output_type": "execute_result"
    }
   ],
   "source": [
    "df_copy.N_INF.value_counts().sum()"
   ]
  },
  {
   "cell_type": "markdown",
   "metadata": {},
   "source": [
    "# 5ta columna P4_1_1 (4.1 Por favor, dígame si dispone de Radio: (DEBEN ESTAR EN CONDICIONES DE USO)) \n",
    "\n",
    "## No tiene anomalías sus datos"
   ]
  },
  {
   "cell_type": "code",
   "execution_count": 380,
   "metadata": {
    "collapsed": false,
    "scrolled": true
   },
   "outputs": [
    {
     "data": {
      "text/plain": [
       "1    77498\n",
       "2    57843\n",
       "Name: P4_1_1, dtype: int64"
      ]
     },
     "execution_count": 380,
     "metadata": {},
     "output_type": "execute_result"
    }
   ],
   "source": [
    "df_copy.P4_1_1.value_counts()"
   ]
  },
  {
   "cell_type": "markdown",
   "metadata": {},
   "source": [
    "## No tiene valores vacíos"
   ]
  },
  {
   "cell_type": "code",
   "execution_count": 381,
   "metadata": {
    "collapsed": false
   },
   "outputs": [
    {
     "data": {
      "text/plain": [
       "False"
      ]
     },
     "execution_count": 381,
     "metadata": {},
     "output_type": "execute_result"
    }
   ],
   "source": [
    "df_copy.isnull().P4_1_1.any()"
   ]
  },
  {
   "cell_type": "code",
   "execution_count": 382,
   "metadata": {
    "collapsed": false
   },
   "outputs": [
    {
     "data": {
      "text/plain": [
       "135341"
      ]
     },
     "execution_count": 382,
     "metadata": {},
     "output_type": "execute_result"
    }
   ],
   "source": [
    "df_copy.P4_1_1.value_counts().sum()"
   ]
  },
  {
   "cell_type": "markdown",
   "metadata": {},
   "source": [
    "# 6ta columna P4_1_2 (2. Televisor analógico (de cinescopio)) \n",
    "## No tiene anomalías sus datos"
   ]
  },
  {
   "cell_type": "code",
   "execution_count": 383,
   "metadata": {
    "collapsed": false
   },
   "outputs": [
    {
     "data": {
      "text/plain": [
       "2    71858\n",
       "1    63483\n",
       "Name: P4_1_2, dtype: int64"
      ]
     },
     "execution_count": 383,
     "metadata": {},
     "output_type": "execute_result"
    }
   ],
   "source": [
    "df_copy.P4_1_2.value_counts()"
   ]
  },
  {
   "cell_type": "code",
   "execution_count": 384,
   "metadata": {
    "collapsed": false,
    "scrolled": false
   },
   "outputs": [
    {
     "data": {
      "text/plain": [
       "False"
      ]
     },
     "execution_count": 384,
     "metadata": {},
     "output_type": "execute_result"
    }
   ],
   "source": [
    "df_copy.isnull().P4_1_2.any()"
   ]
  },
  {
   "cell_type": "code",
   "execution_count": 385,
   "metadata": {
    "collapsed": false
   },
   "outputs": [
    {
     "data": {
      "text/plain": [
       "135341"
      ]
     },
     "execution_count": 385,
     "metadata": {},
     "output_type": "execute_result"
    }
   ],
   "source": [
    "df_copy.P4_1_2.value_counts().sum()"
   ]
  },
  {
   "cell_type": "markdown",
   "metadata": {},
   "source": [
    "# 7ma columna P4_1_3 (3. Pantalla plana (televisor digital, LCD o LED)) \n",
    "## No tiene anomalías sus datos"
   ]
  },
  {
   "cell_type": "code",
   "execution_count": 386,
   "metadata": {
    "collapsed": false
   },
   "outputs": [
    {
     "data": {
      "text/plain": [
       "1    95652\n",
       "2    39689\n",
       "Name: P4_1_3, dtype: int64"
      ]
     },
     "execution_count": 386,
     "metadata": {},
     "output_type": "execute_result"
    }
   ],
   "source": [
    "df_copy.P4_1_3.value_counts()"
   ]
  },
  {
   "cell_type": "code",
   "execution_count": 387,
   "metadata": {
    "collapsed": false
   },
   "outputs": [
    {
     "data": {
      "text/plain": [
       "False"
      ]
     },
     "execution_count": 387,
     "metadata": {},
     "output_type": "execute_result"
    }
   ],
   "source": [
    "df_copy.isnull().P4_1_3.any()"
   ]
  },
  {
   "cell_type": "code",
   "execution_count": 388,
   "metadata": {
    "collapsed": false
   },
   "outputs": [
    {
     "data": {
      "text/plain": [
       "135341"
      ]
     },
     "execution_count": 388,
     "metadata": {},
     "output_type": "execute_result"
    }
   ],
   "source": [
    "df_copy.P4_1_3.value_counts().sum()"
   ]
  },
  {
   "cell_type": "markdown",
   "metadata": {},
   "source": [
    "# 8va columna P4_1_4 (4. Decodificador de TV digital abierta (diferente a TV de paga)) \n",
    "## No tiene anomalías sus datos"
   ]
  },
  {
   "cell_type": "code",
   "execution_count": 389,
   "metadata": {
    "collapsed": false
   },
   "outputs": [
    {
     "data": {
      "text/plain": [
       "2    114864\n",
       "1     20477\n",
       "Name: P4_1_4, dtype: int64"
      ]
     },
     "execution_count": 389,
     "metadata": {},
     "output_type": "execute_result"
    }
   ],
   "source": [
    "df_copy.P4_1_4.value_counts()"
   ]
  },
  {
   "cell_type": "code",
   "execution_count": 390,
   "metadata": {
    "collapsed": false
   },
   "outputs": [
    {
     "data": {
      "text/plain": [
       "False"
      ]
     },
     "execution_count": 390,
     "metadata": {},
     "output_type": "execute_result"
    }
   ],
   "source": [
    "df_copy.isnull().P4_1_4.any()"
   ]
  },
  {
   "cell_type": "code",
   "execution_count": 391,
   "metadata": {
    "collapsed": false
   },
   "outputs": [
    {
     "data": {
      "text/plain": [
       "135341"
      ]
     },
     "execution_count": 391,
     "metadata": {},
     "output_type": "execute_result"
    }
   ],
   "source": [
    "df_copy.P4_1_4.value_counts().sum()"
   ]
  },
  {
   "cell_type": "markdown",
   "metadata": {},
   "source": [
    "# 9na columna P4_1_5 (5. Teléfono celular móvil (por cualquiera de los integrantes)) \n",
    "## No tiene anomalías sus datos"
   ]
  },
  {
   "cell_type": "code",
   "execution_count": 392,
   "metadata": {
    "collapsed": false
   },
   "outputs": [
    {
     "data": {
      "text/plain": [
       "1    123412\n",
       "2     11929\n",
       "Name: P4_1_5, dtype: int64"
      ]
     },
     "execution_count": 392,
     "metadata": {},
     "output_type": "execute_result"
    }
   ],
   "source": [
    "df_copy.P4_1_5.value_counts()"
   ]
  },
  {
   "cell_type": "code",
   "execution_count": 393,
   "metadata": {
    "collapsed": false
   },
   "outputs": [
    {
     "data": {
      "text/plain": [
       "False"
      ]
     },
     "execution_count": 393,
     "metadata": {},
     "output_type": "execute_result"
    }
   ],
   "source": [
    "df_copy.isnull().P4_1_5.any()"
   ]
  },
  {
   "cell_type": "code",
   "execution_count": 394,
   "metadata": {
    "collapsed": false
   },
   "outputs": [
    {
     "data": {
      "text/plain": [
       "135341"
      ]
     },
     "execution_count": 394,
     "metadata": {},
     "output_type": "execute_result"
    }
   ],
   "source": [
    "df_copy.P4_1_5.value_counts().sum()"
   ]
  },
  {
   "cell_type": "markdown",
   "metadata": {},
   "source": [
    "# 10ma columna P4_1_6 (6. Consola de videojuegos) \n",
    "## No tiene anomalías sus datos"
   ]
  },
  {
   "cell_type": "code",
   "execution_count": 395,
   "metadata": {
    "collapsed": false
   },
   "outputs": [
    {
     "data": {
      "text/plain": [
       "2    118148\n",
       "1     17193\n",
       "Name: P4_1_6, dtype: int64"
      ]
     },
     "execution_count": 395,
     "metadata": {},
     "output_type": "execute_result"
    }
   ],
   "source": [
    "df_copy.P4_1_6.value_counts()"
   ]
  },
  {
   "cell_type": "code",
   "execution_count": 396,
   "metadata": {
    "collapsed": false
   },
   "outputs": [
    {
     "data": {
      "text/plain": [
       "False"
      ]
     },
     "execution_count": 396,
     "metadata": {},
     "output_type": "execute_result"
    }
   ],
   "source": [
    "df_copy.isnull().P4_1_6.any()"
   ]
  },
  {
   "cell_type": "code",
   "execution_count": 397,
   "metadata": {
    "collapsed": false
   },
   "outputs": [
    {
     "data": {
      "text/plain": [
       "135341"
      ]
     },
     "execution_count": 397,
     "metadata": {},
     "output_type": "execute_result"
    }
   ],
   "source": [
    "df_copy.P4_1_6.value_counts().sum()"
   ]
  },
  {
   "cell_type": "markdown",
   "metadata": {},
   "source": [
    "# 11.a columna P4_2_1 (4.2 ¿Dispone de computadora de escritorio (teclado, monitor y CPU se encuentran separados)?) \n",
    "## No tiene anomalías sus datos"
   ]
  },
  {
   "cell_type": "code",
   "execution_count": 398,
   "metadata": {
    "collapsed": false
   },
   "outputs": [
    {
     "data": {
      "text/plain": [
       "2    113113\n",
       "1     22228\n",
       "Name: P4_2_1, dtype: int64"
      ]
     },
     "execution_count": 398,
     "metadata": {},
     "output_type": "execute_result"
    }
   ],
   "source": [
    "df_copy.P4_2_1.value_counts()"
   ]
  },
  {
   "cell_type": "code",
   "execution_count": 399,
   "metadata": {
    "collapsed": false
   },
   "outputs": [
    {
     "data": {
      "text/plain": [
       "False"
      ]
     },
     "execution_count": 399,
     "metadata": {},
     "output_type": "execute_result"
    }
   ],
   "source": [
    "df_copy.isnull().P4_2_1.any()"
   ]
  },
  {
   "cell_type": "code",
   "execution_count": 400,
   "metadata": {
    "collapsed": false
   },
   "outputs": [
    {
     "data": {
      "text/plain": [
       "135341"
      ]
     },
     "execution_count": 400,
     "metadata": {},
     "output_type": "execute_result"
    }
   ],
   "source": [
    "df_copy.P4_2_1.value_counts().sum()"
   ]
  },
  {
   "cell_type": "markdown",
   "metadata": {},
   "source": [
    "# 12.a columna P4_2_2 (¿Dispone de computadora portátil (teclado, monitor y CPU se encuentran integrados físicamente)?) \n",
    "## No tiene anomalías sus datos"
   ]
  },
  {
   "cell_type": "code",
   "execution_count": 401,
   "metadata": {
    "collapsed": false
   },
   "outputs": [
    {
     "data": {
      "text/plain": [
       "2    90541\n",
       "1    44800\n",
       "Name: P4_2_2, dtype: int64"
      ]
     },
     "execution_count": 401,
     "metadata": {},
     "output_type": "execute_result"
    }
   ],
   "source": [
    "df_copy.P4_2_2.value_counts()"
   ]
  },
  {
   "cell_type": "code",
   "execution_count": 402,
   "metadata": {
    "collapsed": false
   },
   "outputs": [
    {
     "data": {
      "text/plain": [
       "False"
      ]
     },
     "execution_count": 402,
     "metadata": {},
     "output_type": "execute_result"
    }
   ],
   "source": [
    "df_copy.isnull().P4_2_1.any()"
   ]
  },
  {
   "cell_type": "code",
   "execution_count": 403,
   "metadata": {
    "collapsed": false
   },
   "outputs": [
    {
     "data": {
      "text/plain": [
       "135341"
      ]
     },
     "execution_count": 403,
     "metadata": {},
     "output_type": "execute_result"
    }
   ],
   "source": [
    "df_copy.P4_2_2.value_counts().sum()"
   ]
  },
  {
   "cell_type": "markdown",
   "metadata": {},
   "source": [
    "# 13.a columna P4_2_3 (¿Dispone de tablet (teclado y puntero virtuales, en la pantalla táctil)?) \n",
    "## No tiene anomalías sus datos"
   ]
  },
  {
   "cell_type": "code",
   "execution_count": 404,
   "metadata": {
    "collapsed": false
   },
   "outputs": [
    {
     "data": {
      "text/plain": [
       "2    102663\n",
       "1     32678\n",
       "Name: P4_2_3, dtype: int64"
      ]
     },
     "execution_count": 404,
     "metadata": {},
     "output_type": "execute_result"
    }
   ],
   "source": [
    "df_copy.P4_2_3.value_counts()"
   ]
  },
  {
   "cell_type": "code",
   "execution_count": 405,
   "metadata": {
    "collapsed": false
   },
   "outputs": [
    {
     "data": {
      "text/plain": [
       "False"
      ]
     },
     "execution_count": 405,
     "metadata": {},
     "output_type": "execute_result"
    }
   ],
   "source": [
    "df_copy.isnull().P4_2_3.any()"
   ]
  },
  {
   "cell_type": "code",
   "execution_count": 406,
   "metadata": {
    "collapsed": false
   },
   "outputs": [
    {
     "data": {
      "text/plain": [
       "135341"
      ]
     },
     "execution_count": 406,
     "metadata": {},
     "output_type": "execute_result"
    }
   ],
   "source": [
    "df_copy.P4_2_3.value_counts().sum()"
   ]
  },
  {
   "cell_type": "markdown",
   "metadata": {},
   "source": [
    "# 14.a columna P4_3 (4.3 ¿Por qué no disponen de computadora, laptop o tablet?) \n",
    "## [1-5], 99 en blanco"
   ]
  },
  {
   "cell_type": "code",
   "execution_count": 407,
   "metadata": {
    "collapsed": false
   },
   "outputs": [
    {
     "data": {
      "text/plain": [
       "1.0    39329\n",
       "2.0    13652\n",
       "3.0    10003\n",
       "4.0     4287\n",
       "5.0     3018\n",
       "8.0       59\n",
       "Name: P4_3, dtype: int64"
      ]
     },
     "execution_count": 407,
     "metadata": {},
     "output_type": "execute_result"
    }
   ],
   "source": [
    "df_copy.P4_3.value_counts()"
   ]
  },
  {
   "cell_type": "markdown",
   "metadata": {},
   "source": [
    "## hay valores vacios"
   ]
  },
  {
   "cell_type": "code",
   "execution_count": 408,
   "metadata": {
    "collapsed": false,
    "scrolled": true
   },
   "outputs": [
    {
     "data": {
      "text/plain": [
       "True"
      ]
     },
     "execution_count": 408,
     "metadata": {},
     "output_type": "execute_result"
    }
   ],
   "source": [
    "df_copy.isnull().P4_3.any()"
   ]
  },
  {
   "cell_type": "markdown",
   "metadata": {},
   "source": [
    "## convertimos los datos de la columna a string para mayor comodidad"
   ]
  },
  {
   "cell_type": "code",
   "execution_count": 409,
   "metadata": {
    "collapsed": true
   },
   "outputs": [],
   "source": [
    "P4_3 = df_copy.P4_3.astype('str')"
   ]
  },
  {
   "cell_type": "code",
   "execution_count": 410,
   "metadata": {
    "collapsed": false,
    "scrolled": false
   },
   "outputs": [
    {
     "data": {
      "text/plain": [
       "nan    64993\n",
       "1.0    39329\n",
       "2.0    13652\n",
       "3.0    10003\n",
       "4.0     4287\n",
       "5.0     3018\n",
       "8.0       59\n",
       "Name: P4_3, dtype: int64"
      ]
     },
     "execution_count": 410,
     "metadata": {},
     "output_type": "execute_result"
    }
   ],
   "source": [
    "P4_3.value_counts()"
   ]
  },
  {
   "cell_type": "markdown",
   "metadata": {},
   "source": [
    "## reemplazamos los valores vacios por 99"
   ]
  },
  {
   "cell_type": "code",
   "execution_count": 411,
   "metadata": {
    "collapsed": false
   },
   "outputs": [
    {
     "data": {
      "text/plain": [
       "99     64993\n",
       "1.0    39329\n",
       "2.0    13652\n",
       "3.0    10003\n",
       "4.0     4287\n",
       "5.0     3018\n",
       "8.0       59\n",
       "Name: P4_3, dtype: int64"
      ]
     },
     "execution_count": 411,
     "metadata": {},
     "output_type": "execute_result"
    }
   ],
   "source": [
    "P4_3 = P4_3.replace({'nan':'99'})\n",
    "P4_3.value_counts()"
   ]
  },
  {
   "cell_type": "markdown",
   "metadata": {},
   "source": [
    "## convertimos todos los datos a enteros"
   ]
  },
  {
   "cell_type": "code",
   "execution_count": 412,
   "metadata": {
    "collapsed": true
   },
   "outputs": [],
   "source": [
    "df_copy.P4_3 = P4_3\n",
    "df_copy.P4_3 = df_copy.P4_3.astype('str').astype('float').astype('int64')"
   ]
  },
  {
   "cell_type": "markdown",
   "metadata": {},
   "source": [
    "## se comprueba que ya no hay valores vacios y estan en un solo valor que es 99"
   ]
  },
  {
   "cell_type": "code",
   "execution_count": 413,
   "metadata": {
    "collapsed": false,
    "scrolled": false
   },
   "outputs": [
    {
     "data": {
      "text/plain": [
       "99    64993\n",
       "1     39329\n",
       "2     13652\n",
       "3     10003\n",
       "4      4287\n",
       "5      3018\n",
       "8        59\n",
       "Name: P4_3, dtype: int64"
      ]
     },
     "execution_count": 413,
     "metadata": {},
     "output_type": "execute_result"
    }
   ],
   "source": [
    "df_copy.P4_3.value_counts()"
   ]
  },
  {
   "cell_type": "markdown",
   "metadata": {},
   "source": [
    "## reemplazamos los valores 8 por 99, ya que no responden"
   ]
  },
  {
   "cell_type": "code",
   "execution_count": 414,
   "metadata": {
    "collapsed": false
   },
   "outputs": [
    {
     "name": "stderr",
     "output_type": "stream",
     "text": [
      "/home/hectorceja/anaconda3/lib/python3.6/site-packages/ipykernel_launcher.py:4: SettingWithCopyWarning: \n",
      "A value is trying to be set on a copy of a slice from a DataFrame\n",
      "\n",
      "See the caveats in the documentation: http://pandas.pydata.org/pandas-docs/stable/indexing.html#indexing-view-versus-copy\n",
      "  after removing the cwd from sys.path.\n"
     ]
    }
   ],
   "source": [
    "count = 0\n",
    "for row in  df_copy.P4_3:\n",
    "    if df_copy.P4_3[count] == 8:\n",
    "        df_copy.P4_3[count] = 99\n",
    "    count = count + 1"
   ]
  },
  {
   "cell_type": "code",
   "execution_count": 415,
   "metadata": {
    "collapsed": false
   },
   "outputs": [
    {
     "data": {
      "text/plain": [
       "99    65052\n",
       "1     39329\n",
       "2     13652\n",
       "3     10003\n",
       "4      4287\n",
       "5      3018\n",
       "Name: P4_3, dtype: int64"
      ]
     },
     "execution_count": 415,
     "metadata": {},
     "output_type": "execute_result"
    }
   ],
   "source": [
    "df_copy.P4_3.value_counts()"
   ]
  },
  {
   "cell_type": "markdown",
   "metadata": {},
   "source": [
    "## se comprueba el tamaño de la columna"
   ]
  },
  {
   "cell_type": "code",
   "execution_count": 416,
   "metadata": {
    "collapsed": false
   },
   "outputs": [
    {
     "data": {
      "text/plain": [
       "135341"
      ]
     },
     "execution_count": 416,
     "metadata": {},
     "output_type": "execute_result"
    }
   ],
   "source": [
    "df_copy.P4_3.value_counts().sum()"
   ]
  },
  {
   "cell_type": "markdown",
   "metadata": {},
   "source": [
    "# 15.a columna P4_3E (4.3 ¿Por qué no disponen de computadora, laptop o tablet?) \n",
    "## [0-9, A-Z; Símbolos], b"
   ]
  },
  {
   "cell_type": "code",
   "execution_count": 417,
   "metadata": {
    "collapsed": false
   },
   "outputs": [
    {
     "data": {
      "text/plain": [
       "NO LA NECESITAN                                                           134\n",
       "NO LA NECESITA                                                             85\n",
       "SE DESCOMPUSO                                                              69\n",
       "NO LA OCUPAN                                                               36\n",
       "NO LO NECESITAN                                                            34\n",
       "SE LA ROBARON                                                              32\n",
       "NO LO NECESITA                                                             27\n",
       "NO TIENEN INTERNET                                                         20\n",
       "FALTA DE TIEMPO                                                            20\n",
       "NO ES NECESARIO                                                            20\n",
       "NO HAY INTERNET                                                            18\n",
       "ESTA DESCOMPUESTA                                                          18\n",
       "NO LA OCUPA                                                                16\n",
       "NO LE GUSTA                                                                15\n",
       "NO TIENE TIEMPO                                                            14\n",
       "NO HAY INFRAESTRUCTURA                                                     13\n",
       "NO HAY SEÃAL                                                              12\n",
       "SE DESCOMPUSIERON                                                          12\n",
       "NO ES NECESARIA                                                            11\n",
       "PORQUE NO TIENEN INTERNET                                                  10\n",
       "POR SEGURIDAD                                                              10\n",
       "NO TIENEN TIEMPO                                                           10\n",
       "NO LE HACE FALTA                                                           10\n",
       "PORQUE NO TIENE INTERNET                                                    9\n",
       "NO TIENE LA NECESIDAD                                                       8\n",
       "NO LES GUSTA                                                                8\n",
       "NO LES HACE FALTA                                                           7\n",
       "NO TIENE NECESIDAD                                                          7\n",
       "SE LAS ROBARON                                                              7\n",
       "NO LA NECESITA.                                                             7\n",
       "                                                                         ... \n",
       "NO HAY SERVICIO DE INTERNET AQUI POR ESO NO HA COMPRADO                     1\n",
       "NO LO NECEITA                                                               1\n",
       "NO TIENEN MUCHO PASO Y SU TABLET SE LAS ROBARON A LOS NIÃOS                1\n",
       "NO TIENEN NECESIDAD                                                         1\n",
       "TENIAN UNA PERO SE DESCOMPUSO                                               1\n",
       "LA UTILIZAN EN EL NEGOCIO                                                   1\n",
       "POR QUE NO TIENEN LA NECESIDAD DE USARLA                                    1\n",
       "NO LA NECESITAN POR QUE NO HAY INFRACCESTRUTURA                             1\n",
       "NO TIENEN SERVICIO PARA USARLO                                              1\n",
       "NO CREE CONVENIENTE TENER COMPUTADORA YA QUE SUS HIJOS ESTAN PEQUEÃOS      1\n",
       "POR EL MOMENTO NO LO NECESITA                                               1\n",
       "PORQUE SUS HIJAS ESTAN PEQUEÃAS Y NO LA CUIDARIAN                          1\n",
       "LAS VENDIO HACE CUATRO MESES                                                1\n",
       "LA UTILIZA EN SU TRABAJO                                                    1\n",
       "NO HAY SEÃAL EN EL PUEBLO                                                  1\n",
       "NO LA CRE NECESARIA                                                         1\n",
       "POR QUE LOS HIJOS DESCOMPONEN LOS APARATOS                                  1\n",
       "FALTA DE INTERNET EN LA ZONA                                                1\n",
       "ESTAN DESCOMPUESTAS Y NO LAS VA A ARREGLAR                                  1\n",
       "ESTA DESCOMPUESTO Y NO LA VAN A REPARAR                                     1\n",
       "SE ABURRE DE TANTA TECNOLOGIA                                               1\n",
       "TENIAN PERO SE DESCOMPUSO Y NO PLANEAN REPARARLA                            1\n",
       "ESTA EN PROCESO DE ADQUIRIR UNA                                             1\n",
       "PORQUE LO CONSIDERAN UNA DISTRACCION PARA EL ESTUDIO                        1\n",
       "PORQUE NO LES SERIA DE UTILIDAD                                             1\n",
       "PORQUE LOS NIÃOS SE DISTRAEN Y PREFIEREN NO COMPRARLOS                     1\n",
       "APENAS  VAN  A  INSTALAR                                                    1\n",
       "POR QUE SE LAS PUEDEN ROBAR ES MUY INSEGURO                                 1\n",
       "NO HAY SEAL EN SU LOCALIDAD                                                 1\n",
       "TIENEN CELULAR                                                              1\n",
       "Name: P4_3E, Length: 2092, dtype: int64"
      ]
     },
     "execution_count": 417,
     "metadata": {},
     "output_type": "execute_result"
    }
   ],
   "source": [
    "df_copy.P4_3E.value_counts()"
   ]
  },
  {
   "cell_type": "code",
   "execution_count": 418,
   "metadata": {
    "collapsed": false
   },
   "outputs": [
    {
     "data": {
      "text/plain": [
       "True"
      ]
     },
     "execution_count": 418,
     "metadata": {},
     "output_type": "execute_result"
    }
   ],
   "source": [
    "df_copy.isnull().P4_3E.any()"
   ]
  },
  {
   "cell_type": "markdown",
   "metadata": {},
   "source": [
    "## se reemplazan los valores en blanco por b, como dice el diccionario"
   ]
  },
  {
   "cell_type": "code",
   "execution_count": 419,
   "metadata": {
    "collapsed": true
   },
   "outputs": [],
   "source": [
    "P4_3E = df_copy.P4_3E.astype('str')\n",
    "P4_3E = P4_3E.replace({'nan':'b'})"
   ]
  },
  {
   "cell_type": "code",
   "execution_count": 420,
   "metadata": {
    "collapsed": false
   },
   "outputs": [
    {
     "data": {
      "text/plain": [
       "b                                                                         132323\n",
       "NO LA NECESITAN                                                              134\n",
       "NO LA NECESITA                                                                85\n",
       "SE DESCOMPUSO                                                                 69\n",
       "NO LA OCUPAN                                                                  36\n",
       "NO LO NECESITAN                                                               34\n",
       "SE LA ROBARON                                                                 32\n",
       "NO LO NECESITA                                                                27\n",
       "NO TIENEN INTERNET                                                            20\n",
       "FALTA DE TIEMPO                                                               20\n",
       "NO ES NECESARIO                                                               20\n",
       "NO HAY INTERNET                                                               18\n",
       "ESTA DESCOMPUESTA                                                             18\n",
       "NO LA OCUPA                                                                   16\n",
       "NO LE GUSTA                                                                   15\n",
       "NO TIENE TIEMPO                                                               14\n",
       "NO HAY INFRAESTRUCTURA                                                        13\n",
       "NO HAY SEÃAL                                                                 12\n",
       "SE DESCOMPUSIERON                                                             12\n",
       "NO ES NECESARIA                                                               11\n",
       "NO LE HACE FALTA                                                              10\n",
       "PORQUE NO TIENEN INTERNET                                                     10\n",
       "NO TIENEN TIEMPO                                                              10\n",
       "POR SEGURIDAD                                                                 10\n",
       "PORQUE NO TIENE INTERNET                                                       9\n",
       "NO LES GUSTA                                                                   8\n",
       "NO TIENE LA NECESIDAD                                                          8\n",
       "POR ROBO                                                                       7\n",
       "NO LA NECESITA.                                                                7\n",
       "SE LAS ROBARON                                                                 7\n",
       "                                                                           ...  \n",
       "NO HAY SERVICIO DE INTERNET AQUI POR ESO NO HA COMPRADO                        1\n",
       "NO LO NECEITA                                                                  1\n",
       "NO TIENEN MUCHO PASO Y SU TABLET SE LAS ROBARON A LOS NIÃOS                   1\n",
       "NO TIENEN NECESIDAD                                                            1\n",
       "TENIAN UNA PERO SE DESCOMPUSO                                                  1\n",
       "LA UTILIZAN EN EL NEGOCIO                                                      1\n",
       "POR QUE NO TIENEN LA NECESIDAD DE USARLA                                       1\n",
       "NO LA NECESITAN POR QUE NO HAY INFRACCESTRUTURA                                1\n",
       "NO TIENEN SERVICIO PARA USARLO                                                 1\n",
       "NO CREE CONVENIENTE TENER COMPUTADORA YA QUE SUS HIJOS ESTAN PEQUEÃOS         1\n",
       "POR EL MOMENTO NO LO NECESITA                                                  1\n",
       "PORQUE SUS HIJAS ESTAN PEQUEÃAS Y NO LA CUIDARIAN                             1\n",
       "LAS VENDIO HACE CUATRO MESES                                                   1\n",
       "LA UTILIZA EN SU TRABAJO                                                       1\n",
       "NO HAY SEÃAL EN EL PUEBLO                                                     1\n",
       "NO LA CRE NECESARIA                                                            1\n",
       "POR QUE LOS HIJOS DESCOMPONEN LOS APARATOS                                     1\n",
       "FALTA DE INTERNET EN LA ZONA                                                   1\n",
       "ESTAN DESCOMPUESTAS Y NO LAS VA A ARREGLAR                                     1\n",
       "ESTA DESCOMPUESTO Y NO LA VAN A REPARAR                                        1\n",
       "SE ABURRE DE TANTA TECNOLOGIA                                                  1\n",
       "TENIAN PERO SE DESCOMPUSO Y NO PLANEAN REPARARLA                               1\n",
       "ESTA EN PROCESO DE ADQUIRIR UNA                                                1\n",
       "PORQUE LO CONSIDERAN UNA DISTRACCION PARA EL ESTUDIO                           1\n",
       "PORQUE NO LES SERIA DE UTILIDAD                                                1\n",
       "PORQUE LOS NIÃOS SE DISTRAEN Y PREFIEREN NO COMPRARLOS                        1\n",
       "APENAS  VAN  A  INSTALAR                                                       1\n",
       "POR QUE SE LAS PUEDEN ROBAR ES MUY INSEGURO                                    1\n",
       "NO HAY SEAL EN SU LOCALIDAD                                                    1\n",
       "TIENEN CELULAR                                                                 1\n",
       "Name: P4_3E, Length: 2093, dtype: int64"
      ]
     },
     "execution_count": 420,
     "metadata": {},
     "output_type": "execute_result"
    }
   ],
   "source": [
    "P4_3E.value_counts()"
   ]
  },
  {
   "cell_type": "markdown",
   "metadata": {},
   "source": [
    "## vemos que la mayoria de los datos están en blanco asi que procedemos a borrar la columna"
   ]
  },
  {
   "cell_type": "code",
   "execution_count": 421,
   "metadata": {
    "collapsed": true
   },
   "outputs": [],
   "source": [
    "df_copy.drop('P4_3E',1, inplace=True)"
   ]
  },
  {
   "cell_type": "markdown",
   "metadata": {},
   "source": [
    "# 16.a columna P4_4 (4.4 ¿Disponen de conexión a Internet en el hogar?) \n",
    "## valores aceptados 1-2"
   ]
  },
  {
   "cell_type": "code",
   "execution_count": 422,
   "metadata": {
    "collapsed": false
   },
   "outputs": [
    {
     "data": {
      "text/plain": [
       "1    75001\n",
       "2    60340\n",
       "Name: P4_4, dtype: int64"
      ]
     },
     "execution_count": 422,
     "metadata": {},
     "output_type": "execute_result"
    }
   ],
   "source": [
    "df_copy.P4_4.value_counts()"
   ]
  },
  {
   "cell_type": "code",
   "execution_count": 423,
   "metadata": {
    "collapsed": false
   },
   "outputs": [
    {
     "data": {
      "text/plain": [
       "False"
      ]
     },
     "execution_count": 423,
     "metadata": {},
     "output_type": "execute_result"
    }
   ],
   "source": [
    "df_copy.isnull().P4_4.any()"
   ]
  },
  {
   "cell_type": "code",
   "execution_count": 424,
   "metadata": {
    "collapsed": false
   },
   "outputs": [
    {
     "data": {
      "text/plain": [
       "135341"
      ]
     },
     "execution_count": 424,
     "metadata": {},
     "output_type": "execute_result"
    }
   ],
   "source": [
    "df_copy.P4_4.value_counts().sum()"
   ]
  },
  {
   "cell_type": "markdown",
   "metadata": {},
   "source": [
    "# 17.a columna P4_5 (4.5 ¿La conexión a Internet es fija, móvil o de ambas?) \n",
    "## valores aceptados [1-3], 99"
   ]
  },
  {
   "cell_type": "code",
   "execution_count": 425,
   "metadata": {
    "collapsed": false
   },
   "outputs": [
    {
     "data": {
      "text/plain": [
       "1.0    33803\n",
       "3.0    26868\n",
       "2.0    14203\n",
       "9.0      127\n",
       "Name: P4_5, dtype: int64"
      ]
     },
     "execution_count": 425,
     "metadata": {},
     "output_type": "execute_result"
    }
   ],
   "source": [
    "df_copy.P4_5.value_counts()"
   ]
  },
  {
   "cell_type": "markdown",
   "metadata": {},
   "source": [
    "## vemos que hay valores nulos"
   ]
  },
  {
   "cell_type": "code",
   "execution_count": 426,
   "metadata": {
    "collapsed": false,
    "scrolled": true
   },
   "outputs": [
    {
     "data": {
      "text/plain": [
       "True"
      ]
     },
     "execution_count": 426,
     "metadata": {},
     "output_type": "execute_result"
    }
   ],
   "source": [
    "df_copy.isnull().P4_5.any()"
   ]
  },
  {
   "cell_type": "code",
   "execution_count": 427,
   "metadata": {
    "collapsed": false
   },
   "outputs": [
    {
     "data": {
      "text/plain": [
       "75001"
      ]
     },
     "execution_count": 427,
     "metadata": {},
     "output_type": "execute_result"
    }
   ],
   "source": [
    "df_copy.P4_5.value_counts().sum()"
   ]
  },
  {
   "cell_type": "markdown",
   "metadata": {},
   "source": [
    "## cambiamos a string para reemplazar los valores nulos"
   ]
  },
  {
   "cell_type": "code",
   "execution_count": 428,
   "metadata": {
    "collapsed": true
   },
   "outputs": [],
   "source": [
    "df_copy.P4_5 = df_copy.P4_5.astype('str')\n",
    "df_copy.P4_5.replace({'nan':'99'}, inplace=True)"
   ]
  },
  {
   "cell_type": "code",
   "execution_count": 429,
   "metadata": {
    "collapsed": true
   },
   "outputs": [],
   "source": [
    "df_copy.P4_5 = df_copy.P4_5.astype('float').astype('int64')"
   ]
  },
  {
   "cell_type": "markdown",
   "metadata": {},
   "source": [
    "## ya no hay valores nulos, fueron reemplazados por 99"
   ]
  },
  {
   "cell_type": "code",
   "execution_count": 430,
   "metadata": {
    "collapsed": false,
    "scrolled": true
   },
   "outputs": [
    {
     "data": {
      "text/plain": [
       "99    60340\n",
       "1     33803\n",
       "3     26868\n",
       "2     14203\n",
       "9       127\n",
       "Name: P4_5, dtype: int64"
      ]
     },
     "execution_count": 430,
     "metadata": {},
     "output_type": "execute_result"
    }
   ],
   "source": [
    "df_copy.P4_5.value_counts()"
   ]
  },
  {
   "cell_type": "code",
   "execution_count": 431,
   "metadata": {
    "collapsed": false
   },
   "outputs": [
    {
     "data": {
      "text/plain": [
       "False"
      ]
     },
     "execution_count": 431,
     "metadata": {},
     "output_type": "execute_result"
    }
   ],
   "source": [
    "df_copy.isnull().P4_5.any()"
   ]
  },
  {
   "cell_type": "code",
   "execution_count": 432,
   "metadata": {
    "collapsed": false
   },
   "outputs": [
    {
     "data": {
      "text/plain": [
       "135341"
      ]
     },
     "execution_count": 432,
     "metadata": {},
     "output_type": "execute_result"
    }
   ],
   "source": [
    "df_copy.P4_5.value_counts().sum()"
   ]
  },
  {
   "cell_type": "markdown",
   "metadata": {},
   "source": [
    "## reemplazamos los valores 9, por 99, ya que significa que no responden"
   ]
  },
  {
   "cell_type": "code",
   "execution_count": 433,
   "metadata": {
    "collapsed": false
   },
   "outputs": [
    {
     "name": "stderr",
     "output_type": "stream",
     "text": [
      "/home/hectorceja/anaconda3/lib/python3.6/site-packages/ipykernel_launcher.py:4: SettingWithCopyWarning: \n",
      "A value is trying to be set on a copy of a slice from a DataFrame\n",
      "\n",
      "See the caveats in the documentation: http://pandas.pydata.org/pandas-docs/stable/indexing.html#indexing-view-versus-copy\n",
      "  after removing the cwd from sys.path.\n"
     ]
    }
   ],
   "source": [
    "count = 0\n",
    "for row in  df_copy.P4_5:\n",
    "    if df_copy.P4_5[count] == 9:\n",
    "        df_copy.P4_5[count] = 99\n",
    "    count = count + 1"
   ]
  },
  {
   "cell_type": "code",
   "execution_count": 434,
   "metadata": {
    "collapsed": false
   },
   "outputs": [
    {
     "data": {
      "text/plain": [
       "99    60467\n",
       "1     33803\n",
       "3     26868\n",
       "2     14203\n",
       "Name: P4_5, dtype: int64"
      ]
     },
     "execution_count": 434,
     "metadata": {},
     "output_type": "execute_result"
    }
   ],
   "source": [
    "df_copy.P4_5.value_counts()"
   ]
  },
  {
   "cell_type": "code",
   "execution_count": 435,
   "metadata": {
    "collapsed": false
   },
   "outputs": [
    {
     "data": {
      "text/plain": [
       "135341"
      ]
     },
     "execution_count": 435,
     "metadata": {},
     "output_type": "execute_result"
    }
   ],
   "source": [
    "df_copy.P4_5.value_counts().sum()"
   ]
  },
  {
   "cell_type": "markdown",
   "metadata": {},
   "source": [
    "# 18.a columna P4_6_1 (4.6 ¿El medio de conexión fija es por: línea telefónica dedicada (con la que puede hablar por teléfono cuando está conectado a Internet)?) \n",
    "## valores aceptados [1-2], 99"
   ]
  },
  {
   "cell_type": "code",
   "execution_count": 436,
   "metadata": {
    "collapsed": false
   },
   "outputs": [
    {
     "data": {
      "text/plain": [
       "1.0    32788\n",
       "2.0    27883\n",
       "Name: P4_6_1, dtype: int64"
      ]
     },
     "execution_count": 436,
     "metadata": {},
     "output_type": "execute_result"
    }
   ],
   "source": [
    "df_copy.P4_6_1.value_counts()"
   ]
  },
  {
   "cell_type": "markdown",
   "metadata": {},
   "source": [
    "## hay valores vacios"
   ]
  },
  {
   "cell_type": "code",
   "execution_count": 437,
   "metadata": {
    "collapsed": false
   },
   "outputs": [
    {
     "data": {
      "text/plain": [
       "True"
      ]
     },
     "execution_count": 437,
     "metadata": {},
     "output_type": "execute_result"
    }
   ],
   "source": [
    "df_copy.isnull().P4_6_1.any()"
   ]
  },
  {
   "cell_type": "markdown",
   "metadata": {},
   "source": [
    "## reemplazamos valores vacios por 99"
   ]
  },
  {
   "cell_type": "code",
   "execution_count": 438,
   "metadata": {
    "collapsed": true
   },
   "outputs": [],
   "source": [
    "df_copy.P4_6_1 = df_copy.P4_6_1.astype('str')\n",
    "df_copy.P4_6_1.replace({'nan':'99'}, inplace=True)"
   ]
  },
  {
   "cell_type": "code",
   "execution_count": 439,
   "metadata": {
    "collapsed": true
   },
   "outputs": [],
   "source": [
    "df_copy.P4_6_1 = df_copy.P4_6_1.astype('float').astype('int64')"
   ]
  },
  {
   "cell_type": "code",
   "execution_count": 440,
   "metadata": {
    "collapsed": false
   },
   "outputs": [
    {
     "data": {
      "text/plain": [
       "99    74670\n",
       "1     32788\n",
       "2     27883\n",
       "Name: P4_6_1, dtype: int64"
      ]
     },
     "execution_count": 440,
     "metadata": {},
     "output_type": "execute_result"
    }
   ],
   "source": [
    "df_copy.P4_6_1.value_counts()"
   ]
  },
  {
   "cell_type": "code",
   "execution_count": 441,
   "metadata": {
    "collapsed": false
   },
   "outputs": [
    {
     "data": {
      "text/plain": [
       "False"
      ]
     },
     "execution_count": 441,
     "metadata": {},
     "output_type": "execute_result"
    }
   ],
   "source": [
    "df_copy.isnull().P4_6_1.any()"
   ]
  },
  {
   "cell_type": "code",
   "execution_count": 442,
   "metadata": {
    "collapsed": false
   },
   "outputs": [
    {
     "data": {
      "text/plain": [
       "135341"
      ]
     },
     "execution_count": 442,
     "metadata": {},
     "output_type": "execute_result"
    }
   ],
   "source": [
    "df_copy.P4_6_1.value_counts().sum()"
   ]
  },
  {
   "cell_type": "markdown",
   "metadata": {},
   "source": [
    "# 19.a columna P4_6_2 (4Internet por cable (comúnmente asociada a TV de paga)?) \n",
    "## valores aceptados [1-2], 99"
   ]
  },
  {
   "cell_type": "code",
   "execution_count": 443,
   "metadata": {
    "collapsed": false
   },
   "outputs": [
    {
     "data": {
      "text/plain": [
       "2.0    35157\n",
       "1.0    25514\n",
       "Name: P4_6_2, dtype: int64"
      ]
     },
     "execution_count": 443,
     "metadata": {},
     "output_type": "execute_result"
    }
   ],
   "source": [
    "df_copy.P4_6_2.value_counts()"
   ]
  },
  {
   "cell_type": "markdown",
   "metadata": {},
   "source": [
    "## hay valores vacíos"
   ]
  },
  {
   "cell_type": "code",
   "execution_count": 444,
   "metadata": {
    "collapsed": false
   },
   "outputs": [
    {
     "data": {
      "text/plain": [
       "True"
      ]
     },
     "execution_count": 444,
     "metadata": {},
     "output_type": "execute_result"
    }
   ],
   "source": [
    "df_copy.isnull().P4_6_2.any()"
   ]
  },
  {
   "cell_type": "markdown",
   "metadata": {},
   "source": [
    "## reemplazamos valores vacios por 99"
   ]
  },
  {
   "cell_type": "code",
   "execution_count": 445,
   "metadata": {
    "collapsed": true
   },
   "outputs": [],
   "source": [
    "df_copy.P4_6_2 = df_copy.P4_6_2.astype('str')\n",
    "df_copy.P4_6_2.replace({'nan':'99'}, inplace=True)"
   ]
  },
  {
   "cell_type": "code",
   "execution_count": 446,
   "metadata": {
    "collapsed": true
   },
   "outputs": [],
   "source": [
    "df_copy.P4_6_2 = df_copy.P4_6_2.astype('float').astype('int64')"
   ]
  },
  {
   "cell_type": "code",
   "execution_count": 447,
   "metadata": {
    "collapsed": false,
    "scrolled": true
   },
   "outputs": [
    {
     "data": {
      "text/plain": [
       "99    74670\n",
       "2     35157\n",
       "1     25514\n",
       "Name: P4_6_2, dtype: int64"
      ]
     },
     "execution_count": 447,
     "metadata": {},
     "output_type": "execute_result"
    }
   ],
   "source": [
    "df_copy.P4_6_2.value_counts()"
   ]
  },
  {
   "cell_type": "code",
   "execution_count": 448,
   "metadata": {
    "collapsed": false
   },
   "outputs": [
    {
     "data": {
      "text/plain": [
       "False"
      ]
     },
     "execution_count": 448,
     "metadata": {},
     "output_type": "execute_result"
    }
   ],
   "source": [
    "df_copy.isnull().P4_6_2.any()"
   ]
  },
  {
   "cell_type": "code",
   "execution_count": 449,
   "metadata": {
    "collapsed": false
   },
   "outputs": [
    {
     "data": {
      "text/plain": [
       "135341"
      ]
     },
     "execution_count": 449,
     "metadata": {},
     "output_type": "execute_result"
    }
   ],
   "source": [
    "df_copy.P4_6_2.value_counts().sum()"
   ]
  },
  {
   "cell_type": "markdown",
   "metadata": {},
   "source": [
    "# 20.a columna P4_6_3 (conexión satelital (por una antena parabólica, no confundir con las antenas de plato que otorgan servicio como Sky o Dish)?) \n",
    "## valores aceptados [1-2], 99"
   ]
  },
  {
   "cell_type": "code",
   "execution_count": 450,
   "metadata": {
    "collapsed": false
   },
   "outputs": [
    {
     "data": {
      "text/plain": [
       "2.0    59203\n",
       "1.0     1468\n",
       "Name: P4_6_3, dtype: int64"
      ]
     },
     "execution_count": 450,
     "metadata": {},
     "output_type": "execute_result"
    }
   ],
   "source": [
    "df_copy.P4_6_3.value_counts()"
   ]
  },
  {
   "cell_type": "markdown",
   "metadata": {},
   "source": [
    "## hay valores vacios"
   ]
  },
  {
   "cell_type": "code",
   "execution_count": 451,
   "metadata": {
    "collapsed": false
   },
   "outputs": [
    {
     "data": {
      "text/plain": [
       "True"
      ]
     },
     "execution_count": 451,
     "metadata": {},
     "output_type": "execute_result"
    }
   ],
   "source": [
    "df_copy.isnull().P4_6_3.any()"
   ]
  },
  {
   "cell_type": "markdown",
   "metadata": {},
   "source": [
    "## reemplazamos los valores"
   ]
  },
  {
   "cell_type": "code",
   "execution_count": 452,
   "metadata": {
    "collapsed": true
   },
   "outputs": [],
   "source": [
    "df_copy.P4_6_3 = df_copy.P4_6_3.astype('str')\n",
    "df_copy.P4_6_3.replace({'nan':'99'}, inplace=True)"
   ]
  },
  {
   "cell_type": "code",
   "execution_count": 453,
   "metadata": {
    "collapsed": true
   },
   "outputs": [],
   "source": [
    "df_copy.P4_6_3 = df_copy.P4_6_3.astype('float').astype('int64')"
   ]
  },
  {
   "cell_type": "code",
   "execution_count": 454,
   "metadata": {
    "collapsed": false
   },
   "outputs": [
    {
     "data": {
      "text/plain": [
       "99    74670\n",
       "2     59203\n",
       "1      1468\n",
       "Name: P4_6_3, dtype: int64"
      ]
     },
     "execution_count": 454,
     "metadata": {},
     "output_type": "execute_result"
    }
   ],
   "source": [
    "df_copy.P4_6_3.value_counts()"
   ]
  },
  {
   "cell_type": "code",
   "execution_count": 455,
   "metadata": {
    "collapsed": false
   },
   "outputs": [
    {
     "data": {
      "text/plain": [
       "False"
      ]
     },
     "execution_count": 455,
     "metadata": {},
     "output_type": "execute_result"
    }
   ],
   "source": [
    "df_copy.isnull().P4_6_3.any()"
   ]
  },
  {
   "cell_type": "code",
   "execution_count": 456,
   "metadata": {
    "collapsed": false
   },
   "outputs": [
    {
     "data": {
      "text/plain": [
       "135341"
      ]
     },
     "execution_count": 456,
     "metadata": {},
     "output_type": "execute_result"
    }
   ],
   "source": [
    "df_copy.P4_6_3.value_counts().sum()"
   ]
  },
  {
   "cell_type": "markdown",
   "metadata": {
    "collapsed": true
   },
   "source": [
    "# 21.a columna P4_6_4 (señal abierta de WiFi (externa a su hogar)?) \n",
    "## valores aceptados [1-2], 99"
   ]
  },
  {
   "cell_type": "code",
   "execution_count": 457,
   "metadata": {
    "collapsed": false
   },
   "outputs": [
    {
     "data": {
      "text/plain": [
       "2.0    58011\n",
       "1.0     2660\n",
       "Name: P4_6_4, dtype: int64"
      ]
     },
     "execution_count": 457,
     "metadata": {},
     "output_type": "execute_result"
    }
   ],
   "source": [
    "df_copy.P4_6_4.value_counts()"
   ]
  },
  {
   "cell_type": "code",
   "execution_count": 458,
   "metadata": {
    "collapsed": false
   },
   "outputs": [
    {
     "data": {
      "text/plain": [
       "True"
      ]
     },
     "execution_count": 458,
     "metadata": {},
     "output_type": "execute_result"
    }
   ],
   "source": [
    "df_copy.isnull().P4_6_4.any()"
   ]
  },
  {
   "cell_type": "code",
   "execution_count": 459,
   "metadata": {
    "collapsed": true
   },
   "outputs": [],
   "source": [
    "df_copy.P4_6_4 = df_copy.P4_6_4.astype('str')\n",
    "df_copy.P4_6_4.replace({'nan':'99'}, inplace=True)"
   ]
  },
  {
   "cell_type": "code",
   "execution_count": 460,
   "metadata": {
    "collapsed": true
   },
   "outputs": [],
   "source": [
    "df_copy.P4_6_4 = df_copy.P4_6_4.astype('float').astype('int64')"
   ]
  },
  {
   "cell_type": "code",
   "execution_count": 461,
   "metadata": {
    "collapsed": false
   },
   "outputs": [
    {
     "data": {
      "text/plain": [
       "99    74670\n",
       "2     58011\n",
       "1      2660\n",
       "Name: P4_6_4, dtype: int64"
      ]
     },
     "execution_count": 461,
     "metadata": {},
     "output_type": "execute_result"
    }
   ],
   "source": [
    "df_copy.P4_6_4.value_counts()"
   ]
  },
  {
   "cell_type": "code",
   "execution_count": 462,
   "metadata": {
    "collapsed": false
   },
   "outputs": [
    {
     "data": {
      "text/plain": [
       "False"
      ]
     },
     "execution_count": 462,
     "metadata": {},
     "output_type": "execute_result"
    }
   ],
   "source": [
    "df_copy.isnull().P4_6_4.any()"
   ]
  },
  {
   "cell_type": "code",
   "execution_count": 463,
   "metadata": {
    "collapsed": false
   },
   "outputs": [
    {
     "data": {
      "text/plain": [
       "135341"
      ]
     },
     "execution_count": 463,
     "metadata": {},
     "output_type": "execute_result"
    }
   ],
   "source": [
    "df_copy.P4_6_4.value_counts().sum()"
   ]
  },
  {
   "cell_type": "markdown",
   "metadata": {},
   "source": [
    "# 22.a columna P4_6_5 (línea telefónica por marcación (DIAL UP, mientras está conectado a Internet no puede hablar por teléfono)?) \n",
    "## valores aceptados [1-2], 99"
   ]
  },
  {
   "cell_type": "code",
   "execution_count": 464,
   "metadata": {
    "collapsed": false
   },
   "outputs": [
    {
     "data": {
      "text/plain": [
       "2.0    60557\n",
       "1.0      114\n",
       "Name: P4_6_5, dtype: int64"
      ]
     },
     "execution_count": 464,
     "metadata": {},
     "output_type": "execute_result"
    }
   ],
   "source": [
    "df_copy.P4_6_5.value_counts()"
   ]
  },
  {
   "cell_type": "code",
   "execution_count": 465,
   "metadata": {
    "collapsed": false
   },
   "outputs": [
    {
     "data": {
      "text/plain": [
       "True"
      ]
     },
     "execution_count": 465,
     "metadata": {},
     "output_type": "execute_result"
    }
   ],
   "source": [
    "df_copy.isnull().P4_6_5.any()"
   ]
  },
  {
   "cell_type": "code",
   "execution_count": 466,
   "metadata": {
    "collapsed": true
   },
   "outputs": [],
   "source": [
    "df_copy.P4_6_5 = df_copy.P4_6_5.astype('str')\n",
    "df_copy.P4_6_5.replace({'nan':'99'}, inplace=True)"
   ]
  },
  {
   "cell_type": "code",
   "execution_count": 467,
   "metadata": {
    "collapsed": true
   },
   "outputs": [],
   "source": [
    "df_copy.P4_6_5 = df_copy.P4_6_5.astype('float').astype('int64')"
   ]
  },
  {
   "cell_type": "code",
   "execution_count": 468,
   "metadata": {
    "collapsed": false
   },
   "outputs": [
    {
     "data": {
      "text/plain": [
       "99    74670\n",
       "2     60557\n",
       "1       114\n",
       "Name: P4_6_5, dtype: int64"
      ]
     },
     "execution_count": 468,
     "metadata": {},
     "output_type": "execute_result"
    }
   ],
   "source": [
    "df_copy.P4_6_5.value_counts()"
   ]
  },
  {
   "cell_type": "code",
   "execution_count": 469,
   "metadata": {
    "collapsed": false
   },
   "outputs": [
    {
     "data": {
      "text/plain": [
       "False"
      ]
     },
     "execution_count": 469,
     "metadata": {},
     "output_type": "execute_result"
    }
   ],
   "source": [
    "df_copy.isnull().P4_6_5.any()"
   ]
  },
  {
   "cell_type": "code",
   "execution_count": 470,
   "metadata": {
    "collapsed": false
   },
   "outputs": [
    {
     "data": {
      "text/plain": [
       "135341"
      ]
     },
     "execution_count": 470,
     "metadata": {},
     "output_type": "execute_result"
    }
   ],
   "source": [
    "df_copy.P4_6_5.value_counts().sum()"
   ]
  },
  {
   "cell_type": "markdown",
   "metadata": {},
   "source": [
    "# 23.a columna P4_6_6 (Otro medio) \n",
    "## valores aceptados [1-2], 99"
   ]
  },
  {
   "cell_type": "code",
   "execution_count": 471,
   "metadata": {
    "collapsed": false
   },
   "outputs": [
    {
     "data": {
      "text/plain": [
       "2.0    60423\n",
       "1.0      248\n",
       "Name: P4_6_6, dtype: int64"
      ]
     },
     "execution_count": 471,
     "metadata": {},
     "output_type": "execute_result"
    }
   ],
   "source": [
    "df_copy.P4_6_6.value_counts()"
   ]
  },
  {
   "cell_type": "code",
   "execution_count": 472,
   "metadata": {
    "collapsed": false
   },
   "outputs": [
    {
     "data": {
      "text/plain": [
       "True"
      ]
     },
     "execution_count": 472,
     "metadata": {},
     "output_type": "execute_result"
    }
   ],
   "source": [
    "df_copy.isnull().P4_6_6.any()"
   ]
  },
  {
   "cell_type": "code",
   "execution_count": 473,
   "metadata": {
    "collapsed": true
   },
   "outputs": [],
   "source": [
    "df_copy.P4_6_6 = df_copy.P4_6_6.astype('str')\n",
    "df_copy.P4_6_6.replace({'nan':'99'}, inplace=True)"
   ]
  },
  {
   "cell_type": "code",
   "execution_count": 474,
   "metadata": {
    "collapsed": true
   },
   "outputs": [],
   "source": [
    "df_copy.P4_6_6 = df_copy.P4_6_6.astype('float').astype('int64')"
   ]
  },
  {
   "cell_type": "code",
   "execution_count": 475,
   "metadata": {
    "collapsed": false
   },
   "outputs": [
    {
     "data": {
      "text/plain": [
       "99    74670\n",
       "2     60423\n",
       "1       248\n",
       "Name: P4_6_6, dtype: int64"
      ]
     },
     "execution_count": 475,
     "metadata": {},
     "output_type": "execute_result"
    }
   ],
   "source": [
    "df_copy.P4_6_6.value_counts()"
   ]
  },
  {
   "cell_type": "code",
   "execution_count": 476,
   "metadata": {
    "collapsed": false
   },
   "outputs": [
    {
     "data": {
      "text/plain": [
       "False"
      ]
     },
     "execution_count": 476,
     "metadata": {},
     "output_type": "execute_result"
    }
   ],
   "source": [
    "df_copy.isnull().P4_6_6.any()"
   ]
  },
  {
   "cell_type": "code",
   "execution_count": 477,
   "metadata": {
    "collapsed": false
   },
   "outputs": [
    {
     "data": {
      "text/plain": [
       "135341"
      ]
     },
     "execution_count": 477,
     "metadata": {},
     "output_type": "execute_result"
    }
   ],
   "source": [
    "df_copy.P4_6_6.value_counts().sum()"
   ]
  },
  {
   "cell_type": "markdown",
   "metadata": {},
   "source": [
    "# 24.a columna P4_6_6E (Especifique) \n",
    "## valores aceptados [0-9, A-Z; Símbolos], b"
   ]
  },
  {
   "cell_type": "code",
   "execution_count": 478,
   "metadata": {
    "collapsed": false
   },
   "outputs": [
    {
     "data": {
      "text/plain": [
       "ANTENA                                                                                     11\n",
       "SOLO INTERNET                                                                              10\n",
       "FIBRA OPTICA                                                                                6\n",
       "MODEM                                                                                       5\n",
       "CELULAR                                                                                     5\n",
       "ANTENA REPETIDORA                                                                           4\n",
       "BANDA ANCHA                                                                                 4\n",
       "TOTAL PLAY                                                                                  3\n",
       "CELULARES                                                                                   3\n",
       "RED DE DATOS                                                                                3\n",
       "NO SABE                                                                                     3\n",
       "REPETIDORA                                                                                  2\n",
       "ES POR MEDIO DE ANTENA                                                                      2\n",
       "TELMEX                                                                                      2\n",
       "POR MEDIO DE ANTENA                                                                         2\n",
       "AXTEL                                                                                       2\n",
       "DATOS DEL CELULAR                                                                           2\n",
       "DATOS                                                                                       2\n",
       "SOLO DATOS                                                                                  1\n",
       "PURO INETRNET SOLO                                                                          1\n",
       "MOVIL GASTO DE 1200                                                                         1\n",
       "BANDA ANCAHA                                                                                1\n",
       "ES POR MEDIO DE MODEM                                                                       1\n",
       "SE LA PASAV EL VECINIO                                                                      1\n",
       "INALAMBRICA                                                                                 1\n",
       "TENIAN EL SERVICIO DE TELEFONO FIJO LO SUSPENDIERON Y AHORA SOLO PAGAN EL INTERNET SOLO     1\n",
       "PEQUEÃO DISPOSITIVO RECEPTOR CONECTADO DIRECTAMENTE A LA PCCOMPAÃIA AIR                   1\n",
       "EL INTERNET ES POR  ANTENA REPETIDORA Y A PARTE TIENEN DE DATOS MOVILES                     1\n",
       "REPETIDORA DE INTERNET                                                                      1\n",
       "ENTENA REPETIDORA DIRIGIDA                                                                  1\n",
       "                                                                                           ..\n",
       "SOLO TIENE APARATO PARA INTERNET.                                                           1\n",
       "ANTENAS REPETIDORAS                                                                         1\n",
       "SEÃAL DE RED CELULAR                                                                       1\n",
       "BANDA ANCHA MOVIL                                                                           1\n",
       "USB MODEM                                                                                   1\n",
       "SOLO PAGAN EL INTERNET                                                                      1\n",
       "CELULAR MOVIL                                                                               1\n",
       "REPETIDOR DE INTERNET                                                                       1\n",
       "SOLO POR TELEFONO CELULAR                                                                   1\n",
       "SOLO A TRABES DEL MODEM                                                                     1\n",
       "DE LOS VECINOS                                                                              1\n",
       "SOLO SE CONECTA A INTERNET POR MEDIO DE SU CELULAR                                          1\n",
       "A TRAVEZ DE UNA QUE EXISTE EN UN CIBER Y MANDA LA SEÃAL A LOS HOGARES DE PUNTO A PUNTO     1\n",
       "SOLO INTERNET SOLO POR CABLE  PREPAHGO                                                      1\n",
       "SE LA PASA UN CONOCIDO                                                                      1\n",
       "SOLO PAGA INTERNET POR LA CAJITA                                                            1\n",
       "A TRAVES DE DATOS EN CELULAR                                                                1\n",
       "CONEXIO ANTENA                                                                              1\n",
       "DEL VECINO                                                                                  1\n",
       "POR MEDIO DE UNA ANTENA PARA SINTONIZAR SEÃAL                                              1\n",
       "LE PAGAN A SU VECINA POR EL USO DE LA INTERNET                                              1\n",
       "JALAN INTERNET DE OTRA VIVIENDA                                                             1\n",
       "DATOS MOVILES EN EL CELULAR                                                                 1\n",
       "SE LO PASA SU HERMANO                                                                       1\n",
       "INTERPHONET                                                                                 1\n",
       "LE PASAN EL INTERNET DE OTRO HOGAR                                                          1\n",
       "SOLO TIENE CONEXION CON SU CELULAR                                                          1\n",
       "UN VECINO LES PASA EL INTERNET                                                              1\n",
       "TIENE SOLO INTERNET POR MEDIO IZZI                                                          1\n",
       "CELULAR INTELIGENTE RED DE DATOS                                                            1\n",
       "Name: P4_6_6E, Length: 195, dtype: int64"
      ]
     },
     "execution_count": 478,
     "metadata": {},
     "output_type": "execute_result"
    }
   ],
   "source": [
    "df_copy.P4_6_6E.value_counts()"
   ]
  },
  {
   "cell_type": "code",
   "execution_count": 479,
   "metadata": {
    "collapsed": false
   },
   "outputs": [
    {
     "data": {
      "text/plain": [
       "True"
      ]
     },
     "execution_count": 479,
     "metadata": {},
     "output_type": "execute_result"
    }
   ],
   "source": [
    "df_copy.isnull().P4_6_6E.any()"
   ]
  },
  {
   "cell_type": "code",
   "execution_count": 480,
   "metadata": {
    "collapsed": true
   },
   "outputs": [],
   "source": [
    "df_copy.P4_6_6E = df_copy.P4_6_6E.astype('str')\n",
    "df_copy.P4_6_6E.replace({'nan':'b'}, inplace=True)"
   ]
  },
  {
   "cell_type": "markdown",
   "metadata": {},
   "source": [
    "# más del 95% son valores vacíos, procedemos a borrar la columna"
   ]
  },
  {
   "cell_type": "code",
   "execution_count": 481,
   "metadata": {
    "collapsed": false
   },
   "outputs": [
    {
     "data": {
      "text/plain": [
       "b                                                                                          135093\n",
       "ANTENA                                                                                         11\n",
       "SOLO INTERNET                                                                                  10\n",
       "FIBRA OPTICA                                                                                    6\n",
       "MODEM                                                                                           5\n",
       "CELULAR                                                                                         5\n",
       "ANTENA REPETIDORA                                                                               4\n",
       "BANDA ANCHA                                                                                     4\n",
       "CELULARES                                                                                       3\n",
       "NO SABE                                                                                         3\n",
       "RED DE DATOS                                                                                    3\n",
       "TOTAL PLAY                                                                                      3\n",
       "POR MEDIO DE ANTENA                                                                             2\n",
       "REPETIDORA                                                                                      2\n",
       "AXTEL                                                                                           2\n",
       "DATOS DEL CELULAR                                                                               2\n",
       "TELMEX                                                                                          2\n",
       "ES POR MEDIO DE ANTENA                                                                          2\n",
       "DATOS                                                                                           2\n",
       "POR FIBRA OPTICA USACEL MENSUAL                                                                 1\n",
       "ENTENA REPETIDORA DIRIGIDA                                                                      1\n",
       "EL INTERNET ES POR  ANTENA REPETIDORA Y A PARTE TIENEN DE DATOS MOVILES                         1\n",
       "MODEM DE TELMEX                                                                                 1\n",
       "COMPARTEN PAGO DE SERVICIO HOGAR UNO                                                            1\n",
       "SE ROBA LA SEÃAL DE SU MAMA                                                                    1\n",
       "DISPONE DE UN MODEM SIN LINEA TELEFONICA                                                        1\n",
       "DATOS MOVILES                                                                                   1\n",
       "SOLO DATOS                                                                                      1\n",
       "TENIAN EL SERVICIO DE TELEFONO FIJO LO SUSPENDIERON Y AHORA SOLO PAGAN EL INTERNET SOLO         1\n",
       "SE LA PASAV EL VECINIO                                                                          1\n",
       "                                                                                            ...  \n",
       "SOLO TIENE APARATO PARA INTERNET.                                                               1\n",
       "ANTENAS REPETIDORAS                                                                             1\n",
       "SEÃAL DE RED CELULAR                                                                           1\n",
       "BANDA ANCHA MOVIL                                                                               1\n",
       "USB MODEM                                                                                       1\n",
       "SOLO PAGAN EL INTERNET                                                                          1\n",
       "CELULAR MOVIL                                                                                   1\n",
       "REPETIDOR DE INTERNET                                                                           1\n",
       "SOLO POR TELEFONO CELULAR                                                                       1\n",
       "SOLO A TRABES DEL MODEM                                                                         1\n",
       "DE LOS VECINOS                                                                                  1\n",
       "SOLO SE CONECTA A INTERNET POR MEDIO DE SU CELULAR                                              1\n",
       "A TRAVEZ DE UNA QUE EXISTE EN UN CIBER Y MANDA LA SEÃAL A LOS HOGARES DE PUNTO A PUNTO         1\n",
       "SOLO INTERNET SOLO POR CABLE  PREPAHGO                                                          1\n",
       "SE LA PASA UN CONOCIDO                                                                          1\n",
       "SOLO PAGA INTERNET POR LA CAJITA                                                                1\n",
       "A TRAVES DE DATOS EN CELULAR                                                                    1\n",
       "CONEXIO ANTENA                                                                                  1\n",
       "DEL VECINO                                                                                      1\n",
       "POR MEDIO DE UNA ANTENA PARA SINTONIZAR SEÃAL                                                  1\n",
       "LE PAGAN A SU VECINA POR EL USO DE LA INTERNET                                                  1\n",
       "JALAN INTERNET DE OTRA VIVIENDA                                                                 1\n",
       "DATOS MOVILES EN EL CELULAR                                                                     1\n",
       "SE LO PASA SU HERMANO                                                                           1\n",
       "INTERPHONET                                                                                     1\n",
       "LE PASAN EL INTERNET DE OTRO HOGAR                                                              1\n",
       "SOLO TIENE CONEXION CON SU CELULAR                                                              1\n",
       "UN VECINO LES PASA EL INTERNET                                                                  1\n",
       "TIENE SOLO INTERNET POR MEDIO IZZI                                                              1\n",
       "CELULAR INTELIGENTE RED DE DATOS                                                                1\n",
       "Name: P4_6_6E, Length: 196, dtype: int64"
      ]
     },
     "execution_count": 481,
     "metadata": {},
     "output_type": "execute_result"
    }
   ],
   "source": [
    "df_copy.P4_6_6E.value_counts()"
   ]
  },
  {
   "cell_type": "code",
   "execution_count": 482,
   "metadata": {
    "collapsed": true
   },
   "outputs": [],
   "source": [
    "df_copy.drop('P4_6_6E',1, inplace=True)"
   ]
  },
  {
   "cell_type": "markdown",
   "metadata": {},
   "source": [
    "# 25.a columna P4_7_1 (4.7 ¿Con qué equipo(s) hacen la conexión móvil: Con un celular inteligente (Smartphone)?) \n",
    "## valores aceptados [1 Si-2 No], 99"
   ]
  },
  {
   "cell_type": "code",
   "execution_count": 483,
   "metadata": {
    "collapsed": false
   },
   "outputs": [
    {
     "data": {
      "text/plain": [
       "1.0    40987\n",
       "2.0       84\n",
       "Name: P4_7_1, dtype: int64"
      ]
     },
     "execution_count": 483,
     "metadata": {},
     "output_type": "execute_result"
    }
   ],
   "source": [
    "df_copy.P4_7_1.value_counts()"
   ]
  },
  {
   "cell_type": "code",
   "execution_count": 484,
   "metadata": {
    "collapsed": false
   },
   "outputs": [
    {
     "data": {
      "text/plain": [
       "True"
      ]
     },
     "execution_count": 484,
     "metadata": {},
     "output_type": "execute_result"
    }
   ],
   "source": [
    "df_copy.isnull().P4_7_1.any()"
   ]
  },
  {
   "cell_type": "code",
   "execution_count": 485,
   "metadata": {
    "collapsed": true
   },
   "outputs": [],
   "source": [
    "df_copy.P4_7_1 = df_copy.P4_7_1.astype('str')\n",
    "df_copy.P4_7_1.replace({'nan':'99'}, inplace=True)"
   ]
  },
  {
   "cell_type": "code",
   "execution_count": 486,
   "metadata": {
    "collapsed": true
   },
   "outputs": [],
   "source": [
    "df_copy.P4_7_1 = df_copy.P4_7_1.astype('float').astype('int64')"
   ]
  },
  {
   "cell_type": "code",
   "execution_count": 487,
   "metadata": {
    "collapsed": false
   },
   "outputs": [
    {
     "data": {
      "text/plain": [
       "99    94270\n",
       "1     40987\n",
       "2        84\n",
       "Name: P4_7_1, dtype: int64"
      ]
     },
     "execution_count": 487,
     "metadata": {},
     "output_type": "execute_result"
    }
   ],
   "source": [
    "df_copy.P4_7_1.value_counts()"
   ]
  },
  {
   "cell_type": "code",
   "execution_count": 488,
   "metadata": {
    "collapsed": false
   },
   "outputs": [
    {
     "data": {
      "text/plain": [
       "False"
      ]
     },
     "execution_count": 488,
     "metadata": {},
     "output_type": "execute_result"
    }
   ],
   "source": [
    "df_copy.isnull().P4_7_1.any()"
   ]
  },
  {
   "cell_type": "code",
   "execution_count": 489,
   "metadata": {
    "collapsed": false
   },
   "outputs": [
    {
     "data": {
      "text/plain": [
       "135341"
      ]
     },
     "execution_count": 489,
     "metadata": {},
     "output_type": "execute_result"
    }
   ],
   "source": [
    "df_copy.P4_7_1.value_counts().sum()"
   ]
  },
  {
   "cell_type": "markdown",
   "metadata": {},
   "source": [
    "# 26.a columna P4_7_2 (Con una computadora de escritorio y una tarjeta Banda Ancha Móvil, tipo USB) \n",
    "## valores aceptados [1 Si-2 No], 99"
   ]
  },
  {
   "cell_type": "code",
   "execution_count": 490,
   "metadata": {
    "collapsed": false
   },
   "outputs": [
    {
     "data": {
      "text/plain": [
       "2.0    39138\n",
       "1.0     1933\n",
       "Name: P4_7_2, dtype: int64"
      ]
     },
     "execution_count": 490,
     "metadata": {},
     "output_type": "execute_result"
    }
   ],
   "source": [
    "df_copy.P4_7_2.value_counts()"
   ]
  },
  {
   "cell_type": "code",
   "execution_count": 491,
   "metadata": {
    "collapsed": false
   },
   "outputs": [
    {
     "data": {
      "text/plain": [
       "True"
      ]
     },
     "execution_count": 491,
     "metadata": {},
     "output_type": "execute_result"
    }
   ],
   "source": [
    "df_copy.isnull().P4_7_2.any()"
   ]
  },
  {
   "cell_type": "code",
   "execution_count": 492,
   "metadata": {
    "collapsed": true
   },
   "outputs": [],
   "source": [
    "df_copy.P4_7_2 = df_copy.P4_7_2.astype('str')\n",
    "df_copy.P4_7_2.replace({'nan':'99'}, inplace=True)"
   ]
  },
  {
   "cell_type": "code",
   "execution_count": 493,
   "metadata": {
    "collapsed": true
   },
   "outputs": [],
   "source": [
    "df_copy.P4_7_2 = df_copy.P4_7_2.astype('float').astype('int64')"
   ]
  },
  {
   "cell_type": "code",
   "execution_count": 494,
   "metadata": {
    "collapsed": false
   },
   "outputs": [
    {
     "data": {
      "text/plain": [
       "99    94270\n",
       "2     39138\n",
       "1      1933\n",
       "Name: P4_7_2, dtype: int64"
      ]
     },
     "execution_count": 494,
     "metadata": {},
     "output_type": "execute_result"
    }
   ],
   "source": [
    "df_copy.P4_7_2.value_counts()"
   ]
  },
  {
   "cell_type": "code",
   "execution_count": 495,
   "metadata": {
    "collapsed": false
   },
   "outputs": [
    {
     "data": {
      "text/plain": [
       "False"
      ]
     },
     "execution_count": 495,
     "metadata": {},
     "output_type": "execute_result"
    }
   ],
   "source": [
    "df_copy.isnull().P4_7_2.any()"
   ]
  },
  {
   "cell_type": "code",
   "execution_count": 496,
   "metadata": {
    "collapsed": false
   },
   "outputs": [
    {
     "data": {
      "text/plain": [
       "135341"
      ]
     },
     "execution_count": 496,
     "metadata": {},
     "output_type": "execute_result"
    }
   ],
   "source": [
    "df_copy.P4_7_2.value_counts().sum()"
   ]
  },
  {
   "cell_type": "markdown",
   "metadata": {},
   "source": [
    "# 27.a columna P4_7_3 (Con una computadora portátil y una tarjeta Banda Ancha Móvil, tipo USB) \n",
    "## valores aceptados [1 Si-2 No], 99"
   ]
  },
  {
   "cell_type": "code",
   "execution_count": 497,
   "metadata": {
    "collapsed": false
   },
   "outputs": [
    {
     "data": {
      "text/plain": [
       "2.0    36305\n",
       "1.0     4766\n",
       "Name: P4_7_3, dtype: int64"
      ]
     },
     "execution_count": 497,
     "metadata": {},
     "output_type": "execute_result"
    }
   ],
   "source": [
    "df_copy.P4_7_3.value_counts()"
   ]
  },
  {
   "cell_type": "code",
   "execution_count": 498,
   "metadata": {
    "collapsed": false
   },
   "outputs": [
    {
     "data": {
      "text/plain": [
       "True"
      ]
     },
     "execution_count": 498,
     "metadata": {},
     "output_type": "execute_result"
    }
   ],
   "source": [
    "df_copy.isnull().P4_7_3.any()"
   ]
  },
  {
   "cell_type": "code",
   "execution_count": 499,
   "metadata": {
    "collapsed": true
   },
   "outputs": [],
   "source": [
    "df_copy.P4_7_3 = df_copy.P4_7_3.astype('str')\n",
    "df_copy.P4_7_3.replace({'nan':'99'}, inplace=True)"
   ]
  },
  {
   "cell_type": "code",
   "execution_count": 500,
   "metadata": {
    "collapsed": true
   },
   "outputs": [],
   "source": [
    "df_copy.P4_7_3 = df_copy.P4_7_3.astype('float').astype('int64')"
   ]
  },
  {
   "cell_type": "code",
   "execution_count": 501,
   "metadata": {
    "collapsed": false
   },
   "outputs": [
    {
     "data": {
      "text/plain": [
       "99    94270\n",
       "2     36305\n",
       "1      4766\n",
       "Name: P4_7_3, dtype: int64"
      ]
     },
     "execution_count": 501,
     "metadata": {},
     "output_type": "execute_result"
    }
   ],
   "source": [
    "df_copy.P4_7_3.value_counts()"
   ]
  },
  {
   "cell_type": "code",
   "execution_count": 502,
   "metadata": {
    "collapsed": false
   },
   "outputs": [
    {
     "data": {
      "text/plain": [
       "False"
      ]
     },
     "execution_count": 502,
     "metadata": {},
     "output_type": "execute_result"
    }
   ],
   "source": [
    "df_copy.isnull().P4_7_3.any()"
   ]
  },
  {
   "cell_type": "code",
   "execution_count": 503,
   "metadata": {
    "collapsed": false
   },
   "outputs": [
    {
     "data": {
      "text/plain": [
       "135341"
      ]
     },
     "execution_count": 503,
     "metadata": {},
     "output_type": "execute_result"
    }
   ],
   "source": [
    "df_copy.P4_7_3.value_counts().sum()"
   ]
  },
  {
   "cell_type": "markdown",
   "metadata": {},
   "source": [
    "# 28.a columna P4_7_4 (Con una tablet con acceso a red móvil) \n",
    "## valores aceptados [1 Si-2 No], 99"
   ]
  },
  {
   "cell_type": "code",
   "execution_count": 504,
   "metadata": {
    "collapsed": false
   },
   "outputs": [
    {
     "data": {
      "text/plain": [
       "2.0    36885\n",
       "1.0     4186\n",
       "Name: P4_7_4, dtype: int64"
      ]
     },
     "execution_count": 504,
     "metadata": {},
     "output_type": "execute_result"
    }
   ],
   "source": [
    "df_copy.P4_7_4.value_counts()"
   ]
  },
  {
   "cell_type": "code",
   "execution_count": 505,
   "metadata": {
    "collapsed": false
   },
   "outputs": [
    {
     "data": {
      "text/plain": [
       "True"
      ]
     },
     "execution_count": 505,
     "metadata": {},
     "output_type": "execute_result"
    }
   ],
   "source": [
    "df_copy.isnull().P4_7_4.any()"
   ]
  },
  {
   "cell_type": "code",
   "execution_count": 506,
   "metadata": {
    "collapsed": true
   },
   "outputs": [],
   "source": [
    "df_copy.P4_7_4 = df_copy.P4_7_4.astype('str')\n",
    "df_copy.P4_7_4.replace({'nan':'99'}, inplace=True)"
   ]
  },
  {
   "cell_type": "code",
   "execution_count": 507,
   "metadata": {
    "collapsed": true
   },
   "outputs": [],
   "source": [
    "df_copy.P4_7_4 = df_copy.P4_7_4.astype('float').astype('int64')"
   ]
  },
  {
   "cell_type": "code",
   "execution_count": 508,
   "metadata": {
    "collapsed": false
   },
   "outputs": [
    {
     "data": {
      "text/plain": [
       "99    94270\n",
       "2     36885\n",
       "1      4186\n",
       "Name: P4_7_4, dtype: int64"
      ]
     },
     "execution_count": 508,
     "metadata": {},
     "output_type": "execute_result"
    }
   ],
   "source": [
    "df_copy.P4_7_4.value_counts()"
   ]
  },
  {
   "cell_type": "code",
   "execution_count": 509,
   "metadata": {
    "collapsed": false
   },
   "outputs": [
    {
     "data": {
      "text/plain": [
       "False"
      ]
     },
     "execution_count": 509,
     "metadata": {},
     "output_type": "execute_result"
    }
   ],
   "source": [
    "df_copy.isnull().P4_7_4.any()"
   ]
  },
  {
   "cell_type": "code",
   "execution_count": 510,
   "metadata": {
    "collapsed": false
   },
   "outputs": [
    {
     "data": {
      "text/plain": [
       "135341"
      ]
     },
     "execution_count": 510,
     "metadata": {},
     "output_type": "execute_result"
    }
   ],
   "source": [
    "df_copy.P4_7_4.value_counts().sum()"
   ]
  },
  {
   "cell_type": "markdown",
   "metadata": {},
   "source": [
    "# 29.a columna P4_7_5 (Otro equipo) \n",
    "## valores aceptados [1 Si-2 No], 99"
   ]
  },
  {
   "cell_type": "code",
   "execution_count": 511,
   "metadata": {
    "collapsed": false
   },
   "outputs": [
    {
     "data": {
      "text/plain": [
       "2.0    40685\n",
       "1.0      386\n",
       "Name: P4_7_5, dtype: int64"
      ]
     },
     "execution_count": 511,
     "metadata": {},
     "output_type": "execute_result"
    }
   ],
   "source": [
    "df_copy.P4_7_5.value_counts()"
   ]
  },
  {
   "cell_type": "code",
   "execution_count": 512,
   "metadata": {
    "collapsed": false
   },
   "outputs": [
    {
     "data": {
      "text/plain": [
       "True"
      ]
     },
     "execution_count": 512,
     "metadata": {},
     "output_type": "execute_result"
    }
   ],
   "source": [
    "df_copy.isnull().P4_7_5.any()"
   ]
  },
  {
   "cell_type": "code",
   "execution_count": 513,
   "metadata": {
    "collapsed": true
   },
   "outputs": [],
   "source": [
    "df_copy.P4_7_5 = df_copy.P4_7_5.astype('str')\n",
    "df_copy.P4_7_5.replace({'nan':'99'}, inplace=True)"
   ]
  },
  {
   "cell_type": "code",
   "execution_count": 514,
   "metadata": {
    "collapsed": true
   },
   "outputs": [],
   "source": [
    "df_copy.P4_7_5 = df_copy.P4_7_5.astype('float').astype('int64')"
   ]
  },
  {
   "cell_type": "code",
   "execution_count": 515,
   "metadata": {
    "collapsed": false
   },
   "outputs": [
    {
     "data": {
      "text/plain": [
       "99    94270\n",
       "2     40685\n",
       "1       386\n",
       "Name: P4_7_5, dtype: int64"
      ]
     },
     "execution_count": 515,
     "metadata": {},
     "output_type": "execute_result"
    }
   ],
   "source": [
    "df_copy.P4_7_5.value_counts()"
   ]
  },
  {
   "cell_type": "code",
   "execution_count": 516,
   "metadata": {
    "collapsed": false
   },
   "outputs": [
    {
     "data": {
      "text/plain": [
       "False"
      ]
     },
     "execution_count": 516,
     "metadata": {},
     "output_type": "execute_result"
    }
   ],
   "source": [
    "df_copy.isnull().P4_7_5.any()"
   ]
  },
  {
   "cell_type": "code",
   "execution_count": 517,
   "metadata": {
    "collapsed": false
   },
   "outputs": [
    {
     "data": {
      "text/plain": [
       "135341"
      ]
     },
     "execution_count": 517,
     "metadata": {},
     "output_type": "execute_result"
    }
   ],
   "source": [
    "df_copy.P4_7_5.value_counts().sum()"
   ]
  },
  {
   "cell_type": "markdown",
   "metadata": {},
   "source": [
    "# 30.a columna P4_7_5E (Especifique) "
   ]
  },
  {
   "cell_type": "code",
   "execution_count": 518,
   "metadata": {
    "collapsed": false
   },
   "outputs": [
    {
     "data": {
      "text/plain": [
       "LAPTOP                                                                                      57\n",
       "TELEVISION                                                                                  50\n",
       "CONSOLA DE VIDEO JUEGOS                                                                     12\n",
       "LAPTOP TABLET                                                                               11\n",
       "CONSOLA DE VIDEOJUEGOS                                                                      11\n",
       "SMART TV                                                                                    11\n",
       "TABLET                                                                                      10\n",
       "LAP TOP                                                                                      9\n",
       "XBOX                                                                                         7\n",
       "CONSOLA                                                                                      7\n",
       "CON LA TELEVISION                                                                            6\n",
       "PANTALLA PLANA                                                                               5\n",
       "TELEVISOR                                                                                    4\n",
       "COMPUTADORA                                                                                  4\n",
       "TABLET LAPTOP                                                                                4\n",
       "TV CON ACCESO A INTERNET                                                                     4\n",
       "IPAD                                                                                         3\n",
       "TELEVICION                                                                                   3\n",
       "MODEM                                                                                        3\n",
       "VIDEO JUEGO                                                                                  3\n",
       "IPOD                                                                                         3\n",
       "PANTALLA                                                                                     3\n",
       "LAPTOP SMART TV                                                                              2\n",
       "X BOX                                                                                        2\n",
       "TV SMART                                                                                     2\n",
       "CON SMARTTV                                                                                  2\n",
       "LAPTOP Y CONSOLA DE VIDEO JUEGOS                                                             2\n",
       "COMPUTADORA DE ESCRITORIO                                                                    2\n",
       "ANTENA                                                                                       2\n",
       "LAP                                                                                          2\n",
       "                                                                                            ..\n",
       "CONSOLA DE VIDEJUEGOS                                                                        1\n",
       "TELEVISION Y CONSOLA DE VIDEO JUEGOS                                                         1\n",
       "JUEGOS DE EXBOX                                                                              1\n",
       "TELEVISION SMART TV                                                                          1\n",
       "CON LA LAPTOP MEDIANTE. LOS DATOS DEL CELULAR                                                1\n",
       "RED DE DATOS                                                                                 1\n",
       "TELEVISION CON ACCESO A INTERNET                                                             1\n",
       "LAP TOP MEDIANTE WIFI                                                                        1\n",
       "POR MEDIO DEL CABLE                                                                          1\n",
       "CON PANTALLA                                                                                 1\n",
       "PANTALLA SMART TV Y LAPTOP                                                                   1\n",
       "SMART TV Y CONSOLA DE VIDEO JUEGOS                                                           1\n",
       "VIDEO JUEGOS                                                                                 1\n",
       "TEKEVISION                                                                                   1\n",
       "PANTALLA PLANA SMART TV                                                                      1\n",
       "EXXV0S                                                                                       1\n",
       "PLAY STATION                                                                                 1\n",
       "PORTATIL TRANSFIERE DATOS MOVILES A SU LAPTOP.                                               1\n",
       "UN DISPOSITIVO MOVIL DE WIFI DE PREPAGO DESCONOCE LA COMPAÃIA QUE LE OFRESE EL SERVICIO     1\n",
       "SMAR TV                                                                                      1\n",
       "EXBOX                                                                                        1\n",
       "TV CON ACCESO A INTENET                                                                      1\n",
       "ROUTER                                                                                       1\n",
       "SE CONECTAN CON LA COMPUTADORA DE ESCRITORIO                                                 1\n",
       "TELEVISION SMARTTV                                                                           1\n",
       "COMPUTADORA PORTATIL                                                                         1\n",
       "BLUERAY                                                                                      1\n",
       "COMPUTADORA DE ESCRITORIO Y LAPTOP                                                           1\n",
       "CONSOLA  DE VIDEOJUEGOS                                                                      1\n",
       "TE3EV5S56N                                                                                   1\n",
       "Name: P4_7_5E, Length: 164, dtype: int64"
      ]
     },
     "execution_count": 518,
     "metadata": {},
     "output_type": "execute_result"
    }
   ],
   "source": [
    "df_copy.P4_7_5E.value_counts()"
   ]
  },
  {
   "cell_type": "code",
   "execution_count": 519,
   "metadata": {
    "collapsed": true
   },
   "outputs": [],
   "source": [
    "df_copy.P4_7_5E = df_copy.P4_7_5E.astype('str')\n",
    "df_copy.P4_7_5E.replace({'nan':'b'}, inplace=True)"
   ]
  },
  {
   "cell_type": "code",
   "execution_count": 520,
   "metadata": {
    "collapsed": false
   },
   "outputs": [
    {
     "data": {
      "text/plain": [
       "b                                                                                           134955\n",
       "LAPTOP                                                                                          57\n",
       "TELEVISION                                                                                      50\n",
       "CONSOLA DE VIDEO JUEGOS                                                                         12\n",
       "SMART TV                                                                                        11\n",
       "CONSOLA DE VIDEOJUEGOS                                                                          11\n",
       "LAPTOP TABLET                                                                                   11\n",
       "TABLET                                                                                          10\n",
       "LAP TOP                                                                                          9\n",
       "CONSOLA                                                                                          7\n",
       "XBOX                                                                                             7\n",
       "CON LA TELEVISION                                                                                6\n",
       "PANTALLA PLANA                                                                                   5\n",
       "TABLET LAPTOP                                                                                    4\n",
       "COMPUTADORA                                                                                      4\n",
       "TV CON ACCESO A INTERNET                                                                         4\n",
       "TELEVISOR                                                                                        4\n",
       "PANTALLA                                                                                         3\n",
       "MODEM                                                                                            3\n",
       "IPOD                                                                                             3\n",
       "TELEVICION                                                                                       3\n",
       "IPAD                                                                                             3\n",
       "VIDEO JUEGO                                                                                      3\n",
       "X BOX                                                                                            2\n",
       "CON SMARTTV                                                                                      2\n",
       "LAPTOP Y CONSOLA DE VIDEO JUEGOS                                                                 2\n",
       "LA TELEVISION                                                                                    2\n",
       "LAP                                                                                              2\n",
       "CONSOLA DE VIDEO JUEGO                                                                           2\n",
       "LAPTOP SMART TV                                                                                  2\n",
       "                                                                                             ...  \n",
       "BLURAI                                                                                           1\n",
       "CONSOLA DE VIDEJUEGOS                                                                            1\n",
       "TELEVISION Y CONSOLA DE VIDEO JUEGOS                                                             1\n",
       "JUEGOS DE EXBOX                                                                                  1\n",
       "CON LA LAPTOP MEDIANTE. LOS DATOS DEL CELULAR                                                    1\n",
       "CON TELEVISION CONECTADA A WIFI                                                                  1\n",
       "TELEVISION CON ACCESO A INTERNET                                                                 1\n",
       "LAP TOP MEDIANTE WIFI                                                                            1\n",
       "POR MEDIO DEL CABLE                                                                              1\n",
       "CON PANTALLA                                                                                     1\n",
       "PANTALLA SMART TV Y LAPTOP                                                                       1\n",
       "SMART TV Y CONSOLA DE VIDEO JUEGOS                                                               1\n",
       "TEKEVISION                                                                                       1\n",
       "PANTALLA PLANA SMART TV                                                                          1\n",
       "EXXV0S                                                                                           1\n",
       "PLAY STATION                                                                                     1\n",
       "PORTATIL TRANSFIERE DATOS MOVILES A SU LAPTOP.                                                   1\n",
       "UN DISPOSITIVO MOVIL DE WIFI DE PREPAGO DESCONOCE LA COMPAÃIA QUE LE OFRESE EL SERVICIO         1\n",
       "SMAR TV                                                                                          1\n",
       "EXBOX                                                                                            1\n",
       "TV CON ACCESO A INTENET                                                                          1\n",
       "ROUTER                                                                                           1\n",
       "SE CONECTAN CON LA COMPUTADORA DE ESCRITORIO                                                     1\n",
       "TELEVISION SMARTTV                                                                               1\n",
       "COMPUTADORA PORTATIL                                                                             1\n",
       "BLUERAY                                                                                          1\n",
       "COMPUTADORA DE ESCRITORIO Y LAPTOP                                                               1\n",
       "CONSOLA  DE VIDEOJUEGOS                                                                          1\n",
       "RED DE DATOS                                                                                     1\n",
       "TE3EV5S56N                                                                                       1\n",
       "Name: P4_7_5E, Length: 165, dtype: int64"
      ]
     },
     "execution_count": 520,
     "metadata": {},
     "output_type": "execute_result"
    }
   ],
   "source": [
    "df_copy.P4_7_5E.value_counts()"
   ]
  },
  {
   "cell_type": "code",
   "execution_count": 521,
   "metadata": {
    "collapsed": true
   },
   "outputs": [],
   "source": [
    "df_copy.drop('P4_7_5E',1, inplace=True)"
   ]
  },
  {
   "cell_type": "markdown",
   "metadata": {},
   "source": [
    "# 31.a columna P4_8 (4.8 ¿Por qué no dispone de Internet en el hogar?) \n",
    "## 1 Falta de recursos económicos (servicio incosteable),2 No les interesa o no lo necesitan,3 No sabe usarlo,4 Desconoce su utilidad,5 Equipo insuficiente o sin capacidad,6 No hay proveedor o infraestructura en su localidad,7 Otra razón,99 No responde"
   ]
  },
  {
   "cell_type": "code",
   "execution_count": 522,
   "metadata": {
    "collapsed": false
   },
   "outputs": [
    {
     "data": {
      "text/plain": [
       "1.0    32391\n",
       "2.0    13788\n",
       "3.0     6106\n",
       "6.0     4644\n",
       "7.0     2235\n",
       "4.0      631\n",
       "5.0      513\n",
       "8.0       32\n",
       "Name: P4_8, dtype: int64"
      ]
     },
     "execution_count": 522,
     "metadata": {},
     "output_type": "execute_result"
    }
   ],
   "source": [
    "df_copy.P4_8.value_counts()"
   ]
  },
  {
   "cell_type": "code",
   "execution_count": 523,
   "metadata": {
    "collapsed": false
   },
   "outputs": [
    {
     "data": {
      "text/plain": [
       "True"
      ]
     },
     "execution_count": 523,
     "metadata": {},
     "output_type": "execute_result"
    }
   ],
   "source": [
    "df_copy.isnull().P4_8.any()"
   ]
  },
  {
   "cell_type": "code",
   "execution_count": 524,
   "metadata": {
    "collapsed": true
   },
   "outputs": [],
   "source": [
    "df_copy.P4_8 = df_copy.P4_8.astype('str')\n",
    "df_copy.P4_8.replace({'nan':'99'}, inplace=True)"
   ]
  },
  {
   "cell_type": "code",
   "execution_count": 525,
   "metadata": {
    "collapsed": true
   },
   "outputs": [],
   "source": [
    "df_copy.P4_8 = df_copy.P4_8.astype('float').astype('int64')"
   ]
  },
  {
   "cell_type": "code",
   "execution_count": 526,
   "metadata": {
    "collapsed": false
   },
   "outputs": [
    {
     "data": {
      "text/plain": [
       "99    75001\n",
       "1     32391\n",
       "2     13788\n",
       "3      6106\n",
       "6      4644\n",
       "7      2235\n",
       "4       631\n",
       "5       513\n",
       "8        32\n",
       "Name: P4_8, dtype: int64"
      ]
     },
     "execution_count": 526,
     "metadata": {},
     "output_type": "execute_result"
    }
   ],
   "source": [
    "df_copy.P4_8.value_counts()"
   ]
  },
  {
   "cell_type": "markdown",
   "metadata": {},
   "source": [
    "## juntamos el 8 con el 99"
   ]
  },
  {
   "cell_type": "code",
   "execution_count": 527,
   "metadata": {
    "collapsed": false
   },
   "outputs": [
    {
     "name": "stderr",
     "output_type": "stream",
     "text": [
      "/home/hectorceja/anaconda3/lib/python3.6/site-packages/ipykernel_launcher.py:4: SettingWithCopyWarning: \n",
      "A value is trying to be set on a copy of a slice from a DataFrame\n",
      "\n",
      "See the caveats in the documentation: http://pandas.pydata.org/pandas-docs/stable/indexing.html#indexing-view-versus-copy\n",
      "  after removing the cwd from sys.path.\n"
     ]
    }
   ],
   "source": [
    "count = 0\n",
    "for row in df_copy.P4_8:\n",
    "    if df_copy.P4_8[count] == 8:\n",
    "        df_copy.P4_8[count] = 99\n",
    "    count = count + 1"
   ]
  },
  {
   "cell_type": "code",
   "execution_count": 528,
   "metadata": {
    "collapsed": false
   },
   "outputs": [
    {
     "data": {
      "text/plain": [
       "99    75033\n",
       "1     32391\n",
       "2     13788\n",
       "3      6106\n",
       "6      4644\n",
       "7      2235\n",
       "4       631\n",
       "5       513\n",
       "Name: P4_8, dtype: int64"
      ]
     },
     "execution_count": 528,
     "metadata": {},
     "output_type": "execute_result"
    }
   ],
   "source": [
    "df_copy.P4_8.value_counts()"
   ]
  },
  {
   "cell_type": "code",
   "execution_count": 529,
   "metadata": {
    "collapsed": false
   },
   "outputs": [
    {
     "data": {
      "text/plain": [
       "False"
      ]
     },
     "execution_count": 529,
     "metadata": {},
     "output_type": "execute_result"
    }
   ],
   "source": [
    "df_copy.isnull().P4_8.any()"
   ]
  },
  {
   "cell_type": "code",
   "execution_count": 530,
   "metadata": {
    "collapsed": false
   },
   "outputs": [
    {
     "data": {
      "text/plain": [
       "135341"
      ]
     },
     "execution_count": 530,
     "metadata": {},
     "output_type": "execute_result"
    }
   ],
   "source": [
    "df_copy.P4_8.value_counts().sum()"
   ]
  },
  {
   "cell_type": "markdown",
   "metadata": {},
   "source": [
    "# 32.a columna P4_8E (Especifique) "
   ]
  },
  {
   "cell_type": "code",
   "execution_count": 531,
   "metadata": {
    "collapsed": false
   },
   "outputs": [
    {
     "data": {
      "text/plain": [
       "POR SEGURIDAD                                                                   17\n",
       "NO HAY SEÃAL                                                                   15\n",
       "FALTA DE TIEMPO                                                                 11\n",
       "NO TIENE COMPUTADORA                                                            11\n",
       "NO LO NECESITA                                                                  10\n",
       "NO HAY SERVICIO EN LA LOCALIDAD                                                 10\n",
       "SE ACABAN DE MUDAR                                                               8\n",
       "NO TIENEN COMPUTADORA                                                            8\n",
       "CASI NO ESTAN EN CASA                                                            8\n",
       "NO LO NECESITAN                                                                  7\n",
       "POR FALTA DE TIEMPO                                                              7\n",
       "CADA QUIEN TIENE SU CELULAR                                                      7\n",
       "NO LO OCUPAN                                                                     7\n",
       "NO TIENE TIEMPO                                                                  6\n",
       "CASI NO ESTA EN SU CASA                                                          6\n",
       "PORQUE NO TIENEN COMPUTADORA                                                     6\n",
       "NO LLEGA LA SEÃAL                                                               6\n",
       "NO LO HA CONTRATADO                                                              6\n",
       "NO LO HAN CONTRATADO                                                             6\n",
       "SE ACABAN DE CAMBIAR                                                             5\n",
       "NO TIENEN TIEMPO                                                                 5\n",
       "NO LE GUSTA                                                                      5\n",
       "APENAS LO VAN A CONTRATAR                                                        5\n",
       "CASI NO ESTAN EN SU CASA                                                         5\n",
       "NO HA CONTRATADO                                                                 5\n",
       "NO LO OCUPA                                                                      4\n",
       "UTILIZA EL CELULAR                                                               4\n",
       "SE ACABA DE CAMBIAR                                                              4\n",
       "USAN EL CELULAR                                                                  4\n",
       "NO LES GUSTA                                                                     4\n",
       "                                                                                ..\n",
       "MUCGAS FALLAS EN EL SERVICIO                                                     1\n",
       "CASI NO ESTAN EN SU DOMICILIO                                                    1\n",
       "NO HAY COBERTURA DE LA EMPRESA QUE DESEA                                         1\n",
       "YA HICIERON CONTRATO PERO NO TIENEN LINEA                                        1\n",
       "NO AGARRA LAS SEÃALES                                                           1\n",
       "UTILZAN SERVICIO DE DATOS                                                        1\n",
       "AL JEFE DE FAMILIA NO LE GUSTA                                                   1\n",
       "CASI NO SE ENCUENTRA EN DOMICILIP                                                1\n",
       "POR FALTA DE LUZ Y RECURSOS ECONOMICOS                                           1\n",
       "ES NUEVA NUESTRA COMPUTADORA                                                     1\n",
       "LO UTILIZA CON SU SUEGRA Q VIVE CERCA                                            1\n",
       "CUENT CON LA MOVIL                                                               1\n",
       "FALTA DE LINEA TELEFONICA                                                        1\n",
       "UTILIZA EL SOLO EL TELEFONO                                                      1\n",
       "NO HAN CHECADO COSTOS                                                            1\n",
       "MALA SEÃAL Y SERVICIO                                                           1\n",
       "NO LLEGA LA SEÃAL HASTA SU HOGAR                                                1\n",
       "LO TIENEN EN SU NEGOCIO NADA MAS ESTA A MEDIA CUADRA DE LA VIVIENDA              1\n",
       "SU PADRE VIVE ENFRENTE LES PASA LA CLAVE                                         1\n",
       "SE CONECTA A RED PUBLICA                                                         1\n",
       "PORQUE EL USO DEL INTERNET LOS HIJOS SE ALEJAN MAS DE LOS PADRES                 1\n",
       "INDICA QUE NO CUENTAN CON TELEFONO FIJO Y POR ESO NO TIENEN TAMPOCO INTERNET     1\n",
       "TENIA ANTES PERO YA NO TIENEN                                                    1\n",
       "SE CORTO POR MAL SERVICIO                                                        1\n",
       "SE QUEDARON SIN CELULAR PORQUE SE HECHO A PERDER                                 1\n",
       "POR FALTA DE COMPUTADORA                                                         1\n",
       "DESCONOCE SI YA ESTA LA INSFRAESTRYCTURA                                         1\n",
       "VAN A CONTRATAR EL SERVICIO                                                      1\n",
       "LA VIVIENDA TIENE DEUDA DE LOS INQUILINOS ANTERIORES                             1\n",
       "PORQUE CONSIDERA QUE NO ES NECESARIO                                             1\n",
       "Name: P4_8E, Length: 1949, dtype: int64"
      ]
     },
     "execution_count": 531,
     "metadata": {},
     "output_type": "execute_result"
    }
   ],
   "source": [
    "df_copy.P4_8E.value_counts()"
   ]
  },
  {
   "cell_type": "code",
   "execution_count": 532,
   "metadata": {
    "collapsed": false
   },
   "outputs": [
    {
     "data": {
      "text/plain": [
       "True"
      ]
     },
     "execution_count": 532,
     "metadata": {},
     "output_type": "execute_result"
    }
   ],
   "source": [
    "df_copy.isnull().P4_8E.any()"
   ]
  },
  {
   "cell_type": "code",
   "execution_count": 533,
   "metadata": {
    "collapsed": true
   },
   "outputs": [],
   "source": [
    "df_copy.P4_8E = df_copy.P4_8E.astype('str')\n",
    "df_copy.P4_8E.replace({'nan':'b'}, inplace=True)"
   ]
  },
  {
   "cell_type": "code",
   "execution_count": 534,
   "metadata": {
    "collapsed": false
   },
   "outputs": [
    {
     "data": {
      "text/plain": [
       "b                                                                               133106\n",
       "POR SEGURIDAD                                                                       17\n",
       "NO HAY SEÃAL                                                                       15\n",
       "NO TIENE COMPUTADORA                                                                11\n",
       "FALTA DE TIEMPO                                                                     11\n",
       "NO LO NECESITA                                                                      10\n",
       "NO HAY SERVICIO EN LA LOCALIDAD                                                     10\n",
       "CASI NO ESTAN EN CASA                                                                8\n",
       "SE ACABAN DE MUDAR                                                                   8\n",
       "NO TIENEN COMPUTADORA                                                                8\n",
       "POR FALTA DE TIEMPO                                                                  7\n",
       "CADA QUIEN TIENE SU CELULAR                                                          7\n",
       "NO LO NECESITAN                                                                      7\n",
       "NO LO OCUPAN                                                                         7\n",
       "PORQUE NO TIENEN COMPUTADORA                                                         6\n",
       "CASI NO ESTA EN SU CASA                                                              6\n",
       "NO LLEGA LA SEÃAL                                                                   6\n",
       "NO TIENE TIEMPO                                                                      6\n",
       "NO LO HAN CONTRATADO                                                                 6\n",
       "NO LO HA CONTRATADO                                                                  6\n",
       "NO TIENEN TIEMPO                                                                     5\n",
       "NO LE GUSTA                                                                          5\n",
       "NO HA CONTRATADO                                                                     5\n",
       "CASI NO ESTAN EN SU CASA                                                             5\n",
       "APENAS LO VAN A CONTRATAR                                                            5\n",
       "SE ACABAN DE CAMBIAR                                                                 5\n",
       "SE ACABA DE CAMBIAR                                                                  4\n",
       "SE CONECTAN MEDIANTE DATOS MOVILES Y NO LOS COMPARTEN                                4\n",
       "UTILIZA EL CELULAR                                                                   4\n",
       "NO LES GUSTA                                                                         4\n",
       "                                                                                 ...  \n",
       "MUCGAS FALLAS EN EL SERVICIO                                                         1\n",
       "CASI NO ESTAN EN SU DOMICILIO                                                        1\n",
       "NO HAY COBERTURA DE LA EMPRESA QUE DESEA                                             1\n",
       "YA HICIERON CONTRATO PERO NO TIENEN LINEA                                            1\n",
       "NO AGARRA LAS SEÃALES                                                               1\n",
       "UTILZAN SERVICIO DE DATOS                                                            1\n",
       "AL JEFE DE FAMILIA NO LE GUSTA                                                       1\n",
       "CASI NO SE ENCUENTRA EN DOMICILIP                                                    1\n",
       "POR FALTA DE LUZ Y RECURSOS ECONOMICOS                                               1\n",
       "ES NUEVA NUESTRA COMPUTADORA                                                         1\n",
       "LO UTILIZA CON SU SUEGRA Q VIVE CERCA                                                1\n",
       "CUENT CON LA MOVIL                                                                   1\n",
       "FALTA DE LINEA TELEFONICA                                                            1\n",
       "UTILIZA EL SOLO EL TELEFONO                                                          1\n",
       "NO HAN CHECADO COSTOS                                                                1\n",
       "MALA SEÃAL Y SERVICIO                                                               1\n",
       "NO LLEGA LA SEÃAL HASTA SU HOGAR                                                    1\n",
       "LO TIENEN EN SU NEGOCIO NADA MAS ESTA A MEDIA CUADRA DE LA VIVIENDA                  1\n",
       "SU PADRE VIVE ENFRENTE LES PASA LA CLAVE                                             1\n",
       "SE CONECTA A RED PUBLICA                                                             1\n",
       "PORQUE EL USO DEL INTERNET LOS HIJOS SE ALEJAN MAS DE LOS PADRES                     1\n",
       "INDICA QUE NO CUENTAN CON TELEFONO FIJO Y POR ESO NO TIENEN TAMPOCO INTERNET         1\n",
       "TENIA ANTES PERO YA NO TIENEN                                                        1\n",
       "SE CORTO POR MAL SERVICIO                                                            1\n",
       "SE QUEDARON SIN CELULAR PORQUE SE HECHO A PERDER                                     1\n",
       "POR FALTA DE COMPUTADORA                                                             1\n",
       "DESCONOCE SI YA ESTA LA INSFRAESTRYCTURA                                             1\n",
       "VAN A CONTRATAR EL SERVICIO                                                          1\n",
       "LA VIVIENDA TIENE DEUDA DE LOS INQUILINOS ANTERIORES                                 1\n",
       "PORQUE CONSIDERA QUE NO ES NECESARIO                                                 1\n",
       "Name: P4_8E, Length: 1950, dtype: int64"
      ]
     },
     "execution_count": 534,
     "metadata": {},
     "output_type": "execute_result"
    }
   ],
   "source": [
    "df_copy.P4_8E.value_counts()"
   ]
  },
  {
   "cell_type": "code",
   "execution_count": 535,
   "metadata": {
    "collapsed": true
   },
   "outputs": [],
   "source": [
    "df_copy.drop('P4_8E',1, inplace=True)"
   ]
  },
  {
   "cell_type": "markdown",
   "metadata": {},
   "source": [
    "# 33.a columna P5_1 (5.1 ¿Disponen de servicio de televisión de paga?)\n",
    "## 1 Sí, 2 No"
   ]
  },
  {
   "cell_type": "code",
   "execution_count": 536,
   "metadata": {
    "collapsed": false
   },
   "outputs": [
    {
     "data": {
      "text/plain": [
       "1    71872\n",
       "2    63469\n",
       "Name: P5_1, dtype: int64"
      ]
     },
     "execution_count": 536,
     "metadata": {},
     "output_type": "execute_result"
    }
   ],
   "source": [
    "df_copy.P5_1.value_counts()"
   ]
  },
  {
   "cell_type": "code",
   "execution_count": 537,
   "metadata": {
    "collapsed": false
   },
   "outputs": [
    {
     "data": {
      "text/plain": [
       "False"
      ]
     },
     "execution_count": 537,
     "metadata": {},
     "output_type": "execute_result"
    }
   ],
   "source": [
    "df_copy.isnull().P5_1.any()"
   ]
  },
  {
   "cell_type": "code",
   "execution_count": 538,
   "metadata": {
    "collapsed": false
   },
   "outputs": [
    {
     "data": {
      "text/plain": [
       "135341"
      ]
     },
     "execution_count": 538,
     "metadata": {},
     "output_type": "execute_result"
    }
   ],
   "source": [
    "df_copy.P5_1.value_counts().sum()"
   ]
  },
  {
   "cell_type": "markdown",
   "metadata": {},
   "source": [
    "# 34.a columna P5_2_1 (5.2 ¿Lo reciben por cable?)\n",
    "## 1 Sí, 2 No, 99 "
   ]
  },
  {
   "cell_type": "code",
   "execution_count": 539,
   "metadata": {
    "collapsed": false
   },
   "outputs": [
    {
     "data": {
      "text/plain": [
       "1.0    44437\n",
       "2.0    27435\n",
       "Name: P5_2_1, dtype: int64"
      ]
     },
     "execution_count": 539,
     "metadata": {},
     "output_type": "execute_result"
    }
   ],
   "source": [
    "df_copy.P5_2_1.value_counts()"
   ]
  },
  {
   "cell_type": "code",
   "execution_count": 540,
   "metadata": {
    "collapsed": false
   },
   "outputs": [
    {
     "data": {
      "text/plain": [
       "True"
      ]
     },
     "execution_count": 540,
     "metadata": {},
     "output_type": "execute_result"
    }
   ],
   "source": [
    "df_copy.isnull().P5_2_1.any()"
   ]
  },
  {
   "cell_type": "code",
   "execution_count": 541,
   "metadata": {
    "collapsed": true
   },
   "outputs": [],
   "source": [
    "df_copy.P5_2_1 = df_copy.P5_2_1.astype('str')\n",
    "df_copy.P5_2_1.replace({'nan':'99'}, inplace=True)"
   ]
  },
  {
   "cell_type": "code",
   "execution_count": 542,
   "metadata": {
    "collapsed": true
   },
   "outputs": [],
   "source": [
    "df_copy.P5_2_1 = df_copy.P5_2_1.astype('float').astype('int64')"
   ]
  },
  {
   "cell_type": "code",
   "execution_count": 543,
   "metadata": {
    "collapsed": false
   },
   "outputs": [
    {
     "data": {
      "text/plain": [
       "99    63469\n",
       "1     44437\n",
       "2     27435\n",
       "Name: P5_2_1, dtype: int64"
      ]
     },
     "execution_count": 543,
     "metadata": {},
     "output_type": "execute_result"
    }
   ],
   "source": [
    "df_copy.P5_2_1.value_counts()"
   ]
  },
  {
   "cell_type": "code",
   "execution_count": 544,
   "metadata": {
    "collapsed": false
   },
   "outputs": [
    {
     "data": {
      "text/plain": [
       "False"
      ]
     },
     "execution_count": 544,
     "metadata": {},
     "output_type": "execute_result"
    }
   ],
   "source": [
    "df_copy.isnull().P5_2_1.any()"
   ]
  },
  {
   "cell_type": "code",
   "execution_count": 545,
   "metadata": {
    "collapsed": false
   },
   "outputs": [
    {
     "data": {
      "text/plain": [
       "135341"
      ]
     },
     "execution_count": 545,
     "metadata": {},
     "output_type": "execute_result"
    }
   ],
   "source": [
    "df_copy.P5_2_1.value_counts().sum()"
   ]
  },
  {
   "cell_type": "markdown",
   "metadata": {},
   "source": [
    "# 35.a columna P5_2_2 (vía satélite (Sky, Dish, etcétera)?)\n",
    "## 1 Sí, 2 No, 99 "
   ]
  },
  {
   "cell_type": "code",
   "execution_count": 546,
   "metadata": {
    "collapsed": false
   },
   "outputs": [
    {
     "data": {
      "text/plain": [
       "2.0    44139\n",
       "1.0    27733\n",
       "Name: P5_2_2, dtype: int64"
      ]
     },
     "execution_count": 546,
     "metadata": {},
     "output_type": "execute_result"
    }
   ],
   "source": [
    "df_copy.P5_2_2.value_counts()"
   ]
  },
  {
   "cell_type": "code",
   "execution_count": 547,
   "metadata": {
    "collapsed": false
   },
   "outputs": [
    {
     "data": {
      "text/plain": [
       "True"
      ]
     },
     "execution_count": 547,
     "metadata": {},
     "output_type": "execute_result"
    }
   ],
   "source": [
    "df_copy.isnull().P5_2_2.any()"
   ]
  },
  {
   "cell_type": "code",
   "execution_count": 548,
   "metadata": {
    "collapsed": true
   },
   "outputs": [],
   "source": [
    "df_copy.P5_2_2 = df_copy.P5_2_2.astype('str')\n",
    "df_copy.P5_2_2.replace({'nan':'99'}, inplace=True)"
   ]
  },
  {
   "cell_type": "code",
   "execution_count": 549,
   "metadata": {
    "collapsed": true
   },
   "outputs": [],
   "source": [
    "df_copy.P5_2_2 = df_copy.P5_2_2.astype('float').astype('int64')"
   ]
  },
  {
   "cell_type": "code",
   "execution_count": 550,
   "metadata": {
    "collapsed": false
   },
   "outputs": [
    {
     "data": {
      "text/plain": [
       "99    63469\n",
       "2     44139\n",
       "1     27733\n",
       "Name: P5_2_2, dtype: int64"
      ]
     },
     "execution_count": 550,
     "metadata": {},
     "output_type": "execute_result"
    }
   ],
   "source": [
    "df_copy.P5_2_2.value_counts()"
   ]
  },
  {
   "cell_type": "code",
   "execution_count": 551,
   "metadata": {
    "collapsed": false
   },
   "outputs": [
    {
     "data": {
      "text/plain": [
       "False"
      ]
     },
     "execution_count": 551,
     "metadata": {},
     "output_type": "execute_result"
    }
   ],
   "source": [
    "df_copy.isnull().P5_2_1.any()"
   ]
  },
  {
   "cell_type": "code",
   "execution_count": 552,
   "metadata": {
    "collapsed": false
   },
   "outputs": [
    {
     "data": {
      "text/plain": [
       "135341"
      ]
     },
     "execution_count": 552,
     "metadata": {},
     "output_type": "execute_result"
    }
   ],
   "source": [
    "df_copy.P5_2_2.value_counts().sum()"
   ]
  },
  {
   "cell_type": "markdown",
   "metadata": {},
   "source": [
    "# 36.a columna P5_3 (5.3 ¿Por qué no cuentan con servicios de televisión de paga?)\n",
    "## 1 Falta de recursos económicos,2 No les interesa,3 Otra razón,99 blanco"
   ]
  },
  {
   "cell_type": "code",
   "execution_count": 553,
   "metadata": {
    "collapsed": false
   },
   "outputs": [
    {
     "data": {
      "text/plain": [
       "1.0    37670\n",
       "2.0    20801\n",
       "3.0     4998\n",
       "Name: P5_3, dtype: int64"
      ]
     },
     "execution_count": 553,
     "metadata": {},
     "output_type": "execute_result"
    }
   ],
   "source": [
    "df_copy.P5_3.value_counts()"
   ]
  },
  {
   "cell_type": "code",
   "execution_count": 554,
   "metadata": {
    "collapsed": true
   },
   "outputs": [],
   "source": [
    "df_copy.P5_3 = df_copy.P5_3.astype('str')\n",
    "df_copy.P5_3.replace({'nan':'99'}, inplace=True)\n",
    "df_copy.P5_3 = df_copy.P5_3.astype('float').astype('int64')"
   ]
  },
  {
   "cell_type": "code",
   "execution_count": 555,
   "metadata": {
    "collapsed": false
   },
   "outputs": [
    {
     "data": {
      "text/plain": [
       "99    71872\n",
       "1     37670\n",
       "2     20801\n",
       "3      4998\n",
       "Name: P5_3, dtype: int64"
      ]
     },
     "execution_count": 555,
     "metadata": {},
     "output_type": "execute_result"
    }
   ],
   "source": [
    "df_copy.P5_3.value_counts()"
   ]
  },
  {
   "cell_type": "code",
   "execution_count": 556,
   "metadata": {
    "collapsed": false
   },
   "outputs": [
    {
     "data": {
      "text/plain": [
       "135341"
      ]
     },
     "execution_count": 556,
     "metadata": {},
     "output_type": "execute_result"
    }
   ],
   "source": [
    "df_copy.P5_3.value_counts().sum()"
   ]
  },
  {
   "cell_type": "markdown",
   "metadata": {},
   "source": [
    "# 37.a columna P5_3E (Especifique)"
   ]
  },
  {
   "cell_type": "code",
   "execution_count": 557,
   "metadata": {
    "collapsed": false
   },
   "outputs": [
    {
     "data": {
      "text/plain": [
       "NO TIENE TELEVISION                                                                                      232\n",
       "NO TIENEN TELEVISION                                                                                      94\n",
       "NO TIENE TV                                                                                               68\n",
       "NO LO NECESITA                                                                                            45\n",
       "FALTA DE TIEMPO                                                                                           35\n",
       "NO TIENEN TV                                                                                              34\n",
       "NO CUENTA CON TELEVISION                                                                                  32\n",
       "NO LO NECESITAN                                                                                           31\n",
       "NO TIENE TELEVISOR                                                                                        25\n",
       "NO HAY INFRAESTRUCTURA                                                                                    25\n",
       "NO LE GUSTA                                                                                               24\n",
       "NO CUENTAN CON TELEVISION                                                                                 23\n",
       "NO TIENE TIEMPO                                                                                           23\n",
       "CASI NO ESTAN EN CASA                                                                                     22\n",
       "NO ES NECESARIO                                                                                           22\n",
       "NO TIENEN TIEMPO                                                                                          19\n",
       "MAL SERVICIO                                                                                              18\n",
       "PORQUE NO TIENE TELEVISION                                                                                18\n",
       "NO LO OCUPAN                                                                                              18\n",
       "POR FALTA DE TIEMPO                                                                                       16\n",
       "NO TIENEN TELEVISOR                                                                                       15\n",
       "NO CUENTAN CON TV                                                                                         15\n",
       "NO VEN TELEVISION                                                                                         15\n",
       "PORQUE NO TIENEN TELEVISION                                                                               14\n",
       "NO CUENTA CON TV                                                                                          14\n",
       "FALTA DE INFRAESTRUCTURA                                                                                  14\n",
       "NO CUENTAN CON TELEVISOR                                                                                  14\n",
       "NO CUENTA CON TELEVISOR                                                                                   12\n",
       "NO TIENE LUZ                                                                                              12\n",
       "NO LES GUSTA                                                                                              12\n",
       "                                                                                                        ... \n",
       "NO LO NECESITAN LO QUE QUIERE ENCONTRAR LO ENCUENTRA EN INTERNET                                           1\n",
       "ESTA EN TRAMITE                                                                                            1\n",
       "PORQUE RENTAN SON ESTUDIANTES                                                                              1\n",
       "POR QUE CASI NO ESTA EN LA VIVIENDA                                                                        1\n",
       "CASI NO SE ENCUENTRA EN SU VIVIENDA                                                                        1\n",
       "NO HAY IFRAESRUCTURA EN ESTA COLONIA                                                                       1\n",
       "TIENEN POCO DE HABERSE CAMBIADO                                                                            1\n",
       "APENAS LO CONTRATARON AUN NO CUENTAN CON EL SERVICIO                                                       1\n",
       "POR QUE COMPRARON EL DECODIFICADOR.                                                                        1\n",
       "POR QUE SE LES QUEMO LA TELE Y LO DEJARON DE UTILIZAR                                                      1\n",
       "CASI NO ASISTE EN SU CASA                                                                                  1\n",
       "NO CUENTAN CON ENERGIA ELECTRICA NI TV                                                                     1\n",
       "PORQUE NO SERVIA CUANDO LO TUVIERON                                                                        1\n",
       "NO TIENE EN QUE VER ESTE SERVICIO                                                                          1\n",
       "PORQUE NO VE TELEVISION HASTA L FIN DE SEMANA. NO LO NECESITA                                              1\n",
       "PORQUE SON MUY TRANZAS                                                                                     1\n",
       "POR QUE NO HAY TELEVISION                                                                                  1\n",
       "NO MIRA LA TV  YA QUE NO LE GUSTA ES POR ESO QUE NO CUENTA CON TV DE PAGA PERO SI CUENTA CON TV.           1\n",
       "NO CUENTA CON ENERGIA ELECTRICA PARA SOLICITAR EL SERVICIO DE TELEVISION DE PAGA.                          1\n",
       "UTILIZAN SART TV CON NETFLIX                                                                               1\n",
       "TIENENNETFLIX                                                                                              1\n",
       "TIENEN POCO VIVIENDO AQUI                                                                                  1\n",
       "NO TIENE  LUZ                                                                                              1\n",
       "TIENE ANTENA                                                                                               1\n",
       "NO HAY INFRESTRUCTURA                                                                                      1\n",
       "TIENE NETLIX                                                                                               1\n",
       "TIENESU ATENA Y VEN SOLO POCOS CANALES                                                                     1\n",
       "SE CAMBIAN CONSTANTEMENTE DE DOMICILIO                                                                     1\n",
       "POR QUE SALDRA  DEL PAIS                                                                                   1\n",
       "CAMBIO DE RESIDENCIA Y POR TAL MOTIVO LO DIO DE BAJA Y HASTA ESTE MOMENTO NO CUE3NTA CON ESE SERVICIO      1\n",
       "Name: P5_3E, Length: 3354, dtype: int64"
      ]
     },
     "execution_count": 557,
     "metadata": {},
     "output_type": "execute_result"
    }
   ],
   "source": [
    "df_copy.P5_3E.value_counts()"
   ]
  },
  {
   "cell_type": "code",
   "execution_count": 558,
   "metadata": {
    "collapsed": true
   },
   "outputs": [],
   "source": [
    "df_copy.P5_3E = df_copy.P5_3E.astype('str')\n",
    "df_copy.P5_3E.replace({'nan':'b'}, inplace=True)"
   ]
  },
  {
   "cell_type": "code",
   "execution_count": 559,
   "metadata": {
    "collapsed": false
   },
   "outputs": [
    {
     "data": {
      "text/plain": [
       "b                                                                                                        130343\n",
       "NO TIENE TELEVISION                                                                                         232\n",
       "NO TIENEN TELEVISION                                                                                         94\n",
       "NO TIENE TV                                                                                                  68\n",
       "NO LO NECESITA                                                                                               45\n",
       "FALTA DE TIEMPO                                                                                              35\n",
       "NO TIENEN TV                                                                                                 34\n",
       "NO CUENTA CON TELEVISION                                                                                     32\n",
       "NO LO NECESITAN                                                                                              31\n",
       "NO HAY INFRAESTRUCTURA                                                                                       25\n",
       "NO TIENE TELEVISOR                                                                                           25\n",
       "NO LE GUSTA                                                                                                  24\n",
       "NO CUENTAN CON TELEVISION                                                                                    23\n",
       "NO TIENE TIEMPO                                                                                              23\n",
       "NO ES NECESARIO                                                                                              22\n",
       "CASI NO ESTAN EN CASA                                                                                        22\n",
       "NO TIENEN TIEMPO                                                                                             19\n",
       "NO LO OCUPAN                                                                                                 18\n",
       "PORQUE NO TIENE TELEVISION                                                                                   18\n",
       "MAL SERVICIO                                                                                                 18\n",
       "POR FALTA DE TIEMPO                                                                                          16\n",
       "NO TIENEN TELEVISOR                                                                                          15\n",
       "NO VEN TELEVISION                                                                                            15\n",
       "NO CUENTAN CON TV                                                                                            15\n",
       "NO CUENTAN CON TELEVISOR                                                                                     14\n",
       "PORQUE NO TIENEN TELEVISION                                                                                  14\n",
       "FALTA DE INFRAESTRUCTURA                                                                                     14\n",
       "NO CUENTA CON TV                                                                                             14\n",
       "NO CUENTA CON TELEVISOR                                                                                      12\n",
       "NO LA NECESITAN                                                                                              12\n",
       "                                                                                                          ...  \n",
       "NO LO NECESITAN LO QUE QUIERE ENCONTRAR LO ENCUENTRA EN INTERNET                                              1\n",
       "ESTA EN TRAMITE                                                                                               1\n",
       "PORQUE RENTAN SON ESTUDIANTES                                                                                 1\n",
       "POR QUE CASI NO ESTA EN LA VIVIENDA                                                                           1\n",
       "CASI NO SE ENCUENTRA EN SU VIVIENDA                                                                           1\n",
       "NO HAY IFRAESRUCTURA EN ESTA COLONIA                                                                          1\n",
       "TIENEN POCO DE HABERSE CAMBIADO                                                                               1\n",
       "APENAS LO CONTRATARON AUN NO CUENTAN CON EL SERVICIO                                                          1\n",
       "POR QUE COMPRARON EL DECODIFICADOR.                                                                           1\n",
       "POR QUE SE LES QUEMO LA TELE Y LO DEJARON DE UTILIZAR                                                         1\n",
       "CASI NO ASISTE EN SU CASA                                                                                     1\n",
       "NO CUENTAN CON ENERGIA ELECTRICA NI TV                                                                        1\n",
       "PORQUE NO SERVIA CUANDO LO TUVIERON                                                                           1\n",
       "NO TIENE EN QUE VER ESTE SERVICIO                                                                             1\n",
       "PORQUE NO VE TELEVISION HASTA L FIN DE SEMANA. NO LO NECESITA                                                 1\n",
       "PORQUE SON MUY TRANZAS                                                                                        1\n",
       "POR QUE NO HAY TELEVISION                                                                                     1\n",
       "NO MIRA LA TV  YA QUE NO LE GUSTA ES POR ESO QUE NO CUENTA CON TV DE PAGA PERO SI CUENTA CON TV.              1\n",
       "NO CUENTA CON ENERGIA ELECTRICA PARA SOLICITAR EL SERVICIO DE TELEVISION DE PAGA.                             1\n",
       "UTILIZAN SART TV CON NETFLIX                                                                                  1\n",
       "TIENENNETFLIX                                                                                                 1\n",
       "TIENEN POCO VIVIENDO AQUI                                                                                     1\n",
       "NO TIENE  LUZ                                                                                                 1\n",
       "TIENE ANTENA                                                                                                  1\n",
       "NO HAY INFRESTRUCTURA                                                                                         1\n",
       "TIENE NETLIX                                                                                                  1\n",
       "TIENESU ATENA Y VEN SOLO POCOS CANALES                                                                        1\n",
       "SE CAMBIAN CONSTANTEMENTE DE DOMICILIO                                                                        1\n",
       "POR QUE SALDRA  DEL PAIS                                                                                      1\n",
       "CAMBIO DE RESIDENCIA Y POR TAL MOTIVO LO DIO DE BAJA Y HASTA ESTE MOMENTO NO CUE3NTA CON ESE SERVICIO         1\n",
       "Name: P5_3E, Length: 3355, dtype: int64"
      ]
     },
     "execution_count": 559,
     "metadata": {},
     "output_type": "execute_result"
    }
   ],
   "source": [
    "df_copy.P5_3E.value_counts()"
   ]
  },
  {
   "cell_type": "code",
   "execution_count": 560,
   "metadata": {
    "collapsed": true
   },
   "outputs": [],
   "source": [
    "df_copy.drop('P5_3E',1, inplace=True)"
   ]
  },
  {
   "cell_type": "markdown",
   "metadata": {},
   "source": [
    "# 38.a columna P5_4 (5.4 ¿Disponen de línea telefónica fija (puede ser telefonía celular fija)?)\n",
    "## 1 Sí, 2 No"
   ]
  },
  {
   "cell_type": "code",
   "execution_count": 561,
   "metadata": {
    "collapsed": false
   },
   "outputs": [
    {
     "data": {
      "text/plain": [
       "2    84932\n",
       "1    50409\n",
       "Name: P5_4, dtype: int64"
      ]
     },
     "execution_count": 561,
     "metadata": {},
     "output_type": "execute_result"
    }
   ],
   "source": [
    "df_copy.P5_4.value_counts()"
   ]
  },
  {
   "cell_type": "code",
   "execution_count": 562,
   "metadata": {
    "collapsed": false
   },
   "outputs": [
    {
     "data": {
      "text/plain": [
       "135341"
      ]
     },
     "execution_count": 562,
     "metadata": {},
     "output_type": "execute_result"
    }
   ],
   "source": [
    "df_copy.P5_4.value_counts().sum()"
   ]
  },
  {
   "cell_type": "markdown",
   "metadata": {},
   "source": [
    "# 39.a columna P5_5_1 (5.5 VERIFIQUE Y CIRCULE LOS SERVICIOS QUE TIENE EN EL HOGAR (VEA: 4.4, 5.1 Y 5.4): Internet)\n",
    "## 1 Sí, 2 No"
   ]
  },
  {
   "cell_type": "code",
   "execution_count": 563,
   "metadata": {
    "collapsed": false
   },
   "outputs": [
    {
     "data": {
      "text/plain": [
       "1    75001\n",
       "2    60340\n",
       "Name: P5_5_1, dtype: int64"
      ]
     },
     "execution_count": 563,
     "metadata": {},
     "output_type": "execute_result"
    }
   ],
   "source": [
    "df_copy.P5_5_1.value_counts()"
   ]
  },
  {
   "cell_type": "code",
   "execution_count": 564,
   "metadata": {
    "collapsed": false
   },
   "outputs": [
    {
     "data": {
      "text/plain": [
       "135341"
      ]
     },
     "execution_count": 564,
     "metadata": {},
     "output_type": "execute_result"
    }
   ],
   "source": [
    "df_copy.P5_5_1.value_counts().sum()"
   ]
  },
  {
   "cell_type": "markdown",
   "metadata": {},
   "source": [
    "# 40.a columna P5_5_2 (TV de paga)\n",
    "## 1 Sí, 2 No"
   ]
  },
  {
   "cell_type": "code",
   "execution_count": 565,
   "metadata": {
    "collapsed": false
   },
   "outputs": [
    {
     "data": {
      "text/plain": [
       "1    71872\n",
       "2    63469\n",
       "Name: P5_5_2, dtype: int64"
      ]
     },
     "execution_count": 565,
     "metadata": {},
     "output_type": "execute_result"
    }
   ],
   "source": [
    "df_copy.P5_5_2.value_counts()"
   ]
  },
  {
   "cell_type": "code",
   "execution_count": 566,
   "metadata": {
    "collapsed": false
   },
   "outputs": [
    {
     "data": {
      "text/plain": [
       "135341"
      ]
     },
     "execution_count": 566,
     "metadata": {},
     "output_type": "execute_result"
    }
   ],
   "source": [
    "df_copy.P5_5_2.value_counts().sum()"
   ]
  },
  {
   "cell_type": "markdown",
   "metadata": {},
   "source": [
    "# 41.a columna P5_5_3 (Telefonía fija)\n",
    "## 1 Sí, 2 No"
   ]
  },
  {
   "cell_type": "code",
   "execution_count": 567,
   "metadata": {
    "collapsed": false
   },
   "outputs": [
    {
     "data": {
      "text/plain": [
       "2    84932\n",
       "1    50409\n",
       "Name: P5_5_3, dtype: int64"
      ]
     },
     "execution_count": 567,
     "metadata": {},
     "output_type": "execute_result"
    }
   ],
   "source": [
    "df_copy.P5_5_3.value_counts()"
   ]
  },
  {
   "cell_type": "code",
   "execution_count": 568,
   "metadata": {
    "collapsed": false
   },
   "outputs": [
    {
     "data": {
      "text/plain": [
       "135341"
      ]
     },
     "execution_count": 568,
     "metadata": {},
     "output_type": "execute_result"
    }
   ],
   "source": [
    "df_copy.P5_5_3.value_counts().sum()"
   ]
  },
  {
   "cell_type": "markdown",
   "metadata": {},
   "source": [
    "# 42.a columna P5_5_4 (Ninguno)\n",
    "## 1 Sí, 2 No"
   ]
  },
  {
   "cell_type": "code",
   "execution_count": 569,
   "metadata": {
    "collapsed": false
   },
   "outputs": [
    {
     "data": {
      "text/plain": [
       "2    101819\n",
       "1     33522\n",
       "Name: P5_5_4, dtype: int64"
      ]
     },
     "execution_count": 569,
     "metadata": {},
     "output_type": "execute_result"
    }
   ],
   "source": [
    "df_copy.P5_5_4.value_counts()"
   ]
  },
  {
   "cell_type": "code",
   "execution_count": 570,
   "metadata": {
    "collapsed": false
   },
   "outputs": [
    {
     "data": {
      "text/plain": [
       "135341"
      ]
     },
     "execution_count": 570,
     "metadata": {},
     "output_type": "execute_result"
    }
   ],
   "source": [
    "df_copy.P5_5_4.value_counts().sum()"
   ]
  },
  {
   "cell_type": "markdown",
   "metadata": {},
   "source": [
    "# 43.a columna P5_6_1 (5.6 De los servicios de (OPCIÓN DE 5.5), ¿Dígame si los disponen en paquete o los reciben de manera separada?: 1. TV de paga, telefonía fija e Internet?)\n",
    "## 1 Sí,2 No,99 blanco\n"
   ]
  },
  {
   "cell_type": "code",
   "execution_count": 571,
   "metadata": {
    "collapsed": false
   },
   "outputs": [
    {
     "data": {
      "text/plain": [
       "2.0    87586\n",
       "1.0    13943\n",
       "9.0      290\n",
       "Name: P5_6_1, dtype: int64"
      ]
     },
     "execution_count": 571,
     "metadata": {},
     "output_type": "execute_result"
    }
   ],
   "source": [
    "df_copy.P5_6_1.value_counts()"
   ]
  },
  {
   "cell_type": "code",
   "execution_count": 572,
   "metadata": {
    "collapsed": true
   },
   "outputs": [],
   "source": [
    "df_copy.P5_6_1 = df_copy.P5_6_1.astype('str')\n",
    "df_copy.P5_6_1.replace({'nan':'99'}, inplace=True)\n",
    "df_copy.P5_6_1 = df_copy.P5_6_1.astype('float').astype('int64')"
   ]
  },
  {
   "cell_type": "code",
   "execution_count": 573,
   "metadata": {
    "collapsed": false
   },
   "outputs": [
    {
     "data": {
      "text/plain": [
       "2     87586\n",
       "99    33522\n",
       "1     13943\n",
       "9       290\n",
       "Name: P5_6_1, dtype: int64"
      ]
     },
     "execution_count": 573,
     "metadata": {},
     "output_type": "execute_result"
    }
   ],
   "source": [
    "df_copy.P5_6_1.value_counts()"
   ]
  },
  {
   "cell_type": "code",
   "execution_count": 574,
   "metadata": {
    "collapsed": false
   },
   "outputs": [
    {
     "name": "stderr",
     "output_type": "stream",
     "text": [
      "/home/hectorceja/anaconda3/lib/python3.6/site-packages/ipykernel_launcher.py:4: SettingWithCopyWarning: \n",
      "A value is trying to be set on a copy of a slice from a DataFrame\n",
      "\n",
      "See the caveats in the documentation: http://pandas.pydata.org/pandas-docs/stable/indexing.html#indexing-view-versus-copy\n",
      "  after removing the cwd from sys.path.\n"
     ]
    }
   ],
   "source": [
    "cont = 0\n",
    "for row in df_copy.P5_6_1:\n",
    "    if df_copy.P5_6_1[cont] == 9:\n",
    "        df_copy.P5_6_1[cont] = 99\n",
    "    cont = cont + 1"
   ]
  },
  {
   "cell_type": "code",
   "execution_count": 575,
   "metadata": {
    "collapsed": false
   },
   "outputs": [
    {
     "data": {
      "text/plain": [
       "2     87586\n",
       "99    33812\n",
       "1     13943\n",
       "Name: P5_6_1, dtype: int64"
      ]
     },
     "execution_count": 575,
     "metadata": {},
     "output_type": "execute_result"
    }
   ],
   "source": [
    "df_copy.P5_6_1.value_counts()"
   ]
  },
  {
   "cell_type": "code",
   "execution_count": 576,
   "metadata": {
    "collapsed": false
   },
   "outputs": [
    {
     "data": {
      "text/plain": [
       "135341"
      ]
     },
     "execution_count": 576,
     "metadata": {},
     "output_type": "execute_result"
    }
   ],
   "source": [
    "df_copy.P5_6_1.value_counts().sum()"
   ]
  },
  {
   "cell_type": "markdown",
   "metadata": {},
   "source": [
    "# 44.a columna P5_7_1 (5.7 En el último mes, ¿cuál es el monto del pago realizado por el servicio de: 1. TV de paga, telefonía fija e Internet?)\n",
    "## 0000 No paga,0001-9998 Monto del recibo más reciente,9999 vacio"
   ]
  },
  {
   "cell_type": "code",
   "execution_count": 577,
   "metadata": {
    "collapsed": false
   },
   "outputs": [
    {
     "data": {
      "text/plain": [
       "600.0     1538\n",
       "700.0     1068\n",
       "500.0     1017\n",
       "9999.0     833\n",
       "800.0      753\n",
       "400.0      685\n",
       "650.0      386\n",
       "580.0      358\n",
       "900.0      349\n",
       "550.0      336\n",
       "1000.0     321\n",
       "450.0      278\n",
       "750.0      243\n",
       "300.0      198\n",
       "350.0      174\n",
       "480.0      161\n",
       "0.0        153\n",
       "1200.0     143\n",
       "680.0      142\n",
       "250.0      142\n",
       "380.0      132\n",
       "389.0      121\n",
       "850.0      118\n",
       "560.0      108\n",
       "420.0       93\n",
       "1100.0      89\n",
       "630.0       83\n",
       "530.0       80\n",
       "780.0       75\n",
       "620.0       73\n",
       "          ... \n",
       "893.0        1\n",
       "170.0        1\n",
       "894.0        1\n",
       "1277.0       1\n",
       "149.0        1\n",
       "641.0        1\n",
       "682.0        1\n",
       "738.0        1\n",
       "372.0        1\n",
       "266.0        1\n",
       "553.0        1\n",
       "287.0        1\n",
       "75.0         1\n",
       "364.0        1\n",
       "612.0        1\n",
       "1236.0       1\n",
       "467.0        1\n",
       "1241.0       1\n",
       "1118.0       1\n",
       "552.0        1\n",
       "110.0        1\n",
       "1260.0       1\n",
       "413.0        1\n",
       "626.0        1\n",
       "392.0        1\n",
       "883.0        1\n",
       "835.0        1\n",
       "854.0        1\n",
       "322.0        1\n",
       "1066.0       1\n",
       "Name: P5_7_1, Length: 622, dtype: int64"
      ]
     },
     "execution_count": 577,
     "metadata": {},
     "output_type": "execute_result"
    }
   ],
   "source": [
    "df_copy.P5_7_1.value_counts()"
   ]
  },
  {
   "cell_type": "code",
   "execution_count": 578,
   "metadata": {
    "collapsed": false
   },
   "outputs": [
    {
     "data": {
      "text/plain": [
       "True"
      ]
     },
     "execution_count": 578,
     "metadata": {},
     "output_type": "execute_result"
    }
   ],
   "source": [
    "df_copy.isnull().P5_7_1.any()"
   ]
  },
  {
   "cell_type": "code",
   "execution_count": 579,
   "metadata": {
    "collapsed": true
   },
   "outputs": [],
   "source": [
    "df_copy.P5_7_1 = df_copy.P5_7_1.astype('str')\n",
    "df_copy.P5_7_1.replace({'nan':'9999'}, inplace=True)\n",
    "df_copy.P5_7_1 = df_copy.P5_7_1.astype('float') #.astype('int64')"
   ]
  },
  {
   "cell_type": "code",
   "execution_count": 580,
   "metadata": {
    "collapsed": false
   },
   "outputs": [
    {
     "data": {
      "text/plain": [
       "False"
      ]
     },
     "execution_count": 580,
     "metadata": {},
     "output_type": "execute_result"
    }
   ],
   "source": [
    "df_copy.isnull().P5_7_1.any()"
   ]
  },
  {
   "cell_type": "code",
   "execution_count": 581,
   "metadata": {
    "collapsed": false
   },
   "outputs": [
    {
     "data": {
      "text/plain": [
       "135341"
      ]
     },
     "execution_count": 581,
     "metadata": {},
     "output_type": "execute_result"
    }
   ],
   "source": [
    "df_copy.P5_7_1.value_counts().sum()"
   ]
  },
  {
   "cell_type": "markdown",
   "metadata": {},
   "source": [
    "# 45.a columna P5_8_1 (5.8 ¿Reciben sin pago el servicio: 1. TV de paga, telefonía fija e Internet?)\n",
    "## 1 Sí,2 No,99 blanco"
   ]
  },
  {
   "cell_type": "code",
   "execution_count": 582,
   "metadata": {
    "collapsed": false
   },
   "outputs": [
    {
     "data": {
      "text/plain": [
       "1.0    146\n",
       "9.0      7\n",
       "Name: P5_8_1, dtype: int64"
      ]
     },
     "execution_count": 582,
     "metadata": {},
     "output_type": "execute_result"
    }
   ],
   "source": [
    "df_copy.P5_8_1.value_counts()"
   ]
  },
  {
   "cell_type": "code",
   "execution_count": 583,
   "metadata": {
    "collapsed": true
   },
   "outputs": [],
   "source": [
    "df_copy.P5_8_1 = df_copy.P5_8_1.astype('str')\n",
    "df_copy.P5_8_1.replace({'nan':'99'}, inplace=True)\n",
    "df_copy.P5_8_1 = df_copy.P5_8_1.astype('float').astype('int64')"
   ]
  },
  {
   "cell_type": "code",
   "execution_count": 584,
   "metadata": {
    "collapsed": false
   },
   "outputs": [
    {
     "data": {
      "text/plain": [
       "99    135188\n",
       "1        146\n",
       "9          7\n",
       "Name: P5_8_1, dtype: int64"
      ]
     },
     "execution_count": 584,
     "metadata": {},
     "output_type": "execute_result"
    }
   ],
   "source": [
    "df_copy.P5_8_1.value_counts()"
   ]
  },
  {
   "cell_type": "code",
   "execution_count": 585,
   "metadata": {
    "collapsed": true
   },
   "outputs": [],
   "source": [
    "df_copy.drop('P5_8_1', 1, inplace=True)"
   ]
  },
  {
   "cell_type": "markdown",
   "metadata": {},
   "source": [
    "# 46.a columna P5_9_1 (5.9 Entonces, ¿su paquete incluye un servicio que no utiliza?: 1. TV de paga, telefonía fija e Internet?)\n",
    "## 1 Sí,2 No,99 blanco"
   ]
  },
  {
   "cell_type": "code",
   "execution_count": 586,
   "metadata": {
    "collapsed": false
   },
   "outputs": [
    {
     "data": {
      "text/plain": [
       "1.0    139\n",
       "8.0      5\n",
       "Name: P5_9_1, dtype: int64"
      ]
     },
     "execution_count": 586,
     "metadata": {},
     "output_type": "execute_result"
    }
   ],
   "source": [
    "df_copy.P5_9_1.value_counts()"
   ]
  },
  {
   "cell_type": "code",
   "execution_count": 587,
   "metadata": {
    "collapsed": true
   },
   "outputs": [],
   "source": [
    "df_copy.drop('P5_9_1', 1, inplace=True)"
   ]
  },
  {
   "cell_type": "markdown",
   "metadata": {},
   "source": [
    "# 47.a columna P5_6_2 (5.6 De los servicios de (OPCIÓN DE 5.5), ¿Dígame si los disponen en paquete o los reciben de manera separada?: 2. TV de paga y telefonía fija?)\n",
    "## 1 Sí,2 No,99 blanco"
   ]
  },
  {
   "cell_type": "code",
   "execution_count": 588,
   "metadata": {
    "collapsed": false
   },
   "outputs": [
    {
     "data": {
      "text/plain": [
       "2.0    100692\n",
       "1.0       822\n",
       "9.0       305\n",
       "Name: P5_6_2, dtype: int64"
      ]
     },
     "execution_count": 588,
     "metadata": {},
     "output_type": "execute_result"
    }
   ],
   "source": [
    "df_copy.P5_6_2.value_counts()"
   ]
  },
  {
   "cell_type": "code",
   "execution_count": 589,
   "metadata": {
    "collapsed": true
   },
   "outputs": [],
   "source": [
    "df_copy.P5_6_2 = df_copy.P5_6_2.astype('str')\n",
    "df_copy.P5_6_2.replace({'nan':'99'}, inplace=True)\n",
    "df_copy.P5_6_2 = df_copy.P5_6_2.astype('float').astype('int64')"
   ]
  },
  {
   "cell_type": "code",
   "execution_count": 590,
   "metadata": {
    "collapsed": false
   },
   "outputs": [
    {
     "data": {
      "text/plain": [
       "2     100692\n",
       "99     33522\n",
       "1        822\n",
       "9        305\n",
       "Name: P5_6_2, dtype: int64"
      ]
     },
     "execution_count": 590,
     "metadata": {},
     "output_type": "execute_result"
    }
   ],
   "source": [
    "df_copy.P5_6_2.value_counts()"
   ]
  },
  {
   "cell_type": "code",
   "execution_count": 591,
   "metadata": {
    "collapsed": false
   },
   "outputs": [
    {
     "name": "stderr",
     "output_type": "stream",
     "text": [
      "/home/hectorceja/anaconda3/lib/python3.6/site-packages/ipykernel_launcher.py:4: SettingWithCopyWarning: \n",
      "A value is trying to be set on a copy of a slice from a DataFrame\n",
      "\n",
      "See the caveats in the documentation: http://pandas.pydata.org/pandas-docs/stable/indexing.html#indexing-view-versus-copy\n",
      "  after removing the cwd from sys.path.\n"
     ]
    }
   ],
   "source": [
    "cont = 0\n",
    "for row in df_copy.P5_6_2:\n",
    "    if df_copy.P5_6_2[cont] == 9:\n",
    "        df_copy.P5_6_2[cont] = 99\n",
    "    cont = cont + 1 "
   ]
  },
  {
   "cell_type": "code",
   "execution_count": 592,
   "metadata": {
    "collapsed": false
   },
   "outputs": [
    {
     "data": {
      "text/plain": [
       "2     100692\n",
       "99     33827\n",
       "1        822\n",
       "Name: P5_6_2, dtype: int64"
      ]
     },
     "execution_count": 592,
     "metadata": {},
     "output_type": "execute_result"
    }
   ],
   "source": [
    "df_copy.P5_6_2.value_counts()"
   ]
  },
  {
   "cell_type": "code",
   "execution_count": 593,
   "metadata": {
    "collapsed": false
   },
   "outputs": [
    {
     "data": {
      "text/plain": [
       "135341"
      ]
     },
     "execution_count": 593,
     "metadata": {},
     "output_type": "execute_result"
    }
   ],
   "source": [
    "df_copy.P5_6_2.value_counts().sum()"
   ]
  },
  {
   "cell_type": "markdown",
   "metadata": {},
   "source": [
    "# 48.a columna P5_7_2 (5.7 En el último mes, ¿cuál es el monto del pago realizado por el servicio de: 2. TV de paga y telefonía fija?)\n",
    "## 0000 No paga,0001-9998 Monto del recibo más reciente,9999 blanco"
   ]
  },
  {
   "cell_type": "code",
   "execution_count": 594,
   "metadata": {
    "collapsed": false
   },
   "outputs": [
    {
     "data": {
      "text/plain": [
       "400.0     88\n",
       "9999.0    69\n",
       "500.0     63\n",
       "300.0     56\n",
       "600.0     41\n",
       "450.0     31\n",
       "350.0     29\n",
       "200.0     24\n",
       "700.0     24\n",
       "0.0       20\n",
       "380.0     17\n",
       "480.0     15\n",
       "360.0     15\n",
       "800.0     13\n",
       "250.0     12\n",
       "389.0      9\n",
       "430.0      8\n",
       "420.0      7\n",
       "280.0      7\n",
       "180.0      7\n",
       "750.0      7\n",
       "390.0      7\n",
       "330.0      6\n",
       "385.0      6\n",
       "520.0      6\n",
       "530.0      6\n",
       "1000.0     6\n",
       "490.0      5\n",
       "460.0      5\n",
       "650.0      5\n",
       "          ..\n",
       "1468.0     1\n",
       "454.0      1\n",
       "329.0      1\n",
       "659.0      1\n",
       "900.0      1\n",
       "308.0      1\n",
       "1400.0     1\n",
       "479.0      1\n",
       "590.0      1\n",
       "144.0      1\n",
       "289.0      1\n",
       "1350.0     1\n",
       "195.0      1\n",
       "425.0      1\n",
       "485.0      1\n",
       "586.0      1\n",
       "422.0      1\n",
       "780.0      1\n",
       "296.0      1\n",
       "442.0      1\n",
       "850.0      1\n",
       "426.0      1\n",
       "599.0      1\n",
       "190.0      1\n",
       "214.0      1\n",
       "302.0      1\n",
       "468.0      1\n",
       "432.0      1\n",
       "610.0      1\n",
       "617.0      1\n",
       "Name: P5_7_2, Length: 157, dtype: int64"
      ]
     },
     "execution_count": 594,
     "metadata": {},
     "output_type": "execute_result"
    }
   ],
   "source": [
    "df_copy.P5_7_2.value_counts()"
   ]
  },
  {
   "cell_type": "code",
   "execution_count": 595,
   "metadata": {
    "collapsed": true
   },
   "outputs": [],
   "source": [
    "df_copy.P5_7_2 = df_copy.P5_7_2.astype('str')\n",
    "df_copy.P5_7_2.replace({'nan':'9999'}, inplace=True)\n",
    "df_copy.P5_7_2 = df_copy.P5_7_2.astype('float') #.astype('int64')"
   ]
  },
  {
   "cell_type": "code",
   "execution_count": 596,
   "metadata": {
    "collapsed": false
   },
   "outputs": [
    {
     "data": {
      "text/plain": [
       "9999.0    134588\n",
       "400.0         88\n",
       "500.0         63\n",
       "300.0         56\n",
       "600.0         41\n",
       "450.0         31\n",
       "350.0         29\n",
       "200.0         24\n",
       "700.0         24\n",
       "0.0           20\n",
       "380.0         17\n",
       "480.0         15\n",
       "360.0         15\n",
       "800.0         13\n",
       "250.0         12\n",
       "389.0          9\n",
       "430.0          8\n",
       "420.0          7\n",
       "280.0          7\n",
       "180.0          7\n",
       "750.0          7\n",
       "390.0          7\n",
       "330.0          6\n",
       "385.0          6\n",
       "520.0          6\n",
       "530.0          6\n",
       "1000.0         6\n",
       "490.0          5\n",
       "460.0          5\n",
       "650.0          5\n",
       "           ...  \n",
       "1468.0         1\n",
       "454.0          1\n",
       "329.0          1\n",
       "659.0          1\n",
       "900.0          1\n",
       "308.0          1\n",
       "1400.0         1\n",
       "479.0          1\n",
       "590.0          1\n",
       "144.0          1\n",
       "289.0          1\n",
       "1350.0         1\n",
       "195.0          1\n",
       "425.0          1\n",
       "485.0          1\n",
       "586.0          1\n",
       "422.0          1\n",
       "780.0          1\n",
       "296.0          1\n",
       "442.0          1\n",
       "850.0          1\n",
       "426.0          1\n",
       "599.0          1\n",
       "190.0          1\n",
       "214.0          1\n",
       "302.0          1\n",
       "468.0          1\n",
       "432.0          1\n",
       "610.0          1\n",
       "617.0          1\n",
       "Name: P5_7_2, Length: 157, dtype: int64"
      ]
     },
     "execution_count": 596,
     "metadata": {},
     "output_type": "execute_result"
    }
   ],
   "source": [
    "df_copy.P5_7_2.value_counts()"
   ]
  },
  {
   "cell_type": "code",
   "execution_count": 597,
   "metadata": {
    "collapsed": true
   },
   "outputs": [],
   "source": [
    "df_copy.drop('P5_7_2',1, inplace=True)"
   ]
  },
  {
   "cell_type": "markdown",
   "metadata": {},
   "source": [
    "# 49.a columna P5_8_2 (5.8 ¿Reciben sin pago el servicio: 2. TV de paga y telefonía fija?)\n",
    "## 1 Si, 2 No 99 blanco"
   ]
  },
  {
   "cell_type": "code",
   "execution_count": 598,
   "metadata": {
    "collapsed": false
   },
   "outputs": [
    {
     "data": {
      "text/plain": [
       "1.0    20\n",
       "Name: P5_8_2, dtype: int64"
      ]
     },
     "execution_count": 598,
     "metadata": {},
     "output_type": "execute_result"
    }
   ],
   "source": [
    "df_copy.P5_8_2.value_counts()"
   ]
  },
  {
   "cell_type": "code",
   "execution_count": 599,
   "metadata": {
    "collapsed": true
   },
   "outputs": [],
   "source": [
    "df_copy.drop('P5_8_2', 1, inplace=True)"
   ]
  },
  {
   "cell_type": "markdown",
   "metadata": {},
   "source": [
    "# 50.a columna P5_9_2 (5.9 Entonces, ¿su paquete incluye un servicio que no utiliza?: 2. TV de paga y telefonía fija?)\n",
    "## 1 Si, 2 No 99 blanco"
   ]
  },
  {
   "cell_type": "code",
   "execution_count": 600,
   "metadata": {
    "collapsed": false
   },
   "outputs": [
    {
     "data": {
      "text/plain": [
       "1.0    13\n",
       "8.0     1\n",
       "Name: P5_9_2, dtype: int64"
      ]
     },
     "execution_count": 600,
     "metadata": {},
     "output_type": "execute_result"
    }
   ],
   "source": [
    "df_copy.P5_9_2.value_counts()"
   ]
  },
  {
   "cell_type": "code",
   "execution_count": 601,
   "metadata": {
    "collapsed": true
   },
   "outputs": [],
   "source": [
    "df_copy.drop('P5_9_2', 1, inplace=True)"
   ]
  },
  {
   "cell_type": "markdown",
   "metadata": {},
   "source": [
    "# 51.a columna P5_6_3 (5.6 De los servicios de (OPCIÓN DE 5.5), ¿Dígame si los disponen en paquete o los reciben de manera separada?: 3. TV de paga e Internet?)\n",
    "## 1 Si, 2 No 99 blanco"
   ]
  },
  {
   "cell_type": "code",
   "execution_count": 602,
   "metadata": {
    "collapsed": false
   },
   "outputs": [
    {
     "data": {
      "text/plain": [
       "2.0    89331\n",
       "1.0    12218\n",
       "9.0      270\n",
       "Name: P5_6_3, dtype: int64"
      ]
     },
     "execution_count": 602,
     "metadata": {},
     "output_type": "execute_result"
    }
   ],
   "source": [
    "df_copy.P5_6_3.value_counts()"
   ]
  },
  {
   "cell_type": "code",
   "execution_count": 603,
   "metadata": {
    "collapsed": true
   },
   "outputs": [],
   "source": [
    "df_copy.P5_6_3 = df_copy.P5_6_3.astype('str')\n",
    "df_copy.P5_6_3.replace({'nan':'99'}, inplace=True)\n",
    "df_copy.P5_6_3 = df_copy.P5_6_3.astype('float').astype('int64')"
   ]
  },
  {
   "cell_type": "code",
   "execution_count": 604,
   "metadata": {
    "collapsed": false
   },
   "outputs": [
    {
     "data": {
      "text/plain": [
       "2     89331\n",
       "99    33522\n",
       "1     12218\n",
       "9       270\n",
       "Name: P5_6_3, dtype: int64"
      ]
     },
     "execution_count": 604,
     "metadata": {},
     "output_type": "execute_result"
    }
   ],
   "source": [
    "df_copy.P5_6_3.value_counts()"
   ]
  },
  {
   "cell_type": "code",
   "execution_count": 605,
   "metadata": {
    "collapsed": false
   },
   "outputs": [
    {
     "name": "stderr",
     "output_type": "stream",
     "text": [
      "/home/hectorceja/anaconda3/lib/python3.6/site-packages/ipykernel_launcher.py:4: SettingWithCopyWarning: \n",
      "A value is trying to be set on a copy of a slice from a DataFrame\n",
      "\n",
      "See the caveats in the documentation: http://pandas.pydata.org/pandas-docs/stable/indexing.html#indexing-view-versus-copy\n",
      "  after removing the cwd from sys.path.\n"
     ]
    }
   ],
   "source": [
    "cont = 0\n",
    "for row in df_copy.P5_6_3:\n",
    "    if df_copy.P5_6_3[cont] == 9:\n",
    "        df_copy.P5_6_3[cont] = 99\n",
    "    cont = cont + 1"
   ]
  },
  {
   "cell_type": "code",
   "execution_count": 606,
   "metadata": {
    "collapsed": false
   },
   "outputs": [
    {
     "data": {
      "text/plain": [
       "2     89331\n",
       "99    33792\n",
       "1     12218\n",
       "Name: P5_6_3, dtype: int64"
      ]
     },
     "execution_count": 606,
     "metadata": {},
     "output_type": "execute_result"
    }
   ],
   "source": [
    "df_copy.P5_6_3.value_counts()"
   ]
  },
  {
   "cell_type": "code",
   "execution_count": 607,
   "metadata": {
    "collapsed": false
   },
   "outputs": [
    {
     "data": {
      "text/plain": [
       "135341"
      ]
     },
     "execution_count": 607,
     "metadata": {},
     "output_type": "execute_result"
    }
   ],
   "source": [
    "df_copy.P5_6_3.value_counts().sum()"
   ]
  },
  {
   "cell_type": "markdown",
   "metadata": {},
   "source": [
    "# 52.a columna P5_7_3 (5.7 En el último mes, ¿cuál es el monto del pago realizado por el servicio de: 3. TV de paga e Internet?)\n",
    "## 0000 No paga,0001-9998 Monto del recibo más reciente,9999 blanco"
   ]
  },
  {
   "cell_type": "code",
   "execution_count": 608,
   "metadata": {
    "collapsed": false
   },
   "outputs": [
    {
     "data": {
      "text/plain": [
       "400.0     1244\n",
       "500.0     1153\n",
       "600.0      745\n",
       "9999.0     707\n",
       "450.0      646\n",
       "300.0      466\n",
       "480.0      410\n",
       "350.0      410\n",
       "380.0      336\n",
       "550.0      287\n",
       "700.0      278\n",
       "0.0        219\n",
       "430.0      216\n",
       "420.0      181\n",
       "800.0      155\n",
       "650.0      152\n",
       "375.0      118\n",
       "200.0      114\n",
       "370.0      112\n",
       "540.0      111\n",
       "490.0      109\n",
       "360.0      109\n",
       "530.0      108\n",
       "560.0      107\n",
       "250.0      107\n",
       "520.0      102\n",
       "390.0       96\n",
       "389.0       96\n",
       "460.0       88\n",
       "399.0       84\n",
       "          ... \n",
       "210.0        1\n",
       "434.0        1\n",
       "224.0        1\n",
       "30.0         1\n",
       "605.0        1\n",
       "218.0        1\n",
       "115.0        1\n",
       "232.0        1\n",
       "674.0        1\n",
       "444.0        1\n",
       "689.0        1\n",
       "87.0         1\n",
       "362.0        1\n",
       "332.0        1\n",
       "686.0        1\n",
       "845.0        1\n",
       "472.0        1\n",
       "587.0        1\n",
       "644.0        1\n",
       "896.0        1\n",
       "293.0        1\n",
       "945.0        1\n",
       "652.0        1\n",
       "583.0        1\n",
       "947.0        1\n",
       "728.0        1\n",
       "331.0        1\n",
       "474.0        1\n",
       "57.0         1\n",
       "294.0        1\n",
       "Name: P5_7_3, Length: 490, dtype: int64"
      ]
     },
     "execution_count": 608,
     "metadata": {},
     "output_type": "execute_result"
    }
   ],
   "source": [
    "df_copy.P5_7_3.value_counts()"
   ]
  },
  {
   "cell_type": "code",
   "execution_count": 609,
   "metadata": {
    "collapsed": true
   },
   "outputs": [],
   "source": [
    "df_copy.P5_7_3 = df_copy.P5_7_3.astype('str')\n",
    "df_copy.P5_7_3.replace({'nan':'9999'}, inplace=True)\n",
    "df_copy.P5_7_3 = df_copy.P5_7_3.astype('float') #.astype('int64')"
   ]
  },
  {
   "cell_type": "code",
   "execution_count": 610,
   "metadata": {
    "collapsed": false
   },
   "outputs": [
    {
     "data": {
      "text/plain": [
       "9999.0    123830\n",
       "400.0       1244\n",
       "500.0       1153\n",
       "600.0        745\n",
       "450.0        646\n",
       "300.0        466\n",
       "480.0        410\n",
       "350.0        410\n",
       "380.0        336\n",
       "550.0        287\n",
       "700.0        278\n",
       "0.0          219\n",
       "430.0        216\n",
       "420.0        181\n",
       "800.0        155\n",
       "650.0        152\n",
       "375.0        118\n",
       "200.0        114\n",
       "370.0        112\n",
       "540.0        111\n",
       "490.0        109\n",
       "360.0        109\n",
       "530.0        108\n",
       "560.0        107\n",
       "250.0        107\n",
       "520.0        102\n",
       "390.0         96\n",
       "389.0         96\n",
       "460.0         88\n",
       "399.0         84\n",
       "           ...  \n",
       "210.0          1\n",
       "434.0          1\n",
       "224.0          1\n",
       "30.0           1\n",
       "605.0          1\n",
       "218.0          1\n",
       "115.0          1\n",
       "232.0          1\n",
       "674.0          1\n",
       "444.0          1\n",
       "689.0          1\n",
       "87.0           1\n",
       "362.0          1\n",
       "332.0          1\n",
       "686.0          1\n",
       "845.0          1\n",
       "472.0          1\n",
       "587.0          1\n",
       "644.0          1\n",
       "896.0          1\n",
       "293.0          1\n",
       "945.0          1\n",
       "652.0          1\n",
       "583.0          1\n",
       "947.0          1\n",
       "728.0          1\n",
       "331.0          1\n",
       "474.0          1\n",
       "57.0           1\n",
       "294.0          1\n",
       "Name: P5_7_3, Length: 490, dtype: int64"
      ]
     },
     "execution_count": 610,
     "metadata": {},
     "output_type": "execute_result"
    }
   ],
   "source": [
    "df_copy.P5_7_3.value_counts()"
   ]
  },
  {
   "cell_type": "code",
   "execution_count": 611,
   "metadata": {
    "collapsed": false
   },
   "outputs": [
    {
     "data": {
      "text/plain": [
       "135341"
      ]
     },
     "execution_count": 611,
     "metadata": {},
     "output_type": "execute_result"
    }
   ],
   "source": [
    "df_copy.P5_7_3.value_counts().sum()"
   ]
  },
  {
   "cell_type": "markdown",
   "metadata": {},
   "source": [
    "# 53.a columna P5_8_3 (5.8 ¿Reciben sin pago el servicio: 3. TV de paga e Internet?)\n",
    "## 1 Si, 2 No,99 blanco"
   ]
  },
  {
   "cell_type": "code",
   "execution_count": 612,
   "metadata": {
    "collapsed": false
   },
   "outputs": [
    {
     "data": {
      "text/plain": [
       "1.0    210\n",
       "9.0      9\n",
       "Name: P5_8_3, dtype: int64"
      ]
     },
     "execution_count": 612,
     "metadata": {},
     "output_type": "execute_result"
    }
   ],
   "source": [
    "df_copy.P5_8_3.value_counts()"
   ]
  },
  {
   "cell_type": "code",
   "execution_count": 613,
   "metadata": {
    "collapsed": true
   },
   "outputs": [],
   "source": [
    "df_copy.drop('P5_8_3', 1, inplace=True)"
   ]
  },
  {
   "cell_type": "markdown",
   "metadata": {},
   "source": [
    "# 54.a columna P5_9_3 (5.9 Entonces, ¿su paquete incluye un servicio que no utiliza?: 3. TV de paga e Internet?)\n",
    "## 1 Si, 2 No,99 blanco"
   ]
  },
  {
   "cell_type": "code",
   "execution_count": 614,
   "metadata": {
    "collapsed": false
   },
   "outputs": [
    {
     "data": {
      "text/plain": [
       "1.0    31\n",
       "8.0     1\n",
       "Name: P5_9_3, dtype: int64"
      ]
     },
     "execution_count": 614,
     "metadata": {},
     "output_type": "execute_result"
    }
   ],
   "source": [
    "df_copy.P5_9_3.value_counts()"
   ]
  },
  {
   "cell_type": "code",
   "execution_count": 615,
   "metadata": {
    "collapsed": true
   },
   "outputs": [],
   "source": [
    "df_copy.drop('P5_9_3', 1, inplace=True)"
   ]
  },
  {
   "cell_type": "markdown",
   "metadata": {},
   "source": [
    "# 55.a columna P5_6_4 (5.6 De los servicios de (OPCIÓN DE 5.5), ¿Dígame si los disponen en paquete o los reciben de manera separada?: 4. Telefonía fija e Internet?)\n",
    "## 1 Si, 2 No,99 blanco"
   ]
  },
  {
   "cell_type": "code",
   "execution_count": 616,
   "metadata": {
    "collapsed": false
   },
   "outputs": [
    {
     "data": {
      "text/plain": [
       "2.0    75337\n",
       "1.0    26280\n",
       "9.0      202\n",
       "Name: P5_6_4, dtype: int64"
      ]
     },
     "execution_count": 616,
     "metadata": {},
     "output_type": "execute_result"
    }
   ],
   "source": [
    "df_copy.P5_6_4.value_counts()"
   ]
  },
  {
   "cell_type": "code",
   "execution_count": 617,
   "metadata": {
    "collapsed": true
   },
   "outputs": [],
   "source": [
    "df_copy.P5_6_4 = df_copy.P5_6_4.astype('str')\n",
    "df_copy.P5_6_4.replace({'nan':'99'}, inplace=True)\n",
    "df_copy.P5_6_4 = df_copy.P5_6_4.astype('float').astype('int64')"
   ]
  },
  {
   "cell_type": "code",
   "execution_count": 623,
   "metadata": {
    "collapsed": false
   },
   "outputs": [
    {
     "data": {
      "text/plain": [
       "2     75337\n",
       "99    33724\n",
       "1     26280\n",
       "Name: P5_6_4, dtype: int64"
      ]
     },
     "execution_count": 623,
     "metadata": {},
     "output_type": "execute_result"
    }
   ],
   "source": [
    "df_copy.P5_6_4.value_counts()"
   ]
  },
  {
   "cell_type": "code",
   "execution_count": 621,
   "metadata": {
    "collapsed": false
   },
   "outputs": [
    {
     "name": "stderr",
     "output_type": "stream",
     "text": [
      "/home/hectorceja/anaconda3/lib/python3.6/site-packages/ipykernel_launcher.py:4: SettingWithCopyWarning: \n",
      "A value is trying to be set on a copy of a slice from a DataFrame\n",
      "\n",
      "See the caveats in the documentation: http://pandas.pydata.org/pandas-docs/stable/indexing.html#indexing-view-versus-copy\n",
      "  after removing the cwd from sys.path.\n"
     ]
    }
   ],
   "source": [
    "cont = 0\n",
    "for row in df_copy.P5_6_4:\n",
    "    if df_copy.P5_6_4[cont] == 9:\n",
    "        df_copy.P5_6_4[cont] = 99\n",
    "    cont = cont + 1"
   ]
  },
  {
   "cell_type": "code",
   "execution_count": 622,
   "metadata": {
    "collapsed": false
   },
   "outputs": [
    {
     "data": {
      "text/plain": [
       "135341"
      ]
     },
     "execution_count": 622,
     "metadata": {},
     "output_type": "execute_result"
    }
   ],
   "source": [
    "df_copy.P5_6_4.value_counts().sum()"
   ]
  },
  {
   "cell_type": "markdown",
   "metadata": {},
   "source": [
    "# 56.a columna P5_7_4 (5.7 En el último mes, ¿cuál es el monto del pago realizado por el servicio de: 4. Telefonía fija e Internet?)\n",
    "## 0000 No paga,0001-9998 Monto del recibo más reciente,9999  blanco"
   ]
  },
  {
   "cell_type": "code",
   "execution_count": 625,
   "metadata": {
    "collapsed": false
   },
   "outputs": [
    {
     "data": {
      "text/plain": [
       "26280"
      ]
     },
     "execution_count": 625,
     "metadata": {},
     "output_type": "execute_result"
    }
   ],
   "source": [
    "df_copy.P5_7_4.value_counts().sum()"
   ]
  },
  {
   "cell_type": "code",
   "execution_count": 626,
   "metadata": {
    "collapsed": true
   },
   "outputs": [],
   "source": [
    "df_copy.P5_7_4 = df_copy.P5_7_4.astype('str')\n",
    "df_copy.P5_7_4.replace({'nan':'9999'}, inplace=True)\n",
    "df_copy.P5_7_4 = df_copy.P5_7_4.astype('float') #.astype('int64')"
   ]
  },
  {
   "cell_type": "code",
   "execution_count": 627,
   "metadata": {
    "collapsed": false
   },
   "outputs": [
    {
     "data": {
      "text/plain": [
       "135341"
      ]
     },
     "execution_count": 627,
     "metadata": {},
     "output_type": "execute_result"
    }
   ],
   "source": [
    "df_copy.P5_7_4.value_counts().sum()"
   ]
  },
  {
   "cell_type": "markdown",
   "metadata": {},
   "source": [
    "# 57.a columna P5_8_4 (5.8 ¿Reciben sin pago el servicio: 4. Telefonía fija e Internet?)\n",
    "## 1 Si,2 No,99 blanco"
   ]
  },
  {
   "cell_type": "code",
   "execution_count": 628,
   "metadata": {
    "collapsed": false
   },
   "outputs": [
    {
     "data": {
      "text/plain": [
       "1.0    259\n",
       "9.0     12\n",
       "Name: P5_8_4, dtype: int64"
      ]
     },
     "execution_count": 628,
     "metadata": {},
     "output_type": "execute_result"
    }
   ],
   "source": [
    "df_copy.P5_8_4.value_counts()"
   ]
  },
  {
   "cell_type": "code",
   "execution_count": 629,
   "metadata": {
    "collapsed": true
   },
   "outputs": [],
   "source": [
    "df_copy.drop('P5_8_4', 1, inplace=True)"
   ]
  },
  {
   "cell_type": "markdown",
   "metadata": {},
   "source": [
    "# 58.a columna P5_9_4 (5.9 Entonces, ¿su paquete incluye un servicio que no utiliza?: 4. Telefonía fija e Internet?)\n",
    "## 1 Si,2 No,99 blanco"
   ]
  },
  {
   "cell_type": "code",
   "execution_count": 630,
   "metadata": {
    "collapsed": false
   },
   "outputs": [
    {
     "data": {
      "text/plain": [
       "1.0    149\n",
       "8.0      4\n",
       "Name: P5_9_4, dtype: int64"
      ]
     },
     "execution_count": 630,
     "metadata": {},
     "output_type": "execute_result"
    }
   ],
   "source": [
    "df_copy.P5_9_4.value_counts()"
   ]
  },
  {
   "cell_type": "code",
   "execution_count": 631,
   "metadata": {
    "collapsed": true
   },
   "outputs": [],
   "source": [
    "df_copy.drop('P5_9_4', 1, inplace=True)"
   ]
  },
  {
   "cell_type": "markdown",
   "metadata": {},
   "source": [
    "# 59.a columna P5_6_5 (5.6 De los servicios de (OPCIÓN DE 5.5), ¿Dígame si los disponen en paquete o los reciben de manera separada?: 5. Solo TV de paga?)\n",
    "## 1 Si,2 No,99 blanco"
   ]
  },
  {
   "cell_type": "code",
   "execution_count": 632,
   "metadata": {
    "collapsed": false
   },
   "outputs": [
    {
     "data": {
      "text/plain": [
       "2.0    56521\n",
       "1.0    45147\n",
       "9.0      151\n",
       "Name: P5_6_5, dtype: int64"
      ]
     },
     "execution_count": 632,
     "metadata": {},
     "output_type": "execute_result"
    }
   ],
   "source": [
    "df_copy.P5_6_5.value_counts()"
   ]
  },
  {
   "cell_type": "code",
   "execution_count": 633,
   "metadata": {
    "collapsed": true
   },
   "outputs": [],
   "source": [
    "df_copy.P5_6_5 = df_copy.P5_6_5.astype('str')\n",
    "df_copy.P5_6_5.replace({'nan':'99'}, inplace=True)\n",
    "df_copy.P5_6_5 = df_copy.P5_6_5.astype('float').astype('int64')"
   ]
  },
  {
   "cell_type": "code",
   "execution_count": 634,
   "metadata": {
    "collapsed": false
   },
   "outputs": [
    {
     "data": {
      "text/plain": [
       "2     56521\n",
       "1     45147\n",
       "99    33522\n",
       "9       151\n",
       "Name: P5_6_5, dtype: int64"
      ]
     },
     "execution_count": 634,
     "metadata": {},
     "output_type": "execute_result"
    }
   ],
   "source": [
    "df_copy.P5_6_5.value_counts()"
   ]
  },
  {
   "cell_type": "code",
   "execution_count": 635,
   "metadata": {
    "collapsed": false
   },
   "outputs": [
    {
     "name": "stderr",
     "output_type": "stream",
     "text": [
      "/home/hectorceja/anaconda3/lib/python3.6/site-packages/ipykernel_launcher.py:4: SettingWithCopyWarning: \n",
      "A value is trying to be set on a copy of a slice from a DataFrame\n",
      "\n",
      "See the caveats in the documentation: http://pandas.pydata.org/pandas-docs/stable/indexing.html#indexing-view-versus-copy\n",
      "  after removing the cwd from sys.path.\n"
     ]
    }
   ],
   "source": [
    "cont = 0\n",
    "for row in df_copy.P5_6_5:\n",
    "    if df_copy.P5_6_5[cont] == 9:\n",
    "        df_copy.P5_6_5[cont] = 99\n",
    "    cont = cont + 1"
   ]
  },
  {
   "cell_type": "code",
   "execution_count": 636,
   "metadata": {
    "collapsed": false
   },
   "outputs": [
    {
     "data": {
      "text/plain": [
       "2     56521\n",
       "1     45147\n",
       "99    33673\n",
       "Name: P5_6_5, dtype: int64"
      ]
     },
     "execution_count": 636,
     "metadata": {},
     "output_type": "execute_result"
    }
   ],
   "source": [
    "df_copy.P5_6_5.value_counts()"
   ]
  },
  {
   "cell_type": "code",
   "execution_count": 637,
   "metadata": {
    "collapsed": false
   },
   "outputs": [
    {
     "data": {
      "text/plain": [
       "135341"
      ]
     },
     "execution_count": 637,
     "metadata": {},
     "output_type": "execute_result"
    }
   ],
   "source": [
    "df_copy.P5_6_5.value_counts().sum()"
   ]
  },
  {
   "cell_type": "markdown",
   "metadata": {},
   "source": [
    "# 60.a columna P5_7_5 (5.7 En el último mes, ¿cuál es el monto del pago realizado por el servicio de: 5. Solo TV de paga?)\n",
    "## 0000 No paga,0001-9998 Monto del recibo más reciente,9999 blanco\n"
   ]
  },
  {
   "cell_type": "code",
   "execution_count": 638,
   "metadata": {
    "collapsed": false
   },
   "outputs": [
    {
     "data": {
      "text/plain": [
       "45147"
      ]
     },
     "execution_count": 638,
     "metadata": {},
     "output_type": "execute_result"
    }
   ],
   "source": [
    "df_copy.P5_7_5.value_counts().sum()"
   ]
  },
  {
   "cell_type": "code",
   "execution_count": 639,
   "metadata": {
    "collapsed": true
   },
   "outputs": [],
   "source": [
    "df_copy.P5_7_5 = df_copy.P5_7_5.astype('str')\n",
    "df_copy.P5_7_5.replace({'nan':'9999'}, inplace=True)\n",
    "df_copy.P5_7_5 = df_copy.P5_7_5.astype('float') #.astype('int64')"
   ]
  },
  {
   "cell_type": "code",
   "execution_count": 640,
   "metadata": {
    "collapsed": false
   },
   "outputs": [
    {
     "data": {
      "text/plain": [
       "135341"
      ]
     },
     "execution_count": 640,
     "metadata": {},
     "output_type": "execute_result"
    }
   ],
   "source": [
    "df_copy.P5_7_5.value_counts().sum()"
   ]
  },
  {
   "cell_type": "markdown",
   "metadata": {},
   "source": [
    "# 61.a columna P5_8_5 (5.8 ¿Reciben sin pago el servicio: 5. Solo TV de paga)\n",
    "## 1 Si, 2 No, 99 blanco"
   ]
  },
  {
   "cell_type": "code",
   "execution_count": 641,
   "metadata": {
    "collapsed": false
   },
   "outputs": [
    {
     "data": {
      "text/plain": [
       "1.0    890\n",
       "9.0     26\n",
       "Name: P5_8_5, dtype: int64"
      ]
     },
     "execution_count": 641,
     "metadata": {},
     "output_type": "execute_result"
    }
   ],
   "source": [
    "df_copy.P5_8_5.value_counts()"
   ]
  },
  {
   "cell_type": "code",
   "execution_count": 642,
   "metadata": {
    "collapsed": true
   },
   "outputs": [],
   "source": [
    "df_copy.drop('P5_8_5', 1, inplace=True)"
   ]
  },
  {
   "cell_type": "markdown",
   "metadata": {},
   "source": [
    "# 62.a columna P5_6_6 (5.6 De los servicios de (OPCIÓN DE 5.5), ¿Dígame si los disponen en paquete o los reciben de manera separada?: 6. Solo telefonía fija?)\n",
    "## 1 Si, 2 No, 99 blanco"
   ]
  },
  {
   "cell_type": "code",
   "execution_count": 643,
   "metadata": {
    "collapsed": false
   },
   "outputs": [
    {
     "data": {
      "text/plain": [
       "2.0    91772\n",
       "1.0     9792\n",
       "9.0      255\n",
       "Name: P5_6_6, dtype: int64"
      ]
     },
     "execution_count": 643,
     "metadata": {},
     "output_type": "execute_result"
    }
   ],
   "source": [
    "df_copy.P5_6_6.value_counts()"
   ]
  },
  {
   "cell_type": "code",
   "execution_count": 644,
   "metadata": {
    "collapsed": true
   },
   "outputs": [],
   "source": [
    "df_copy.P5_6_6 = df_copy.P5_6_6.astype('str')\n",
    "df_copy.P5_6_6.replace({'nan':'99'}, inplace=True)\n",
    "df_copy.P5_6_6 = df_copy.P5_6_6.astype('float').astype('int64')"
   ]
  },
  {
   "cell_type": "code",
   "execution_count": 645,
   "metadata": {
    "collapsed": false
   },
   "outputs": [
    {
     "data": {
      "text/plain": [
       "2     91772\n",
       "99    33522\n",
       "1      9792\n",
       "9       255\n",
       "Name: P5_6_6, dtype: int64"
      ]
     },
     "execution_count": 645,
     "metadata": {},
     "output_type": "execute_result"
    }
   ],
   "source": [
    "df_copy.P5_6_6.value_counts()"
   ]
  },
  {
   "cell_type": "code",
   "execution_count": 646,
   "metadata": {
    "collapsed": false
   },
   "outputs": [
    {
     "name": "stderr",
     "output_type": "stream",
     "text": [
      "/home/hectorceja/anaconda3/lib/python3.6/site-packages/ipykernel_launcher.py:4: SettingWithCopyWarning: \n",
      "A value is trying to be set on a copy of a slice from a DataFrame\n",
      "\n",
      "See the caveats in the documentation: http://pandas.pydata.org/pandas-docs/stable/indexing.html#indexing-view-versus-copy\n",
      "  after removing the cwd from sys.path.\n"
     ]
    }
   ],
   "source": [
    "cont = 0\n",
    "for row in df_copy.P5_6_6:\n",
    "    if df_copy.P5_6_6[cont] == 9:\n",
    "        df_copy.P5_6_6[cont] = 99\n",
    "    cont = cont + 1"
   ]
  },
  {
   "cell_type": "code",
   "execution_count": 647,
   "metadata": {
    "collapsed": false
   },
   "outputs": [
    {
     "data": {
      "text/plain": [
       "2     91772\n",
       "99    33777\n",
       "1      9792\n",
       "Name: P5_6_6, dtype: int64"
      ]
     },
     "execution_count": 647,
     "metadata": {},
     "output_type": "execute_result"
    }
   ],
   "source": [
    "df_copy.P5_6_6.value_counts()"
   ]
  },
  {
   "cell_type": "code",
   "execution_count": 648,
   "metadata": {
    "collapsed": false
   },
   "outputs": [
    {
     "data": {
      "text/plain": [
       "135341"
      ]
     },
     "execution_count": 648,
     "metadata": {},
     "output_type": "execute_result"
    }
   ],
   "source": [
    "df_copy.P5_6_6.value_counts().sum()"
   ]
  },
  {
   "cell_type": "markdown",
   "metadata": {},
   "source": [
    "# 63.a columna P5_7_6 (5.7 En el último mes, ¿cuál es el monto del pago realizado por el servicio de: 6. Solo telefonía fija?)\n",
    "## 0000 No paga,0001-9998 Monto del recibo más reciente,9999 blanco)"
   ]
  },
  {
   "cell_type": "code",
   "execution_count": 649,
   "metadata": {
    "collapsed": false
   },
   "outputs": [
    {
     "data": {
      "text/plain": [
       "9792"
      ]
     },
     "execution_count": 649,
     "metadata": {},
     "output_type": "execute_result"
    }
   ],
   "source": [
    "df_copy.P5_7_6.value_counts().sum()"
   ]
  },
  {
   "cell_type": "code",
   "execution_count": 650,
   "metadata": {
    "collapsed": true
   },
   "outputs": [],
   "source": [
    "df_copy.P5_7_6 = df_copy.P5_7_6.astype('str')\n",
    "df_copy.P5_7_6.replace({'nan':'9999'}, inplace=True)\n",
    "df_copy.P5_7_6 = df_copy.P5_7_6.astype('float') #.astype('int64')"
   ]
  },
  {
   "cell_type": "code",
   "execution_count": 651,
   "metadata": {
    "collapsed": false
   },
   "outputs": [
    {
     "data": {
      "text/plain": [
       "135341"
      ]
     },
     "execution_count": 651,
     "metadata": {},
     "output_type": "execute_result"
    }
   ],
   "source": [
    "df_copy.P5_7_6.value_counts().sum()"
   ]
  },
  {
   "cell_type": "markdown",
   "metadata": {},
   "source": [
    "# 64.a columna P5_8_6 (5.8 ¿Reciben sin pago el servicio: 6. Solo telefonía fija?)\n",
    "## 1 No, 2 Si, 99 blanco)"
   ]
  },
  {
   "cell_type": "code",
   "execution_count": 652,
   "metadata": {
    "collapsed": false
   },
   "outputs": [
    {
     "data": {
      "text/plain": [
       "1.0    302\n",
       "9.0     11\n",
       "Name: P5_8_6, dtype: int64"
      ]
     },
     "execution_count": 652,
     "metadata": {},
     "output_type": "execute_result"
    }
   ],
   "source": [
    "df_copy.P5_8_6.value_counts()"
   ]
  },
  {
   "cell_type": "code",
   "execution_count": 653,
   "metadata": {
    "collapsed": true
   },
   "outputs": [],
   "source": [
    "df_copy.drop('P5_8_6', 1, inplace=True)"
   ]
  },
  {
   "cell_type": "markdown",
   "metadata": {},
   "source": [
    "# 65.a columna P5_6_7 (5.6 De los servicios de (OPCIÓN DE 5.5), ¿Dígame si los disponen en paquete o los reciben de manera separada?: 7. Solo Internet?)\n",
    "## 1 No, 2 Si, 99 blanco)"
   ]
  },
  {
   "cell_type": "code",
   "execution_count": 654,
   "metadata": {
    "collapsed": false
   },
   "outputs": [
    {
     "data": {
      "text/plain": [
       "2.0    76137\n",
       "1.0    25425\n",
       "9.0      257\n",
       "Name: P5_6_7, dtype: int64"
      ]
     },
     "execution_count": 654,
     "metadata": {},
     "output_type": "execute_result"
    }
   ],
   "source": [
    "df_copy.P5_6_7.value_counts()"
   ]
  },
  {
   "cell_type": "code",
   "execution_count": 655,
   "metadata": {
    "collapsed": true
   },
   "outputs": [],
   "source": [
    "df_copy.P5_6_7 = df_copy.P5_6_7.astype('str')\n",
    "df_copy.P5_6_7.replace({'nan':'99'}, inplace=True)\n",
    "df_copy.P5_6_7 = df_copy.P5_6_7.astype('float').astype('int64')"
   ]
  },
  {
   "cell_type": "code",
   "execution_count": 656,
   "metadata": {
    "collapsed": false
   },
   "outputs": [
    {
     "data": {
      "text/plain": [
       "2     76137\n",
       "99    33522\n",
       "1     25425\n",
       "9       257\n",
       "Name: P5_6_7, dtype: int64"
      ]
     },
     "execution_count": 656,
     "metadata": {},
     "output_type": "execute_result"
    }
   ],
   "source": [
    "df_copy.P5_6_7.value_counts()"
   ]
  },
  {
   "cell_type": "code",
   "execution_count": 657,
   "metadata": {
    "collapsed": false
   },
   "outputs": [
    {
     "name": "stderr",
     "output_type": "stream",
     "text": [
      "/home/hectorceja/anaconda3/lib/python3.6/site-packages/ipykernel_launcher.py:4: SettingWithCopyWarning: \n",
      "A value is trying to be set on a copy of a slice from a DataFrame\n",
      "\n",
      "See the caveats in the documentation: http://pandas.pydata.org/pandas-docs/stable/indexing.html#indexing-view-versus-copy\n",
      "  after removing the cwd from sys.path.\n"
     ]
    }
   ],
   "source": [
    "cont = 0\n",
    "for row in df_copy.P5_6_7:\n",
    "    if df_copy.P5_6_7[cont] == 9:\n",
    "        df_copy.P5_6_7[cont] = 99\n",
    "    cont = cont + 1"
   ]
  },
  {
   "cell_type": "code",
   "execution_count": 658,
   "metadata": {
    "collapsed": false
   },
   "outputs": [
    {
     "data": {
      "text/plain": [
       "2     76137\n",
       "99    33779\n",
       "1     25425\n",
       "Name: P5_6_7, dtype: int64"
      ]
     },
     "execution_count": 658,
     "metadata": {},
     "output_type": "execute_result"
    }
   ],
   "source": [
    "df_copy.P5_6_7.value_counts()"
   ]
  },
  {
   "cell_type": "code",
   "execution_count": 659,
   "metadata": {
    "collapsed": false
   },
   "outputs": [
    {
     "data": {
      "text/plain": [
       "135341"
      ]
     },
     "execution_count": 659,
     "metadata": {},
     "output_type": "execute_result"
    }
   ],
   "source": [
    "df_copy.P5_6_7.value_counts().sum()"
   ]
  },
  {
   "cell_type": "markdown",
   "metadata": {},
   "source": [
    "# 66.a columna P5_7_7 (5.7 En el último mes, ¿cuál es el monto del pago realizado por el servicio de: 7. Solo Internet?)\n",
    "## 0000 No paga,0001-9998 Monto del recibo más reciente,9999 blanco"
   ]
  },
  {
   "cell_type": "code",
   "execution_count": 660,
   "metadata": {
    "collapsed": false
   },
   "outputs": [
    {
     "data": {
      "text/plain": [
       "25425"
      ]
     },
     "execution_count": 660,
     "metadata": {},
     "output_type": "execute_result"
    }
   ],
   "source": [
    "df_copy.P5_7_7.value_counts().sum()"
   ]
  },
  {
   "cell_type": "code",
   "execution_count": 661,
   "metadata": {
    "collapsed": true
   },
   "outputs": [],
   "source": [
    "df_copy.P5_7_7 = df_copy.P5_7_7.astype('str')\n",
    "df_copy.P5_7_7.replace({'nan':'9999'}, inplace=True)\n",
    "df_copy.P5_7_7 = df_copy.P5_7_7.astype('float') #.astype('int64')"
   ]
  },
  {
   "cell_type": "code",
   "execution_count": 662,
   "metadata": {
    "collapsed": false
   },
   "outputs": [
    {
     "data": {
      "text/plain": [
       "135341"
      ]
     },
     "execution_count": 662,
     "metadata": {},
     "output_type": "execute_result"
    }
   ],
   "source": [
    "df_copy.P5_7_7.value_counts().sum()"
   ]
  },
  {
   "cell_type": "markdown",
   "metadata": {},
   "source": [
    "# 67.a columna P5_8_7 (5.8 ¿Reciben sin pago el servicio: 7. Solo Internet?)\n",
    "## 1 Si,2 No, 99 blanco"
   ]
  },
  {
   "cell_type": "code",
   "execution_count": 663,
   "metadata": {
    "collapsed": false
   },
   "outputs": [
    {
     "data": {
      "text/plain": [
       "1.0    4588\n",
       "9.0      58\n",
       "Name: P5_8_7, dtype: int64"
      ]
     },
     "execution_count": 663,
     "metadata": {},
     "output_type": "execute_result"
    }
   ],
   "source": [
    "df_copy.P5_8_7.value_counts()"
   ]
  },
  {
   "cell_type": "code",
   "execution_count": 664,
   "metadata": {
    "collapsed": true
   },
   "outputs": [],
   "source": [
    "df_copy.drop('P5_8_7', 1, inplace=True)"
   ]
  },
  {
   "cell_type": "markdown",
   "metadata": {},
   "source": [
    "# 68.a columna P5_10_1 (5.10 ¿Qué tan satisfecho(a) está con el servicio de: 1. Internet?)\n",
    "## 1 Satisfecho,2 Insatisfecho,3 No cuenta con el servicio,99 blanco"
   ]
  },
  {
   "cell_type": "code",
   "execution_count": 665,
   "metadata": {
    "collapsed": false
   },
   "outputs": [
    {
     "data": {
      "text/plain": [
       "1.0    57464\n",
       "3.0    26818\n",
       "2.0    16392\n",
       "8.0     1145\n",
       "Name: P5_10_1, dtype: int64"
      ]
     },
     "execution_count": 665,
     "metadata": {},
     "output_type": "execute_result"
    }
   ],
   "source": [
    "df_copy.P5_10_1.value_counts()"
   ]
  },
  {
   "cell_type": "code",
   "execution_count": 666,
   "metadata": {
    "collapsed": true
   },
   "outputs": [],
   "source": [
    "df_copy.P5_10_1 = df_copy.P5_10_1.astype('str')\n",
    "df_copy.P5_10_1.replace({'nan':'99'}, inplace=True)\n",
    "df_copy.P5_10_1 = df_copy.P5_10_1.astype('float').astype('int64')"
   ]
  },
  {
   "cell_type": "code",
   "execution_count": 667,
   "metadata": {
    "collapsed": false
   },
   "outputs": [
    {
     "data": {
      "text/plain": [
       "1     57464\n",
       "99    33522\n",
       "3     26818\n",
       "2     16392\n",
       "8      1145\n",
       "Name: P5_10_1, dtype: int64"
      ]
     },
     "execution_count": 667,
     "metadata": {},
     "output_type": "execute_result"
    }
   ],
   "source": [
    "df_copy.P5_10_1.value_counts()"
   ]
  },
  {
   "cell_type": "code",
   "execution_count": 668,
   "metadata": {
    "collapsed": false
   },
   "outputs": [
    {
     "name": "stderr",
     "output_type": "stream",
     "text": [
      "/home/hectorceja/anaconda3/lib/python3.6/site-packages/ipykernel_launcher.py:4: SettingWithCopyWarning: \n",
      "A value is trying to be set on a copy of a slice from a DataFrame\n",
      "\n",
      "See the caveats in the documentation: http://pandas.pydata.org/pandas-docs/stable/indexing.html#indexing-view-versus-copy\n",
      "  after removing the cwd from sys.path.\n"
     ]
    }
   ],
   "source": [
    "cont = 0\n",
    "for row in df_copy.P5_10_1:\n",
    "    if df_copy.P5_10_1[cont] == 8:\n",
    "        df_copy.P5_10_1[cont] = 99\n",
    "    cont = cont + 1"
   ]
  },
  {
   "cell_type": "code",
   "execution_count": 669,
   "metadata": {
    "collapsed": false
   },
   "outputs": [
    {
     "data": {
      "text/plain": [
       "1     57464\n",
       "99    34667\n",
       "3     26818\n",
       "2     16392\n",
       "Name: P5_10_1, dtype: int64"
      ]
     },
     "execution_count": 669,
     "metadata": {},
     "output_type": "execute_result"
    }
   ],
   "source": [
    "df_copy.P5_10_1.value_counts()"
   ]
  },
  {
   "cell_type": "code",
   "execution_count": 670,
   "metadata": {
    "collapsed": false
   },
   "outputs": [
    {
     "data": {
      "text/plain": [
       "135341"
      ]
     },
     "execution_count": 670,
     "metadata": {},
     "output_type": "execute_result"
    }
   ],
   "source": [
    "df_copy.P5_10_1.value_counts().sum()"
   ]
  },
  {
   "cell_type": "markdown",
   "metadata": {},
   "source": [
    "# 69.a columna P5_10_2 (2. TV de paga?)\n",
    "## 1 Satisfecho,2 Insatisfecho,3 No cuenta con el servicio,99 blanco"
   ]
  },
  {
   "cell_type": "code",
   "execution_count": 671,
   "metadata": {
    "collapsed": false
   },
   "outputs": [
    {
     "data": {
      "text/plain": [
       "1.0    58284\n",
       "3.0    29947\n",
       "2.0    13267\n",
       "8.0      321\n",
       "Name: P5_10_2, dtype: int64"
      ]
     },
     "execution_count": 671,
     "metadata": {},
     "output_type": "execute_result"
    }
   ],
   "source": [
    "df_copy.P5_10_2.value_counts()"
   ]
  },
  {
   "cell_type": "code",
   "execution_count": 672,
   "metadata": {
    "collapsed": true
   },
   "outputs": [],
   "source": [
    "df_copy.P5_10_2 = df_copy.P5_10_2.astype('str')\n",
    "df_copy.P5_10_2.replace({'nan':'99'}, inplace=True)\n",
    "df_copy.P5_10_2 = df_copy.P5_10_2.astype('float').astype('int64')"
   ]
  },
  {
   "cell_type": "code",
   "execution_count": 673,
   "metadata": {
    "collapsed": false
   },
   "outputs": [
    {
     "name": "stderr",
     "output_type": "stream",
     "text": [
      "/home/hectorceja/anaconda3/lib/python3.6/site-packages/ipykernel_launcher.py:4: SettingWithCopyWarning: \n",
      "A value is trying to be set on a copy of a slice from a DataFrame\n",
      "\n",
      "See the caveats in the documentation: http://pandas.pydata.org/pandas-docs/stable/indexing.html#indexing-view-versus-copy\n",
      "  after removing the cwd from sys.path.\n"
     ]
    }
   ],
   "source": [
    "cont = 0\n",
    "for row in df_copy.P5_10_2:\n",
    "    if df_copy.P5_10_2[cont] == 8:\n",
    "        df_copy.P5_10_2[cont] = 99\n",
    "    cont = cont + 1"
   ]
  },
  {
   "cell_type": "code",
   "execution_count": 674,
   "metadata": {
    "collapsed": false
   },
   "outputs": [
    {
     "data": {
      "text/plain": [
       "1     58284\n",
       "99    33843\n",
       "3     29947\n",
       "2     13267\n",
       "Name: P5_10_2, dtype: int64"
      ]
     },
     "execution_count": 674,
     "metadata": {},
     "output_type": "execute_result"
    }
   ],
   "source": [
    "df_copy.P5_10_2.value_counts()"
   ]
  },
  {
   "cell_type": "code",
   "execution_count": 675,
   "metadata": {
    "collapsed": false
   },
   "outputs": [
    {
     "data": {
      "text/plain": [
       "135341"
      ]
     },
     "execution_count": 675,
     "metadata": {},
     "output_type": "execute_result"
    }
   ],
   "source": [
    "df_copy.P5_10_2.value_counts().sum()"
   ]
  },
  {
   "cell_type": "markdown",
   "metadata": {},
   "source": [
    "# 70.a columna P5_10_3 (3. Telefonía fija?)\n",
    "## 1 Satisfecho,2 Insatisfecho,3 No cuenta con el servicio,99 blanco"
   ]
  },
  {
   "cell_type": "code",
   "execution_count": 676,
   "metadata": {
    "collapsed": false
   },
   "outputs": [
    {
     "data": {
      "text/plain": [
       "3.0    51410\n",
       "1.0    44893\n",
       "2.0     5135\n",
       "8.0      381\n",
       "Name: P5_10_3, dtype: int64"
      ]
     },
     "execution_count": 676,
     "metadata": {},
     "output_type": "execute_result"
    }
   ],
   "source": [
    "df_copy.P5_10_3.value_counts()"
   ]
  },
  {
   "cell_type": "code",
   "execution_count": 677,
   "metadata": {
    "collapsed": true
   },
   "outputs": [],
   "source": [
    "df_copy.P5_10_3 = df_copy.P5_10_3.astype('str')\n",
    "df_copy.P5_10_3.replace({'nan':'99'}, inplace=True)\n",
    "df_copy.P5_10_3 = df_copy.P5_10_3.astype('float').astype('int64')"
   ]
  },
  {
   "cell_type": "code",
   "execution_count": 678,
   "metadata": {
    "collapsed": false
   },
   "outputs": [
    {
     "name": "stderr",
     "output_type": "stream",
     "text": [
      "/home/hectorceja/anaconda3/lib/python3.6/site-packages/ipykernel_launcher.py:4: SettingWithCopyWarning: \n",
      "A value is trying to be set on a copy of a slice from a DataFrame\n",
      "\n",
      "See the caveats in the documentation: http://pandas.pydata.org/pandas-docs/stable/indexing.html#indexing-view-versus-copy\n",
      "  after removing the cwd from sys.path.\n"
     ]
    }
   ],
   "source": [
    "cont = 0\n",
    "for row in df_copy.P5_10_3:\n",
    "    if df_copy.P5_10_3[cont] == 8:\n",
    "        df_copy.P5_10_3[cont] = 99\n",
    "    cont = cont + 1"
   ]
  },
  {
   "cell_type": "code",
   "execution_count": 679,
   "metadata": {
    "collapsed": false
   },
   "outputs": [
    {
     "data": {
      "text/plain": [
       "3     51410\n",
       "1     44893\n",
       "99    33903\n",
       "2      5135\n",
       "Name: P5_10_3, dtype: int64"
      ]
     },
     "execution_count": 679,
     "metadata": {},
     "output_type": "execute_result"
    }
   ],
   "source": [
    "df_copy.P5_10_3.value_counts()"
   ]
  },
  {
   "cell_type": "code",
   "execution_count": 680,
   "metadata": {
    "collapsed": false
   },
   "outputs": [
    {
     "data": {
      "text/plain": [
       "135341"
      ]
     },
     "execution_count": 680,
     "metadata": {},
     "output_type": "execute_result"
    }
   ],
   "source": [
    "df_copy.P5_10_3.value_counts().sum()"
   ]
  },
  {
   "cell_type": "markdown",
   "metadata": {},
   "source": [
    "# 71.a columna CD_ENDUTIH (Ciudad de levantamiento)\n",
    "## Catálogo tc_ciudad"
   ]
  },
  {
   "cell_type": "code",
   "execution_count": 681,
   "metadata": {
    "collapsed": false
   },
   "outputs": [
    {
     "data": {
      "text/plain": [
       "1.0     4533\n",
       "3.0     2711\n",
       "2.0     2701\n",
       "38.0    1934\n",
       "5.0     1904\n",
       "59.0    1900\n",
       "14.0    1881\n",
       "31.0    1876\n",
       "27.0    1855\n",
       "28.0    1843\n",
       "20.0    1831\n",
       "25.0    1822\n",
       "36.0    1810\n",
       "37.0    1810\n",
       "6.0     1798\n",
       "24.0    1798\n",
       "16.0    1796\n",
       "32.0    1791\n",
       "39.0    1788\n",
       "62.0    1786\n",
       "19.0    1785\n",
       "15.0    1780\n",
       "52.0    1779\n",
       "17.0    1773\n",
       "8.0     1767\n",
       "33.0    1765\n",
       "65.0    1763\n",
       "26.0    1757\n",
       "49.0    1748\n",
       "40.0    1747\n",
       "67.0    1746\n",
       "4.0     1743\n",
       "55.0    1728\n",
       "7.0     1724\n",
       "44.0    1722\n",
       "23.0    1720\n",
       "18.0    1717\n",
       "70.0    1715\n",
       "9.0     1704\n",
       "10.0    1699\n",
       "21.0    1697\n",
       "29.0    1689\n",
       "13.0    1677\n",
       "43.0    1671\n",
       "22.0    1667\n",
       "30.0    1661\n",
       "41.0    1634\n",
       "46.0    1631\n",
       "12.0    1583\n",
       "Name: CD_ENDUTIH, dtype: int64"
      ]
     },
     "execution_count": 681,
     "metadata": {},
     "output_type": "execute_result"
    }
   ],
   "source": [
    "df_copy.CD_ENDUTIH.value_counts()"
   ]
  },
  {
   "cell_type": "code",
   "execution_count": 682,
   "metadata": {
    "collapsed": false
   },
   "outputs": [
    {
     "data": {
      "text/plain": [
       "True"
      ]
     },
     "execution_count": 682,
     "metadata": {},
     "output_type": "execute_result"
    }
   ],
   "source": [
    "df_copy.isnull().CD_ENDUTIH.any()"
   ]
  },
  {
   "cell_type": "code",
   "execution_count": 683,
   "metadata": {
    "collapsed": true
   },
   "outputs": [],
   "source": [
    "df_copy.CD_ENDUTIH = df_copy.CD_ENDUTIH.astype('str')\n",
    "df_copy.CD_ENDUTIH.replace({'nan':'99'}, inplace=True)\n",
    "df_copy.CD_ENDUTIH = df_copy.CD_ENDUTIH.astype('float').astype('int64')"
   ]
  },
  {
   "cell_type": "code",
   "execution_count": 684,
   "metadata": {
    "collapsed": false
   },
   "outputs": [
    {
     "data": {
      "text/plain": [
       "False"
      ]
     },
     "execution_count": 684,
     "metadata": {},
     "output_type": "execute_result"
    }
   ],
   "source": [
    "df_copy.isnull().CD_ENDUTIH.any()"
   ]
  },
  {
   "cell_type": "code",
   "execution_count": 685,
   "metadata": {
    "collapsed": false
   },
   "outputs": [
    {
     "data": {
      "text/plain": [
       "99    44381\n",
       "1      4533\n",
       "3      2711\n",
       "2      2701\n",
       "38     1934\n",
       "5      1904\n",
       "59     1900\n",
       "14     1881\n",
       "31     1876\n",
       "27     1855\n",
       "28     1843\n",
       "20     1831\n",
       "25     1822\n",
       "37     1810\n",
       "36     1810\n",
       "6      1798\n",
       "24     1798\n",
       "16     1796\n",
       "32     1791\n",
       "39     1788\n",
       "62     1786\n",
       "19     1785\n",
       "15     1780\n",
       "52     1779\n",
       "17     1773\n",
       "8      1767\n",
       "33     1765\n",
       "65     1763\n",
       "26     1757\n",
       "49     1748\n",
       "40     1747\n",
       "67     1746\n",
       "4      1743\n",
       "55     1728\n",
       "7      1724\n",
       "44     1722\n",
       "23     1720\n",
       "18     1717\n",
       "70     1715\n",
       "9      1704\n",
       "10     1699\n",
       "21     1697\n",
       "29     1689\n",
       "13     1677\n",
       "43     1671\n",
       "22     1667\n",
       "30     1661\n",
       "41     1634\n",
       "46     1631\n",
       "12     1583\n",
       "Name: CD_ENDUTIH, dtype: int64"
      ]
     },
     "execution_count": 685,
     "metadata": {},
     "output_type": "execute_result"
    }
   ],
   "source": [
    "df_copy.CD_ENDUTIH.value_counts()"
   ]
  },
  {
   "cell_type": "code",
   "execution_count": 686,
   "metadata": {
    "collapsed": false
   },
   "outputs": [
    {
     "data": {
      "text/plain": [
       "135341"
      ]
     },
     "execution_count": 686,
     "metadata": {},
     "output_type": "execute_result"
    }
   ],
   "source": [
    "df_copy.CD_ENDUTIH.value_counts().sum()"
   ]
  },
  {
   "cell_type": "markdown",
   "metadata": {},
   "source": [
    "# 72.a columna ENT (Entidad)\n",
    "## Entidad"
   ]
  },
  {
   "cell_type": "code",
   "execution_count": 687,
   "metadata": {
    "collapsed": false
   },
   "outputs": [
    {
     "data": {
      "text/plain": [
       "28    7989\n",
       "11    7094\n",
       "2     6693\n",
       "30    6499\n",
       "16    5228\n",
       "26    5040\n",
       "21    5031\n",
       "7     5020\n",
       "25    4986\n",
       "15    4917\n",
       "8     4775\n",
       "12    4625\n",
       "5     4361\n",
       "14    4226\n",
       "19    4213\n",
       "10    3648\n",
       "31    3381\n",
       "3     3354\n",
       "6     3314\n",
       "29    3300\n",
       "1     3285\n",
       "4     3243\n",
       "20    3241\n",
       "18    3238\n",
       "32    3189\n",
       "22    3152\n",
       "17    3144\n",
       "27    3127\n",
       "23    3086\n",
       "13    3044\n",
       "24    3043\n",
       "9     2855\n",
       "Name: ENT, dtype: int64"
      ]
     },
     "execution_count": 687,
     "metadata": {},
     "output_type": "execute_result"
    }
   ],
   "source": [
    "df_copy.ENT.value_counts()"
   ]
  },
  {
   "cell_type": "code",
   "execution_count": 688,
   "metadata": {
    "collapsed": false
   },
   "outputs": [
    {
     "data": {
      "text/plain": [
       "135341"
      ]
     },
     "execution_count": 688,
     "metadata": {},
     "output_type": "execute_result"
    }
   ],
   "source": [
    "df_copy.CD_ENDUTIH.value_counts().sum()"
   ]
  },
  {
   "cell_type": "markdown",
   "metadata": {},
   "source": [
    "# 73.a columna FAC_HOG (Factor)\n",
    "## Factor"
   ]
  },
  {
   "cell_type": "code",
   "execution_count": 689,
   "metadata": {
    "collapsed": false
   },
   "outputs": [
    {
     "data": {
      "text/plain": [
       "56.0      1034\n",
       "54.0      1019\n",
       "64.0      1019\n",
       "44.0      1017\n",
       "42.0      1008\n",
       "57.0       964\n",
       "37.0       953\n",
       "71.0       930\n",
       "58.0       926\n",
       "39.0       924\n",
       "66.0       897\n",
       "63.0       880\n",
       "50.0       878\n",
       "68.0       873\n",
       "41.0       872\n",
       "55.0       860\n",
       "52.0       860\n",
       "49.0       848\n",
       "65.0       847\n",
       "46.0       841\n",
       "62.0       827\n",
       "43.0       824\n",
       "47.0       809\n",
       "61.0       800\n",
       "127.0      798\n",
       "67.0       797\n",
       "60.0       797\n",
       "51.0       794\n",
       "38.0       770\n",
       "53.0       770\n",
       "          ... \n",
       "1975.0       3\n",
       "1767.0       3\n",
       "1575.0       3\n",
       "2515.0       3\n",
       "2083.0       3\n",
       "1058.0       3\n",
       "710.0        3\n",
       "1746.0       3\n",
       "591.0        2\n",
       "2480.0       2\n",
       "1925.0       2\n",
       "3064.0       2\n",
       "2481.0       2\n",
       "2214.0       2\n",
       "839.0        2\n",
       "1687.0       2\n",
       "587.0        2\n",
       "1432.0       2\n",
       "1413.0       2\n",
       "2529.0       2\n",
       "1882.0       2\n",
       "1555.0       2\n",
       "1799.0       2\n",
       "783.0        1\n",
       "2053.0       1\n",
       "1472.0       1\n",
       "1013.0       1\n",
       "1252.0       1\n",
       "2063.0       1\n",
       "1232.0       1\n",
       "Name: FAC_HOG, Length: 1509, dtype: int64"
      ]
     },
     "execution_count": 689,
     "metadata": {},
     "output_type": "execute_result"
    }
   ],
   "source": [
    "df_copy.FAC_HOG.value_counts()"
   ]
  },
  {
   "cell_type": "code",
   "execution_count": 690,
   "metadata": {
    "collapsed": true
   },
   "outputs": [],
   "source": [
    "df_copy.FAC_HOG = df_copy.FAC_HOG.astype('str')\n",
    "df_copy.FAC_HOG = df_copy.FAC_HOG.astype('float').astype('int64')"
   ]
  },
  {
   "cell_type": "code",
   "execution_count": 691,
   "metadata": {
    "collapsed": false
   },
   "outputs": [
    {
     "data": {
      "text/plain": [
       "56      1034\n",
       "64      1019\n",
       "54      1019\n",
       "44      1017\n",
       "42      1008\n",
       "57       964\n",
       "37       953\n",
       "71       930\n",
       "58       926\n",
       "39       924\n",
       "66       897\n",
       "63       880\n",
       "50       878\n",
       "68       873\n",
       "41       872\n",
       "52       860\n",
       "55       860\n",
       "49       848\n",
       "65       847\n",
       "46       841\n",
       "62       827\n",
       "43       824\n",
       "47       809\n",
       "61       800\n",
       "127      798\n",
       "67       797\n",
       "60       797\n",
       "51       794\n",
       "38       770\n",
       "53       770\n",
       "        ... \n",
       "2077       3\n",
       "1750       3\n",
       "1988       3\n",
       "1732       3\n",
       "1648       3\n",
       "1880       3\n",
       "1522       3\n",
       "3186       3\n",
       "2480       2\n",
       "591        2\n",
       "1432       2\n",
       "1555       2\n",
       "1687       2\n",
       "1413       2\n",
       "1925       2\n",
       "587        2\n",
       "2481       2\n",
       "2214       2\n",
       "2529       2\n",
       "3064       2\n",
       "1882       2\n",
       "839        2\n",
       "1799       2\n",
       "2053       1\n",
       "1472       1\n",
       "2063       1\n",
       "1232       1\n",
       "783        1\n",
       "1013       1\n",
       "1252       1\n",
       "Name: FAC_HOG, Length: 1509, dtype: int64"
      ]
     },
     "execution_count": 691,
     "metadata": {},
     "output_type": "execute_result"
    }
   ],
   "source": [
    "df_copy.FAC_HOG.value_counts()"
   ]
  },
  {
   "cell_type": "code",
   "execution_count": 692,
   "metadata": {
    "collapsed": false
   },
   "outputs": [
    {
     "data": {
      "text/plain": [
       "135341"
      ]
     },
     "execution_count": 692,
     "metadata": {},
     "output_type": "execute_result"
    }
   ],
   "source": [
    "df_copy.FAC_HOG.value_counts().sum()"
   ]
  },
  {
   "cell_type": "markdown",
   "metadata": {},
   "source": [
    "# 74.a columna UPM_DIS (Unidad primaria de muestreo)\n",
    "## Unidad primaria de muestreo\n"
   ]
  },
  {
   "cell_type": "code",
   "execution_count": 693,
   "metadata": {
    "collapsed": false
   },
   "outputs": [
    {
     "data": {
      "text/plain": [
       "135341"
      ]
     },
     "execution_count": 693,
     "metadata": {},
     "output_type": "execute_result"
    }
   ],
   "source": [
    "df_copy.UPM_DIS.value_counts().sum()"
   ]
  },
  {
   "cell_type": "markdown",
   "metadata": {},
   "source": [
    "# 75.a columna EST_DIS (Estrato de diseño muestral)\n",
    "## Estrato de diseño muestral\n"
   ]
  },
  {
   "cell_type": "code",
   "execution_count": 694,
   "metadata": {
    "collapsed": false
   },
   "outputs": [
    {
     "data": {
      "text/plain": [
       "135341"
      ]
     },
     "execution_count": 694,
     "metadata": {},
     "output_type": "execute_result"
    }
   ],
   "source": [
    "df_copy.EST_DIS.value_counts().sum()"
   ]
  },
  {
   "cell_type": "markdown",
   "metadata": {},
   "source": [
    "# Una vez limpias las columnas guardamos el csv"
   ]
  },
  {
   "cell_type": "code",
   "execution_count": 695,
   "metadata": {
    "collapsed": true
   },
   "outputs": [],
   "source": [
    "df_copy.to_csv(\"tr_hogar_clean.csv\")"
   ]
  },
  {
   "cell_type": "code",
   "execution_count": null,
   "metadata": {
    "collapsed": true
   },
   "outputs": [],
   "source": []
  }
 ],
 "metadata": {
  "anaconda-cloud": {},
  "kernelspec": {
   "display_name": "Python [default]",
   "language": "python",
   "name": "python3"
  },
  "language_info": {
   "codemirror_mode": {
    "name": "ipython",
    "version": 3
   },
   "file_extension": ".py",
   "mimetype": "text/x-python",
   "name": "python",
   "nbconvert_exporter": "python",
   "pygments_lexer": "ipython3",
   "version": "3.5.2"
  }
 },
 "nbformat": 4,
 "nbformat_minor": 1
}
