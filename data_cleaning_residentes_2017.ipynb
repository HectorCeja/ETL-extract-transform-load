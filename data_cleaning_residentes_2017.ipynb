{
 "cells": [
  {
   "cell_type": "markdown",
   "metadata": {
    "collapsed": true
   },
   "source": [
    "# Limpieza a tabla residentes de 2017"
   ]
  },
  {
   "cell_type": "code",
   "execution_count": 1,
   "metadata": {},
   "outputs": [],
   "source": [
    "import pandas as pd\n",
    "import numpy as np"
   ]
  },
  {
   "cell_type": "code",
   "execution_count": 2,
   "metadata": {},
   "outputs": [
    {
     "data": {
      "text/html": [
       "<div>\n",
       "<style scoped>\n",
       "    .dataframe tbody tr th:only-of-type {\n",
       "        vertical-align: middle;\n",
       "    }\n",
       "\n",
       "    .dataframe tbody tr th {\n",
       "        vertical-align: top;\n",
       "    }\n",
       "\n",
       "    .dataframe thead th {\n",
       "        text-align: right;\n",
       "    }\n",
       "</style>\n",
       "<table border=\"1\" class=\"dataframe\">\n",
       "  <thead>\n",
       "    <tr style=\"text-align: right;\">\n",
       "      <th></th>\n",
       "      <th>UPM_DIS</th>\n",
       "      <th>VIV_SEL</th>\n",
       "      <th>HOGAR</th>\n",
       "      <th>N_REN</th>\n",
       "      <th>PARENTESCO</th>\n",
       "      <th>SEXO</th>\n",
       "      <th>EDAD</th>\n",
       "      <th>ASISESC</th>\n",
       "      <th>NIVEL</th>\n",
       "      <th>GRADO</th>\n",
       "      <th>DIA</th>\n",
       "      <th>MES</th>\n",
       "      <th>USOCOMPU</th>\n",
       "      <th>USOINTER</th>\n",
       "      <th>USOCEL</th>\n",
       "      <th>CONDACT</th>\n",
       "      <th>VERIACT</th>\n",
       "      <th>POSOCUP</th>\n",
       "      <th>EST_DIS</th>\n",
       "    </tr>\n",
       "  </thead>\n",
       "  <tbody>\n",
       "    <tr>\n",
       "      <th>0</th>\n",
       "      <td>1</td>\n",
       "      <td>1</td>\n",
       "      <td>1</td>\n",
       "      <td>1</td>\n",
       "      <td>1</td>\n",
       "      <td>1</td>\n",
       "      <td>66</td>\n",
       "      <td>2.0</td>\n",
       "      <td>2.0</td>\n",
       "      <td>6.0</td>\n",
       "      <td>NaN</td>\n",
       "      <td>NaN</td>\n",
       "      <td>2.0</td>\n",
       "      <td>2.0</td>\n",
       "      <td>2.0</td>\n",
       "      <td>1.0</td>\n",
       "      <td>NaN</td>\n",
       "      <td>3.0</td>\n",
       "      <td>3</td>\n",
       "    </tr>\n",
       "    <tr>\n",
       "      <th>1</th>\n",
       "      <td>1</td>\n",
       "      <td>1</td>\n",
       "      <td>1</td>\n",
       "      <td>2</td>\n",
       "      <td>2</td>\n",
       "      <td>2</td>\n",
       "      <td>62</td>\n",
       "      <td>2.0</td>\n",
       "      <td>2.0</td>\n",
       "      <td>6.0</td>\n",
       "      <td>NaN</td>\n",
       "      <td>NaN</td>\n",
       "      <td>2.0</td>\n",
       "      <td>2.0</td>\n",
       "      <td>2.0</td>\n",
       "      <td>6.0</td>\n",
       "      <td>4.0</td>\n",
       "      <td>NaN</td>\n",
       "      <td>3</td>\n",
       "    </tr>\n",
       "    <tr>\n",
       "      <th>2</th>\n",
       "      <td>1</td>\n",
       "      <td>1</td>\n",
       "      <td>1</td>\n",
       "      <td>3</td>\n",
       "      <td>3</td>\n",
       "      <td>1</td>\n",
       "      <td>42</td>\n",
       "      <td>2.0</td>\n",
       "      <td>3.0</td>\n",
       "      <td>3.0</td>\n",
       "      <td>NaN</td>\n",
       "      <td>NaN</td>\n",
       "      <td>1.0</td>\n",
       "      <td>1.0</td>\n",
       "      <td>1.0</td>\n",
       "      <td>1.0</td>\n",
       "      <td>NaN</td>\n",
       "      <td>1.0</td>\n",
       "      <td>3</td>\n",
       "    </tr>\n",
       "    <tr>\n",
       "      <th>3</th>\n",
       "      <td>1</td>\n",
       "      <td>1</td>\n",
       "      <td>1</td>\n",
       "      <td>4</td>\n",
       "      <td>3</td>\n",
       "      <td>1</td>\n",
       "      <td>34</td>\n",
       "      <td>2.0</td>\n",
       "      <td>7.0</td>\n",
       "      <td>3.0</td>\n",
       "      <td>NaN</td>\n",
       "      <td>NaN</td>\n",
       "      <td>1.0</td>\n",
       "      <td>1.0</td>\n",
       "      <td>1.0</td>\n",
       "      <td>1.0</td>\n",
       "      <td>NaN</td>\n",
       "      <td>1.0</td>\n",
       "      <td>3</td>\n",
       "    </tr>\n",
       "    <tr>\n",
       "      <th>4</th>\n",
       "      <td>1</td>\n",
       "      <td>2</td>\n",
       "      <td>1</td>\n",
       "      <td>1</td>\n",
       "      <td>1</td>\n",
       "      <td>1</td>\n",
       "      <td>39</td>\n",
       "      <td>2.0</td>\n",
       "      <td>8.0</td>\n",
       "      <td>3.0</td>\n",
       "      <td>NaN</td>\n",
       "      <td>NaN</td>\n",
       "      <td>2.0</td>\n",
       "      <td>2.0</td>\n",
       "      <td>1.0</td>\n",
       "      <td>1.0</td>\n",
       "      <td>NaN</td>\n",
       "      <td>3.0</td>\n",
       "      <td>3</td>\n",
       "    </tr>\n",
       "  </tbody>\n",
       "</table>\n",
       "</div>"
      ],
      "text/plain": [
       "   UPM_DIS  VIV_SEL  HOGAR  N_REN  PARENTESCO  SEXO  EDAD  ASISESC  NIVEL  \\\n",
       "0        1        1      1      1           1     1    66      2.0    2.0   \n",
       "1        1        1      1      2           2     2    62      2.0    2.0   \n",
       "2        1        1      1      3           3     1    42      2.0    3.0   \n",
       "3        1        1      1      4           3     1    34      2.0    7.0   \n",
       "4        1        2      1      1           1     1    39      2.0    8.0   \n",
       "\n",
       "   GRADO  DIA  MES  USOCOMPU  USOINTER  USOCEL  CONDACT  VERIACT  POSOCUP  \\\n",
       "0    6.0  NaN  NaN       2.0       2.0     2.0      1.0      NaN      3.0   \n",
       "1    6.0  NaN  NaN       2.0       2.0     2.0      6.0      4.0      NaN   \n",
       "2    3.0  NaN  NaN       1.0       1.0     1.0      1.0      NaN      1.0   \n",
       "3    3.0  NaN  NaN       1.0       1.0     1.0      1.0      NaN      1.0   \n",
       "4    3.0  NaN  NaN       2.0       2.0     1.0      1.0      NaN      3.0   \n",
       "\n",
       "   EST_DIS  \n",
       "0        3  \n",
       "1        3  \n",
       "2        3  \n",
       "3        3  \n",
       "4        3  "
      ]
     },
     "execution_count": 2,
     "metadata": {},
     "output_type": "execute_result"
    }
   ],
   "source": [
    "df = pd.read_csv('RESIDENTES_2017.csv', encoding='latin', low_memory=False)\n",
    "df.head()"
   ]
  },
  {
   "cell_type": "markdown",
   "metadata": {},
   "source": [
    "## filas"
   ]
  },
  {
   "cell_type": "code",
   "execution_count": 3,
   "metadata": {},
   "outputs": [
    {
     "data": {
      "text/plain": [
       "481572"
      ]
     },
     "execution_count": 3,
     "metadata": {},
     "output_type": "execute_result"
    }
   ],
   "source": [
    "df.shape[0]"
   ]
  },
  {
   "cell_type": "markdown",
   "metadata": {},
   "source": [
    "## columnas"
   ]
  },
  {
   "cell_type": "code",
   "execution_count": 4,
   "metadata": {},
   "outputs": [
    {
     "data": {
      "text/plain": [
       "19"
      ]
     },
     "execution_count": 4,
     "metadata": {},
     "output_type": "execute_result"
    }
   ],
   "source": [
    "df.shape[1]"
   ]
  },
  {
   "cell_type": "markdown",
   "metadata": {},
   "source": [
    "# UPM_DIS Unidad primaria de muestreo\n"
   ]
  },
  {
   "cell_type": "code",
   "execution_count": 5,
   "metadata": {},
   "outputs": [
    {
     "data": {
      "text/plain": [
       "1291     157\n",
       "1249     154\n",
       "1238     138\n",
       "399      137\n",
       "6738     134\n",
       "11814    133\n",
       "1287     133\n",
       "1239     131\n",
       "4061     122\n",
       "14070    120\n",
       "4119     118\n",
       "1288     116\n",
       "471      114\n",
       "4106     113\n",
       "4116     113\n",
       "15258    112\n",
       "8690     110\n",
       "4099     108\n",
       "4135     108\n",
       "18013    107\n",
       "17997    107\n",
       "4117     107\n",
       "6854     107\n",
       "6843     106\n",
       "10247    106\n",
       "19375    105\n",
       "7993     105\n",
       "451      104\n",
       "15257    104\n",
       "4113     103\n",
       "        ... \n",
       "10663      2\n",
       "16191      2\n",
       "18052      2\n",
       "17265      2\n",
       "16337      2\n",
       "14321      2\n",
       "5472       2\n",
       "13602      2\n",
       "14724      2\n",
       "13393      2\n",
       "18792      2\n",
       "17850      2\n",
       "8029       2\n",
       "18520      2\n",
       "13729      2\n",
       "7833       2\n",
       "13601      2\n",
       "16139      2\n",
       "3768       2\n",
       "14001      1\n",
       "12563      1\n",
       "18527      1\n",
       "5277       1\n",
       "883        1\n",
       "13948      1\n",
       "18491      1\n",
       "14132      1\n",
       "13984      1\n",
       "9595       1\n",
       "6944       1\n",
       "Name: UPM_DIS, Length: 19903, dtype: int64"
      ]
     },
     "execution_count": 5,
     "metadata": {},
     "output_type": "execute_result"
    }
   ],
   "source": [
    "df.UPM_DIS.value_counts()"
   ]
  },
  {
   "cell_type": "code",
   "execution_count": 6,
   "metadata": {},
   "outputs": [
    {
     "data": {
      "text/plain": [
       "False"
      ]
     },
     "execution_count": 6,
     "metadata": {},
     "output_type": "execute_result"
    }
   ],
   "source": [
    "df.isnull().UPM_DIS.any()"
   ]
  },
  {
   "cell_type": "code",
   "execution_count": 7,
   "metadata": {},
   "outputs": [
    {
     "data": {
      "text/plain": [
       "481572"
      ]
     },
     "execution_count": 7,
     "metadata": {},
     "output_type": "execute_result"
    }
   ],
   "source": [
    "df.UPM_DIS.value_counts().sum()"
   ]
  },
  {
   "cell_type": "markdown",
   "metadata": {},
   "source": [
    "# VIV_SEL Vivienda seleccionada \n"
   ]
  },
  {
   "cell_type": "code",
   "execution_count": 8,
   "metadata": {},
   "outputs": [
    {
     "data": {
      "text/plain": [
       "2     62386\n",
       "1     62278\n",
       "3     61927\n",
       "4     61858\n",
       "5     61524\n",
       "7     18742\n",
       "9     18741\n",
       "8     18600\n",
       "6     18576\n",
       "10    18534\n",
       "11     7929\n",
       "15     7801\n",
       "18     7763\n",
       "14     7762\n",
       "16     7759\n",
       "19     7707\n",
       "13     7675\n",
       "12     7633\n",
       "17     7582\n",
       "20     7032\n",
       "21      825\n",
       "22      246\n",
       "31       51\n",
       "30       47\n",
       "28       46\n",
       "34       46\n",
       "25       44\n",
       "40       43\n",
       "27       41\n",
       "26       40\n",
       "32       39\n",
       "37       39\n",
       "33       36\n",
       "29       33\n",
       "24       33\n",
       "35       33\n",
       "38       33\n",
       "23       31\n",
       "36       29\n",
       "39       28\n",
       "Name: VIV_SEL, dtype: int64"
      ]
     },
     "execution_count": 8,
     "metadata": {},
     "output_type": "execute_result"
    }
   ],
   "source": [
    "df.VIV_SEL.value_counts()"
   ]
  },
  {
   "cell_type": "code",
   "execution_count": 11,
   "metadata": {},
   "outputs": [
    {
     "data": {
      "text/plain": [
       "array([ 1,  2,  3,  4,  5,  6,  7,  8,  9, 10, 11, 12, 13, 14, 15, 16, 17,\n",
       "       18, 19, 20, 21, 22, 23, 24, 25, 26, 27, 28, 29, 30, 31, 32, 33, 34,\n",
       "       35, 36, 37, 38, 39, 40])"
      ]
     },
     "execution_count": 11,
     "metadata": {},
     "output_type": "execute_result"
    }
   ],
   "source": [
    "np.unique(df.VIV_SEL)"
   ]
  },
  {
   "cell_type": "code",
   "execution_count": 12,
   "metadata": {},
   "outputs": [
    {
     "data": {
      "text/plain": [
       "False"
      ]
     },
     "execution_count": 12,
     "metadata": {},
     "output_type": "execute_result"
    }
   ],
   "source": [
    "df.isnull().VIV_SEL.any()"
   ]
  },
  {
   "cell_type": "code",
   "execution_count": 13,
   "metadata": {},
   "outputs": [
    {
     "data": {
      "text/plain": [
       "481572"
      ]
     },
     "execution_count": 13,
     "metadata": {},
     "output_type": "execute_result"
    }
   ],
   "source": [
    "df.VIV_SEL.value_counts().sum()"
   ]
  },
  {
   "cell_type": "code",
   "execution_count": 14,
   "metadata": {},
   "outputs": [
    {
     "data": {
      "text/html": [
       "<div>\n",
       "<style scoped>\n",
       "    .dataframe tbody tr th:only-of-type {\n",
       "        vertical-align: middle;\n",
       "    }\n",
       "\n",
       "    .dataframe tbody tr th {\n",
       "        vertical-align: top;\n",
       "    }\n",
       "\n",
       "    .dataframe thead th {\n",
       "        text-align: right;\n",
       "    }\n",
       "</style>\n",
       "<table border=\"1\" class=\"dataframe\">\n",
       "  <thead>\n",
       "    <tr style=\"text-align: right;\">\n",
       "      <th></th>\n",
       "      <th>UPM_DIS</th>\n",
       "      <th>VIV_SEL</th>\n",
       "      <th>HOGAR</th>\n",
       "      <th>N_REN</th>\n",
       "      <th>PARENTESCO</th>\n",
       "      <th>SEXO</th>\n",
       "      <th>EDAD</th>\n",
       "      <th>ASISESC</th>\n",
       "      <th>NIVEL</th>\n",
       "      <th>GRADO</th>\n",
       "      <th>DIA</th>\n",
       "      <th>MES</th>\n",
       "      <th>USOCOMPU</th>\n",
       "      <th>USOINTER</th>\n",
       "      <th>USOCEL</th>\n",
       "      <th>CONDACT</th>\n",
       "      <th>VERIACT</th>\n",
       "      <th>POSOCUP</th>\n",
       "      <th>EST_DIS</th>\n",
       "    </tr>\n",
       "  </thead>\n",
       "  <tbody>\n",
       "    <tr>\n",
       "      <th>0</th>\n",
       "      <td>1</td>\n",
       "      <td>1</td>\n",
       "      <td>1</td>\n",
       "      <td>1</td>\n",
       "      <td>1</td>\n",
       "      <td>1</td>\n",
       "      <td>66</td>\n",
       "      <td>2.0</td>\n",
       "      <td>2.0</td>\n",
       "      <td>6.0</td>\n",
       "      <td>NaN</td>\n",
       "      <td>NaN</td>\n",
       "      <td>2.0</td>\n",
       "      <td>2.0</td>\n",
       "      <td>2.0</td>\n",
       "      <td>1.0</td>\n",
       "      <td>NaN</td>\n",
       "      <td>3.0</td>\n",
       "      <td>3</td>\n",
       "    </tr>\n",
       "    <tr>\n",
       "      <th>1</th>\n",
       "      <td>1</td>\n",
       "      <td>1</td>\n",
       "      <td>1</td>\n",
       "      <td>2</td>\n",
       "      <td>2</td>\n",
       "      <td>2</td>\n",
       "      <td>62</td>\n",
       "      <td>2.0</td>\n",
       "      <td>2.0</td>\n",
       "      <td>6.0</td>\n",
       "      <td>NaN</td>\n",
       "      <td>NaN</td>\n",
       "      <td>2.0</td>\n",
       "      <td>2.0</td>\n",
       "      <td>2.0</td>\n",
       "      <td>6.0</td>\n",
       "      <td>4.0</td>\n",
       "      <td>NaN</td>\n",
       "      <td>3</td>\n",
       "    </tr>\n",
       "    <tr>\n",
       "      <th>2</th>\n",
       "      <td>1</td>\n",
       "      <td>1</td>\n",
       "      <td>1</td>\n",
       "      <td>3</td>\n",
       "      <td>3</td>\n",
       "      <td>1</td>\n",
       "      <td>42</td>\n",
       "      <td>2.0</td>\n",
       "      <td>3.0</td>\n",
       "      <td>3.0</td>\n",
       "      <td>NaN</td>\n",
       "      <td>NaN</td>\n",
       "      <td>1.0</td>\n",
       "      <td>1.0</td>\n",
       "      <td>1.0</td>\n",
       "      <td>1.0</td>\n",
       "      <td>NaN</td>\n",
       "      <td>1.0</td>\n",
       "      <td>3</td>\n",
       "    </tr>\n",
       "    <tr>\n",
       "      <th>3</th>\n",
       "      <td>1</td>\n",
       "      <td>1</td>\n",
       "      <td>1</td>\n",
       "      <td>4</td>\n",
       "      <td>3</td>\n",
       "      <td>1</td>\n",
       "      <td>34</td>\n",
       "      <td>2.0</td>\n",
       "      <td>7.0</td>\n",
       "      <td>3.0</td>\n",
       "      <td>NaN</td>\n",
       "      <td>NaN</td>\n",
       "      <td>1.0</td>\n",
       "      <td>1.0</td>\n",
       "      <td>1.0</td>\n",
       "      <td>1.0</td>\n",
       "      <td>NaN</td>\n",
       "      <td>1.0</td>\n",
       "      <td>3</td>\n",
       "    </tr>\n",
       "    <tr>\n",
       "      <th>4</th>\n",
       "      <td>1</td>\n",
       "      <td>2</td>\n",
       "      <td>1</td>\n",
       "      <td>1</td>\n",
       "      <td>1</td>\n",
       "      <td>1</td>\n",
       "      <td>39</td>\n",
       "      <td>2.0</td>\n",
       "      <td>8.0</td>\n",
       "      <td>3.0</td>\n",
       "      <td>NaN</td>\n",
       "      <td>NaN</td>\n",
       "      <td>2.0</td>\n",
       "      <td>2.0</td>\n",
       "      <td>1.0</td>\n",
       "      <td>1.0</td>\n",
       "      <td>NaN</td>\n",
       "      <td>3.0</td>\n",
       "      <td>3</td>\n",
       "    </tr>\n",
       "  </tbody>\n",
       "</table>\n",
       "</div>"
      ],
      "text/plain": [
       "   UPM_DIS  VIV_SEL  HOGAR  N_REN  PARENTESCO  SEXO  EDAD  ASISESC  NIVEL  \\\n",
       "0        1        1      1      1           1     1    66      2.0    2.0   \n",
       "1        1        1      1      2           2     2    62      2.0    2.0   \n",
       "2        1        1      1      3           3     1    42      2.0    3.0   \n",
       "3        1        1      1      4           3     1    34      2.0    7.0   \n",
       "4        1        2      1      1           1     1    39      2.0    8.0   \n",
       "\n",
       "   GRADO  DIA  MES  USOCOMPU  USOINTER  USOCEL  CONDACT  VERIACT  POSOCUP  \\\n",
       "0    6.0  NaN  NaN       2.0       2.0     2.0      1.0      NaN      3.0   \n",
       "1    6.0  NaN  NaN       2.0       2.0     2.0      6.0      4.0      NaN   \n",
       "2    3.0  NaN  NaN       1.0       1.0     1.0      1.0      NaN      1.0   \n",
       "3    3.0  NaN  NaN       1.0       1.0     1.0      1.0      NaN      1.0   \n",
       "4    3.0  NaN  NaN       2.0       2.0     1.0      1.0      NaN      3.0   \n",
       "\n",
       "   EST_DIS  \n",
       "0        3  \n",
       "1        3  \n",
       "2        3  \n",
       "3        3  \n",
       "4        3  "
      ]
     },
     "execution_count": 14,
     "metadata": {},
     "output_type": "execute_result"
    }
   ],
   "source": [
    "df.head()"
   ]
  },
  {
   "cell_type": "markdown",
   "metadata": {},
   "source": [
    "# HOGAR\n",
    "## [1-6]"
   ]
  },
  {
   "cell_type": "code",
   "execution_count": 15,
   "metadata": {},
   "outputs": [
    {
     "data": {
      "text/plain": [
       "1    472835\n",
       "2      7544\n",
       "3       994\n",
       "4       168\n",
       "5        31\n",
       "Name: HOGAR, dtype: int64"
      ]
     },
     "execution_count": 15,
     "metadata": {},
     "output_type": "execute_result"
    }
   ],
   "source": [
    "df.HOGAR.value_counts()"
   ]
  },
  {
   "cell_type": "code",
   "execution_count": 16,
   "metadata": {},
   "outputs": [
    {
     "data": {
      "text/plain": [
       "False"
      ]
     },
     "execution_count": 16,
     "metadata": {},
     "output_type": "execute_result"
    }
   ],
   "source": [
    "df.isnull().HOGAR.any()"
   ]
  },
  {
   "cell_type": "code",
   "execution_count": 17,
   "metadata": {
    "scrolled": true
   },
   "outputs": [
    {
     "data": {
      "text/plain": [
       "481572"
      ]
     },
     "execution_count": 17,
     "metadata": {},
     "output_type": "execute_result"
    }
   ],
   "source": [
    "df.HOGAR.value_counts().sum()"
   ]
  },
  {
   "cell_type": "markdown",
   "metadata": {},
   "source": [
    "# N_REN\n",
    "## [01-30]"
   ]
  },
  {
   "cell_type": "code",
   "execution_count": 18,
   "metadata": {},
   "outputs": [
    {
     "data": {
      "text/plain": [
       "1     134358\n",
       "2     118530\n",
       "3      94046\n",
       "4      67184\n",
       "5      36477\n",
       "6      16479\n",
       "7       7538\n",
       "8       3548\n",
       "9       1675\n",
       "10       886\n",
       "11       380\n",
       "12       215\n",
       "13       110\n",
       "14        59\n",
       "15        37\n",
       "16        24\n",
       "17        10\n",
       "18         4\n",
       "29         1\n",
       "19         1\n",
       "20         1\n",
       "21         1\n",
       "22         1\n",
       "23         1\n",
       "24         1\n",
       "25         1\n",
       "26         1\n",
       "27         1\n",
       "28         1\n",
       "30         1\n",
       "Name: N_REN, dtype: int64"
      ]
     },
     "execution_count": 18,
     "metadata": {},
     "output_type": "execute_result"
    }
   ],
   "source": [
    "df.N_REN.value_counts()"
   ]
  },
  {
   "cell_type": "code",
   "execution_count": 19,
   "metadata": {},
   "outputs": [
    {
     "data": {
      "text/plain": [
       "False"
      ]
     },
     "execution_count": 19,
     "metadata": {},
     "output_type": "execute_result"
    }
   ],
   "source": [
    "df.isnull().N_REN.any()"
   ]
  },
  {
   "cell_type": "code",
   "execution_count": 20,
   "metadata": {},
   "outputs": [
    {
     "data": {
      "text/plain": [
       "481572"
      ]
     },
     "execution_count": 20,
     "metadata": {},
     "output_type": "execute_result"
    }
   ],
   "source": [
    "df.N_REN.value_counts().sum()"
   ]
  },
  {
   "cell_type": "markdown",
   "metadata": {},
   "source": [
    "# PARENTESCO\n",
    "### 1 Jefe(a)\n",
    "### 2 Esposo(a) o compañero(a)\n",
    "### 3 Hijo(a)\n",
    "### 4 Nieto(a)\n",
    "### 5 Otro parentesco\n",
    "### 6 Sin parentesco\n"
   ]
  },
  {
   "cell_type": "code",
   "execution_count": 21,
   "metadata": {},
   "outputs": [
    {
     "data": {
      "text/plain": [
       "3    191069\n",
       "1    134795\n",
       "2     88032\n",
       "4     32404\n",
       "5     30505\n",
       "6      4767\n",
       "Name: PARENTESCO, dtype: int64"
      ]
     },
     "execution_count": 21,
     "metadata": {},
     "output_type": "execute_result"
    }
   ],
   "source": [
    "df.PARENTESCO.value_counts()"
   ]
  },
  {
   "cell_type": "code",
   "execution_count": 22,
   "metadata": {},
   "outputs": [
    {
     "data": {
      "text/plain": [
       "False"
      ]
     },
     "execution_count": 22,
     "metadata": {},
     "output_type": "execute_result"
    }
   ],
   "source": [
    "df.isnull().PARENTESCO.any()"
   ]
  },
  {
   "cell_type": "code",
   "execution_count": 23,
   "metadata": {},
   "outputs": [
    {
     "data": {
      "text/plain": [
       "481572"
      ]
     },
     "execution_count": 23,
     "metadata": {},
     "output_type": "execute_result"
    }
   ],
   "source": [
    "df.PARENTESCO.value_counts().sum()"
   ]
  },
  {
   "cell_type": "markdown",
   "metadata": {},
   "source": [
    "# SEXO\n",
    "### 1 Hombre, 2 Mujer\n"
   ]
  },
  {
   "cell_type": "code",
   "execution_count": 24,
   "metadata": {},
   "outputs": [
    {
     "data": {
      "text/plain": [
       "2    247647\n",
       "1    233925\n",
       "Name: SEXO, dtype: int64"
      ]
     },
     "execution_count": 24,
     "metadata": {},
     "output_type": "execute_result"
    }
   ],
   "source": [
    "df.SEXO.value_counts()"
   ]
  },
  {
   "cell_type": "code",
   "execution_count": 25,
   "metadata": {},
   "outputs": [
    {
     "data": {
      "text/plain": [
       "False"
      ]
     },
     "execution_count": 25,
     "metadata": {},
     "output_type": "execute_result"
    }
   ],
   "source": [
    "df.isnull().SEXO.any()"
   ]
  },
  {
   "cell_type": "code",
   "execution_count": 26,
   "metadata": {},
   "outputs": [
    {
     "data": {
      "text/plain": [
       "481572"
      ]
     },
     "execution_count": 26,
     "metadata": {},
     "output_type": "execute_result"
    }
   ],
   "source": [
    "df.SEXO.value_counts().sum()"
   ]
  },
  {
   "cell_type": "code",
   "execution_count": 27,
   "metadata": {},
   "outputs": [
    {
     "data": {
      "text/html": [
       "<div>\n",
       "<style scoped>\n",
       "    .dataframe tbody tr th:only-of-type {\n",
       "        vertical-align: middle;\n",
       "    }\n",
       "\n",
       "    .dataframe tbody tr th {\n",
       "        vertical-align: top;\n",
       "    }\n",
       "\n",
       "    .dataframe thead th {\n",
       "        text-align: right;\n",
       "    }\n",
       "</style>\n",
       "<table border=\"1\" class=\"dataframe\">\n",
       "  <thead>\n",
       "    <tr style=\"text-align: right;\">\n",
       "      <th></th>\n",
       "      <th>UPM_DIS</th>\n",
       "      <th>VIV_SEL</th>\n",
       "      <th>HOGAR</th>\n",
       "      <th>N_REN</th>\n",
       "      <th>PARENTESCO</th>\n",
       "      <th>SEXO</th>\n",
       "      <th>EDAD</th>\n",
       "      <th>ASISESC</th>\n",
       "      <th>NIVEL</th>\n",
       "      <th>GRADO</th>\n",
       "      <th>DIA</th>\n",
       "      <th>MES</th>\n",
       "      <th>USOCOMPU</th>\n",
       "      <th>USOINTER</th>\n",
       "      <th>USOCEL</th>\n",
       "      <th>CONDACT</th>\n",
       "      <th>VERIACT</th>\n",
       "      <th>POSOCUP</th>\n",
       "      <th>EST_DIS</th>\n",
       "    </tr>\n",
       "  </thead>\n",
       "  <tbody>\n",
       "    <tr>\n",
       "      <th>0</th>\n",
       "      <td>1</td>\n",
       "      <td>1</td>\n",
       "      <td>1</td>\n",
       "      <td>1</td>\n",
       "      <td>1</td>\n",
       "      <td>1</td>\n",
       "      <td>66</td>\n",
       "      <td>2.0</td>\n",
       "      <td>2.0</td>\n",
       "      <td>6.0</td>\n",
       "      <td>NaN</td>\n",
       "      <td>NaN</td>\n",
       "      <td>2.0</td>\n",
       "      <td>2.0</td>\n",
       "      <td>2.0</td>\n",
       "      <td>1.0</td>\n",
       "      <td>NaN</td>\n",
       "      <td>3.0</td>\n",
       "      <td>3</td>\n",
       "    </tr>\n",
       "    <tr>\n",
       "      <th>1</th>\n",
       "      <td>1</td>\n",
       "      <td>1</td>\n",
       "      <td>1</td>\n",
       "      <td>2</td>\n",
       "      <td>2</td>\n",
       "      <td>2</td>\n",
       "      <td>62</td>\n",
       "      <td>2.0</td>\n",
       "      <td>2.0</td>\n",
       "      <td>6.0</td>\n",
       "      <td>NaN</td>\n",
       "      <td>NaN</td>\n",
       "      <td>2.0</td>\n",
       "      <td>2.0</td>\n",
       "      <td>2.0</td>\n",
       "      <td>6.0</td>\n",
       "      <td>4.0</td>\n",
       "      <td>NaN</td>\n",
       "      <td>3</td>\n",
       "    </tr>\n",
       "  </tbody>\n",
       "</table>\n",
       "</div>"
      ],
      "text/plain": [
       "   UPM_DIS  VIV_SEL  HOGAR  N_REN  PARENTESCO  SEXO  EDAD  ASISESC  NIVEL  \\\n",
       "0        1        1      1      1           1     1    66      2.0    2.0   \n",
       "1        1        1      1      2           2     2    62      2.0    2.0   \n",
       "\n",
       "   GRADO  DIA  MES  USOCOMPU  USOINTER  USOCEL  CONDACT  VERIACT  POSOCUP  \\\n",
       "0    6.0  NaN  NaN       2.0       2.0     2.0      1.0      NaN      3.0   \n",
       "1    6.0  NaN  NaN       2.0       2.0     2.0      6.0      4.0      NaN   \n",
       "\n",
       "   EST_DIS  \n",
       "0        3  \n",
       "1        3  "
      ]
     },
     "execution_count": 27,
     "metadata": {},
     "output_type": "execute_result"
    }
   ],
   "source": [
    "df.head(2)"
   ]
  },
  {
   "cell_type": "markdown",
   "metadata": {},
   "source": [
    "# EDAD\n",
    "### 0 Menos de un año\n",
    "### 1-96 Años cumplidos \n",
    "### 97  97 o más años\n",
    "### 99 No sabe\n"
   ]
  },
  {
   "cell_type": "code",
   "execution_count": 28,
   "metadata": {},
   "outputs": [
    {
     "data": {
      "text/plain": [
       "17    9540\n",
       "18    9199\n",
       "15    9170\n",
       "12    9135\n",
       "16    9068\n",
       "8     8872\n",
       "14    8784\n",
       "22    8781\n",
       "13    8716\n",
       "10    8712\n",
       "20    8692\n",
       "9     8512\n",
       "40    8500\n",
       "23    8400\n",
       "5     8385\n",
       "7     8380\n",
       "11    8350\n",
       "25    8241\n",
       "4     8216\n",
       "24    8189\n",
       "6     8153\n",
       "30    8108\n",
       "19    7990\n",
       "21    7940\n",
       "3     7875\n",
       "42    7740\n",
       "2     7564\n",
       "28    7492\n",
       "32    7416\n",
       "38    7395\n",
       "      ... \n",
       "66    2624\n",
       "68    2363\n",
       "72    2031\n",
       "69    1876\n",
       "73    1815\n",
       "74    1696\n",
       "75    1666\n",
       "71    1434\n",
       "76    1428\n",
       "77    1245\n",
       "78    1244\n",
       "80    1205\n",
       "79     875\n",
       "82     835\n",
       "83     733\n",
       "84     688\n",
       "81     648\n",
       "85     600\n",
       "86     527\n",
       "87     479\n",
       "88     335\n",
       "90     300\n",
       "89     298\n",
       "97     187\n",
       "92     153\n",
       "91     146\n",
       "93     132\n",
       "94     124\n",
       "95      89\n",
       "96      86\n",
       "Name: EDAD, Length: 98, dtype: int64"
      ]
     },
     "execution_count": 28,
     "metadata": {},
     "output_type": "execute_result"
    }
   ],
   "source": [
    "df.EDAD.value_counts()"
   ]
  },
  {
   "cell_type": "code",
   "execution_count": 29,
   "metadata": {},
   "outputs": [
    {
     "data": {
      "text/plain": [
       "array([66, 62, 42, 34, 39, 28,  2,  4, 75, 72, 21, 22, 24, 20, 86, 81, 41,\n",
       "       45, 43, 23, 50, 69, 67, 37, 31, 54, 58, 26, 78, 76, 52, 40, 49, 14,\n",
       "       44, 18, 27, 53, 17, 15, 13, 46, 48, 19, 11, 33,  9,  8,  1, 38, 16,\n",
       "       70, 87, 10,  5, 84, 47,  6, 73, 30, 55, 85, 36, 35, 56, 61, 60, 74,\n",
       "       68, 29, 57, 65,  3,  7, 25, 64, 32, 80, 51, 92, 59, 71, 91, 88, 63,\n",
       "       93, 83, 79, 82, 12,  0, 77, 89, 95, 97, 90, 96, 94])"
      ]
     },
     "execution_count": 29,
     "metadata": {},
     "output_type": "execute_result"
    }
   ],
   "source": [
    "pd.unique(df.EDAD)"
   ]
  },
  {
   "cell_type": "code",
   "execution_count": 30,
   "metadata": {},
   "outputs": [
    {
     "data": {
      "text/plain": [
       "False"
      ]
     },
     "execution_count": 30,
     "metadata": {},
     "output_type": "execute_result"
    }
   ],
   "source": [
    "df.isnull().EDAD.any()"
   ]
  },
  {
   "cell_type": "code",
   "execution_count": 31,
   "metadata": {},
   "outputs": [
    {
     "data": {
      "text/plain": [
       "481572"
      ]
     },
     "execution_count": 31,
     "metadata": {},
     "output_type": "execute_result"
    }
   ],
   "source": [
    "df.EDAD.value_counts().sum()"
   ]
  },
  {
   "cell_type": "markdown",
   "metadata": {},
   "source": [
    "# ASISESC asiste actualmente a la escuela?\n",
    "### 1 Si, 2 No, 99 blanco\n",
    "\n"
   ]
  },
  {
   "cell_type": "code",
   "execution_count": 32,
   "metadata": {},
   "outputs": [
    {
     "data": {
      "text/plain": [
       "2.0    311253\n",
       "1.0    125139\n",
       "Name: ASISESC, dtype: int64"
      ]
     },
     "execution_count": 32,
     "metadata": {},
     "output_type": "execute_result"
    }
   ],
   "source": [
    "df.ASISESC.value_counts()"
   ]
  },
  {
   "cell_type": "code",
   "execution_count": 33,
   "metadata": {},
   "outputs": [
    {
     "data": {
      "text/plain": [
       "True"
      ]
     },
     "execution_count": 33,
     "metadata": {},
     "output_type": "execute_result"
    }
   ],
   "source": [
    "df.isnull().ASISESC.any()"
   ]
  },
  {
   "cell_type": "markdown",
   "metadata": {},
   "source": [
    "### remplazamos valores nulos por 99"
   ]
  },
  {
   "cell_type": "code",
   "execution_count": 34,
   "metadata": {},
   "outputs": [],
   "source": [
    "df.ASISESC = df.ASISESC.astype('str')\n",
    "df.ASISESC.replace({'nan':'99'}, inplace=True)"
   ]
  },
  {
   "cell_type": "markdown",
   "metadata": {},
   "source": [
    "### cambiamos el tipo de dato a int"
   ]
  },
  {
   "cell_type": "code",
   "execution_count": 35,
   "metadata": {},
   "outputs": [],
   "source": [
    "df.ASISESC = df.ASISESC.astype('float').astype('int64')"
   ]
  },
  {
   "cell_type": "code",
   "execution_count": 36,
   "metadata": {},
   "outputs": [
    {
     "data": {
      "text/plain": [
       "2     311253\n",
       "1     125139\n",
       "99     45180\n",
       "Name: ASISESC, dtype: int64"
      ]
     },
     "execution_count": 36,
     "metadata": {},
     "output_type": "execute_result"
    }
   ],
   "source": [
    "df.ASISESC.value_counts()"
   ]
  },
  {
   "cell_type": "code",
   "execution_count": 37,
   "metadata": {},
   "outputs": [
    {
     "data": {
      "text/plain": [
       "481572"
      ]
     },
     "execution_count": 37,
     "metadata": {},
     "output_type": "execute_result"
    }
   ],
   "source": [
    "df.ASISESC.value_counts().sum()"
   ]
  },
  {
   "cell_type": "code",
   "execution_count": 38,
   "metadata": {},
   "outputs": [
    {
     "data": {
      "text/html": [
       "<div>\n",
       "<style scoped>\n",
       "    .dataframe tbody tr th:only-of-type {\n",
       "        vertical-align: middle;\n",
       "    }\n",
       "\n",
       "    .dataframe tbody tr th {\n",
       "        vertical-align: top;\n",
       "    }\n",
       "\n",
       "    .dataframe thead th {\n",
       "        text-align: right;\n",
       "    }\n",
       "</style>\n",
       "<table border=\"1\" class=\"dataframe\">\n",
       "  <thead>\n",
       "    <tr style=\"text-align: right;\">\n",
       "      <th></th>\n",
       "      <th>UPM_DIS</th>\n",
       "      <th>VIV_SEL</th>\n",
       "      <th>HOGAR</th>\n",
       "      <th>N_REN</th>\n",
       "      <th>PARENTESCO</th>\n",
       "      <th>SEXO</th>\n",
       "      <th>EDAD</th>\n",
       "      <th>ASISESC</th>\n",
       "      <th>NIVEL</th>\n",
       "      <th>GRADO</th>\n",
       "      <th>DIA</th>\n",
       "      <th>MES</th>\n",
       "      <th>USOCOMPU</th>\n",
       "      <th>USOINTER</th>\n",
       "      <th>USOCEL</th>\n",
       "      <th>CONDACT</th>\n",
       "      <th>VERIACT</th>\n",
       "      <th>POSOCUP</th>\n",
       "      <th>EST_DIS</th>\n",
       "    </tr>\n",
       "  </thead>\n",
       "  <tbody>\n",
       "    <tr>\n",
       "      <th>0</th>\n",
       "      <td>1</td>\n",
       "      <td>1</td>\n",
       "      <td>1</td>\n",
       "      <td>1</td>\n",
       "      <td>1</td>\n",
       "      <td>1</td>\n",
       "      <td>66</td>\n",
       "      <td>2</td>\n",
       "      <td>2.0</td>\n",
       "      <td>6.0</td>\n",
       "      <td>NaN</td>\n",
       "      <td>NaN</td>\n",
       "      <td>2.0</td>\n",
       "      <td>2.0</td>\n",
       "      <td>2.0</td>\n",
       "      <td>1.0</td>\n",
       "      <td>NaN</td>\n",
       "      <td>3.0</td>\n",
       "      <td>3</td>\n",
       "    </tr>\n",
       "    <tr>\n",
       "      <th>1</th>\n",
       "      <td>1</td>\n",
       "      <td>1</td>\n",
       "      <td>1</td>\n",
       "      <td>2</td>\n",
       "      <td>2</td>\n",
       "      <td>2</td>\n",
       "      <td>62</td>\n",
       "      <td>2</td>\n",
       "      <td>2.0</td>\n",
       "      <td>6.0</td>\n",
       "      <td>NaN</td>\n",
       "      <td>NaN</td>\n",
       "      <td>2.0</td>\n",
       "      <td>2.0</td>\n",
       "      <td>2.0</td>\n",
       "      <td>6.0</td>\n",
       "      <td>4.0</td>\n",
       "      <td>NaN</td>\n",
       "      <td>3</td>\n",
       "    </tr>\n",
       "    <tr>\n",
       "      <th>2</th>\n",
       "      <td>1</td>\n",
       "      <td>1</td>\n",
       "      <td>1</td>\n",
       "      <td>3</td>\n",
       "      <td>3</td>\n",
       "      <td>1</td>\n",
       "      <td>42</td>\n",
       "      <td>2</td>\n",
       "      <td>3.0</td>\n",
       "      <td>3.0</td>\n",
       "      <td>NaN</td>\n",
       "      <td>NaN</td>\n",
       "      <td>1.0</td>\n",
       "      <td>1.0</td>\n",
       "      <td>1.0</td>\n",
       "      <td>1.0</td>\n",
       "      <td>NaN</td>\n",
       "      <td>1.0</td>\n",
       "      <td>3</td>\n",
       "    </tr>\n",
       "  </tbody>\n",
       "</table>\n",
       "</div>"
      ],
      "text/plain": [
       "   UPM_DIS  VIV_SEL  HOGAR  N_REN  PARENTESCO  SEXO  EDAD  ASISESC  NIVEL  \\\n",
       "0        1        1      1      1           1     1    66        2    2.0   \n",
       "1        1        1      1      2           2     2    62        2    2.0   \n",
       "2        1        1      1      3           3     1    42        2    3.0   \n",
       "\n",
       "   GRADO  DIA  MES  USOCOMPU  USOINTER  USOCEL  CONDACT  VERIACT  POSOCUP  \\\n",
       "0    6.0  NaN  NaN       2.0       2.0     2.0      1.0      NaN      3.0   \n",
       "1    6.0  NaN  NaN       2.0       2.0     2.0      6.0      4.0      NaN   \n",
       "2    3.0  NaN  NaN       1.0       1.0     1.0      1.0      NaN      1.0   \n",
       "\n",
       "   EST_DIS  \n",
       "0        3  \n",
       "1        3  \n",
       "2        3  "
      ]
     },
     "execution_count": 38,
     "metadata": {},
     "output_type": "execute_result"
    }
   ],
   "source": [
    "df.head(3)"
   ]
  },
  {
   "cell_type": "markdown",
   "metadata": {},
   "source": [
    "# NIVEL  ¿Hasta qué año o grado aprobó en la escuela? \n",
    "#### 0 Ninguno\n",
    "#### 1 Preescolar o kínder\n",
    "#### 2 Primaria\n",
    "#### 3 Secundaria\n",
    "#### 4 Preparatoria o bachillerato\n",
    "#### 5 Normal básica\n",
    "#### 6 Maestría y doctorado\n",
    "#### 7 Otro (Licenciatura ,ingeniería  Especialidad, studio técnico terminal con secundaria)\n",
    "#### 99 blanco\n",
    "\n"
   ]
  },
  {
   "cell_type": "code",
   "execution_count": 39,
   "metadata": {},
   "outputs": [
    {
     "data": {
      "text/plain": [
       "2.0     132196\n",
       "3.0     115298\n",
       "6.0      71808\n",
       "8.0      64995\n",
       "0.0      16535\n",
       "1.0      10704\n",
       "7.0       8690\n",
       "5.0       7047\n",
       "10.0      4312\n",
       "99.0      1586\n",
       "9.0       1424\n",
       "4.0       1019\n",
       "11.0       778\n",
       "Name: NIVEL, dtype: int64"
      ]
     },
     "execution_count": 39,
     "metadata": {},
     "output_type": "execute_result"
    }
   ],
   "source": [
    "df.NIVEL.value_counts()"
   ]
  },
  {
   "cell_type": "code",
   "execution_count": 40,
   "metadata": {},
   "outputs": [
    {
     "data": {
      "text/plain": [
       "True"
      ]
     },
     "execution_count": 40,
     "metadata": {},
     "output_type": "execute_result"
    }
   ],
   "source": [
    "df.isnull().NIVEL.any()"
   ]
  },
  {
   "cell_type": "code",
   "execution_count": 41,
   "metadata": {},
   "outputs": [],
   "source": [
    "df.NIVEL = df.NIVEL.astype('str')\n",
    "df.NIVEL.replace({'nan':'99'}, inplace=True)"
   ]
  },
  {
   "cell_type": "code",
   "execution_count": 42,
   "metadata": {},
   "outputs": [],
   "source": [
    "df.NIVEL = df.NIVEL.astype('float').astype('int64')"
   ]
  },
  {
   "cell_type": "code",
   "execution_count": 43,
   "metadata": {},
   "outputs": [
    {
     "data": {
      "text/plain": [
       "2     132196\n",
       "3     115298\n",
       "6      71808\n",
       "8      64995\n",
       "99     46766\n",
       "0      16535\n",
       "1      10704\n",
       "7       8690\n",
       "5       7047\n",
       "10      4312\n",
       "9       1424\n",
       "4       1019\n",
       "11       778\n",
       "Name: NIVEL, dtype: int64"
      ]
     },
     "execution_count": 43,
     "metadata": {},
     "output_type": "execute_result"
    }
   ],
   "source": [
    "df.NIVEL.value_counts()"
   ]
  },
  {
   "cell_type": "markdown",
   "metadata": {},
   "source": [
    "#### 5 --> 7 Otros( Estudio técnico terminal con secundaria)\n",
    "#### 4 --> 5 Normal básica\n",
    "#### 6 -->  4 Preparatoria o bachillerato\n",
    "#### 8 --> 7 Otros (Licenciatura oingeniería)\n",
    "#### 9 --> 7 Otros (Especialidad)\n",
    "#### 10 --> 6 Maestría y Doctorado\n",
    "#### 11 --> 6 Maestría y Doctorado\n"
   ]
  },
  {
   "cell_type": "code",
   "execution_count": 45,
   "metadata": {
    "scrolled": false
   },
   "outputs": [],
   "source": [
    "df.NIVEL = df.NIVEL.astype('str')\n",
    "df.NIVEL.replace({'5':'7'}, inplace=True)"
   ]
  },
  {
   "cell_type": "code",
   "execution_count": 47,
   "metadata": {},
   "outputs": [],
   "source": [
    "df.NIVEL.replace({'4':'5'}, inplace=True)"
   ]
  },
  {
   "cell_type": "code",
   "execution_count": 49,
   "metadata": {},
   "outputs": [],
   "source": [
    "df.NIVEL.replace({'6':'4'}, inplace=True)"
   ]
  },
  {
   "cell_type": "code",
   "execution_count": 53,
   "metadata": {},
   "outputs": [],
   "source": [
    "df.NIVEL.replace({'8':'7'}, inplace=True)\n",
    "df.NIVEL.replace({'9':'7'}, inplace=True)"
   ]
  },
  {
   "cell_type": "code",
   "execution_count": 57,
   "metadata": {},
   "outputs": [],
   "source": [
    "df.NIVEL.replace({'10':'6'}, inplace=True)\n",
    "df.NIVEL.replace({'11':'6'}, inplace=True)"
   ]
  },
  {
   "cell_type": "code",
   "execution_count": 59,
   "metadata": {},
   "outputs": [],
   "source": [
    "df.NIVEL = df.NIVEL.astype('float').astype('int64')"
   ]
  },
  {
   "cell_type": "code",
   "execution_count": 60,
   "metadata": {
    "scrolled": true
   },
   "outputs": [
    {
     "data": {
      "text/plain": [
       "2     132196\n",
       "3     115298\n",
       "7      82156\n",
       "4      71808\n",
       "99     46766\n",
       "0      16535\n",
       "1      10704\n",
       "6       5090\n",
       "5       1019\n",
       "Name: NIVEL, dtype: int64"
      ]
     },
     "execution_count": 60,
     "metadata": {},
     "output_type": "execute_result"
    }
   ],
   "source": [
    "df.NIVEL.value_counts()"
   ]
  },
  {
   "cell_type": "code",
   "execution_count": 61,
   "metadata": {},
   "outputs": [
    {
     "data": {
      "text/plain": [
       "481572"
      ]
     },
     "execution_count": 61,
     "metadata": {},
     "output_type": "execute_result"
    }
   ],
   "source": [
    "#df.to_csv('residentas_half_clean.csv')\n",
    "df.NIVEL.value_counts().sum()"
   ]
  },
  {
   "cell_type": "code",
   "execution_count": 63,
   "metadata": {},
   "outputs": [
    {
     "data": {
      "text/html": [
       "<div>\n",
       "<style scoped>\n",
       "    .dataframe tbody tr th:only-of-type {\n",
       "        vertical-align: middle;\n",
       "    }\n",
       "\n",
       "    .dataframe tbody tr th {\n",
       "        vertical-align: top;\n",
       "    }\n",
       "\n",
       "    .dataframe thead th {\n",
       "        text-align: right;\n",
       "    }\n",
       "</style>\n",
       "<table border=\"1\" class=\"dataframe\">\n",
       "  <thead>\n",
       "    <tr style=\"text-align: right;\">\n",
       "      <th></th>\n",
       "      <th>UPM_DIS</th>\n",
       "      <th>VIV_SEL</th>\n",
       "      <th>HOGAR</th>\n",
       "      <th>N_REN</th>\n",
       "      <th>PARENTESCO</th>\n",
       "      <th>SEXO</th>\n",
       "      <th>EDAD</th>\n",
       "      <th>ASISESC</th>\n",
       "      <th>NIVEL</th>\n",
       "      <th>GRADO</th>\n",
       "      <th>DIA</th>\n",
       "      <th>MES</th>\n",
       "      <th>USOCOMPU</th>\n",
       "      <th>USOINTER</th>\n",
       "      <th>USOCEL</th>\n",
       "      <th>CONDACT</th>\n",
       "      <th>VERIACT</th>\n",
       "      <th>POSOCUP</th>\n",
       "      <th>EST_DIS</th>\n",
       "    </tr>\n",
       "  </thead>\n",
       "  <tbody>\n",
       "    <tr>\n",
       "      <th>0</th>\n",
       "      <td>1</td>\n",
       "      <td>1</td>\n",
       "      <td>1</td>\n",
       "      <td>1</td>\n",
       "      <td>1</td>\n",
       "      <td>1</td>\n",
       "      <td>66</td>\n",
       "      <td>2</td>\n",
       "      <td>2</td>\n",
       "      <td>6.0</td>\n",
       "      <td>NaN</td>\n",
       "      <td>NaN</td>\n",
       "      <td>2.0</td>\n",
       "      <td>2.0</td>\n",
       "      <td>2.0</td>\n",
       "      <td>1.0</td>\n",
       "      <td>NaN</td>\n",
       "      <td>3.0</td>\n",
       "      <td>3</td>\n",
       "    </tr>\n",
       "    <tr>\n",
       "      <th>1</th>\n",
       "      <td>1</td>\n",
       "      <td>1</td>\n",
       "      <td>1</td>\n",
       "      <td>2</td>\n",
       "      <td>2</td>\n",
       "      <td>2</td>\n",
       "      <td>62</td>\n",
       "      <td>2</td>\n",
       "      <td>2</td>\n",
       "      <td>6.0</td>\n",
       "      <td>NaN</td>\n",
       "      <td>NaN</td>\n",
       "      <td>2.0</td>\n",
       "      <td>2.0</td>\n",
       "      <td>2.0</td>\n",
       "      <td>6.0</td>\n",
       "      <td>4.0</td>\n",
       "      <td>NaN</td>\n",
       "      <td>3</td>\n",
       "    </tr>\n",
       "    <tr>\n",
       "      <th>2</th>\n",
       "      <td>1</td>\n",
       "      <td>1</td>\n",
       "      <td>1</td>\n",
       "      <td>3</td>\n",
       "      <td>3</td>\n",
       "      <td>1</td>\n",
       "      <td>42</td>\n",
       "      <td>2</td>\n",
       "      <td>3</td>\n",
       "      <td>3.0</td>\n",
       "      <td>NaN</td>\n",
       "      <td>NaN</td>\n",
       "      <td>1.0</td>\n",
       "      <td>1.0</td>\n",
       "      <td>1.0</td>\n",
       "      <td>1.0</td>\n",
       "      <td>NaN</td>\n",
       "      <td>1.0</td>\n",
       "      <td>3</td>\n",
       "    </tr>\n",
       "    <tr>\n",
       "      <th>3</th>\n",
       "      <td>1</td>\n",
       "      <td>1</td>\n",
       "      <td>1</td>\n",
       "      <td>4</td>\n",
       "      <td>3</td>\n",
       "      <td>1</td>\n",
       "      <td>34</td>\n",
       "      <td>2</td>\n",
       "      <td>7</td>\n",
       "      <td>3.0</td>\n",
       "      <td>NaN</td>\n",
       "      <td>NaN</td>\n",
       "      <td>1.0</td>\n",
       "      <td>1.0</td>\n",
       "      <td>1.0</td>\n",
       "      <td>1.0</td>\n",
       "      <td>NaN</td>\n",
       "      <td>1.0</td>\n",
       "      <td>3</td>\n",
       "    </tr>\n",
       "  </tbody>\n",
       "</table>\n",
       "</div>"
      ],
      "text/plain": [
       "   UPM_DIS  VIV_SEL  HOGAR  N_REN  PARENTESCO  SEXO  EDAD  ASISESC  NIVEL  \\\n",
       "0        1        1      1      1           1     1    66        2      2   \n",
       "1        1        1      1      2           2     2    62        2      2   \n",
       "2        1        1      1      3           3     1    42        2      3   \n",
       "3        1        1      1      4           3     1    34        2      7   \n",
       "\n",
       "   GRADO  DIA  MES  USOCOMPU  USOINTER  USOCEL  CONDACT  VERIACT  POSOCUP  \\\n",
       "0    6.0  NaN  NaN       2.0       2.0     2.0      1.0      NaN      3.0   \n",
       "1    6.0  NaN  NaN       2.0       2.0     2.0      6.0      4.0      NaN   \n",
       "2    3.0  NaN  NaN       1.0       1.0     1.0      1.0      NaN      1.0   \n",
       "3    3.0  NaN  NaN       1.0       1.0     1.0      1.0      NaN      1.0   \n",
       "\n",
       "   EST_DIS  \n",
       "0        3  \n",
       "1        3  \n",
       "2        3  \n",
       "3        3  "
      ]
     },
     "execution_count": 63,
     "metadata": {},
     "output_type": "execute_result"
    }
   ],
   "source": [
    "df.head(4)"
   ]
  },
  {
   "cell_type": "markdown",
   "metadata": {},
   "source": [
    "# GRADO \n",
    "### 0-8 Grado cursando o aprobado \n",
    "### 99 No sabe / blanco\n"
   ]
  },
  {
   "cell_type": "code",
   "execution_count": 64,
   "metadata": {},
   "outputs": [
    {
     "data": {
      "text/plain": [
       "3.0    182027\n",
       "2.0     58892\n",
       "6.0     56340\n",
       "1.0     44106\n",
       "5.0     38266\n",
       "4.0     36919\n",
       "0.0     16535\n",
       "9.0      3307\n",
       "Name: GRADO, dtype: int64"
      ]
     },
     "execution_count": 64,
     "metadata": {},
     "output_type": "execute_result"
    }
   ],
   "source": [
    "df.GRADO.value_counts()"
   ]
  },
  {
   "cell_type": "code",
   "execution_count": 65,
   "metadata": {},
   "outputs": [
    {
     "data": {
      "text/plain": [
       "True"
      ]
     },
     "execution_count": 65,
     "metadata": {},
     "output_type": "execute_result"
    }
   ],
   "source": [
    "df.isnull().GRADO.any()"
   ]
  },
  {
   "cell_type": "code",
   "execution_count": 66,
   "metadata": {},
   "outputs": [],
   "source": [
    "df.GRADO = df.GRADO.astype('str')\n",
    "df.GRADO.replace({'nan':'99'}, inplace=True)"
   ]
  },
  {
   "cell_type": "code",
   "execution_count": 67,
   "metadata": {},
   "outputs": [
    {
     "data": {
      "text/plain": [
       "3.0    182027\n",
       "2.0     58892\n",
       "6.0     56340\n",
       "99      45180\n",
       "1.0     44106\n",
       "5.0     38266\n",
       "4.0     36919\n",
       "0.0     16535\n",
       "9.0      3307\n",
       "Name: GRADO, dtype: int64"
      ]
     },
     "execution_count": 67,
     "metadata": {},
     "output_type": "execute_result"
    }
   ],
   "source": [
    "df.GRADO.value_counts()"
   ]
  },
  {
   "cell_type": "code",
   "execution_count": 68,
   "metadata": {},
   "outputs": [
    {
     "data": {
      "text/plain": [
       "False"
      ]
     },
     "execution_count": 68,
     "metadata": {},
     "output_type": "execute_result"
    }
   ],
   "source": [
    "df.isnull().GRADO.any()"
   ]
  },
  {
   "cell_type": "code",
   "execution_count": 69,
   "metadata": {},
   "outputs": [],
   "source": [
    "df.GRADO = df.GRADO.astype('float').astype('int64')"
   ]
  },
  {
   "cell_type": "code",
   "execution_count": 70,
   "metadata": {},
   "outputs": [
    {
     "data": {
      "text/plain": [
       "3     182027\n",
       "2      58892\n",
       "6      56340\n",
       "99     45180\n",
       "1      44106\n",
       "5      38266\n",
       "4      36919\n",
       "0      16535\n",
       "9       3307\n",
       "Name: GRADO, dtype: int64"
      ]
     },
     "execution_count": 70,
     "metadata": {},
     "output_type": "execute_result"
    }
   ],
   "source": [
    "df.GRADO.value_counts()"
   ]
  },
  {
   "cell_type": "code",
   "execution_count": 71,
   "metadata": {},
   "outputs": [],
   "source": [
    "df.GRADO = df.GRADO.astype('str')\n",
    "df.GRADO.replace({'9':'99'}, inplace=True)\n",
    "df.GRADO = df.GRADO.astype('float').astype('int64')"
   ]
  },
  {
   "cell_type": "code",
   "execution_count": 72,
   "metadata": {},
   "outputs": [
    {
     "data": {
      "text/plain": [
       "3     182027\n",
       "2      58892\n",
       "6      56340\n",
       "99     48487\n",
       "1      44106\n",
       "5      38266\n",
       "4      36919\n",
       "0      16535\n",
       "Name: GRADO, dtype: int64"
      ]
     },
     "execution_count": 72,
     "metadata": {},
     "output_type": "execute_result"
    }
   ],
   "source": [
    "df.GRADO.value_counts()"
   ]
  },
  {
   "cell_type": "code",
   "execution_count": 73,
   "metadata": {},
   "outputs": [
    {
     "data": {
      "text/plain": [
       "481572"
      ]
     },
     "execution_count": 73,
     "metadata": {},
     "output_type": "execute_result"
    }
   ],
   "source": [
    "df.GRADO.value_counts().sum()"
   ]
  },
  {
   "attachments": {},
   "cell_type": "markdown",
   "metadata": {},
   "source": [
    "# DIA ¿En qué día nació?\n",
    "### 1-31 Día de nacimiento\n",
    "### 99 No sabe / blanco"
   ]
  },
  {
   "cell_type": "code",
   "execution_count": 74,
   "metadata": {},
   "outputs": [
    {
     "data": {
      "text/plain": [
       "15.0    345\n",
       "1.0     220\n",
       "10.0    216\n",
       "3.0     209\n",
       "8.0     205\n",
       "20.0    202\n",
       "18.0    201\n",
       "26.0    197\n",
       "17.0    193\n",
       "24.0    193\n",
       "6.0     192\n",
       "4.0     191\n",
       "5.0     191\n",
       "7.0     191\n",
       "21.0    190\n",
       "19.0    190\n",
       "23.0    188\n",
       "11.0    186\n",
       "22.0    185\n",
       "14.0    183\n",
       "12.0    183\n",
       "2.0     180\n",
       "13.0    177\n",
       "25.0    171\n",
       "28.0    170\n",
       "27.0    170\n",
       "16.0    162\n",
       "30.0    158\n",
       "9.0     157\n",
       "29.0    150\n",
       "99.0    137\n",
       "31.0     84\n",
       "Name: DIA, dtype: int64"
      ]
     },
     "execution_count": 74,
     "metadata": {},
     "output_type": "execute_result"
    }
   ],
   "source": [
    "df.DIA.value_counts()"
   ]
  },
  {
   "cell_type": "code",
   "execution_count": 75,
   "metadata": {},
   "outputs": [
    {
     "data": {
      "text/plain": [
       "True"
      ]
     },
     "execution_count": 75,
     "metadata": {},
     "output_type": "execute_result"
    }
   ],
   "source": [
    "df.isnull().DIA.any()"
   ]
  },
  {
   "cell_type": "code",
   "execution_count": 76,
   "metadata": {},
   "outputs": [],
   "source": [
    "df.DIA = df.DIA.astype('str')\n",
    "df.DIA.replace({'nan':'99'}, inplace=True)\n",
    "df.DIA = df.DIA.astype('float').astype('int64')"
   ]
  },
  {
   "cell_type": "code",
   "execution_count": 77,
   "metadata": {},
   "outputs": [
    {
     "data": {
      "text/plain": [
       "False"
      ]
     },
     "execution_count": 77,
     "metadata": {},
     "output_type": "execute_result"
    }
   ],
   "source": [
    "df.isnull().DIA.any()"
   ]
  },
  {
   "cell_type": "code",
   "execution_count": 78,
   "metadata": {},
   "outputs": [
    {
     "data": {
      "text/plain": [
       "99    475742\n",
       "15       345\n",
       "1        220\n",
       "10       216\n",
       "3        209\n",
       "8        205\n",
       "20       202\n",
       "18       201\n",
       "26       197\n",
       "17       193\n",
       "24       193\n",
       "6        192\n",
       "7        191\n",
       "4        191\n",
       "5        191\n",
       "19       190\n",
       "21       190\n",
       "23       188\n",
       "11       186\n",
       "22       185\n",
       "14       183\n",
       "12       183\n",
       "2        180\n",
       "13       177\n",
       "25       171\n",
       "28       170\n",
       "27       170\n",
       "16       162\n",
       "30       158\n",
       "9        157\n",
       "29       150\n",
       "31        84\n",
       "Name: DIA, dtype: int64"
      ]
     },
     "execution_count": 78,
     "metadata": {},
     "output_type": "execute_result"
    }
   ],
   "source": [
    "df.DIA.value_counts()"
   ]
  },
  {
   "cell_type": "markdown",
   "metadata": {},
   "source": [
    "### más del 90 por cierto es nulo"
   ]
  },
  {
   "cell_type": "code",
   "execution_count": 79,
   "metadata": {},
   "outputs": [],
   "source": [
    "df.drop('DIA',1, inplace=True)"
   ]
  },
  {
   "cell_type": "markdown",
   "metadata": {},
   "source": [
    "# Mes\n",
    "\n",
    "### más del 90 % es nulo"
   ]
  },
  {
   "cell_type": "code",
   "execution_count": 80,
   "metadata": {},
   "outputs": [
    {
     "data": {
      "text/plain": [
       "5967"
      ]
     },
     "execution_count": 80,
     "metadata": {},
     "output_type": "execute_result"
    }
   ],
   "source": [
    "df.MES.value_counts().sum()"
   ]
  },
  {
   "cell_type": "code",
   "execution_count": 81,
   "metadata": {},
   "outputs": [],
   "source": [
    "df.drop('MES',1, inplace=True)"
   ]
  },
  {
   "cell_type": "code",
   "execution_count": 82,
   "metadata": {},
   "outputs": [
    {
     "data": {
      "text/html": [
       "<div>\n",
       "<style scoped>\n",
       "    .dataframe tbody tr th:only-of-type {\n",
       "        vertical-align: middle;\n",
       "    }\n",
       "\n",
       "    .dataframe tbody tr th {\n",
       "        vertical-align: top;\n",
       "    }\n",
       "\n",
       "    .dataframe thead th {\n",
       "        text-align: right;\n",
       "    }\n",
       "</style>\n",
       "<table border=\"1\" class=\"dataframe\">\n",
       "  <thead>\n",
       "    <tr style=\"text-align: right;\">\n",
       "      <th></th>\n",
       "      <th>UPM_DIS</th>\n",
       "      <th>VIV_SEL</th>\n",
       "      <th>HOGAR</th>\n",
       "      <th>N_REN</th>\n",
       "      <th>PARENTESCO</th>\n",
       "      <th>SEXO</th>\n",
       "      <th>EDAD</th>\n",
       "      <th>ASISESC</th>\n",
       "      <th>NIVEL</th>\n",
       "      <th>GRADO</th>\n",
       "      <th>USOCOMPU</th>\n",
       "      <th>USOINTER</th>\n",
       "      <th>USOCEL</th>\n",
       "      <th>CONDACT</th>\n",
       "      <th>VERIACT</th>\n",
       "      <th>POSOCUP</th>\n",
       "      <th>EST_DIS</th>\n",
       "    </tr>\n",
       "  </thead>\n",
       "  <tbody>\n",
       "    <tr>\n",
       "      <th>0</th>\n",
       "      <td>1</td>\n",
       "      <td>1</td>\n",
       "      <td>1</td>\n",
       "      <td>1</td>\n",
       "      <td>1</td>\n",
       "      <td>1</td>\n",
       "      <td>66</td>\n",
       "      <td>2</td>\n",
       "      <td>2</td>\n",
       "      <td>6</td>\n",
       "      <td>2.0</td>\n",
       "      <td>2.0</td>\n",
       "      <td>2.0</td>\n",
       "      <td>1.0</td>\n",
       "      <td>NaN</td>\n",
       "      <td>3.0</td>\n",
       "      <td>3</td>\n",
       "    </tr>\n",
       "    <tr>\n",
       "      <th>1</th>\n",
       "      <td>1</td>\n",
       "      <td>1</td>\n",
       "      <td>1</td>\n",
       "      <td>2</td>\n",
       "      <td>2</td>\n",
       "      <td>2</td>\n",
       "      <td>62</td>\n",
       "      <td>2</td>\n",
       "      <td>2</td>\n",
       "      <td>6</td>\n",
       "      <td>2.0</td>\n",
       "      <td>2.0</td>\n",
       "      <td>2.0</td>\n",
       "      <td>6.0</td>\n",
       "      <td>4.0</td>\n",
       "      <td>NaN</td>\n",
       "      <td>3</td>\n",
       "    </tr>\n",
       "  </tbody>\n",
       "</table>\n",
       "</div>"
      ],
      "text/plain": [
       "   UPM_DIS  VIV_SEL  HOGAR  N_REN  PARENTESCO  SEXO  EDAD  ASISESC  NIVEL  \\\n",
       "0        1        1      1      1           1     1    66        2      2   \n",
       "1        1        1      1      2           2     2    62        2      2   \n",
       "\n",
       "   GRADO  USOCOMPU  USOINTER  USOCEL  CONDACT  VERIACT  POSOCUP  EST_DIS  \n",
       "0      6       2.0       2.0     2.0      1.0      NaN      3.0        3  \n",
       "1      6       2.0       2.0     2.0      6.0      4.0      NaN        3  "
      ]
     },
     "execution_count": 82,
     "metadata": {},
     "output_type": "execute_result"
    }
   ],
   "source": [
    "df.head(2)"
   ]
  },
  {
   "attachments": {},
   "cell_type": "markdown",
   "metadata": {},
   "source": [
    "# USOCOMPU  ¿En los últimos tres meses, ¿ha hecho uso de… Computadora, laptop o tablet?\n",
    "### 1 Sí\n",
    "### 2 No\n",
    "### 9 No sabe / blanco"
   ]
  },
  {
   "cell_type": "code",
   "execution_count": 83,
   "metadata": {},
   "outputs": [
    {
     "data": {
      "text/plain": [
       "2.0    234313\n",
       "1.0    201032\n",
       "9.0      1047\n",
       "Name: USOCOMPU, dtype: int64"
      ]
     },
     "execution_count": 83,
     "metadata": {},
     "output_type": "execute_result"
    }
   ],
   "source": [
    "df.USOCOMPU.value_counts()"
   ]
  },
  {
   "cell_type": "code",
   "execution_count": 84,
   "metadata": {},
   "outputs": [
    {
     "data": {
      "text/plain": [
       "True"
      ]
     },
     "execution_count": 84,
     "metadata": {},
     "output_type": "execute_result"
    }
   ],
   "source": [
    "df.isnull().USOCOMPU.any()"
   ]
  },
  {
   "cell_type": "code",
   "execution_count": 89,
   "metadata": {},
   "outputs": [],
   "source": [
    "df.USOCOMPU = df.USOCOMPU.astype('str')\n",
    "df.USOCOMPU.replace({'nan':'99','9':'99'}, inplace=True)\n",
    "df.USOCOMPU = df.USOCOMPU.astype('float').astype('int64')"
   ]
  },
  {
   "cell_type": "code",
   "execution_count": 86,
   "metadata": {},
   "outputs": [
    {
     "data": {
      "text/plain": [
       "False"
      ]
     },
     "execution_count": 86,
     "metadata": {},
     "output_type": "execute_result"
    }
   ],
   "source": [
    "df.isnull().USOCOMPU.any()"
   ]
  },
  {
   "cell_type": "code",
   "execution_count": 90,
   "metadata": {},
   "outputs": [
    {
     "data": {
      "text/plain": [
       "2     234313\n",
       "1     201032\n",
       "99     46227\n",
       "Name: USOCOMPU, dtype: int64"
      ]
     },
     "execution_count": 90,
     "metadata": {},
     "output_type": "execute_result"
    }
   ],
   "source": [
    "df.USOCOMPU.value_counts()"
   ]
  },
  {
   "cell_type": "code",
   "execution_count": 91,
   "metadata": {},
   "outputs": [
    {
     "data": {
      "text/plain": [
       "481572"
      ]
     },
     "execution_count": 91,
     "metadata": {},
     "output_type": "execute_result"
    }
   ],
   "source": [
    "df.USOCOMPU.value_counts().sum()"
   ]
  },
  {
   "cell_type": "markdown",
   "metadata": {},
   "source": [
    "# USOINTER  ¿En los últimos tres meses, ¿ha hecho uso de… internet?\n",
    "### 1 Sí\n",
    "### 2 No\n",
    "### 9 No sabe / blanco "
   ]
  },
  {
   "cell_type": "code",
   "execution_count": 92,
   "metadata": {},
   "outputs": [
    {
     "data": {
      "text/plain": [
       "1.0    273133\n",
       "2.0    162313\n",
       "9.0       946\n",
       "Name: USOINTER, dtype: int64"
      ]
     },
     "execution_count": 92,
     "metadata": {},
     "output_type": "execute_result"
    }
   ],
   "source": [
    "df.USOINTER.value_counts()"
   ]
  },
  {
   "cell_type": "code",
   "execution_count": 93,
   "metadata": {},
   "outputs": [
    {
     "data": {
      "text/plain": [
       "True"
      ]
     },
     "execution_count": 93,
     "metadata": {},
     "output_type": "execute_result"
    }
   ],
   "source": [
    "df.isnull().USOINTER.any()"
   ]
  },
  {
   "cell_type": "code",
   "execution_count": 99,
   "metadata": {},
   "outputs": [],
   "source": [
    "df.USOINTER = df.USOINTER.astype('str')\n",
    "df.USOINTER.replace({'nan':'99', '9':'99'}, inplace=True)\n",
    "df.USOINTER = df.USOINTER.astype('float').astype('int64')"
   ]
  },
  {
   "cell_type": "code",
   "execution_count": 100,
   "metadata": {},
   "outputs": [
    {
     "data": {
      "text/plain": [
       "False"
      ]
     },
     "execution_count": 100,
     "metadata": {},
     "output_type": "execute_result"
    }
   ],
   "source": [
    "df.isnull().USOINTER.any()"
   ]
  },
  {
   "cell_type": "code",
   "execution_count": 101,
   "metadata": {},
   "outputs": [
    {
     "data": {
      "text/plain": [
       "1     273133\n",
       "2     162313\n",
       "99     46126\n",
       "Name: USOINTER, dtype: int64"
      ]
     },
     "execution_count": 101,
     "metadata": {},
     "output_type": "execute_result"
    }
   ],
   "source": [
    "df.USOINTER.value_counts()"
   ]
  },
  {
   "cell_type": "code",
   "execution_count": 102,
   "metadata": {},
   "outputs": [
    {
     "data": {
      "text/plain": [
       "481572"
      ]
     },
     "execution_count": 102,
     "metadata": {},
     "output_type": "execute_result"
    }
   ],
   "source": [
    "df.USOINTER.value_counts().sum()"
   ]
  },
  {
   "cell_type": "markdown",
   "metadata": {},
   "source": [
    "# USOCEL  ¿En los últimos tres meses, ¿ha hecho uso de… Celular?\n",
    "### 1 Sí\n",
    "### 2 No\n",
    "### 9 No sabe / blanco "
   ]
  },
  {
   "cell_type": "code",
   "execution_count": 103,
   "metadata": {},
   "outputs": [
    {
     "data": {
      "text/plain": [
       "1.0    332291\n",
       "2.0    103934\n",
       "9.0       167\n",
       "Name: USOCEL, dtype: int64"
      ]
     },
     "execution_count": 103,
     "metadata": {},
     "output_type": "execute_result"
    }
   ],
   "source": [
    "df.USOCEL.value_counts()"
   ]
  },
  {
   "cell_type": "code",
   "execution_count": 104,
   "metadata": {},
   "outputs": [
    {
     "data": {
      "text/plain": [
       "True"
      ]
     },
     "execution_count": 104,
     "metadata": {},
     "output_type": "execute_result"
    }
   ],
   "source": [
    "df.isnull().USOCEL.any()"
   ]
  },
  {
   "cell_type": "code",
   "execution_count": 108,
   "metadata": {},
   "outputs": [],
   "source": [
    "df.USOCEL = df.USOCEL.astype('str')\n",
    "df.USOCEL.replace({'nan':'99', '9':'99'}, inplace=True)\n",
    "df.USOCEL = df.USOCEL.astype('float').astype('int64')"
   ]
  },
  {
   "cell_type": "code",
   "execution_count": 106,
   "metadata": {},
   "outputs": [
    {
     "data": {
      "text/plain": [
       "False"
      ]
     },
     "execution_count": 106,
     "metadata": {},
     "output_type": "execute_result"
    }
   ],
   "source": [
    "df.isnull().USOCEL.any()"
   ]
  },
  {
   "cell_type": "code",
   "execution_count": 109,
   "metadata": {},
   "outputs": [
    {
     "data": {
      "text/plain": [
       "1     332291\n",
       "2     103934\n",
       "99     45347\n",
       "Name: USOCEL, dtype: int64"
      ]
     },
     "execution_count": 109,
     "metadata": {},
     "output_type": "execute_result"
    }
   ],
   "source": [
    "df.USOCEL.value_counts()"
   ]
  },
  {
   "cell_type": "code",
   "execution_count": 110,
   "metadata": {},
   "outputs": [
    {
     "data": {
      "text/plain": [
       "481572"
      ]
     },
     "execution_count": 110,
     "metadata": {},
     "output_type": "execute_result"
    }
   ],
   "source": [
    "df.USOCEL.value_counts().sum()"
   ]
  },
  {
   "cell_type": "code",
   "execution_count": 111,
   "metadata": {},
   "outputs": [
    {
     "data": {
      "text/html": [
       "<div>\n",
       "<style scoped>\n",
       "    .dataframe tbody tr th:only-of-type {\n",
       "        vertical-align: middle;\n",
       "    }\n",
       "\n",
       "    .dataframe tbody tr th {\n",
       "        vertical-align: top;\n",
       "    }\n",
       "\n",
       "    .dataframe thead th {\n",
       "        text-align: right;\n",
       "    }\n",
       "</style>\n",
       "<table border=\"1\" class=\"dataframe\">\n",
       "  <thead>\n",
       "    <tr style=\"text-align: right;\">\n",
       "      <th></th>\n",
       "      <th>UPM_DIS</th>\n",
       "      <th>VIV_SEL</th>\n",
       "      <th>HOGAR</th>\n",
       "      <th>N_REN</th>\n",
       "      <th>PARENTESCO</th>\n",
       "      <th>SEXO</th>\n",
       "      <th>EDAD</th>\n",
       "      <th>ASISESC</th>\n",
       "      <th>NIVEL</th>\n",
       "      <th>GRADO</th>\n",
       "      <th>USOCOMPU</th>\n",
       "      <th>USOINTER</th>\n",
       "      <th>USOCEL</th>\n",
       "      <th>CONDACT</th>\n",
       "      <th>VERIACT</th>\n",
       "      <th>POSOCUP</th>\n",
       "      <th>EST_DIS</th>\n",
       "    </tr>\n",
       "  </thead>\n",
       "  <tbody>\n",
       "    <tr>\n",
       "      <th>0</th>\n",
       "      <td>1</td>\n",
       "      <td>1</td>\n",
       "      <td>1</td>\n",
       "      <td>1</td>\n",
       "      <td>1</td>\n",
       "      <td>1</td>\n",
       "      <td>66</td>\n",
       "      <td>2</td>\n",
       "      <td>2</td>\n",
       "      <td>6</td>\n",
       "      <td>2</td>\n",
       "      <td>2</td>\n",
       "      <td>2</td>\n",
       "      <td>1.0</td>\n",
       "      <td>NaN</td>\n",
       "      <td>3.0</td>\n",
       "      <td>3</td>\n",
       "    </tr>\n",
       "    <tr>\n",
       "      <th>1</th>\n",
       "      <td>1</td>\n",
       "      <td>1</td>\n",
       "      <td>1</td>\n",
       "      <td>2</td>\n",
       "      <td>2</td>\n",
       "      <td>2</td>\n",
       "      <td>62</td>\n",
       "      <td>2</td>\n",
       "      <td>2</td>\n",
       "      <td>6</td>\n",
       "      <td>2</td>\n",
       "      <td>2</td>\n",
       "      <td>2</td>\n",
       "      <td>6.0</td>\n",
       "      <td>4.0</td>\n",
       "      <td>NaN</td>\n",
       "      <td>3</td>\n",
       "    </tr>\n",
       "  </tbody>\n",
       "</table>\n",
       "</div>"
      ],
      "text/plain": [
       "   UPM_DIS  VIV_SEL  HOGAR  N_REN  PARENTESCO  SEXO  EDAD  ASISESC  NIVEL  \\\n",
       "0        1        1      1      1           1     1    66        2      2   \n",
       "1        1        1      1      2           2     2    62        2      2   \n",
       "\n",
       "   GRADO  USOCOMPU  USOINTER  USOCEL  CONDACT  VERIACT  POSOCUP  EST_DIS  \n",
       "0      6         2         2       2      1.0      NaN      3.0        3  \n",
       "1      6         2         2       2      6.0      4.0      NaN        3  "
      ]
     },
     "execution_count": 111,
     "metadata": {},
     "output_type": "execute_result"
    }
   ],
   "source": [
    "df.head(2)"
   ]
  },
  {
   "cell_type": "markdown",
   "metadata": {},
   "source": [
    "# CONDACT ¿La semana pasada\n",
    "#### 1 trabajó (por lo menos una hora)?\n",
    "#### 2 tenía trabajo, pero no trabajó?\n",
    "#### 3 buscó trabajo?\n",
    "#### 4 está jubilado(a) o pensionado(a)?\n",
    "#### 5 se dedicó a estudiar?\n",
    "#### 6 se dedicó a los quehaceres del hogar y/o al cuidado de sus hijos(as) u otro familiar?\n",
    "#### 7 es una persona con alguna limitación física o mental que le impide trabajar?\n",
    "#### 8 no trabajó?\n",
    "#### b --> 99 blanco\n"
   ]
  },
  {
   "cell_type": "code",
   "execution_count": 112,
   "metadata": {
    "scrolled": true
   },
   "outputs": [
    {
     "data": {
      "text/plain": [
       "1.0    209200\n",
       "6.0     76165\n",
       "5.0     60481\n",
       "4.0     13827\n",
       "8.0     12306\n",
       "3.0      5631\n",
       "7.0      5009\n",
       "2.0      2794\n",
       "Name: CONDACT, dtype: int64"
      ]
     },
     "execution_count": 112,
     "metadata": {},
     "output_type": "execute_result"
    }
   ],
   "source": [
    "df.CONDACT.value_counts()"
   ]
  },
  {
   "cell_type": "code",
   "execution_count": 113,
   "metadata": {},
   "outputs": [
    {
     "data": {
      "text/plain": [
       "True"
      ]
     },
     "execution_count": 113,
     "metadata": {},
     "output_type": "execute_result"
    }
   ],
   "source": [
    "df.isnull().CONDACT.any()"
   ]
  },
  {
   "cell_type": "code",
   "execution_count": 114,
   "metadata": {},
   "outputs": [],
   "source": [
    "df.CONDACT = df.CONDACT.astype('str')\n",
    "df.CONDACT.replace({'nan':'99'}, inplace=True)\n",
    "df.CONDACT = df.CONDACT.astype('float').astype('int64')"
   ]
  },
  {
   "cell_type": "code",
   "execution_count": 115,
   "metadata": {},
   "outputs": [
    {
     "data": {
      "text/plain": [
       "False"
      ]
     },
     "execution_count": 115,
     "metadata": {},
     "output_type": "execute_result"
    }
   ],
   "source": [
    "df.isnull().CONDACT.any()"
   ]
  },
  {
   "cell_type": "code",
   "execution_count": 116,
   "metadata": {},
   "outputs": [
    {
     "data": {
      "text/plain": [
       "1     209200\n",
       "99     96159\n",
       "6      76165\n",
       "5      60481\n",
       "4      13827\n",
       "8      12306\n",
       "3       5631\n",
       "7       5009\n",
       "2       2794\n",
       "Name: CONDACT, dtype: int64"
      ]
     },
     "execution_count": 116,
     "metadata": {},
     "output_type": "execute_result"
    }
   ],
   "source": [
    "df.CONDACT.value_counts()"
   ]
  },
  {
   "cell_type": "code",
   "execution_count": 117,
   "metadata": {},
   "outputs": [
    {
     "data": {
      "text/plain": [
       "481572"
      ]
     },
     "execution_count": 117,
     "metadata": {},
     "output_type": "execute_result"
    }
   ],
   "source": [
    "df.CONDACT.value_counts().sum()"
   ]
  },
  {
   "cell_type": "markdown",
   "metadata": {},
   "source": [
    "# VERIACT Aunque ya me dijo queno trabajó, ¿la semana pasada…\n",
    "#### 1 vendió o hizo algún producto para su venta?\n",
    "#### 2 prestó algún servicio a cambio de un pago (cortar cabello, dar clases, lavar ropa ajena)?\n",
    "#### 3 ayudó en las tierras o en el negocio de un familiar o de otra persona?\n",
    "#### 4 Entonces, ¿no trabajó?\n",
    "#### b --> 99 blanco\n"
   ]
  },
  {
   "cell_type": "code",
   "execution_count": 118,
   "metadata": {},
   "outputs": [
    {
     "data": {
      "text/plain": [
       "4.0    154207\n",
       "1.0      6250\n",
       "3.0      5314\n",
       "2.0      2639\n",
       "Name: VERIACT, dtype: int64"
      ]
     },
     "execution_count": 118,
     "metadata": {},
     "output_type": "execute_result"
    }
   ],
   "source": [
    "df.VERIACT.value_counts()"
   ]
  },
  {
   "cell_type": "code",
   "execution_count": 119,
   "metadata": {},
   "outputs": [
    {
     "data": {
      "text/plain": [
       "True"
      ]
     },
     "execution_count": 119,
     "metadata": {},
     "output_type": "execute_result"
    }
   ],
   "source": [
    "df.isnull().VERIACT.any()"
   ]
  },
  {
   "cell_type": "code",
   "execution_count": 120,
   "metadata": {},
   "outputs": [],
   "source": [
    "df.VERIACT = df.VERIACT.astype('str')\n",
    "df.VERIACT.replace({'nan':'99'}, inplace=True)\n",
    "df.VERIACT = df.VERIACT.astype('float').astype('int64')"
   ]
  },
  {
   "cell_type": "code",
   "execution_count": 121,
   "metadata": {},
   "outputs": [
    {
     "data": {
      "text/plain": [
       "False"
      ]
     },
     "execution_count": 121,
     "metadata": {},
     "output_type": "execute_result"
    }
   ],
   "source": [
    "df.isnull().VERIACT.any()"
   ]
  },
  {
   "cell_type": "code",
   "execution_count": 122,
   "metadata": {},
   "outputs": [
    {
     "data": {
      "text/plain": [
       "99    313162\n",
       "4     154207\n",
       "1       6250\n",
       "3       5314\n",
       "2       2639\n",
       "Name: VERIACT, dtype: int64"
      ]
     },
     "execution_count": 122,
     "metadata": {},
     "output_type": "execute_result"
    }
   ],
   "source": [
    "df.VERIACT.value_counts()"
   ]
  },
  {
   "cell_type": "code",
   "execution_count": 123,
   "metadata": {},
   "outputs": [
    {
     "data": {
      "text/plain": [
       "481572"
      ]
     },
     "execution_count": 123,
     "metadata": {},
     "output_type": "execute_result"
    }
   ],
   "source": [
    "df.VERIACT.value_counts().sum()"
   ]
  },
  {
   "cell_type": "code",
   "execution_count": 124,
   "metadata": {},
   "outputs": [
    {
     "data": {
      "text/html": [
       "<div>\n",
       "<style scoped>\n",
       "    .dataframe tbody tr th:only-of-type {\n",
       "        vertical-align: middle;\n",
       "    }\n",
       "\n",
       "    .dataframe tbody tr th {\n",
       "        vertical-align: top;\n",
       "    }\n",
       "\n",
       "    .dataframe thead th {\n",
       "        text-align: right;\n",
       "    }\n",
       "</style>\n",
       "<table border=\"1\" class=\"dataframe\">\n",
       "  <thead>\n",
       "    <tr style=\"text-align: right;\">\n",
       "      <th></th>\n",
       "      <th>UPM_DIS</th>\n",
       "      <th>VIV_SEL</th>\n",
       "      <th>HOGAR</th>\n",
       "      <th>N_REN</th>\n",
       "      <th>PARENTESCO</th>\n",
       "      <th>SEXO</th>\n",
       "      <th>EDAD</th>\n",
       "      <th>ASISESC</th>\n",
       "      <th>NIVEL</th>\n",
       "      <th>GRADO</th>\n",
       "      <th>USOCOMPU</th>\n",
       "      <th>USOINTER</th>\n",
       "      <th>USOCEL</th>\n",
       "      <th>CONDACT</th>\n",
       "      <th>VERIACT</th>\n",
       "      <th>POSOCUP</th>\n",
       "      <th>EST_DIS</th>\n",
       "    </tr>\n",
       "  </thead>\n",
       "  <tbody>\n",
       "    <tr>\n",
       "      <th>0</th>\n",
       "      <td>1</td>\n",
       "      <td>1</td>\n",
       "      <td>1</td>\n",
       "      <td>1</td>\n",
       "      <td>1</td>\n",
       "      <td>1</td>\n",
       "      <td>66</td>\n",
       "      <td>2</td>\n",
       "      <td>2</td>\n",
       "      <td>6</td>\n",
       "      <td>2</td>\n",
       "      <td>2</td>\n",
       "      <td>2</td>\n",
       "      <td>1</td>\n",
       "      <td>99</td>\n",
       "      <td>3.0</td>\n",
       "      <td>3</td>\n",
       "    </tr>\n",
       "    <tr>\n",
       "      <th>1</th>\n",
       "      <td>1</td>\n",
       "      <td>1</td>\n",
       "      <td>1</td>\n",
       "      <td>2</td>\n",
       "      <td>2</td>\n",
       "      <td>2</td>\n",
       "      <td>62</td>\n",
       "      <td>2</td>\n",
       "      <td>2</td>\n",
       "      <td>6</td>\n",
       "      <td>2</td>\n",
       "      <td>2</td>\n",
       "      <td>2</td>\n",
       "      <td>6</td>\n",
       "      <td>4</td>\n",
       "      <td>NaN</td>\n",
       "      <td>3</td>\n",
       "    </tr>\n",
       "  </tbody>\n",
       "</table>\n",
       "</div>"
      ],
      "text/plain": [
       "   UPM_DIS  VIV_SEL  HOGAR  N_REN  PARENTESCO  SEXO  EDAD  ASISESC  NIVEL  \\\n",
       "0        1        1      1      1           1     1    66        2      2   \n",
       "1        1        1      1      2           2     2    62        2      2   \n",
       "\n",
       "   GRADO  USOCOMPU  USOINTER  USOCEL  CONDACT  VERIACT  POSOCUP  EST_DIS  \n",
       "0      6         2         2       2        1       99      3.0        3  \n",
       "1      6         2         2       2        6        4      NaN        3  "
      ]
     },
     "execution_count": 124,
     "metadata": {},
     "output_type": "execute_result"
    }
   ],
   "source": [
    "df.head(2)"
   ]
  },
  {
   "cell_type": "markdown",
   "metadata": {},
   "source": [
    "# POSOCUP ¿En su trabajo o actividad de la semana pasada fue…\n",
    "#### 1 empleado(a) u obrero(a)?\n",
    "#### 2 jornalero(a) o peón?\n",
    "#### 3 trabajador(a) por cuenta propia (no contrata trabajadores(as))?\n",
    "#### 4 patrón(a) o empleador(a) (contrata trabajadores(as))?\n",
    "#### 5 trabajador(a) sin pago en un negocio familiar o no familiar?\n",
    "#### 99 blanco"
   ]
  },
  {
   "cell_type": "code",
   "execution_count": 125,
   "metadata": {},
   "outputs": [
    {
     "data": {
      "text/plain": [
       "1.0    150182\n",
       "3.0     51571\n",
       "2.0     12817\n",
       "5.0      7637\n",
       "4.0      3990\n",
       "Name: POSOCUP, dtype: int64"
      ]
     },
     "execution_count": 125,
     "metadata": {},
     "output_type": "execute_result"
    }
   ],
   "source": [
    "df.POSOCUP.value_counts()"
   ]
  },
  {
   "cell_type": "code",
   "execution_count": 126,
   "metadata": {},
   "outputs": [
    {
     "data": {
      "text/plain": [
       "True"
      ]
     },
     "execution_count": 126,
     "metadata": {},
     "output_type": "execute_result"
    }
   ],
   "source": [
    "df.isnull().POSOCUP.any()"
   ]
  },
  {
   "cell_type": "code",
   "execution_count": 127,
   "metadata": {},
   "outputs": [],
   "source": [
    "df.POSOCUP = df.POSOCUP.astype('str')\n",
    "df.POSOCUP.replace({'nan':'99'}, inplace=True)\n",
    "df.POSOCUP = df.POSOCUP.astype('float').astype('int64')"
   ]
  },
  {
   "cell_type": "code",
   "execution_count": 128,
   "metadata": {},
   "outputs": [
    {
     "data": {
      "text/plain": [
       "False"
      ]
     },
     "execution_count": 128,
     "metadata": {},
     "output_type": "execute_result"
    }
   ],
   "source": [
    "df.isnull().POSOCUP.any()"
   ]
  },
  {
   "cell_type": "code",
   "execution_count": 129,
   "metadata": {},
   "outputs": [
    {
     "data": {
      "text/plain": [
       "99    255375\n",
       "1     150182\n",
       "3      51571\n",
       "2      12817\n",
       "5       7637\n",
       "4       3990\n",
       "Name: POSOCUP, dtype: int64"
      ]
     },
     "execution_count": 129,
     "metadata": {},
     "output_type": "execute_result"
    }
   ],
   "source": [
    "df.POSOCUP.value_counts()"
   ]
  },
  {
   "cell_type": "code",
   "execution_count": 130,
   "metadata": {},
   "outputs": [
    {
     "data": {
      "text/plain": [
       "481572"
      ]
     },
     "execution_count": 130,
     "metadata": {},
     "output_type": "execute_result"
    }
   ],
   "source": [
    "df.POSOCUP.value_counts().sum()"
   ]
  },
  {
   "cell_type": "markdown",
   "metadata": {},
   "source": [
    "# EST_DIS Estrato de diseño muestral"
   ]
  },
  {
   "cell_type": "code",
   "execution_count": 131,
   "metadata": {},
   "outputs": [
    {
     "data": {
      "text/plain": [
       "366    5704\n",
       "274    4658\n",
       "225    4637\n",
       "169    4343\n",
       "109    4106\n",
       "145    3965\n",
       "193    3905\n",
       "491    3862\n",
       "495    3835\n",
       "121    3828\n",
       "320    3813\n",
       "144    3807\n",
       "189    3769\n",
       "49     3752\n",
       "123    3695\n",
       "12     3655\n",
       "102    3525\n",
       "61     3455\n",
       "205    3444\n",
       "487    3433\n",
       "244    3425\n",
       "395    3403\n",
       "163    3293\n",
       "541    3239\n",
       "578    3223\n",
       "128    3186\n",
       "521    3172\n",
       "467    3129\n",
       "353    3111\n",
       "375    3063\n",
       "       ... \n",
       "76       46\n",
       "548      44\n",
       "456      44\n",
       "230      44\n",
       "425      44\n",
       "539      44\n",
       "166      44\n",
       "53       41\n",
       "405      40\n",
       "231      40\n",
       "411      40\n",
       "18       38\n",
       "551      34\n",
       "294      34\n",
       "398      34\n",
       "365      33\n",
       "216      32\n",
       "325      32\n",
       "567      31\n",
       "198      31\n",
       "273      31\n",
       "143      31\n",
       "538      30\n",
       "179      29\n",
       "178      29\n",
       "132      28\n",
       "403      26\n",
       "297      26\n",
       "402      20\n",
       "81       18\n",
       "Name: EST_DIS, Length: 587, dtype: int64"
      ]
     },
     "execution_count": 131,
     "metadata": {},
     "output_type": "execute_result"
    }
   ],
   "source": [
    "df.EST_DIS.value_counts()"
   ]
  },
  {
   "cell_type": "code",
   "execution_count": 132,
   "metadata": {},
   "outputs": [
    {
     "data": {
      "text/plain": [
       "False"
      ]
     },
     "execution_count": 132,
     "metadata": {},
     "output_type": "execute_result"
    }
   ],
   "source": [
    "df.isnull().EST_DIS.any()"
   ]
  },
  {
   "cell_type": "code",
   "execution_count": 133,
   "metadata": {},
   "outputs": [
    {
     "data": {
      "text/plain": [
       "481572"
      ]
     },
     "execution_count": 133,
     "metadata": {},
     "output_type": "execute_result"
    }
   ],
   "source": [
    "df.EST_DIS.value_counts().sum()"
   ]
  },
  {
   "cell_type": "markdown",
   "metadata": {},
   "source": [
    "## todas las columnas ya estan limpias"
   ]
  },
  {
   "cell_type": "code",
   "execution_count": 134,
   "metadata": {},
   "outputs": [
    {
     "data": {
      "text/html": [
       "<div>\n",
       "<style scoped>\n",
       "    .dataframe tbody tr th:only-of-type {\n",
       "        vertical-align: middle;\n",
       "    }\n",
       "\n",
       "    .dataframe tbody tr th {\n",
       "        vertical-align: top;\n",
       "    }\n",
       "\n",
       "    .dataframe thead th {\n",
       "        text-align: right;\n",
       "    }\n",
       "</style>\n",
       "<table border=\"1\" class=\"dataframe\">\n",
       "  <thead>\n",
       "    <tr style=\"text-align: right;\">\n",
       "      <th></th>\n",
       "      <th>UPM_DIS</th>\n",
       "      <th>VIV_SEL</th>\n",
       "      <th>HOGAR</th>\n",
       "      <th>N_REN</th>\n",
       "      <th>PARENTESCO</th>\n",
       "      <th>SEXO</th>\n",
       "      <th>EDAD</th>\n",
       "      <th>ASISESC</th>\n",
       "      <th>NIVEL</th>\n",
       "      <th>GRADO</th>\n",
       "      <th>USOCOMPU</th>\n",
       "      <th>USOINTER</th>\n",
       "      <th>USOCEL</th>\n",
       "      <th>CONDACT</th>\n",
       "      <th>VERIACT</th>\n",
       "      <th>POSOCUP</th>\n",
       "      <th>EST_DIS</th>\n",
       "    </tr>\n",
       "  </thead>\n",
       "  <tbody>\n",
       "    <tr>\n",
       "      <th>0</th>\n",
       "      <td>1</td>\n",
       "      <td>1</td>\n",
       "      <td>1</td>\n",
       "      <td>1</td>\n",
       "      <td>1</td>\n",
       "      <td>1</td>\n",
       "      <td>66</td>\n",
       "      <td>2</td>\n",
       "      <td>2</td>\n",
       "      <td>6</td>\n",
       "      <td>2</td>\n",
       "      <td>2</td>\n",
       "      <td>2</td>\n",
       "      <td>1</td>\n",
       "      <td>99</td>\n",
       "      <td>3</td>\n",
       "      <td>3</td>\n",
       "    </tr>\n",
       "  </tbody>\n",
       "</table>\n",
       "</div>"
      ],
      "text/plain": [
       "   UPM_DIS  VIV_SEL  HOGAR  N_REN  PARENTESCO  SEXO  EDAD  ASISESC  NIVEL  \\\n",
       "0        1        1      1      1           1     1    66        2      2   \n",
       "\n",
       "   GRADO  USOCOMPU  USOINTER  USOCEL  CONDACT  VERIACT  POSOCUP  EST_DIS  \n",
       "0      6         2         2       2        1       99        3        3  "
      ]
     },
     "execution_count": 134,
     "metadata": {},
     "output_type": "execute_result"
    }
   ],
   "source": [
    "df.head(1)"
   ]
  },
  {
   "cell_type": "code",
   "execution_count": 136,
   "metadata": {},
   "outputs": [
    {
     "data": {
      "text/plain": [
       "UPM_DIS       int64\n",
       "VIV_SEL       int64\n",
       "HOGAR         int64\n",
       "N_REN         int64\n",
       "PARENTESCO    int64\n",
       "SEXO          int64\n",
       "EDAD          int64\n",
       "ASISESC       int64\n",
       "NIVEL         int64\n",
       "GRADO         int64\n",
       "USOCOMPU      int64\n",
       "USOINTER      int64\n",
       "USOCEL        int64\n",
       "CONDACT       int64\n",
       "VERIACT       int64\n",
       "POSOCUP       int64\n",
       "EST_DIS       int64\n",
       "dtype: object"
      ]
     },
     "execution_count": 136,
     "metadata": {},
     "output_type": "execute_result"
    }
   ],
   "source": [
    "df.dtypes"
   ]
  },
  {
   "cell_type": "code",
   "execution_count": null,
   "metadata": {},
   "outputs": [],
   "source": [
    "df.to_csv('residentes_2017_clean.csv')"
   ]
  },
  {
   "cell_type": "code",
   "execution_count": null,
   "metadata": {},
   "outputs": [],
   "source": []
  }
 ],
 "metadata": {
  "anaconda-cloud": {},
  "kernelspec": {
   "display_name": "Python 3",
   "language": "python",
   "name": "python3"
  },
  "language_info": {
   "codemirror_mode": {
    "name": "ipython",
    "version": 3
   },
   "file_extension": ".py",
   "mimetype": "text/x-python",
   "name": "python",
   "nbconvert_exporter": "python",
   "pygments_lexer": "ipython3",
   "version": "3.6.5"
  }
 },
 "nbformat": 4,
 "nbformat_minor": 1
}
