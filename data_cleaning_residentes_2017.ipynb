{
 "cells": [
  {
   "cell_type": "markdown",
   "metadata": {
    "collapsed": true
   },
   "source": [
    "# Limpieza a tabla residentes de 2017"
   ]
  },
  {
   "cell_type": "code",
   "execution_count": 1,
   "metadata": {
    "collapsed": true
   },
   "outputs": [],
   "source": [
    "import pandas as pd\n",
    "import numpy as np"
   ]
  },
  {
   "cell_type": "code",
   "execution_count": 3,
   "metadata": {
    "collapsed": false
   },
   "outputs": [
    {
     "data": {
      "text/html": [
       "<div>\n",
       "<table border=\"1\" class=\"dataframe\">\n",
       "  <thead>\n",
       "    <tr style=\"text-align: right;\">\n",
       "      <th></th>\n",
       "      <th>UPM_DIS</th>\n",
       "      <th>VIV_SEL</th>\n",
       "      <th>HOGAR</th>\n",
       "      <th>N_REN</th>\n",
       "      <th>PARENTESCO</th>\n",
       "      <th>SEXO</th>\n",
       "      <th>EDAD</th>\n",
       "      <th>ASISESC</th>\n",
       "      <th>NIVEL</th>\n",
       "      <th>GRADO</th>\n",
       "      <th>DIA</th>\n",
       "      <th>MES</th>\n",
       "      <th>USOCOMPU</th>\n",
       "      <th>USOINTER</th>\n",
       "      <th>USOCEL</th>\n",
       "      <th>CONDACT</th>\n",
       "      <th>VERIACT</th>\n",
       "      <th>POSOCUP</th>\n",
       "      <th>EST_DIS</th>\n",
       "    </tr>\n",
       "  </thead>\n",
       "  <tbody>\n",
       "    <tr>\n",
       "      <th>0</th>\n",
       "      <td>1</td>\n",
       "      <td>1</td>\n",
       "      <td>1</td>\n",
       "      <td>1</td>\n",
       "      <td>1</td>\n",
       "      <td>1</td>\n",
       "      <td>66</td>\n",
       "      <td>2.0</td>\n",
       "      <td>2.0</td>\n",
       "      <td>6.0</td>\n",
       "      <td>NaN</td>\n",
       "      <td>NaN</td>\n",
       "      <td>2.0</td>\n",
       "      <td>2.0</td>\n",
       "      <td>2.0</td>\n",
       "      <td>1.0</td>\n",
       "      <td>NaN</td>\n",
       "      <td>3.0</td>\n",
       "      <td>3</td>\n",
       "    </tr>\n",
       "    <tr>\n",
       "      <th>1</th>\n",
       "      <td>1</td>\n",
       "      <td>1</td>\n",
       "      <td>1</td>\n",
       "      <td>2</td>\n",
       "      <td>2</td>\n",
       "      <td>2</td>\n",
       "      <td>62</td>\n",
       "      <td>2.0</td>\n",
       "      <td>2.0</td>\n",
       "      <td>6.0</td>\n",
       "      <td>NaN</td>\n",
       "      <td>NaN</td>\n",
       "      <td>2.0</td>\n",
       "      <td>2.0</td>\n",
       "      <td>2.0</td>\n",
       "      <td>6.0</td>\n",
       "      <td>4.0</td>\n",
       "      <td>NaN</td>\n",
       "      <td>3</td>\n",
       "    </tr>\n",
       "    <tr>\n",
       "      <th>2</th>\n",
       "      <td>1</td>\n",
       "      <td>1</td>\n",
       "      <td>1</td>\n",
       "      <td>3</td>\n",
       "      <td>3</td>\n",
       "      <td>1</td>\n",
       "      <td>42</td>\n",
       "      <td>2.0</td>\n",
       "      <td>3.0</td>\n",
       "      <td>3.0</td>\n",
       "      <td>NaN</td>\n",
       "      <td>NaN</td>\n",
       "      <td>1.0</td>\n",
       "      <td>1.0</td>\n",
       "      <td>1.0</td>\n",
       "      <td>1.0</td>\n",
       "      <td>NaN</td>\n",
       "      <td>1.0</td>\n",
       "      <td>3</td>\n",
       "    </tr>\n",
       "    <tr>\n",
       "      <th>3</th>\n",
       "      <td>1</td>\n",
       "      <td>1</td>\n",
       "      <td>1</td>\n",
       "      <td>4</td>\n",
       "      <td>3</td>\n",
       "      <td>1</td>\n",
       "      <td>34</td>\n",
       "      <td>2.0</td>\n",
       "      <td>7.0</td>\n",
       "      <td>3.0</td>\n",
       "      <td>NaN</td>\n",
       "      <td>NaN</td>\n",
       "      <td>1.0</td>\n",
       "      <td>1.0</td>\n",
       "      <td>1.0</td>\n",
       "      <td>1.0</td>\n",
       "      <td>NaN</td>\n",
       "      <td>1.0</td>\n",
       "      <td>3</td>\n",
       "    </tr>\n",
       "    <tr>\n",
       "      <th>4</th>\n",
       "      <td>1</td>\n",
       "      <td>2</td>\n",
       "      <td>1</td>\n",
       "      <td>1</td>\n",
       "      <td>1</td>\n",
       "      <td>1</td>\n",
       "      <td>39</td>\n",
       "      <td>2.0</td>\n",
       "      <td>8.0</td>\n",
       "      <td>3.0</td>\n",
       "      <td>NaN</td>\n",
       "      <td>NaN</td>\n",
       "      <td>2.0</td>\n",
       "      <td>2.0</td>\n",
       "      <td>1.0</td>\n",
       "      <td>1.0</td>\n",
       "      <td>NaN</td>\n",
       "      <td>3.0</td>\n",
       "      <td>3</td>\n",
       "    </tr>\n",
       "  </tbody>\n",
       "</table>\n",
       "</div>"
      ],
      "text/plain": [
       "   UPM_DIS  VIV_SEL  HOGAR  N_REN  PARENTESCO  SEXO  EDAD  ASISESC  NIVEL  \\\n",
       "0        1        1      1      1           1     1    66      2.0    2.0   \n",
       "1        1        1      1      2           2     2    62      2.0    2.0   \n",
       "2        1        1      1      3           3     1    42      2.0    3.0   \n",
       "3        1        1      1      4           3     1    34      2.0    7.0   \n",
       "4        1        2      1      1           1     1    39      2.0    8.0   \n",
       "\n",
       "   GRADO  DIA  MES  USOCOMPU  USOINTER  USOCEL  CONDACT  VERIACT  POSOCUP  \\\n",
       "0    6.0  NaN  NaN       2.0       2.0     2.0      1.0      NaN      3.0   \n",
       "1    6.0  NaN  NaN       2.0       2.0     2.0      6.0      4.0      NaN   \n",
       "2    3.0  NaN  NaN       1.0       1.0     1.0      1.0      NaN      1.0   \n",
       "3    3.0  NaN  NaN       1.0       1.0     1.0      1.0      NaN      1.0   \n",
       "4    3.0  NaN  NaN       2.0       2.0     1.0      1.0      NaN      3.0   \n",
       "\n",
       "   EST_DIS  \n",
       "0        3  \n",
       "1        3  \n",
       "2        3  \n",
       "3        3  \n",
       "4        3  "
      ]
     },
     "execution_count": 3,
     "metadata": {},
     "output_type": "execute_result"
    }
   ],
   "source": [
    "df = pd.read_csv('RESIDENTES_2017.csv', encoding='latin', low_memory=False)\n",
    "df.head()"
   ]
  },
  {
   "cell_type": "markdown",
   "metadata": {},
   "source": []
  },
  {
   "cell_type": "markdown",
   "metadata": {},
   "source": [
    "## filas"
   ]
  },
  {
   "cell_type": "code",
   "execution_count": 7,
   "metadata": {
    "collapsed": false
   },
   "outputs": [
    {
     "data": {
      "text/plain": [
       "481572"
      ]
     },
     "execution_count": 7,
     "metadata": {},
     "output_type": "execute_result"
    }
   ],
   "source": [
    "df.shape[0]"
   ]
  },
  {
   "cell_type": "markdown",
   "metadata": {},
   "source": [
    "## columnas"
   ]
  },
  {
   "cell_type": "code",
   "execution_count": 8,
   "metadata": {
    "collapsed": false
   },
   "outputs": [
    {
     "data": {
      "text/plain": [
       "19"
      ]
     },
     "execution_count": 8,
     "metadata": {},
     "output_type": "execute_result"
    }
   ],
   "source": [
    "df.shape[1]"
   ]
  },
  {
   "cell_type": "markdown",
   "metadata": {},
   "source": [
    "# UPM_DIS Unidad primaria de muestreo\n"
   ]
  },
  {
   "cell_type": "code",
   "execution_count": 14,
   "metadata": {
    "collapsed": false
   },
   "outputs": [
    {
     "data": {
      "text/plain": [
       "1291     157\n",
       "1249     154\n",
       "1238     138\n",
       "399      137\n",
       "6738     134\n",
       "11814    133\n",
       "1287     133\n",
       "1239     131\n",
       "4061     122\n",
       "14070    120\n",
       "4119     118\n",
       "1288     116\n",
       "471      114\n",
       "4106     113\n",
       "4116     113\n",
       "15258    112\n",
       "8690     110\n",
       "4099     108\n",
       "4135     108\n",
       "18013    107\n",
       "17997    107\n",
       "4117     107\n",
       "6854     107\n",
       "6843     106\n",
       "10247    106\n",
       "19375    105\n",
       "7993     105\n",
       "451      104\n",
       "15257    104\n",
       "4113     103\n",
       "        ... \n",
       "10663      2\n",
       "16191      2\n",
       "18052      2\n",
       "17265      2\n",
       "16337      2\n",
       "14321      2\n",
       "5472       2\n",
       "13602      2\n",
       "14724      2\n",
       "13393      2\n",
       "18792      2\n",
       "17850      2\n",
       "8029       2\n",
       "18520      2\n",
       "13729      2\n",
       "7833       2\n",
       "13601      2\n",
       "16139      2\n",
       "3768       2\n",
       "14001      1\n",
       "12563      1\n",
       "18527      1\n",
       "5277       1\n",
       "883        1\n",
       "13948      1\n",
       "18491      1\n",
       "14132      1\n",
       "13984      1\n",
       "9595       1\n",
       "6944       1\n",
       "Name: UPM_DIS, dtype: int64"
      ]
     },
     "execution_count": 14,
     "metadata": {},
     "output_type": "execute_result"
    }
   ],
   "source": [
    "df.UPM_DIS.value_counts()"
   ]
  },
  {
   "cell_type": "code",
   "execution_count": 9,
   "metadata": {
    "collapsed": false
   },
   "outputs": [
    {
     "data": {
      "text/plain": [
       "False"
      ]
     },
     "execution_count": 9,
     "metadata": {},
     "output_type": "execute_result"
    }
   ],
   "source": [
    "df.isnull().UPM_DIS.any()"
   ]
  },
  {
   "cell_type": "code",
   "execution_count": 6,
   "metadata": {
    "collapsed": false
   },
   "outputs": [
    {
     "data": {
      "text/plain": [
       "481572"
      ]
     },
     "execution_count": 6,
     "metadata": {},
     "output_type": "execute_result"
    }
   ],
   "source": [
    "df.UPM_DIS.value_counts().sum()"
   ]
  },
  {
   "cell_type": "markdown",
   "metadata": {},
   "source": [
    "# VIV_SEL Vivienda seleccionada \n"
   ]
  },
  {
   "cell_type": "code",
   "execution_count": 15,
   "metadata": {
    "collapsed": false
   },
   "outputs": [
    {
     "data": {
      "text/plain": [
       "2     62386\n",
       "1     62278\n",
       "3     61927\n",
       "4     61858\n",
       "5     61524\n",
       "7     18742\n",
       "9     18741\n",
       "8     18600\n",
       "6     18576\n",
       "10    18534\n",
       "11     7929\n",
       "15     7801\n",
       "18     7763\n",
       "14     7762\n",
       "16     7759\n",
       "19     7707\n",
       "13     7675\n",
       "12     7633\n",
       "17     7582\n",
       "20     7032\n",
       "21      825\n",
       "22      246\n",
       "31       51\n",
       "30       47\n",
       "28       46\n",
       "34       46\n",
       "25       44\n",
       "40       43\n",
       "27       41\n",
       "26       40\n",
       "32       39\n",
       "37       39\n",
       "33       36\n",
       "29       33\n",
       "24       33\n",
       "35       33\n",
       "38       33\n",
       "23       31\n",
       "36       29\n",
       "39       28\n",
       "Name: VIV_SEL, dtype: int64"
      ]
     },
     "execution_count": 15,
     "metadata": {},
     "output_type": "execute_result"
    }
   ],
   "source": [
    "df.VIV_SEL.value_counts()"
   ]
  },
  {
   "cell_type": "code",
   "execution_count": 11,
   "metadata": {
    "collapsed": false
   },
   "outputs": [
    {
     "data": {
      "text/plain": [
       "False"
      ]
     },
     "execution_count": 11,
     "metadata": {},
     "output_type": "execute_result"
    }
   ],
   "source": [
    "df.isnull().VIV_SEL.any()"
   ]
  },
  {
   "cell_type": "code",
   "execution_count": 13,
   "metadata": {
    "collapsed": false
   },
   "outputs": [
    {
     "data": {
      "text/plain": [
       "481572"
      ]
     },
     "execution_count": 13,
     "metadata": {},
     "output_type": "execute_result"
    }
   ],
   "source": [
    "df.VIV_SEL.value_counts().sum()"
   ]
  },
  {
   "cell_type": "code",
   "execution_count": 16,
   "metadata": {
    "collapsed": false
   },
   "outputs": [
    {
     "data": {
      "text/html": [
       "<div>\n",
       "<table border=\"1\" class=\"dataframe\">\n",
       "  <thead>\n",
       "    <tr style=\"text-align: right;\">\n",
       "      <th></th>\n",
       "      <th>UPM_DIS</th>\n",
       "      <th>VIV_SEL</th>\n",
       "      <th>HOGAR</th>\n",
       "      <th>N_REN</th>\n",
       "      <th>PARENTESCO</th>\n",
       "      <th>SEXO</th>\n",
       "      <th>EDAD</th>\n",
       "      <th>ASISESC</th>\n",
       "      <th>NIVEL</th>\n",
       "      <th>GRADO</th>\n",
       "      <th>DIA</th>\n",
       "      <th>MES</th>\n",
       "      <th>USOCOMPU</th>\n",
       "      <th>USOINTER</th>\n",
       "      <th>USOCEL</th>\n",
       "      <th>CONDACT</th>\n",
       "      <th>VERIACT</th>\n",
       "      <th>POSOCUP</th>\n",
       "      <th>EST_DIS</th>\n",
       "    </tr>\n",
       "  </thead>\n",
       "  <tbody>\n",
       "    <tr>\n",
       "      <th>0</th>\n",
       "      <td>1</td>\n",
       "      <td>1</td>\n",
       "      <td>1</td>\n",
       "      <td>1</td>\n",
       "      <td>1</td>\n",
       "      <td>1</td>\n",
       "      <td>66</td>\n",
       "      <td>2.0</td>\n",
       "      <td>2.0</td>\n",
       "      <td>6.0</td>\n",
       "      <td>NaN</td>\n",
       "      <td>NaN</td>\n",
       "      <td>2.0</td>\n",
       "      <td>2.0</td>\n",
       "      <td>2.0</td>\n",
       "      <td>1.0</td>\n",
       "      <td>NaN</td>\n",
       "      <td>3.0</td>\n",
       "      <td>3</td>\n",
       "    </tr>\n",
       "    <tr>\n",
       "      <th>1</th>\n",
       "      <td>1</td>\n",
       "      <td>1</td>\n",
       "      <td>1</td>\n",
       "      <td>2</td>\n",
       "      <td>2</td>\n",
       "      <td>2</td>\n",
       "      <td>62</td>\n",
       "      <td>2.0</td>\n",
       "      <td>2.0</td>\n",
       "      <td>6.0</td>\n",
       "      <td>NaN</td>\n",
       "      <td>NaN</td>\n",
       "      <td>2.0</td>\n",
       "      <td>2.0</td>\n",
       "      <td>2.0</td>\n",
       "      <td>6.0</td>\n",
       "      <td>4.0</td>\n",
       "      <td>NaN</td>\n",
       "      <td>3</td>\n",
       "    </tr>\n",
       "    <tr>\n",
       "      <th>2</th>\n",
       "      <td>1</td>\n",
       "      <td>1</td>\n",
       "      <td>1</td>\n",
       "      <td>3</td>\n",
       "      <td>3</td>\n",
       "      <td>1</td>\n",
       "      <td>42</td>\n",
       "      <td>2.0</td>\n",
       "      <td>3.0</td>\n",
       "      <td>3.0</td>\n",
       "      <td>NaN</td>\n",
       "      <td>NaN</td>\n",
       "      <td>1.0</td>\n",
       "      <td>1.0</td>\n",
       "      <td>1.0</td>\n",
       "      <td>1.0</td>\n",
       "      <td>NaN</td>\n",
       "      <td>1.0</td>\n",
       "      <td>3</td>\n",
       "    </tr>\n",
       "    <tr>\n",
       "      <th>3</th>\n",
       "      <td>1</td>\n",
       "      <td>1</td>\n",
       "      <td>1</td>\n",
       "      <td>4</td>\n",
       "      <td>3</td>\n",
       "      <td>1</td>\n",
       "      <td>34</td>\n",
       "      <td>2.0</td>\n",
       "      <td>7.0</td>\n",
       "      <td>3.0</td>\n",
       "      <td>NaN</td>\n",
       "      <td>NaN</td>\n",
       "      <td>1.0</td>\n",
       "      <td>1.0</td>\n",
       "      <td>1.0</td>\n",
       "      <td>1.0</td>\n",
       "      <td>NaN</td>\n",
       "      <td>1.0</td>\n",
       "      <td>3</td>\n",
       "    </tr>\n",
       "    <tr>\n",
       "      <th>4</th>\n",
       "      <td>1</td>\n",
       "      <td>2</td>\n",
       "      <td>1</td>\n",
       "      <td>1</td>\n",
       "      <td>1</td>\n",
       "      <td>1</td>\n",
       "      <td>39</td>\n",
       "      <td>2.0</td>\n",
       "      <td>8.0</td>\n",
       "      <td>3.0</td>\n",
       "      <td>NaN</td>\n",
       "      <td>NaN</td>\n",
       "      <td>2.0</td>\n",
       "      <td>2.0</td>\n",
       "      <td>1.0</td>\n",
       "      <td>1.0</td>\n",
       "      <td>NaN</td>\n",
       "      <td>3.0</td>\n",
       "      <td>3</td>\n",
       "    </tr>\n",
       "  </tbody>\n",
       "</table>\n",
       "</div>"
      ],
      "text/plain": [
       "   UPM_DIS  VIV_SEL  HOGAR  N_REN  PARENTESCO  SEXO  EDAD  ASISESC  NIVEL  \\\n",
       "0        1        1      1      1           1     1    66      2.0    2.0   \n",
       "1        1        1      1      2           2     2    62      2.0    2.0   \n",
       "2        1        1      1      3           3     1    42      2.0    3.0   \n",
       "3        1        1      1      4           3     1    34      2.0    7.0   \n",
       "4        1        2      1      1           1     1    39      2.0    8.0   \n",
       "\n",
       "   GRADO  DIA  MES  USOCOMPU  USOINTER  USOCEL  CONDACT  VERIACT  POSOCUP  \\\n",
       "0    6.0  NaN  NaN       2.0       2.0     2.0      1.0      NaN      3.0   \n",
       "1    6.0  NaN  NaN       2.0       2.0     2.0      6.0      4.0      NaN   \n",
       "2    3.0  NaN  NaN       1.0       1.0     1.0      1.0      NaN      1.0   \n",
       "3    3.0  NaN  NaN       1.0       1.0     1.0      1.0      NaN      1.0   \n",
       "4    3.0  NaN  NaN       2.0       2.0     1.0      1.0      NaN      3.0   \n",
       "\n",
       "   EST_DIS  \n",
       "0        3  \n",
       "1        3  \n",
       "2        3  \n",
       "3        3  \n",
       "4        3  "
      ]
     },
     "execution_count": 16,
     "metadata": {},
     "output_type": "execute_result"
    }
   ],
   "source": [
    "df.head()"
   ]
  },
  {
   "cell_type": "markdown",
   "metadata": {},
   "source": [
    "# HOGAR\n",
    "## [1-6]"
   ]
  },
  {
   "cell_type": "code",
   "execution_count": 17,
   "metadata": {
    "collapsed": false
   },
   "outputs": [
    {
     "data": {
      "text/plain": [
       "1    472835\n",
       "2      7544\n",
       "3       994\n",
       "4       168\n",
       "5        31\n",
       "Name: HOGAR, dtype: int64"
      ]
     },
     "execution_count": 17,
     "metadata": {},
     "output_type": "execute_result"
    }
   ],
   "source": [
    "df.HOGAR.value_counts()"
   ]
  },
  {
   "cell_type": "code",
   "execution_count": 18,
   "metadata": {
    "collapsed": false
   },
   "outputs": [
    {
     "data": {
      "text/plain": [
       "False"
      ]
     },
     "execution_count": 18,
     "metadata": {},
     "output_type": "execute_result"
    }
   ],
   "source": [
    "df.isnull().HOGAR.any()"
   ]
  },
  {
   "cell_type": "code",
   "execution_count": 19,
   "metadata": {
    "collapsed": false,
    "scrolled": true
   },
   "outputs": [
    {
     "data": {
      "text/plain": [
       "481572"
      ]
     },
     "execution_count": 19,
     "metadata": {},
     "output_type": "execute_result"
    }
   ],
   "source": [
    "df.HOGAR.value_counts().sum()"
   ]
  },
  {
   "cell_type": "markdown",
   "metadata": {},
   "source": [
    "# N_REN\n",
    "## [01-30]"
   ]
  },
  {
   "cell_type": "code",
   "execution_count": 20,
   "metadata": {
    "collapsed": false
   },
   "outputs": [
    {
     "data": {
      "text/plain": [
       "1     134358\n",
       "2     118530\n",
       "3      94046\n",
       "4      67184\n",
       "5      36477\n",
       "6      16479\n",
       "7       7538\n",
       "8       3548\n",
       "9       1675\n",
       "10       886\n",
       "11       380\n",
       "12       215\n",
       "13       110\n",
       "14        59\n",
       "15        37\n",
       "16        24\n",
       "17        10\n",
       "18         4\n",
       "29         1\n",
       "19         1\n",
       "20         1\n",
       "21         1\n",
       "22         1\n",
       "23         1\n",
       "24         1\n",
       "25         1\n",
       "26         1\n",
       "27         1\n",
       "28         1\n",
       "30         1\n",
       "Name: N_REN, dtype: int64"
      ]
     },
     "execution_count": 20,
     "metadata": {},
     "output_type": "execute_result"
    }
   ],
   "source": [
    "df.N_REN.value_counts()"
   ]
  },
  {
   "cell_type": "code",
   "execution_count": 21,
   "metadata": {
    "collapsed": false
   },
   "outputs": [
    {
     "data": {
      "text/plain": [
       "False"
      ]
     },
     "execution_count": 21,
     "metadata": {},
     "output_type": "execute_result"
    }
   ],
   "source": [
    "df.isnull().N_REN.any()"
   ]
  },
  {
   "cell_type": "code",
   "execution_count": 22,
   "metadata": {
    "collapsed": false
   },
   "outputs": [
    {
     "data": {
      "text/plain": [
       "481572"
      ]
     },
     "execution_count": 22,
     "metadata": {},
     "output_type": "execute_result"
    }
   ],
   "source": [
    "df.N_REN.value_counts().sum()"
   ]
  },
  {
   "cell_type": "markdown",
   "metadata": {},
   "source": [
    "# PARENTESCO\n",
    "### 1 Jefe(a)\n",
    "### 2 Esposo(a) o compañero(a)\n",
    "### 3 Hijo(a)\n",
    "### 4 Nieto(a)\n",
    "### 5 Otro parentesco\n",
    "### 6 Sin parentesco\n"
   ]
  },
  {
   "cell_type": "code",
   "execution_count": 24,
   "metadata": {
    "collapsed": false
   },
   "outputs": [
    {
     "data": {
      "text/plain": [
       "3    191069\n",
       "1    134795\n",
       "2     88032\n",
       "4     32404\n",
       "5     30505\n",
       "6      4767\n",
       "Name: PARENTESCO, dtype: int64"
      ]
     },
     "execution_count": 24,
     "metadata": {},
     "output_type": "execute_result"
    }
   ],
   "source": [
    "df.PARENTESCO.value_counts()"
   ]
  },
  {
   "cell_type": "code",
   "execution_count": 25,
   "metadata": {
    "collapsed": false
   },
   "outputs": [
    {
     "data": {
      "text/plain": [
       "False"
      ]
     },
     "execution_count": 25,
     "metadata": {},
     "output_type": "execute_result"
    }
   ],
   "source": [
    "df.isnull().PARENTESCO.any()"
   ]
  },
  {
   "cell_type": "code",
   "execution_count": 26,
   "metadata": {
    "collapsed": false
   },
   "outputs": [
    {
     "data": {
      "text/plain": [
       "481572"
      ]
     },
     "execution_count": 26,
     "metadata": {},
     "output_type": "execute_result"
    }
   ],
   "source": [
    "df.PARENTESCO.value_counts().sum()"
   ]
  },
  {
   "cell_type": "markdown",
   "metadata": {},
   "source": [
    "# SEXO\n",
    "### 1 Hombre, 2 Mujer\n"
   ]
  },
  {
   "cell_type": "code",
   "execution_count": 27,
   "metadata": {
    "collapsed": false
   },
   "outputs": [
    {
     "data": {
      "text/plain": [
       "2    247647\n",
       "1    233925\n",
       "Name: SEXO, dtype: int64"
      ]
     },
     "execution_count": 27,
     "metadata": {},
     "output_type": "execute_result"
    }
   ],
   "source": [
    "df.SEXO.value_counts()"
   ]
  },
  {
   "cell_type": "code",
   "execution_count": 28,
   "metadata": {
    "collapsed": false
   },
   "outputs": [
    {
     "data": {
      "text/plain": [
       "False"
      ]
     },
     "execution_count": 28,
     "metadata": {},
     "output_type": "execute_result"
    }
   ],
   "source": [
    "df.isnull().SEXO.any()"
   ]
  },
  {
   "cell_type": "code",
   "execution_count": 29,
   "metadata": {
    "collapsed": false
   },
   "outputs": [
    {
     "data": {
      "text/plain": [
       "481572"
      ]
     },
     "execution_count": 29,
     "metadata": {},
     "output_type": "execute_result"
    }
   ],
   "source": [
    "df.SEXO.value_counts().sum()"
   ]
  },
  {
   "cell_type": "code",
   "execution_count": 30,
   "metadata": {
    "collapsed": false
   },
   "outputs": [
    {
     "data": {
      "text/html": [
       "<div>\n",
       "<table border=\"1\" class=\"dataframe\">\n",
       "  <thead>\n",
       "    <tr style=\"text-align: right;\">\n",
       "      <th></th>\n",
       "      <th>UPM_DIS</th>\n",
       "      <th>VIV_SEL</th>\n",
       "      <th>HOGAR</th>\n",
       "      <th>N_REN</th>\n",
       "      <th>PARENTESCO</th>\n",
       "      <th>SEXO</th>\n",
       "      <th>EDAD</th>\n",
       "      <th>ASISESC</th>\n",
       "      <th>NIVEL</th>\n",
       "      <th>GRADO</th>\n",
       "      <th>DIA</th>\n",
       "      <th>MES</th>\n",
       "      <th>USOCOMPU</th>\n",
       "      <th>USOINTER</th>\n",
       "      <th>USOCEL</th>\n",
       "      <th>CONDACT</th>\n",
       "      <th>VERIACT</th>\n",
       "      <th>POSOCUP</th>\n",
       "      <th>EST_DIS</th>\n",
       "    </tr>\n",
       "  </thead>\n",
       "  <tbody>\n",
       "    <tr>\n",
       "      <th>0</th>\n",
       "      <td>1</td>\n",
       "      <td>1</td>\n",
       "      <td>1</td>\n",
       "      <td>1</td>\n",
       "      <td>1</td>\n",
       "      <td>1</td>\n",
       "      <td>66</td>\n",
       "      <td>2.0</td>\n",
       "      <td>2.0</td>\n",
       "      <td>6.0</td>\n",
       "      <td>NaN</td>\n",
       "      <td>NaN</td>\n",
       "      <td>2.0</td>\n",
       "      <td>2.0</td>\n",
       "      <td>2.0</td>\n",
       "      <td>1.0</td>\n",
       "      <td>NaN</td>\n",
       "      <td>3.0</td>\n",
       "      <td>3</td>\n",
       "    </tr>\n",
       "    <tr>\n",
       "      <th>1</th>\n",
       "      <td>1</td>\n",
       "      <td>1</td>\n",
       "      <td>1</td>\n",
       "      <td>2</td>\n",
       "      <td>2</td>\n",
       "      <td>2</td>\n",
       "      <td>62</td>\n",
       "      <td>2.0</td>\n",
       "      <td>2.0</td>\n",
       "      <td>6.0</td>\n",
       "      <td>NaN</td>\n",
       "      <td>NaN</td>\n",
       "      <td>2.0</td>\n",
       "      <td>2.0</td>\n",
       "      <td>2.0</td>\n",
       "      <td>6.0</td>\n",
       "      <td>4.0</td>\n",
       "      <td>NaN</td>\n",
       "      <td>3</td>\n",
       "    </tr>\n",
       "  </tbody>\n",
       "</table>\n",
       "</div>"
      ],
      "text/plain": [
       "   UPM_DIS  VIV_SEL  HOGAR  N_REN  PARENTESCO  SEXO  EDAD  ASISESC  NIVEL  \\\n",
       "0        1        1      1      1           1     1    66      2.0    2.0   \n",
       "1        1        1      1      2           2     2    62      2.0    2.0   \n",
       "\n",
       "   GRADO  DIA  MES  USOCOMPU  USOINTER  USOCEL  CONDACT  VERIACT  POSOCUP  \\\n",
       "0    6.0  NaN  NaN       2.0       2.0     2.0      1.0      NaN      3.0   \n",
       "1    6.0  NaN  NaN       2.0       2.0     2.0      6.0      4.0      NaN   \n",
       "\n",
       "   EST_DIS  \n",
       "0        3  \n",
       "1        3  "
      ]
     },
     "execution_count": 30,
     "metadata": {},
     "output_type": "execute_result"
    }
   ],
   "source": [
    "df.head(2)"
   ]
  },
  {
   "cell_type": "markdown",
   "metadata": {},
   "source": [
    "# EDAD\n",
    "### 0 Menos de un año\n",
    "### 1-96 Años cumplidos \n",
    "### 97  97 o más años\n",
    "### 99 No sabe\n"
   ]
  },
  {
   "cell_type": "code",
   "execution_count": 37,
   "metadata": {
    "collapsed": false
   },
   "outputs": [
    {
     "data": {
      "text/plain": [
       "17    9540\n",
       "18    9199\n",
       "15    9170\n",
       "12    9135\n",
       "16    9068\n",
       "8     8872\n",
       "14    8784\n",
       "22    8781\n",
       "13    8716\n",
       "10    8712\n",
       "20    8692\n",
       "9     8512\n",
       "40    8500\n",
       "23    8400\n",
       "5     8385\n",
       "7     8380\n",
       "11    8350\n",
       "25    8241\n",
       "4     8216\n",
       "24    8189\n",
       "6     8153\n",
       "30    8108\n",
       "19    7990\n",
       "21    7940\n",
       "3     7875\n",
       "42    7740\n",
       "2     7564\n",
       "28    7492\n",
       "32    7416\n",
       "38    7395\n",
       "      ... \n",
       "66    2624\n",
       "68    2363\n",
       "72    2031\n",
       "69    1876\n",
       "73    1815\n",
       "74    1696\n",
       "75    1666\n",
       "71    1434\n",
       "76    1428\n",
       "77    1245\n",
       "78    1244\n",
       "80    1205\n",
       "79     875\n",
       "82     835\n",
       "83     733\n",
       "84     688\n",
       "81     648\n",
       "85     600\n",
       "86     527\n",
       "87     479\n",
       "88     335\n",
       "90     300\n",
       "89     298\n",
       "97     187\n",
       "92     153\n",
       "91     146\n",
       "93     132\n",
       "94     124\n",
       "95      89\n",
       "96      86\n",
       "Name: EDAD, dtype: int64"
      ]
     },
     "execution_count": 37,
     "metadata": {},
     "output_type": "execute_result"
    }
   ],
   "source": [
    "df.EDAD.value_counts()"
   ]
  },
  {
   "cell_type": "code",
   "execution_count": 36,
   "metadata": {
    "collapsed": false
   },
   "outputs": [
    {
     "data": {
      "text/plain": [
       "array([66, 62, 42, 34, 39, 28,  2,  4, 75, 72, 21, 22, 24, 20, 86, 81, 41,\n",
       "       45, 43, 23, 50, 69, 67, 37, 31, 54, 58, 26, 78, 76, 52, 40, 49, 14,\n",
       "       44, 18, 27, 53, 17, 15, 13, 46, 48, 19, 11, 33,  9,  8,  1, 38, 16,\n",
       "       70, 87, 10,  5, 84, 47,  6, 73, 30, 55, 85, 36, 35, 56, 61, 60, 74,\n",
       "       68, 29, 57, 65,  3,  7, 25, 64, 32, 80, 51, 92, 59, 71, 91, 88, 63,\n",
       "       93, 83, 79, 82, 12,  0, 77, 89, 95, 97, 90, 96, 94], dtype=int64)"
      ]
     },
     "execution_count": 36,
     "metadata": {},
     "output_type": "execute_result"
    }
   ],
   "source": [
    "pd.unique(df.EDAD)"
   ]
  },
  {
   "cell_type": "code",
   "execution_count": 41,
   "metadata": {
    "collapsed": false
   },
   "outputs": [
    {
     "data": {
      "text/plain": [
       "False"
      ]
     },
     "execution_count": 41,
     "metadata": {},
     "output_type": "execute_result"
    }
   ],
   "source": [
    "df.isnull().EDAD.any()"
   ]
  },
  {
   "cell_type": "code",
   "execution_count": 42,
   "metadata": {
    "collapsed": false
   },
   "outputs": [
    {
     "data": {
      "text/plain": [
       "481572"
      ]
     },
     "execution_count": 42,
     "metadata": {},
     "output_type": "execute_result"
    }
   ],
   "source": [
    "df.EDAD.value_counts().sum()"
   ]
  },
  {
   "cell_type": "markdown",
   "metadata": {},
   "source": [
    "# ASISESC asiste actualmente a la escuela?\n",
    "### 1 Si, 2 No, 99 blanco\n",
    "\n"
   ]
  },
  {
   "cell_type": "code",
   "execution_count": 43,
   "metadata": {
    "collapsed": false
   },
   "outputs": [
    {
     "data": {
      "text/plain": [
       "2.0    311253\n",
       "1.0    125139\n",
       "Name: ASISESC, dtype: int64"
      ]
     },
     "execution_count": 43,
     "metadata": {},
     "output_type": "execute_result"
    }
   ],
   "source": [
    "df.ASISESC.value_counts()"
   ]
  },
  {
   "cell_type": "code",
   "execution_count": 44,
   "metadata": {
    "collapsed": false
   },
   "outputs": [
    {
     "data": {
      "text/plain": [
       "True"
      ]
     },
     "execution_count": 44,
     "metadata": {},
     "output_type": "execute_result"
    }
   ],
   "source": [
    "df.isnull().ASISESC.any()"
   ]
  },
  {
   "cell_type": "markdown",
   "metadata": {},
   "source": [
    "### remplazamos valores nulos por 99"
   ]
  },
  {
   "cell_type": "code",
   "execution_count": 46,
   "metadata": {
    "collapsed": true
   },
   "outputs": [],
   "source": [
    "df.ASISESC = df.ASISESC.astype('str')\n",
    "df.ASISESC.replace({'nan':'99'}, inplace=True)"
   ]
  },
  {
   "cell_type": "markdown",
   "metadata": {},
   "source": [
    "### cambiamos el tipo de dato a int"
   ]
  },
  {
   "cell_type": "code",
   "execution_count": 48,
   "metadata": {
    "collapsed": true
   },
   "outputs": [],
   "source": [
    "df.ASISESC = df.ASISESC.astype('float').astype('int64')"
   ]
  },
  {
   "cell_type": "code",
   "execution_count": 49,
   "metadata": {
    "collapsed": false
   },
   "outputs": [
    {
     "data": {
      "text/plain": [
       "2     311253\n",
       "1     125139\n",
       "99     45180\n",
       "Name: ASISESC, dtype: int64"
      ]
     },
     "execution_count": 49,
     "metadata": {},
     "output_type": "execute_result"
    }
   ],
   "source": [
    "df.ASISESC.value_counts()"
   ]
  },
  {
   "cell_type": "code",
   "execution_count": 50,
   "metadata": {
    "collapsed": false
   },
   "outputs": [
    {
     "data": {
      "text/plain": [
       "481572"
      ]
     },
     "execution_count": 50,
     "metadata": {},
     "output_type": "execute_result"
    }
   ],
   "source": [
    "df.ASISESC.value_counts().sum()"
   ]
  },
  {
   "cell_type": "code",
   "execution_count": 52,
   "metadata": {
    "collapsed": false
   },
   "outputs": [
    {
     "data": {
      "text/html": [
       "<div>\n",
       "<table border=\"1\" class=\"dataframe\">\n",
       "  <thead>\n",
       "    <tr style=\"text-align: right;\">\n",
       "      <th></th>\n",
       "      <th>UPM_DIS</th>\n",
       "      <th>VIV_SEL</th>\n",
       "      <th>HOGAR</th>\n",
       "      <th>N_REN</th>\n",
       "      <th>PARENTESCO</th>\n",
       "      <th>SEXO</th>\n",
       "      <th>EDAD</th>\n",
       "      <th>ASISESC</th>\n",
       "      <th>NIVEL</th>\n",
       "      <th>GRADO</th>\n",
       "      <th>DIA</th>\n",
       "      <th>MES</th>\n",
       "      <th>USOCOMPU</th>\n",
       "      <th>USOINTER</th>\n",
       "      <th>USOCEL</th>\n",
       "      <th>CONDACT</th>\n",
       "      <th>VERIACT</th>\n",
       "      <th>POSOCUP</th>\n",
       "      <th>EST_DIS</th>\n",
       "    </tr>\n",
       "  </thead>\n",
       "  <tbody>\n",
       "    <tr>\n",
       "      <th>0</th>\n",
       "      <td>1</td>\n",
       "      <td>1</td>\n",
       "      <td>1</td>\n",
       "      <td>1</td>\n",
       "      <td>1</td>\n",
       "      <td>1</td>\n",
       "      <td>66</td>\n",
       "      <td>2</td>\n",
       "      <td>2.0</td>\n",
       "      <td>6.0</td>\n",
       "      <td>NaN</td>\n",
       "      <td>NaN</td>\n",
       "      <td>2.0</td>\n",
       "      <td>2.0</td>\n",
       "      <td>2.0</td>\n",
       "      <td>1.0</td>\n",
       "      <td>NaN</td>\n",
       "      <td>3.0</td>\n",
       "      <td>3</td>\n",
       "    </tr>\n",
       "    <tr>\n",
       "      <th>1</th>\n",
       "      <td>1</td>\n",
       "      <td>1</td>\n",
       "      <td>1</td>\n",
       "      <td>2</td>\n",
       "      <td>2</td>\n",
       "      <td>2</td>\n",
       "      <td>62</td>\n",
       "      <td>2</td>\n",
       "      <td>2.0</td>\n",
       "      <td>6.0</td>\n",
       "      <td>NaN</td>\n",
       "      <td>NaN</td>\n",
       "      <td>2.0</td>\n",
       "      <td>2.0</td>\n",
       "      <td>2.0</td>\n",
       "      <td>6.0</td>\n",
       "      <td>4.0</td>\n",
       "      <td>NaN</td>\n",
       "      <td>3</td>\n",
       "    </tr>\n",
       "    <tr>\n",
       "      <th>2</th>\n",
       "      <td>1</td>\n",
       "      <td>1</td>\n",
       "      <td>1</td>\n",
       "      <td>3</td>\n",
       "      <td>3</td>\n",
       "      <td>1</td>\n",
       "      <td>42</td>\n",
       "      <td>2</td>\n",
       "      <td>3.0</td>\n",
       "      <td>3.0</td>\n",
       "      <td>NaN</td>\n",
       "      <td>NaN</td>\n",
       "      <td>1.0</td>\n",
       "      <td>1.0</td>\n",
       "      <td>1.0</td>\n",
       "      <td>1.0</td>\n",
       "      <td>NaN</td>\n",
       "      <td>1.0</td>\n",
       "      <td>3</td>\n",
       "    </tr>\n",
       "  </tbody>\n",
       "</table>\n",
       "</div>"
      ],
      "text/plain": [
       "   UPM_DIS  VIV_SEL  HOGAR  N_REN  PARENTESCO  SEXO  EDAD  ASISESC  NIVEL  \\\n",
       "0        1        1      1      1           1     1    66        2    2.0   \n",
       "1        1        1      1      2           2     2    62        2    2.0   \n",
       "2        1        1      1      3           3     1    42        2    3.0   \n",
       "\n",
       "   GRADO  DIA  MES  USOCOMPU  USOINTER  USOCEL  CONDACT  VERIACT  POSOCUP  \\\n",
       "0    6.0  NaN  NaN       2.0       2.0     2.0      1.0      NaN      3.0   \n",
       "1    6.0  NaN  NaN       2.0       2.0     2.0      6.0      4.0      NaN   \n",
       "2    3.0  NaN  NaN       1.0       1.0     1.0      1.0      NaN      1.0   \n",
       "\n",
       "   EST_DIS  \n",
       "0        3  \n",
       "1        3  \n",
       "2        3  "
      ]
     },
     "execution_count": 52,
     "metadata": {},
     "output_type": "execute_result"
    }
   ],
   "source": [
    "df.head(3)"
   ]
  },
  {
   "cell_type": "markdown",
   "metadata": {},
   "source": [
    "# NIVEL  ¿Hasta qué año o grado aprobó en la escuela? \n",
    "#### 0 Ninguno\n",
    "#### 1 Preescolar o kínder\n",
    "#### 2 Primaria\n",
    "#### 3 Secundaria\n",
    "#### 4 Preparatoria o bachillerato\n",
    "#### 5 Normal básica\n",
    "#### 6 Maestría y doctorado\n",
    "#### 7 Otro (Licenciatura ,ingeniería  Especialidad, studio técnico terminal con secundaria)\n",
    "#### 99 blanco\n",
    "\n"
   ]
  },
  {
   "cell_type": "code",
   "execution_count": 53,
   "metadata": {
    "collapsed": false
   },
   "outputs": [
    {
     "data": {
      "text/plain": [
       "2.0     132196\n",
       "3.0     115298\n",
       "6.0      71808\n",
       "8.0      64995\n",
       "0.0      16535\n",
       "1.0      10704\n",
       "7.0       8690\n",
       "5.0       7047\n",
       "10.0      4312\n",
       "99.0      1586\n",
       "9.0       1424\n",
       "4.0       1019\n",
       "11.0       778\n",
       "Name: NIVEL, dtype: int64"
      ]
     },
     "execution_count": 53,
     "metadata": {},
     "output_type": "execute_result"
    }
   ],
   "source": [
    "df.NIVEL.value_counts()"
   ]
  },
  {
   "cell_type": "code",
   "execution_count": 54,
   "metadata": {
    "collapsed": false
   },
   "outputs": [
    {
     "data": {
      "text/plain": [
       "True"
      ]
     },
     "execution_count": 54,
     "metadata": {},
     "output_type": "execute_result"
    }
   ],
   "source": [
    "df.isnull().NIVEL.any()"
   ]
  },
  {
   "cell_type": "code",
   "execution_count": 59,
   "metadata": {
    "collapsed": true
   },
   "outputs": [],
   "source": [
    "df.NIVEL = df.NIVEL.astype('str')\n",
    "df.NIVEL.replace({'nan':'99'}, inplace=True)"
   ]
  },
  {
   "cell_type": "code",
   "execution_count": 60,
   "metadata": {
    "collapsed": false
   },
   "outputs": [],
   "source": [
    "df.NIVEL = df.NIVEL.astype('float').astype('int64')"
   ]
  },
  {
   "cell_type": "code",
   "execution_count": 61,
   "metadata": {
    "collapsed": false
   },
   "outputs": [
    {
     "data": {
      "text/plain": [
       "2     132196\n",
       "3     115298\n",
       "6      71808\n",
       "8      64995\n",
       "99     46766\n",
       "0      16535\n",
       "1      10704\n",
       "7       8690\n",
       "5       7047\n",
       "10      4312\n",
       "9       1424\n",
       "4       1019\n",
       "11       778\n",
       "Name: NIVEL, dtype: int64"
      ]
     },
     "execution_count": 61,
     "metadata": {},
     "output_type": "execute_result"
    }
   ],
   "source": [
    "df.NIVEL.value_counts()"
   ]
  },
  {
   "cell_type": "markdown",
   "metadata": {},
   "source": [
    "#### 5 --> 7 Otros( Estudio técnico terminal con secundaria)\n",
    "#### 4 --> 5 Normal básica\n",
    "#### 6 -->  4 Preparatoria o bachillerato\n",
    "#### 8 --> 7 Otros (Licenciatura oingeniería)\n",
    "#### 9 --> 7 Otros (Especialidad)\n",
    "#### 10 --> 6 Maestría y Doctorado\n",
    "#### 11 --> 6 Maestría y Doctorado\n"
   ]
  },
  {
   "cell_type": "code",
   "execution_count": 66,
   "metadata": {
    "collapsed": false,
    "scrolled": false
   },
   "outputs": [
    {
     "name": "stderr",
     "output_type": "stream",
     "text": [
      "C:\\Program Files\\Anaconda3\\lib\\site-packages\\ipykernel\\__main__.py:4: SettingWithCopyWarning: \n",
      "A value is trying to be set on a copy of a slice from a DataFrame\n",
      "\n",
      "See the caveats in the documentation: http://pandas.pydata.org/pandas-docs/stable/indexing.html#indexing-view-versus-copy\n"
     ]
    }
   ],
   "source": [
    "count = 0\n",
    "for row in  df.NIVEL:\n",
    "    if df.NIVEL[count] == 5:\n",
    "        df.NIVEL[count] = 7\n",
    "        \n",
    "    count = count + 1"
   ]
  },
  {
   "cell_type": "code",
   "execution_count": 70,
   "metadata": {
    "collapsed": true
   },
   "outputs": [],
   "source": [
    "count = 0\n",
    "for row in  df.NIVEL:\n",
    "    if df.NIVEL[count] == 4:\n",
    "        df.NIVEL[count] = 5\n",
    "    count = count + 1"
   ]
  },
  {
   "cell_type": "code",
   "execution_count": null,
   "metadata": {
    "collapsed": false
   },
   "outputs": [
    {
     "name": "stderr",
     "output_type": "stream",
     "text": [
      "C:\\Program Files\\Anaconda3\\lib\\site-packages\\ipykernel\\__main__.py:4: SettingWithCopyWarning: \n",
      "A value is trying to be set on a copy of a slice from a DataFrame\n",
      "\n",
      "See the caveats in the documentation: http://pandas.pydata.org/pandas-docs/stable/indexing.html#indexing-view-versus-copy\n"
     ]
    }
   ],
   "source": [
    "count = 0\n",
    "for row in  df.NIVEL:\n",
    "    if df.NIVEL[count] == 6:\n",
    "        df.NIVEL[count] = 4\n",
    "        \n",
    "    count = count + 1"
   ]
  },
  {
   "cell_type": "code",
   "execution_count": null,
   "metadata": {
    "collapsed": true
   },
   "outputs": [],
   "source": [
    "count = 0\n",
    "for row in  df.NIVEL:\n",
    "    if df.NIVEL[count] == 8 or df.NIVEL[count] == 9:\n",
    "        df.NIVEL[count] = 7\n",
    "        \n",
    "    count = count + 1"
   ]
  },
  {
   "cell_type": "code",
   "execution_count": null,
   "metadata": {
    "collapsed": true
   },
   "outputs": [],
   "source": [
    "count = 0\n",
    "for row in  df.NIVEL:\n",
    "    if df.NIVEL[count] == 10 or df.NIVEL[count] == 11:\n",
    "        df.NIVEL[count] = 6\n",
    "        \n",
    "    count = count + 1"
   ]
  },
  {
   "cell_type": "code",
   "execution_count": null,
   "metadata": {
    "collapsed": false
   },
   "outputs": [],
   "source": [
    "df.NIVEL.value_counts()"
   ]
  },
  {
   "cell_type": "code",
   "execution_count": null,
   "metadata": {
    "collapsed": true
   },
   "outputs": [],
   "source": [
    "df.to_csv('residentas_half_clean.csv')"
   ]
  }
 ],
 "metadata": {
  "anaconda-cloud": {},
  "kernelspec": {
   "display_name": "Python [default]",
   "language": "python",
   "name": "python3"
  },
  "language_info": {
   "codemirror_mode": {
    "name": "ipython",
    "version": 3
   },
   "file_extension": ".py",
   "mimetype": "text/x-python",
   "name": "python",
   "nbconvert_exporter": "python",
   "pygments_lexer": "ipython3",
   "version": "3.5.2"
  }
 },
 "nbformat": 4,
 "nbformat_minor": 1
}
