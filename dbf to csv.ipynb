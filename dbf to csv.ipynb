{
 "cells": [
  {
   "cell_type": "code",
   "execution_count": 4,
   "metadata": {
    "collapsed": false
   },
   "outputs": [],
   "source": [
    "import pandas as pd\n",
    "from simpledbf import Dbf5\n",
    "\n",
    "# convert from DBF to CSV\n",
    "def dbf_to_csv (in_dbf, out_csv):    \n",
    "    dbf = Dbf5(in_dbf, codec='latin_1')\n",
    "    dbf.to_csv(out_csv)\n",
    "\n",
    "    df = pd.read_csv(out_csv, encoding='latin-1', low_memory=False)\n",
    "    df.to_csv(out_csv, encoding='utf-8')\n",
    "    return df"
   ]
  },
  {
   "cell_type": "code",
   "execution_count": null,
   "metadata": {
    "collapsed": false
   },
   "outputs": [],
   "source": [
    "in_dbf = '../../Datasets/ENSU/data/ensu_bd_2014_dbf/ensu_bd_jun_2014_dbf/'\n",
    "out_csv = '../../Datasets/ENSU/data/ensu_bd_2014_dbf/ensu_bd_sep_2014_dbf/ENSU_CB_0914.csv'    \n",
    "\n",
    "df = dbf_to_csv(in_dbf=in_dbf, out_csv=out_csv)\n",
    "\n",
    "df.head()"
   ]
  },
  {
   "cell_type": "code",
   "execution_count": null,
   "metadata": {
    "collapsed": true
   },
   "outputs": [],
   "source": []
  }
 ],
 "metadata": {
  "kernelspec": {
   "display_name": "Python [default]",
   "language": "python",
   "name": "python3"
  }
 },
 "nbformat": 4,
 "nbformat_minor": 1
}
